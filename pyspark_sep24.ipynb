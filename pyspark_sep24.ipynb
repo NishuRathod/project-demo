{
  "nbformat": 4,
  "nbformat_minor": 0,
  "metadata": {
    "colab": {
      "provenance": [],
      "authorship_tag": "ABX9TyNi4A0xkTUywWCDnjGZcPZG",
      "include_colab_link": true
    },
    "kernelspec": {
      "name": "python3",
      "display_name": "Python 3"
    },
    "language_info": {
      "name": "python"
    }
  },
  "cells": [
    {
      "cell_type": "markdown",
      "metadata": {
        "id": "view-in-github",
        "colab_type": "text"
      },
      "source": [
        "<a href=\"https://colab.research.google.com/github/NishuRathod/project-demo/blob/main/pyspark_sep24.ipynb\" target=\"_parent\"><img src=\"https://colab.research.google.com/assets/colab-badge.svg\" alt=\"Open In Colab\"/></a>"
      ]
    },
    {
      "cell_type": "code",
      "execution_count": null,
      "metadata": {
        "colab": {
          "base_uri": "https://localhost:8080/"
        },
        "id": "3Mkb69CPjxx_",
        "outputId": "5a47a70d-be04-41ab-d943-dd4ae8008146"
      },
      "outputs": [
        {
          "output_type": "stream",
          "name": "stdout",
          "text": [
            "Requirement already satisfied: pyspark in /usr/local/lib/python3.10/dist-packages (3.5.3)\n",
            "Requirement already satisfied: py4j==0.10.9.7 in /usr/local/lib/python3.10/dist-packages (from pyspark) (0.10.9.7)\n",
            "openjdk-8-jdk-headless is already the newest version (8u422-b05-1~22.04).\n",
            "0 upgraded, 0 newly installed, 0 to remove and 49 not upgraded.\n"
          ]
        }
      ],
      "source": [
        "!pip install pyspark\n",
        "!pip install -U -q PyDrive\n",
        "!apt install openjdk-8-jdk-headless -qq\n",
        "import os\n",
        "os.environ[\"JAVA_HOME\"] = \"/usr/lib/jvm/java-8-openjdk-amd64\"\n"
      ]
    },
    {
      "cell_type": "code",
      "source": [
        "!pip install pyspark\n",
        "!pip install -U -q PyDrive\n",
        "!apt install openjdk-8-jdk-headless -qq\n",
        "import os\n",
        "os.environ[\"JAVA_HOME\"] = \"/usr/lib/jvm/java-8-openjdk-amd64\""
      ],
      "metadata": {
        "colab": {
          "base_uri": "https://localhost:8080/"
        },
        "id": "I-H_TANFlQRJ",
        "outputId": "2d9a9e87-2bb1-4d85-afee-f5cdaf202e9f"
      },
      "execution_count": null,
      "outputs": [
        {
          "output_type": "stream",
          "name": "stdout",
          "text": [
            "Collecting pyspark\n",
            "  Downloading pyspark-3.5.3.tar.gz (317.3 MB)\n",
            "\u001b[2K     \u001b[90m━━━━━━━━━━━━━━━━━━━━━━━━━━━━━━━━━━━━━━━━\u001b[0m \u001b[32m317.3/317.3 MB\u001b[0m \u001b[31m4.0 MB/s\u001b[0m eta \u001b[36m0:00:00\u001b[0m\n",
            "\u001b[?25h  Preparing metadata (setup.py) ... \u001b[?25l\u001b[?25hdone\n",
            "Requirement already satisfied: py4j==0.10.9.7 in /usr/local/lib/python3.10/dist-packages (from pyspark) (0.10.9.7)\n",
            "Building wheels for collected packages: pyspark\n",
            "  Building wheel for pyspark (setup.py) ... \u001b[?25l\u001b[?25hdone\n",
            "  Created wheel for pyspark: filename=pyspark-3.5.3-py2.py3-none-any.whl size=317840625 sha256=7beeeaa38ba2cadf2cbff06c43fbbed52e93d071eb76f2f77336055c27213c5d\n",
            "  Stored in directory: /root/.cache/pip/wheels/1b/3a/92/28b93e2fbfdbb07509ca4d6f50c5e407f48dce4ddbda69a4ab\n",
            "Successfully built pyspark\n",
            "Installing collected packages: pyspark\n",
            "Successfully installed pyspark-3.5.3\n",
            "The following additional packages will be installed:\n",
            "  libxtst6 openjdk-8-jre-headless\n",
            "Suggested packages:\n",
            "  openjdk-8-demo openjdk-8-source libnss-mdns fonts-dejavu-extra fonts-nanum fonts-ipafont-gothic\n",
            "  fonts-ipafont-mincho fonts-wqy-microhei fonts-wqy-zenhei fonts-indic\n",
            "The following NEW packages will be installed:\n",
            "  libxtst6 openjdk-8-jdk-headless openjdk-8-jre-headless\n",
            "0 upgraded, 3 newly installed, 0 to remove and 49 not upgraded.\n",
            "Need to get 39.6 MB of archives.\n",
            "After this operation, 144 MB of additional disk space will be used.\n",
            "Selecting previously unselected package libxtst6:amd64.\n",
            "(Reading database ... 123614 files and directories currently installed.)\n",
            "Preparing to unpack .../libxtst6_2%3a1.2.3-1build4_amd64.deb ...\n",
            "Unpacking libxtst6:amd64 (2:1.2.3-1build4) ...\n",
            "Selecting previously unselected package openjdk-8-jre-headless:amd64.\n",
            "Preparing to unpack .../openjdk-8-jre-headless_8u422-b05-1~22.04_amd64.deb ...\n",
            "Unpacking openjdk-8-jre-headless:amd64 (8u422-b05-1~22.04) ...\n",
            "Selecting previously unselected package openjdk-8-jdk-headless:amd64.\n",
            "Preparing to unpack .../openjdk-8-jdk-headless_8u422-b05-1~22.04_amd64.deb ...\n",
            "Unpacking openjdk-8-jdk-headless:amd64 (8u422-b05-1~22.04) ...\n",
            "Setting up libxtst6:amd64 (2:1.2.3-1build4) ...\n",
            "Setting up openjdk-8-jre-headless:amd64 (8u422-b05-1~22.04) ...\n",
            "update-alternatives: using /usr/lib/jvm/java-8-openjdk-amd64/jre/bin/orbd to provide /usr/bin/orbd (orbd) in auto mode\n",
            "update-alternatives: using /usr/lib/jvm/java-8-openjdk-amd64/jre/bin/servertool to provide /usr/bin/servertool (servertool) in auto mode\n",
            "update-alternatives: using /usr/lib/jvm/java-8-openjdk-amd64/jre/bin/tnameserv to provide /usr/bin/tnameserv (tnameserv) in auto mode\n",
            "Setting up openjdk-8-jdk-headless:amd64 (8u422-b05-1~22.04) ...\n",
            "update-alternatives: using /usr/lib/jvm/java-8-openjdk-amd64/bin/clhsdb to provide /usr/bin/clhsdb (clhsdb) in auto mode\n",
            "update-alternatives: using /usr/lib/jvm/java-8-openjdk-amd64/bin/extcheck to provide /usr/bin/extcheck (extcheck) in auto mode\n",
            "update-alternatives: using /usr/lib/jvm/java-8-openjdk-amd64/bin/hsdb to provide /usr/bin/hsdb (hsdb) in auto mode\n",
            "update-alternatives: using /usr/lib/jvm/java-8-openjdk-amd64/bin/idlj to provide /usr/bin/idlj (idlj) in auto mode\n",
            "update-alternatives: using /usr/lib/jvm/java-8-openjdk-amd64/bin/javah to provide /usr/bin/javah (javah) in auto mode\n",
            "update-alternatives: using /usr/lib/jvm/java-8-openjdk-amd64/bin/jhat to provide /usr/bin/jhat (jhat) in auto mode\n",
            "update-alternatives: using /usr/lib/jvm/java-8-openjdk-amd64/bin/jsadebugd to provide /usr/bin/jsadebugd (jsadebugd) in auto mode\n",
            "update-alternatives: using /usr/lib/jvm/java-8-openjdk-amd64/bin/native2ascii to provide /usr/bin/native2ascii (native2ascii) in auto mode\n",
            "update-alternatives: using /usr/lib/jvm/java-8-openjdk-amd64/bin/schemagen to provide /usr/bin/schemagen (schemagen) in auto mode\n",
            "update-alternatives: using /usr/lib/jvm/java-8-openjdk-amd64/bin/wsgen to provide /usr/bin/wsgen (wsgen) in auto mode\n",
            "update-alternatives: using /usr/lib/jvm/java-8-openjdk-amd64/bin/wsimport to provide /usr/bin/wsimport (wsimport) in auto mode\n",
            "update-alternatives: using /usr/lib/jvm/java-8-openjdk-amd64/bin/xjc to provide /usr/bin/xjc (xjc) in auto mode\n",
            "Processing triggers for libc-bin (2.35-0ubuntu3.4) ...\n",
            "/sbin/ldconfig.real: /usr/local/lib/libtbbbind_2_5.so.3 is not a symbolic link\n",
            "\n",
            "/sbin/ldconfig.real: /usr/local/lib/libur_loader.so.0 is not a symbolic link\n",
            "\n",
            "/sbin/ldconfig.real: /usr/local/lib/libtbb.so.12 is not a symbolic link\n",
            "\n",
            "/sbin/ldconfig.real: /usr/local/lib/libtbbbind_2_0.so.3 is not a symbolic link\n",
            "\n",
            "/sbin/ldconfig.real: /usr/local/lib/libtbbmalloc.so.2 is not a symbolic link\n",
            "\n",
            "/sbin/ldconfig.real: /usr/local/lib/libtbbmalloc_proxy.so.2 is not a symbolic link\n",
            "\n",
            "/sbin/ldconfig.real: /usr/local/lib/libur_adapter_opencl.so.0 is not a symbolic link\n",
            "\n",
            "/sbin/ldconfig.real: /usr/local/lib/libtbbbind.so.3 is not a symbolic link\n",
            "\n",
            "/sbin/ldconfig.real: /usr/local/lib/libur_adapter_level_zero.so.0 is not a symbolic link\n",
            "\n"
          ]
        }
      ]
    },
    {
      "cell_type": "code",
      "source": [
        "from pyspark.sql import SparkSession\n",
        "from pyspark import SparkContext, SparkConf"
      ],
      "metadata": {
        "id": "_ODqj65wnCQ_"
      },
      "execution_count": null,
      "outputs": []
    },
    {
      "cell_type": "code",
      "source": [
        "# create the session\n",
        "conf = SparkConf().set(\"spark.ui.port\", \"4050\")\n",
        "# create the context\n",
        "import pyspark\n",
        "sc = pyspark.SparkContext(conf=conf)\n",
        "spark = SparkSession.builder.getOrCreate()"
      ],
      "metadata": {
        "id": "GySyPoyeolHT"
      },
      "execution_count": null,
      "outputs": []
    },
    {
      "cell_type": "code",
      "source": [
        "!pyspark --version"
      ],
      "metadata": {
        "colab": {
          "base_uri": "https://localhost:8080/"
        },
        "id": "s7fAgg8lpull",
        "outputId": "18752dc9-d144-4462-b8da-05d0bcde7797"
      },
      "execution_count": null,
      "outputs": [
        {
          "output_type": "stream",
          "name": "stdout",
          "text": [
            "Welcome to\n",
            "      ____              __\n",
            "     / __/__  ___ _____/ /__\n",
            "    _\\ \\/ _ \\/ _ `/ __/  '_/\n",
            "   /___/ .__/\\_,_/_/ /_/\\_\\   version 3.5.3\n",
            "      /_/\n",
            "                        \n",
            "Using Scala version 2.12.18, OpenJDK 64-Bit Server VM, 1.8.0_422\n",
            "Branch HEAD\n",
            "Compiled by user haejoon.lee on 2024-09-09T05:20:05Z\n",
            "Revision 32232e9ed33bb16b93ad58cfde8b82e0f07c0970\n",
            "Url https://github.com/apache/spark\n",
            "Type --help for more information.\n"
          ]
        }
      ]
    },
    {
      "cell_type": "code",
      "source": [
        "dataset = [(\"James\", \"Sales\", 3000),\n",
        "    (\"Michael\", \"Sales\", 4600),\n",
        "    (\"Robert\", \"Sales\", 4100),\n",
        "    (\"Maria\", \"Finance\", 3000),\n",
        "    (\"James\", \"Sales\", 3000),\n",
        "    (\"Scott\", \"Finance\", 3300),\n",
        "    (\"Jen\", \"Finance\", 3900),\n",
        "    (\"Jeff\", \"Marketing\", 3000),\n",
        "    (\"Kumar\", \"Marketing\", 2000),\n",
        "    (\"Saif\", \"Sales\", 4100)\n",
        "  ]\n",
        "columns= [\"employee_name\", \"department\", \"salary\"]\n",
        "df = spark.createDataFrame(data = dataset, schema = columns)\n",
        "df.show()"
      ],
      "metadata": {
        "colab": {
          "base_uri": "https://localhost:8080/"
        },
        "id": "S9Ttrmy_mDNa",
        "outputId": "1682cde4-aec0-453d-aea6-fabb2ffe5d54"
      },
      "execution_count": null,
      "outputs": [
        {
          "output_type": "stream",
          "name": "stdout",
          "text": [
            "+-------------+----------+------+\n",
            "|employee_name|department|salary|\n",
            "+-------------+----------+------+\n",
            "|        James|     Sales|  3000|\n",
            "|      Michael|     Sales|  4600|\n",
            "|       Robert|     Sales|  4100|\n",
            "|        Maria|   Finance|  3000|\n",
            "|        James|     Sales|  3000|\n",
            "|        Scott|   Finance|  3300|\n",
            "|          Jen|   Finance|  3900|\n",
            "|         Jeff| Marketing|  3000|\n",
            "|        Kumar| Marketing|  2000|\n",
            "|         Saif|     Sales|  4100|\n",
            "+-------------+----------+------+\n",
            "\n"
          ]
        }
      ]
    },
    {
      "cell_type": "code",
      "source": [
        "df.count()"
      ],
      "metadata": {
        "colab": {
          "base_uri": "https://localhost:8080/"
        },
        "id": "duJAFr0OmVnk",
        "outputId": "a5ba739f-fc14-432c-ac3e-8d9636792d1d"
      },
      "execution_count": null,
      "outputs": [
        {
          "output_type": "execute_result",
          "data": {
            "text/plain": [
              "10"
            ]
          },
          "metadata": {},
          "execution_count": 14
        }
      ]
    },
    {
      "cell_type": "code",
      "source": [
        "len(df.columns)"
      ],
      "metadata": {
        "colab": {
          "base_uri": "https://localhost:8080/"
        },
        "id": "m0DAustKmbsc",
        "outputId": "97ec30d2-9b6e-48e2-a46d-e9f9fd841054"
      },
      "execution_count": null,
      "outputs": [
        {
          "output_type": "execute_result",
          "data": {
            "text/plain": [
              "3"
            ]
          },
          "metadata": {},
          "execution_count": 15
        }
      ]
    },
    {
      "cell_type": "code",
      "source": [
        "distinctDF = df.distinct()\n",
        "distinctDF.show()\n",
        "distinctDF.count()"
      ],
      "metadata": {
        "colab": {
          "base_uri": "https://localhost:8080/"
        },
        "id": "jHKQIxpumhMx",
        "outputId": "936fdae8-7f97-4458-ae50-ab879e34b394"
      },
      "execution_count": null,
      "outputs": [
        {
          "output_type": "stream",
          "name": "stdout",
          "text": [
            "+-------------+----------+------+\n",
            "|employee_name|department|salary|\n",
            "+-------------+----------+------+\n",
            "|      Michael|     Sales|  4600|\n",
            "|        James|     Sales|  3000|\n",
            "|       Robert|     Sales|  4100|\n",
            "|        Maria|   Finance|  3000|\n",
            "|          Jen|   Finance|  3900|\n",
            "|        Scott|   Finance|  3300|\n",
            "|        Kumar| Marketing|  2000|\n",
            "|         Jeff| Marketing|  3000|\n",
            "|         Saif|     Sales|  4100|\n",
            "+-------------+----------+------+\n",
            "\n"
          ]
        },
        {
          "output_type": "execute_result",
          "data": {
            "text/plain": [
              "9"
            ]
          },
          "metadata": {},
          "execution_count": 17
        }
      ]
    },
    {
      "cell_type": "code",
      "source": [
        "dropDisDF = df.dropDuplicates([\"department\",\"salary\"])\n",
        "dropDisDF.show()\n",
        "dropDisDF.count()"
      ],
      "metadata": {
        "colab": {
          "base_uri": "https://localhost:8080/"
        },
        "id": "C3RmpDwYm3Jh",
        "outputId": "12a593d4-80c3-4632-eec1-e0cb237e5a97"
      },
      "execution_count": null,
      "outputs": [
        {
          "output_type": "stream",
          "name": "stdout",
          "text": [
            "+-------------+----------+------+\n",
            "|employee_name|department|salary|\n",
            "+-------------+----------+------+\n",
            "|        Maria|   Finance|  3000|\n",
            "|        Scott|   Finance|  3300|\n",
            "|          Jen|   Finance|  3900|\n",
            "|        Kumar| Marketing|  2000|\n",
            "|         Jeff| Marketing|  3000|\n",
            "|        James|     Sales|  3000|\n",
            "|       Robert|     Sales|  4100|\n",
            "|      Michael|     Sales|  4600|\n",
            "+-------------+----------+------+\n",
            "\n"
          ]
        },
        {
          "output_type": "execute_result",
          "data": {
            "text/plain": [
              "8"
            ]
          },
          "metadata": {},
          "execution_count": 18
        }
      ]
    },
    {
      "cell_type": "code",
      "source": [
        "df.orderBy(\"department\").show()"
      ],
      "metadata": {
        "colab": {
          "base_uri": "https://localhost:8080/"
        },
        "id": "A_A5jrBsnHmR",
        "outputId": "237101fb-c8d3-4f2e-a1b8-15e924c1a058"
      },
      "execution_count": null,
      "outputs": [
        {
          "output_type": "stream",
          "name": "stdout",
          "text": [
            "+-------------+----------+------+\n",
            "|employee_name|department|salary|\n",
            "+-------------+----------+------+\n",
            "|        Maria|   Finance|  3000|\n",
            "|        Scott|   Finance|  3300|\n",
            "|          Jen|   Finance|  3900|\n",
            "|         Jeff| Marketing|  3000|\n",
            "|        Kumar| Marketing|  2000|\n",
            "|        James|     Sales|  3000|\n",
            "|         Saif|     Sales|  4100|\n",
            "|      Michael|     Sales|  4600|\n",
            "|       Robert|     Sales|  4100|\n",
            "|        James|     Sales|  3000|\n",
            "+-------------+----------+------+\n",
            "\n"
          ]
        }
      ]
    },
    {
      "cell_type": "code",
      "source": [
        "df.select(\"employee_name\").show()"
      ],
      "metadata": {
        "colab": {
          "base_uri": "https://localhost:8080/"
        },
        "id": "ajHM9yR9nOxh",
        "outputId": "790c3094-2ba5-4d14-b709-63de8d87c080"
      },
      "execution_count": null,
      "outputs": [
        {
          "output_type": "stream",
          "name": "stdout",
          "text": [
            "+-------------+\n",
            "|employee_name|\n",
            "+-------------+\n",
            "|        James|\n",
            "|      Michael|\n",
            "|       Robert|\n",
            "|        Maria|\n",
            "|        James|\n",
            "|        Scott|\n",
            "|          Jen|\n",
            "|         Jeff|\n",
            "|        Kumar|\n",
            "|         Saif|\n",
            "+-------------+\n",
            "\n"
          ]
        }
      ]
    },
    {
      "cell_type": "code",
      "source": [
        "df.select(\"employee_name\",\"salary\").show()"
      ],
      "metadata": {
        "colab": {
          "base_uri": "https://localhost:8080/"
        },
        "id": "AMfv8RdvnVvM",
        "outputId": "56c93d41-a3f7-4be6-c738-45566d29ffcb"
      },
      "execution_count": null,
      "outputs": [
        {
          "output_type": "stream",
          "name": "stdout",
          "text": [
            "+-------------+------+\n",
            "|employee_name|salary|\n",
            "+-------------+------+\n",
            "|        James|  3000|\n",
            "|      Michael|  4600|\n",
            "|       Robert|  4100|\n",
            "|        Maria|  3000|\n",
            "|        James|  3000|\n",
            "|        Scott|  3300|\n",
            "|          Jen|  3900|\n",
            "|         Jeff|  3000|\n",
            "|        Kumar|  2000|\n",
            "|         Saif|  4100|\n",
            "+-------------+------+\n",
            "\n"
          ]
        }
      ]
    },
    {
      "cell_type": "code",
      "source": [
        "df5 = df.withColumn(\"City\", lit(\"Delhi\"))\n",
        "df5.show()"
      ],
      "metadata": {
        "colab": {
          "base_uri": "https://localhost:8080/"
        },
        "id": "yKjL-6TooAro",
        "outputId": "ddff6527-4262-4195-84e8-1a34649c6657"
      },
      "execution_count": null,
      "outputs": [
        {
          "output_type": "stream",
          "name": "stdout",
          "text": [
            "+----------+----+-----+---+--------------+-----+\n",
            "|      Date|Year|Month|Day|Formatted_Date| City|\n",
            "+----------+----+-----+---+--------------+-----+\n",
            "|2024-07-18|2024|    7| 18|    07-18-2024|Delhi|\n",
            "|2023-06-15|2023|    6| 15|    06-15-2023|Delhi|\n",
            "|2022-05-20|2022|    5| 20|    05-20-2022|Delhi|\n",
            "+----------+----+-----+---+--------------+-----+\n",
            "\n"
          ]
        }
      ]
    },
    {
      "cell_type": "code",
      "source": [
        "df4.drop(\"CopiedColumn\").show()"
      ],
      "metadata": {
        "colab": {
          "base_uri": "https://localhost:8080/"
        },
        "id": "Kf6TbjXtoJ-2",
        "outputId": "459e2db4-1654-4b12-f79e-537885dc4a06"
      },
      "execution_count": null,
      "outputs": [
        {
          "output_type": "stream",
          "name": "stdout",
          "text": [
            "+-------------+----------+------+\n",
            "|employee_name|department|salary|\n",
            "+-------------+----------+------+\n",
            "|        James|     Sales|  3000|\n",
            "|      Michael|     Sales|  4600|\n",
            "|       Robert|     Sales|  4100|\n",
            "|        Maria|   Finance|  3000|\n",
            "|        James|     Sales|  3000|\n",
            "|        Scott|   Finance|  3300|\n",
            "|          Jen|   Finance|  3900|\n",
            "|         Jeff| Marketing|  3000|\n",
            "|        Kumar| Marketing|  2000|\n",
            "|         Saif|     Sales|  4100|\n",
            "+-------------+----------+------+\n",
            "\n"
          ]
        }
      ]
    },
    {
      "cell_type": "code",
      "source": [],
      "metadata": {
        "id": "OtTZ2RZkoc8o"
      },
      "execution_count": null,
      "outputs": []
    },
    {
      "cell_type": "code",
      "source": [
        "df4 = df.withColumn(\"CopiedColumn\",col(\"salary\")* 2)\n",
        "df4.show()"
      ],
      "metadata": {
        "colab": {
          "base_uri": "https://localhost:8080/"
        },
        "id": "4osfLzrgn5k6",
        "outputId": "e5d48587-1a78-4a13-f29f-9039e90f605e"
      },
      "execution_count": null,
      "outputs": [
        {
          "output_type": "stream",
          "name": "stdout",
          "text": [
            "+-------------+----------+------+------------+\n",
            "|employee_name|department|salary|CopiedColumn|\n",
            "+-------------+----------+------+------------+\n",
            "|        James|     Sales|  3000|        6000|\n",
            "|      Michael|     Sales|  4600|        9200|\n",
            "|       Robert|     Sales|  4100|        8200|\n",
            "|        Maria|   Finance|  3000|        6000|\n",
            "|        James|     Sales|  3000|        6000|\n",
            "|        Scott|   Finance|  3300|        6600|\n",
            "|          Jen|   Finance|  3900|        7800|\n",
            "|         Jeff| Marketing|  3000|        6000|\n",
            "|        Kumar| Marketing|  2000|        4000|\n",
            "|         Saif|     Sales|  4100|        8200|\n",
            "+-------------+----------+------+------------+\n",
            "\n"
          ]
        }
      ]
    },
    {
      "cell_type": "code",
      "source": [
        "df4.drop(\"CopiedColumn\").show()"
      ],
      "metadata": {
        "colab": {
          "base_uri": "https://localhost:8080/"
        },
        "id": "GGvT1GwVofvx",
        "outputId": "72998886-7fad-4d6e-bed4-6a022c4d1027"
      },
      "execution_count": null,
      "outputs": [
        {
          "output_type": "stream",
          "name": "stdout",
          "text": [
            "+-------------+----------+------+\n",
            "|employee_name|department|salary|\n",
            "+-------------+----------+------+\n",
            "|        James|     Sales|  3000|\n",
            "|      Michael|     Sales|  4600|\n",
            "|       Robert|     Sales|  4100|\n",
            "|        Maria|   Finance|  3000|\n",
            "|        James|     Sales|  3000|\n",
            "|        Scott|   Finance|  3300|\n",
            "|          Jen|   Finance|  3900|\n",
            "|         Jeff| Marketing|  3000|\n",
            "|        Kumar| Marketing|  2000|\n",
            "|         Saif|     Sales|  4100|\n",
            "+-------------+----------+------+\n",
            "\n"
          ]
        }
      ]
    },
    {
      "cell_type": "code",
      "source": [
        "df.withColumnRenamed(\"employee_name\",\"emp_name\").printSchema()"
      ],
      "metadata": {
        "colab": {
          "base_uri": "https://localhost:8080/"
        },
        "id": "MIbfB8UfoiCX",
        "outputId": "d2efe3c2-bcb7-42ae-cf10-24df54965d33"
      },
      "execution_count": null,
      "outputs": [
        {
          "output_type": "stream",
          "name": "stdout",
          "text": [
            "root\n",
            " |-- emp_name: string (nullable = true)\n",
            " |-- department: string (nullable = true)\n",
            " |-- salary: long (nullable = true)\n",
            "\n"
          ]
        }
      ]
    },
    {
      "cell_type": "code",
      "source": [
        "df2 = df.withColumnRenamed(\"dob\",\"DateOfBirth\")\n",
        "df2 = df.withColumnRenamed(\"department\",\"dept\").withColumnRenamed(\"salary\",\"salary_amount\")\n",
        "df2.printSchema()"
      ],
      "metadata": {
        "colab": {
          "base_uri": "https://localhost:8080/"
        },
        "id": "lCaeLbd9ooVT",
        "outputId": "81537fb9-ddd9-4b1d-fb2d-5d336c6ed0dd"
      },
      "execution_count": null,
      "outputs": [
        {
          "output_type": "stream",
          "name": "stdout",
          "text": [
            "root\n",
            " |-- employee_name: string (nullable = true)\n",
            " |-- dept: string (nullable = true)\n",
            " |-- salary_amount: long (nullable = true)\n",
            "\n"
          ]
        }
      ]
    },
    {
      "cell_type": "code",
      "source": [
        "df.filter(df.department == \"Sales\").show()"
      ],
      "metadata": {
        "colab": {
          "base_uri": "https://localhost:8080/"
        },
        "id": "zH0B5jIOo0jl",
        "outputId": "41339642-f109-43fc-dcdc-9c6758092f4c"
      },
      "execution_count": null,
      "outputs": [
        {
          "output_type": "stream",
          "name": "stdout",
          "text": [
            "+-------------+----------+------+\n",
            "|employee_name|department|salary|\n",
            "+-------------+----------+------+\n",
            "|        James|     Sales|  3000|\n",
            "|      Michael|     Sales|  4600|\n",
            "|       Robert|     Sales|  4100|\n",
            "|        James|     Sales|  3000|\n",
            "|         Saif|     Sales|  4100|\n",
            "+-------------+----------+------+\n",
            "\n"
          ]
        }
      ]
    },
    {
      "cell_type": "code",
      "source": [
        "df.filter( (df.department == \"Sales\") & (df.employee_name  == \"James\") ).show()"
      ],
      "metadata": {
        "colab": {
          "base_uri": "https://localhost:8080/"
        },
        "id": "T36b1Mulo6bZ",
        "outputId": "a8cef060-b9b6-495f-de57-4d519d1d606b"
      },
      "execution_count": null,
      "outputs": [
        {
          "output_type": "stream",
          "name": "stdout",
          "text": [
            "+-------------+----------+------+\n",
            "|employee_name|department|salary|\n",
            "+-------------+----------+------+\n",
            "|        James|     Sales|  3000|\n",
            "|        James|     Sales|  3000|\n",
            "+-------------+----------+------+\n",
            "\n"
          ]
        }
      ]
    },
    {
      "cell_type": "code",
      "source": [
        "df.groupBy(\"department\").sum(\"salary\").show()"
      ],
      "metadata": {
        "colab": {
          "base_uri": "https://localhost:8080/"
        },
        "id": "CjiJq831pB6h",
        "outputId": "68f6c80b-0664-47ae-937f-afdde86bdd09"
      },
      "execution_count": null,
      "outputs": [
        {
          "output_type": "stream",
          "name": "stdout",
          "text": [
            "+----------+-----------+\n",
            "|department|sum(salary)|\n",
            "+----------+-----------+\n",
            "|     Sales|      18800|\n",
            "|   Finance|      10200|\n",
            "| Marketing|       5000|\n",
            "+----------+-----------+\n",
            "\n"
          ]
        }
      ]
    },
    {
      "cell_type": "code",
      "source": [
        "emp = [(1,\"Smith\",-1,\"2018\",\"10\",\"M\",3000),\n",
        "    (2,\"Rose\",1,\"2010\",\"20\",\"M\",4000),\n",
        "    (3,\"Williams\",1,\"2010\",\"10\",\"M\",1000),\n",
        "    (4,\"Jones\",2,\"2005\",\"10\",\"F\",2000),\n",
        "    (5,\"Brown\",2,\"2010\",\"40\",\"\",-1),\n",
        "      (6,\"Brown\",2,\"2010\",\"50\",\"\",-1)\n",
        "  ]\n",
        "empColumns = [\"emp_id\",\"name\",\"superior_emp_id\",\"year_joined\", \"emp_dept_id\",\"gender\",\"salary\"]\n",
        "\n",
        "empDF = spark.createDataFrame(data=emp, schema = empColumns)\n",
        "empDF.printSchema()\n",
        "empDF.show()"
      ],
      "metadata": {
        "colab": {
          "base_uri": "https://localhost:8080/"
        },
        "id": "H0F4LFjbpH-k",
        "outputId": "14ae27e0-389e-4da4-e393-6616137786a0"
      },
      "execution_count": null,
      "outputs": [
        {
          "output_type": "stream",
          "name": "stdout",
          "text": [
            "root\n",
            " |-- emp_id: long (nullable = true)\n",
            " |-- name: string (nullable = true)\n",
            " |-- superior_emp_id: long (nullable = true)\n",
            " |-- year_joined: string (nullable = true)\n",
            " |-- emp_dept_id: string (nullable = true)\n",
            " |-- gender: string (nullable = true)\n",
            " |-- salary: long (nullable = true)\n",
            "\n",
            "+------+--------+---------------+-----------+-----------+------+------+\n",
            "|emp_id|    name|superior_emp_id|year_joined|emp_dept_id|gender|salary|\n",
            "+------+--------+---------------+-----------+-----------+------+------+\n",
            "|     1|   Smith|             -1|       2018|         10|     M|  3000|\n",
            "|     2|    Rose|              1|       2010|         20|     M|  4000|\n",
            "|     3|Williams|              1|       2010|         10|     M|  1000|\n",
            "|     4|   Jones|              2|       2005|         10|     F|  2000|\n",
            "|     5|   Brown|              2|       2010|         40|      |    -1|\n",
            "|     6|   Brown|              2|       2010|         50|      |    -1|\n",
            "+------+--------+---------------+-----------+-----------+------+------+\n",
            "\n"
          ]
        }
      ]
    },
    {
      "cell_type": "code",
      "source": [
        "dept = [(\"Finance\",10),\n",
        "    (\"Marketing\",20),\n",
        "    (\"Sales\",30),\n",
        "    (\"IT\",40)\n",
        "  ]\n",
        "deptColumns = [\"dept_name\",\"dept_id\"]\n",
        "deptDF = spark.createDataFrame(data=dept, schema = deptColumns)\n",
        "deptDF.printSchema()\n",
        "deptDF.show()"
      ],
      "metadata": {
        "colab": {
          "base_uri": "https://localhost:8080/"
        },
        "id": "t8BBR6k5pTRv",
        "outputId": "dfeac5a5-cb2f-4a2e-a5c7-d9b1f78f68dd"
      },
      "execution_count": null,
      "outputs": [
        {
          "output_type": "stream",
          "name": "stdout",
          "text": [
            "root\n",
            " |-- dept_name: string (nullable = true)\n",
            " |-- dept_id: long (nullable = true)\n",
            "\n",
            "+---------+-------+\n",
            "|dept_name|dept_id|\n",
            "+---------+-------+\n",
            "|  Finance|     10|\n",
            "|Marketing|     20|\n",
            "|    Sales|     30|\n",
            "|       IT|     40|\n",
            "+---------+-------+\n",
            "\n"
          ]
        }
      ]
    },
    {
      "cell_type": "code",
      "source": [
        "empDF.join(deptDF,empDF.emp_dept_id ==deptDF.dept_id,\"inner\").show()"
      ],
      "metadata": {
        "colab": {
          "base_uri": "https://localhost:8080/"
        },
        "id": "J77K9J0Upf3j",
        "outputId": "ab1a37ab-75a1-480f-995a-51bbf59bf876"
      },
      "execution_count": null,
      "outputs": [
        {
          "output_type": "stream",
          "name": "stdout",
          "text": [
            "+------+--------+---------------+-----------+-----------+------+------+---------+-------+\n",
            "|emp_id|    name|superior_emp_id|year_joined|emp_dept_id|gender|salary|dept_name|dept_id|\n",
            "+------+--------+---------------+-----------+-----------+------+------+---------+-------+\n",
            "|     1|   Smith|             -1|       2018|         10|     M|  3000|  Finance|     10|\n",
            "|     3|Williams|              1|       2010|         10|     M|  1000|  Finance|     10|\n",
            "|     4|   Jones|              2|       2005|         10|     F|  2000|  Finance|     10|\n",
            "|     2|    Rose|              1|       2010|         20|     M|  4000|Marketing|     20|\n",
            "|     5|   Brown|              2|       2010|         40|      |    -1|       IT|     40|\n",
            "+------+--------+---------------+-----------+-----------+------+------+---------+-------+\n",
            "\n"
          ]
        }
      ]
    },
    {
      "cell_type": "code",
      "source": [
        "dept = [(\"Finance\",10),\n",
        "    (\"Marketing\",20),\n",
        "    (\"Sales\",30),\n",
        "    (\"IT\",40)\n",
        "  ]\n",
        "deptColumns = [\"dept_name\",\"dept_id\"]\n",
        "deptDF = spark.createDataFrame(data=dept, schema = deptColumns)\n",
        "deptDF.show()"
      ],
      "metadata": {
        "colab": {
          "base_uri": "https://localhost:8080/"
        },
        "id": "_nFaKE_jpp39",
        "outputId": "0a880125-0996-4218-f11f-0a592a0f7f81"
      },
      "execution_count": null,
      "outputs": [
        {
          "output_type": "stream",
          "name": "stdout",
          "text": [
            "+---------+-------+\n",
            "|dept_name|dept_id|\n",
            "+---------+-------+\n",
            "|  Finance|     10|\n",
            "|Marketing|     20|\n",
            "|    Sales|     30|\n",
            "|       IT|     40|\n",
            "+---------+-------+\n",
            "\n"
          ]
        }
      ]
    },
    {
      "cell_type": "code",
      "source": [
        "df.createOrReplaceTempView(\"EMP\")\n",
        "spark.sql(\"select employee_name,department,salary from EMP ORDER BY department\").show()"
      ],
      "metadata": {
        "colab": {
          "base_uri": "https://localhost:8080/"
        },
        "id": "lxUEfhFqpxc3",
        "outputId": "3d661a84-49fe-4a04-b68b-7d44af470c30"
      },
      "execution_count": null,
      "outputs": [
        {
          "output_type": "stream",
          "name": "stdout",
          "text": [
            "+-------------+----------+------+\n",
            "|employee_name|department|salary|\n",
            "+-------------+----------+------+\n",
            "|        Maria|   Finance|  3000|\n",
            "|        Scott|   Finance|  3300|\n",
            "|          Jen|   Finance|  3900|\n",
            "|         Jeff| Marketing|  3000|\n",
            "|        Kumar| Marketing|  2000|\n",
            "|        James|     Sales|  3000|\n",
            "|         Saif|     Sales|  4100|\n",
            "|      Michael|     Sales|  4600|\n",
            "|       Robert|     Sales|  4100|\n",
            "|        James|     Sales|  3000|\n",
            "+-------------+----------+------+\n",
            "\n"
          ]
        }
      ]
    },
    {
      "cell_type": "code",
      "source": [
        "from pyspark.sql.functions import approx_count_distinct,collect_list\n",
        "from pyspark.sql.functions import collect_set,sum,avg,max,countDistinct,count\n",
        "from pyspark.sql.functions import first, last, min, mean\n",
        "from pyspark.sql.functions import sumDistinct"
      ],
      "metadata": {
        "id": "oMdhaLL5qg1l"
      },
      "execution_count": null,
      "outputs": []
    },
    {
      "cell_type": "code",
      "source": [
        "simpleData = [(\"James\", \"Sales\", 3000),\n",
        "    (\"Michael\", \"Sales\", 4600),\n",
        "    (\"Robert\", \"Sales\", 4100),\n",
        "    (\"Maria\", \"Finance\", 3000),\n",
        "    (\"James\", \"Sales\", 3000),\n",
        "    (\"Scott\", \"Finance\", 3300),\n",
        "    (\"Jen\", \"Finance\", 3900),\n",
        "    (\"Jeff\", \"Marketing\", 3000),\n",
        "    (\"Kumar\", \"Marketing\", 2000),\n",
        "    (\"Saif\", \"Sales\", 4100)\n",
        "  ]\n",
        "schema = [\"employee_name\", \"department\", \"salary\"]\n",
        "\n",
        "df = spark.createDataFrame(data=simpleData, schema = schema)\n",
        "df.printSchema()\n",
        "df.show()"
      ],
      "metadata": {
        "colab": {
          "base_uri": "https://localhost:8080/"
        },
        "id": "NiUcVKb5qmjh",
        "outputId": "6566426c-882c-4784-f9d1-9eb45e050dfd"
      },
      "execution_count": null,
      "outputs": [
        {
          "output_type": "stream",
          "name": "stdout",
          "text": [
            "root\n",
            " |-- employee_name: string (nullable = true)\n",
            " |-- department: string (nullable = true)\n",
            " |-- salary: long (nullable = true)\n",
            "\n",
            "+-------------+----------+------+\n",
            "|employee_name|department|salary|\n",
            "+-------------+----------+------+\n",
            "|        James|     Sales|  3000|\n",
            "|      Michael|     Sales|  4600|\n",
            "|       Robert|     Sales|  4100|\n",
            "|        Maria|   Finance|  3000|\n",
            "|        James|     Sales|  3000|\n",
            "|        Scott|   Finance|  3300|\n",
            "|          Jen|   Finance|  3900|\n",
            "|         Jeff| Marketing|  3000|\n",
            "|        Kumar| Marketing|  2000|\n",
            "|         Saif|     Sales|  4100|\n",
            "+-------------+----------+------+\n",
            "\n"
          ]
        }
      ]
    },
    {
      "cell_type": "code",
      "source": [
        "df.select(approx_count_distinct(\"salary\")).show()"
      ],
      "metadata": {
        "colab": {
          "base_uri": "https://localhost:8080/"
        },
        "id": "QO6mz40lqx9I",
        "outputId": "929d1a23-c317-4543-b28a-8ae27eba04bc"
      },
      "execution_count": null,
      "outputs": [
        {
          "output_type": "stream",
          "name": "stdout",
          "text": [
            "+-----------------------------+\n",
            "|approx_count_distinct(salary)|\n",
            "+-----------------------------+\n",
            "|                            6|\n",
            "+-----------------------------+\n",
            "\n"
          ]
        }
      ]
    },
    {
      "cell_type": "code",
      "source": [
        "df.select(approx_count_distinct(\"salary\")).show()"
      ],
      "metadata": {
        "colab": {
          "base_uri": "https://localhost:8080/"
        },
        "id": "tZnRiKP1rJxH",
        "outputId": "59c57643-aee1-4fbf-c1c3-3f4bcac7fad5"
      },
      "execution_count": null,
      "outputs": [
        {
          "output_type": "stream",
          "name": "stdout",
          "text": [
            "+-----------------------------+\n",
            "|approx_count_distinct(salary)|\n",
            "+-----------------------------+\n",
            "|                            6|\n",
            "+-----------------------------+\n",
            "\n"
          ]
        }
      ]
    },
    {
      "cell_type": "code",
      "source": [
        "df.select(collect_list(\"salary\")).collect()"
      ],
      "metadata": {
        "colab": {
          "base_uri": "https://localhost:8080/"
        },
        "id": "K6YNyATMrRvM",
        "outputId": "20fc3653-8247-4bb3-dd75-8353dfe672b3"
      },
      "execution_count": null,
      "outputs": [
        {
          "output_type": "execute_result",
          "data": {
            "text/plain": [
              "[Row(collect_list(salary)=[3000, 4600, 4100, 3000, 3000, 3300, 3900, 3000, 2000, 4100])]"
            ]
          },
          "metadata": {},
          "execution_count": 46
        }
      ]
    },
    {
      "cell_type": "code",
      "source": [
        "df.select(collect_set(\"salary\")).collect()"
      ],
      "metadata": {
        "colab": {
          "base_uri": "https://localhost:8080/"
        },
        "id": "wW4qfr1srTlw",
        "outputId": "bdb4f282-af2c-4449-c485-a773dde8caf9"
      },
      "execution_count": null,
      "outputs": [
        {
          "output_type": "execute_result",
          "data": {
            "text/plain": [
              "[Row(collect_set(salary)=[4600, 3000, 3900, 4100, 3300, 2000])]"
            ]
          },
          "metadata": {},
          "execution_count": 47
        }
      ]
    },
    {
      "cell_type": "code",
      "source": [
        "df.select(countDistinct(\"salary\")).show()"
      ],
      "metadata": {
        "colab": {
          "base_uri": "https://localhost:8080/"
        },
        "id": "4zpt2xuPrgfQ",
        "outputId": "9e7b668a-6891-4ecf-b155-7513646e2c92"
      },
      "execution_count": null,
      "outputs": [
        {
          "output_type": "stream",
          "name": "stdout",
          "text": [
            "+----------------------+\n",
            "|count(DISTINCT salary)|\n",
            "+----------------------+\n",
            "|                     6|\n",
            "+----------------------+\n",
            "\n"
          ]
        }
      ]
    },
    {
      "cell_type": "code",
      "source": [
        "df.select(count(\"salary\")).show()\n",
        "df.select(first(\"salary\")).show()\n",
        "df.select(last(\"salary\")).show()"
      ],
      "metadata": {
        "colab": {
          "base_uri": "https://localhost:8080/"
        },
        "id": "fSMNMIVQroxU",
        "outputId": "0770a582-2973-403e-ed2b-1b4105c04ef0"
      },
      "execution_count": null,
      "outputs": [
        {
          "output_type": "stream",
          "name": "stdout",
          "text": [
            "+-------------+\n",
            "|count(salary)|\n",
            "+-------------+\n",
            "|           10|\n",
            "+-------------+\n",
            "\n",
            "+-------------+\n",
            "|first(salary)|\n",
            "+-------------+\n",
            "|         3000|\n",
            "+-------------+\n",
            "\n",
            "+------------+\n",
            "|last(salary)|\n",
            "+------------+\n",
            "|        4100|\n",
            "+------------+\n",
            "\n"
          ]
        }
      ]
    },
    {
      "cell_type": "code",
      "source": [
        "df.select(max(\"salary\")).show()\n",
        "df.select(min(\"salary\")).show()\n",
        "df.select(mean(\"salary\")).show()"
      ],
      "metadata": {
        "colab": {
          "base_uri": "https://localhost:8080/"
        },
        "id": "pQMvrXkPrvg8",
        "outputId": "041a217e-1f9d-4980-e51a-209b5b4131b2"
      },
      "execution_count": null,
      "outputs": [
        {
          "output_type": "stream",
          "name": "stdout",
          "text": [
            "+-----------+\n",
            "|max(salary)|\n",
            "+-----------+\n",
            "|       4600|\n",
            "+-----------+\n",
            "\n",
            "+-----------+\n",
            "|min(salary)|\n",
            "+-----------+\n",
            "|       2000|\n",
            "+-----------+\n",
            "\n",
            "+-----------+\n",
            "|avg(salary)|\n",
            "+-----------+\n",
            "|     3400.0|\n",
            "+-----------+\n",
            "\n"
          ]
        }
      ]
    },
    {
      "cell_type": "code",
      "source": [
        "df.select(sum(\"salary\")).show()\n",
        "df.select(sumDistinct(\"salary\")).show()"
      ],
      "metadata": {
        "colab": {
          "base_uri": "https://localhost:8080/"
        },
        "id": "eEahFlj7r7L8",
        "outputId": "af9f7ed3-5b0b-4588-f3e8-c41d85ca7a0d"
      },
      "execution_count": null,
      "outputs": [
        {
          "output_type": "stream",
          "name": "stdout",
          "text": [
            "+-----------+\n",
            "|sum(salary)|\n",
            "+-----------+\n",
            "|      34000|\n",
            "+-----------+\n",
            "\n"
          ]
        },
        {
          "output_type": "stream",
          "name": "stderr",
          "text": [
            "/usr/local/lib/python3.10/dist-packages/pyspark/sql/functions.py:988: FutureWarning: Deprecated in 3.2, use sum_distinct instead.\n",
            "  warnings.warn(\"Deprecated in 3.2, use sum_distinct instead.\", FutureWarning)\n"
          ]
        },
        {
          "output_type": "stream",
          "name": "stdout",
          "text": [
            "+--------------------+\n",
            "|sum(DISTINCT salary)|\n",
            "+--------------------+\n",
            "|               20900|\n",
            "+--------------------+\n",
            "\n"
          ]
        }
      ]
    },
    {
      "cell_type": "code",
      "source": [],
      "metadata": {
        "id": "SjfR-xXGsA4R"
      },
      "execution_count": null,
      "outputs": []
    },
    {
      "cell_type": "code",
      "source": [
        "from google.colab import files\n",
        "files.upload()"
      ],
      "metadata": {
        "colab": {
          "base_uri": "https://localhost:8080/",
          "height": 1000
        },
        "id": "Hm1QKyfgp2fl",
        "outputId": "e4ff7f75-095c-476b-a842-4361c588b41a"
      },
      "execution_count": null,
      "outputs": [
        {
          "output_type": "display_data",
          "data": {
            "text/plain": [
              "<IPython.core.display.HTML object>"
            ],
            "text/html": [
              "\n",
              "     <input type=\"file\" id=\"files-76a882fb-51f7-4d65-ae48-bec40d00d41a\" name=\"files[]\" multiple disabled\n",
              "        style=\"border:none\" />\n",
              "     <output id=\"result-76a882fb-51f7-4d65-ae48-bec40d00d41a\">\n",
              "      Upload widget is only available when the cell has been executed in the\n",
              "      current browser session. Please rerun this cell to enable.\n",
              "      </output>\n",
              "      <script>// Copyright 2017 Google LLC\n",
              "//\n",
              "// Licensed under the Apache License, Version 2.0 (the \"License\");\n",
              "// you may not use this file except in compliance with the License.\n",
              "// You may obtain a copy of the License at\n",
              "//\n",
              "//      http://www.apache.org/licenses/LICENSE-2.0\n",
              "//\n",
              "// Unless required by applicable law or agreed to in writing, software\n",
              "// distributed under the License is distributed on an \"AS IS\" BASIS,\n",
              "// WITHOUT WARRANTIES OR CONDITIONS OF ANY KIND, either express or implied.\n",
              "// See the License for the specific language governing permissions and\n",
              "// limitations under the License.\n",
              "\n",
              "/**\n",
              " * @fileoverview Helpers for google.colab Python module.\n",
              " */\n",
              "(function(scope) {\n",
              "function span(text, styleAttributes = {}) {\n",
              "  const element = document.createElement('span');\n",
              "  element.textContent = text;\n",
              "  for (const key of Object.keys(styleAttributes)) {\n",
              "    element.style[key] = styleAttributes[key];\n",
              "  }\n",
              "  return element;\n",
              "}\n",
              "\n",
              "// Max number of bytes which will be uploaded at a time.\n",
              "const MAX_PAYLOAD_SIZE = 100 * 1024;\n",
              "\n",
              "function _uploadFiles(inputId, outputId) {\n",
              "  const steps = uploadFilesStep(inputId, outputId);\n",
              "  const outputElement = document.getElementById(outputId);\n",
              "  // Cache steps on the outputElement to make it available for the next call\n",
              "  // to uploadFilesContinue from Python.\n",
              "  outputElement.steps = steps;\n",
              "\n",
              "  return _uploadFilesContinue(outputId);\n",
              "}\n",
              "\n",
              "// This is roughly an async generator (not supported in the browser yet),\n",
              "// where there are multiple asynchronous steps and the Python side is going\n",
              "// to poll for completion of each step.\n",
              "// This uses a Promise to block the python side on completion of each step,\n",
              "// then passes the result of the previous step as the input to the next step.\n",
              "function _uploadFilesContinue(outputId) {\n",
              "  const outputElement = document.getElementById(outputId);\n",
              "  const steps = outputElement.steps;\n",
              "\n",
              "  const next = steps.next(outputElement.lastPromiseValue);\n",
              "  return Promise.resolve(next.value.promise).then((value) => {\n",
              "    // Cache the last promise value to make it available to the next\n",
              "    // step of the generator.\n",
              "    outputElement.lastPromiseValue = value;\n",
              "    return next.value.response;\n",
              "  });\n",
              "}\n",
              "\n",
              "/**\n",
              " * Generator function which is called between each async step of the upload\n",
              " * process.\n",
              " * @param {string} inputId Element ID of the input file picker element.\n",
              " * @param {string} outputId Element ID of the output display.\n",
              " * @return {!Iterable<!Object>} Iterable of next steps.\n",
              " */\n",
              "function* uploadFilesStep(inputId, outputId) {\n",
              "  const inputElement = document.getElementById(inputId);\n",
              "  inputElement.disabled = false;\n",
              "\n",
              "  const outputElement = document.getElementById(outputId);\n",
              "  outputElement.innerHTML = '';\n",
              "\n",
              "  const pickedPromise = new Promise((resolve) => {\n",
              "    inputElement.addEventListener('change', (e) => {\n",
              "      resolve(e.target.files);\n",
              "    });\n",
              "  });\n",
              "\n",
              "  const cancel = document.createElement('button');\n",
              "  inputElement.parentElement.appendChild(cancel);\n",
              "  cancel.textContent = 'Cancel upload';\n",
              "  const cancelPromise = new Promise((resolve) => {\n",
              "    cancel.onclick = () => {\n",
              "      resolve(null);\n",
              "    };\n",
              "  });\n",
              "\n",
              "  // Wait for the user to pick the files.\n",
              "  const files = yield {\n",
              "    promise: Promise.race([pickedPromise, cancelPromise]),\n",
              "    response: {\n",
              "      action: 'starting',\n",
              "    }\n",
              "  };\n",
              "\n",
              "  cancel.remove();\n",
              "\n",
              "  // Disable the input element since further picks are not allowed.\n",
              "  inputElement.disabled = true;\n",
              "\n",
              "  if (!files) {\n",
              "    return {\n",
              "      response: {\n",
              "        action: 'complete',\n",
              "      }\n",
              "    };\n",
              "  }\n",
              "\n",
              "  for (const file of files) {\n",
              "    const li = document.createElement('li');\n",
              "    li.append(span(file.name, {fontWeight: 'bold'}));\n",
              "    li.append(span(\n",
              "        `(${file.type || 'n/a'}) - ${file.size} bytes, ` +\n",
              "        `last modified: ${\n",
              "            file.lastModifiedDate ? file.lastModifiedDate.toLocaleDateString() :\n",
              "                                    'n/a'} - `));\n",
              "    const percent = span('0% done');\n",
              "    li.appendChild(percent);\n",
              "\n",
              "    outputElement.appendChild(li);\n",
              "\n",
              "    const fileDataPromise = new Promise((resolve) => {\n",
              "      const reader = new FileReader();\n",
              "      reader.onload = (e) => {\n",
              "        resolve(e.target.result);\n",
              "      };\n",
              "      reader.readAsArrayBuffer(file);\n",
              "    });\n",
              "    // Wait for the data to be ready.\n",
              "    let fileData = yield {\n",
              "      promise: fileDataPromise,\n",
              "      response: {\n",
              "        action: 'continue',\n",
              "      }\n",
              "    };\n",
              "\n",
              "    // Use a chunked sending to avoid message size limits. See b/62115660.\n",
              "    let position = 0;\n",
              "    do {\n",
              "      const length = Math.min(fileData.byteLength - position, MAX_PAYLOAD_SIZE);\n",
              "      const chunk = new Uint8Array(fileData, position, length);\n",
              "      position += length;\n",
              "\n",
              "      const base64 = btoa(String.fromCharCode.apply(null, chunk));\n",
              "      yield {\n",
              "        response: {\n",
              "          action: 'append',\n",
              "          file: file.name,\n",
              "          data: base64,\n",
              "        },\n",
              "      };\n",
              "\n",
              "      let percentDone = fileData.byteLength === 0 ?\n",
              "          100 :\n",
              "          Math.round((position / fileData.byteLength) * 100);\n",
              "      percent.textContent = `${percentDone}% done`;\n",
              "\n",
              "    } while (position < fileData.byteLength);\n",
              "  }\n",
              "\n",
              "  // All done.\n",
              "  yield {\n",
              "    response: {\n",
              "      action: 'complete',\n",
              "    }\n",
              "  };\n",
              "}\n",
              "\n",
              "scope.google = scope.google || {};\n",
              "scope.google.colab = scope.google.colab || {};\n",
              "scope.google.colab._files = {\n",
              "  _uploadFiles,\n",
              "  _uploadFilesContinue,\n",
              "};\n",
              "})(self);\n",
              "</script> "
            ]
          },
          "metadata": {}
        },
        {
          "output_type": "stream",
          "name": "stdout",
          "text": [
            "Saving heroes_information.csv to heroes_information.csv\n"
          ]
        },
        {
          "output_type": "execute_result",
          "data": {
            "text/plain": [
              "{'heroes_information.csv': b\",name,Gender,Eye color,Race,Hair color,Height,Publisher,Skin color,Alignment,Weight\\r\\n0,A-Bomb,Male,yellow,Human,No Hair,203.0,Marvel Comics,-,good,441.0\\r\\n1,Abe Sapien,Male,blue,Icthyo Sapien,No Hair,191.0,Dark Horse Comics,blue,good,65.0\\r\\n2,Abin Sur,Male,blue,Ungaran,No Hair,185.0,DC Comics,red,good,90.0\\r\\n3,Abomination,Male,green,Human / Radiation,No Hair,203.0,Marvel Comics,-,bad,441.0\\r\\n4,Abraxas,Male,blue,Cosmic Entity,Black,-99.0,Marvel Comics,-,bad,-99.0\\r\\n5,Absorbing Man,Male,blue,Human,No Hair,193.0,Marvel Comics,-,bad,122.0\\r\\n6,Adam Monroe,Male,blue,-,Blond,-99.0,NBC - Heroes,-,good,-99.0\\r\\n7,Adam Strange,Male,blue,Human,Blond,185.0,DC Comics,-,good,88.0\\r\\n8,Agent 13,Female,blue,-,Blond,173.0,Marvel Comics,-,good,61.0\\r\\n9,Agent Bob,Male,brown,Human,Brown,178.0,Marvel Comics,-,good,81.0\\r\\n10,Agent Zero,Male,-,-,-,191.0,Marvel Comics,-,good,104.0\\r\\n11,Air-Walker,Male,blue,-,White,188.0,Marvel Comics,-,bad,108.0\\r\\n12,Ajax,Male,brown,Cyborg,Black,193.0,Marvel Comics,-,bad,90.0\\r\\n13,Alan Scott,Male,blue,-,Blond,180.0,DC Comics,-,good,90.0\\r\\n14,Alex Mercer,Male,-,Human,-,-99.0,Wildstorm,-,bad,-99.0\\r\\n15,Alex Woolsly,Male,-,-,-,-99.0,NBC - Heroes,-,good,-99.0\\r\\n16,Alfred Pennyworth,Male,blue,Human,Black,178.0,DC Comics,-,good,72.0\\r\\n17,Alien,Male,-,Xenomorph XX121,No Hair,244.0,Dark Horse Comics,black,bad,169.0\\r\\n18,Allan Quatermain,Male,-,-,-,-99.0,Wildstorm,-,good,-99.0\\r\\n19,Amazo,Male,red,Android,-,257.0,DC Comics,-,bad,173.0\\r\\n20,Ammo,Male,brown,Human,Black,188.0,Marvel Comics,-,bad,101.0\\r\\n21,Ando Masahashi,Male,-,-,-,-99.0,NBC - Heroes,-,good,-99.0\\r\\n22,Angel,Male,blue,-,Blond,183.0,Marvel Comics,-,good,68.0\\r\\n23,Angel,Male,-,Vampire,-,-99.0,Dark Horse Comics,-,good,-99.0\\r\\n24,Angel Dust,Female,yellow,Mutant,Black,165.0,Marvel Comics,-,good,57.0\\r\\n25,Angel Salvadore,Female,brown,-,Black,163.0,Marvel Comics,-,good,54.0\\r\\n26,Angela,Female,-,-,-,-99.0,Image Comics,-,bad,-99.0\\r\\n27,Animal Man,Male,blue,Human,Blond,183.0,DC Comics,-,good,83.0\\r\\n28,Annihilus,Male,green,-,No Hair,180.0,Marvel Comics,-,bad,90.0\\r\\n29,Ant-Man,Male,blue,Human,Blond,211.0,Marvel Comics,-,good,122.0\\r\\n30,Ant-Man II,Male,blue,Human,Blond,183.0,Marvel Comics,-,good,86.0\\r\\n31,Anti-Monitor,Male,yellow,God / Eternal,No Hair,61.0,DC Comics,-,bad,-99.0\\r\\n32,Anti-Spawn,Male,-,-,-,-99.0,Image Comics,-,bad,-99.0\\r\\n33,Anti-Venom,Male,blue,Symbiote,Blond,229.0,Marvel Comics,-,-,358.0\\r\\n34,Apocalypse,Male,red,Mutant,Black,213.0,Marvel Comics,grey,bad,135.0\\r\\n35,Aquababy,Male,blue,-,Blond,-99.0,DC Comics,-,good,-99.0\\r\\n36,Aqualad,Male,blue,Atlantean,Black,178.0,DC Comics,-,good,106.0\\r\\n37,Aquaman,Male,blue,Atlantean,Blond,185.0,DC Comics,-,good,146.0\\r\\n38,Arachne,Female,blue,Human,Blond,175.0,Marvel Comics,-,good,63.0\\r\\n39,Archangel,Male,blue,Mutant,Blond,183.0,Marvel Comics,blue,good,68.0\\r\\n40,Arclight,Female,violet,-,Purple,173.0,Marvel Comics,-,bad,57.0\\r\\n41,Ardina,Female,white,Alien,Orange,193.0,Marvel Comics,gold,good,98.0\\r\\n42,Ares,Male,brown,-,Brown,185.0,Marvel Comics,-,good,270.0\\r\\n43,Ariel,Female,purple,-,Pink,165.0,Marvel Comics,-,good,59.0\\r\\n44,Armor,Female,black,-,Black,163.0,Marvel Comics,-,good,50.0\\r\\n45,Arsenal,Male,-,Human,-,-99.0,DC Comics,-,good,-99.0\\r\\n46,Astro Boy,Male,brown,-,Black,-99.0,,-,good,-99.0\\r\\n47,Atlas,Male,brown,Mutant,Red,183.0,Marvel Comics,-,good,101.0\\r\\n48,Atlas,Male,blue,God / Eternal,Brown,198.0,DC Comics,-,bad,126.0\\r\\n49,Atom,Male,blue,-,Red,178.0,DC Comics,-,good,68.0\\r\\n50,Atom,Male,-,-,-,-99.0,DC Comics,-,good,-99.0\\r\\n51,Atom Girl,Female,black,-,Black,168.0,DC Comics,-,good,54.0\\r\\n52,Atom II,Male,brown,Human,Auburn,183.0,DC Comics,-,good,81.0\\r\\n53,Atom III,Male,-,-,Red,-99.0,DC Comics,-,good,-99.0\\r\\n54,Atom IV,Male,brown,-,Black,-99.0,DC Comics,-,good,72.0\\r\\n55,Aurora,Female,blue,Mutant,Black,180.0,Marvel Comics,-,good,63.0\\r\\n56,Azazel,Male,yellow,Neyaphem,Black,183.0,Marvel Comics,red,bad,67.0\\r\\n57,Azrael,Male,brown,Human,Black,-99.0,DC Comics,-,good,-99.0\\r\\n58,Aztar,Male,-,-,-,-99.0,DC Comics,-,good,-99.0\\r\\n59,Bane,Male,-,Human,-,203.0,DC Comics,-,bad,180.0\\r\\n60,Banshee,Male,green,Human,Strawberry Blond,183.0,Marvel Comics,-,good,77.0\\r\\n61,Bantam,Male,brown,-,Black,165.0,Marvel Comics,-,good,54.0\\r\\n62,Batgirl,Female,-,-,-,-99.0,DC Comics,-,good,-99.0\\r\\n63,Batgirl,Female,green,Human,Red,170.0,DC Comics,-,good,57.0\\r\\n64,Batgirl III,Female,-,-,-,-99.0,DC Comics,-,good,-99.0\\r\\n65,Batgirl IV,Female,green,Human,Black,165.0,DC Comics,-,good,52.0\\r\\n66,Batgirl V,Female,-,-,-,-99.0,DC Comics,-,good,-99.0\\r\\n67,Batgirl VI,Female,blue,-,Blond,168.0,DC Comics,-,good,61.0\\r\\n68,Batman,Male,blue,Human,black,188.0,DC Comics,-,good,95.0\\r\\n69,Batman,Male,blue,Human,Black,178.0,DC Comics,-,good,77.0\\r\\n70,Batman II,Male,blue,Human,Black,178.0,DC Comics,-,good,79.0\\r\\n71,Battlestar,Male,brown,-,Black,198.0,Marvel Comics,-,good,133.0\\r\\n72,Batwoman V,Female,green,Human,Red,178.0,DC Comics,-,good,-99.0\\r\\n73,Beak,Male,black,-,White,175.0,Marvel Comics,-,good,63.0\\r\\n74,Beast,Male,blue,Mutant,Blue,180.0,Marvel Comics,blue,good,181.0\\r\\n75,Beast Boy,Male,green,Human,Green,173.0,DC Comics,green,good,68.0\\r\\n76,Beetle,Male,-,-,-,-99.0,Marvel Comics,-,bad,-99.0\\r\\n77,Ben 10,Male,-,-,-,-99.0,DC Comics,-,good,-99.0\\r\\n78,Beta Ray Bill,Male,-,-,No Hair,201.0,Marvel Comics,-,good,216.0\\r\\n79,Beyonder,Male,-,God / Eternal,-,-99.0,Marvel Comics,-,good,-99.0\\r\\n80,Big Barda,Female,blue,New God,Black,188.0,DC Comics,-,bad,135.0\\r\\n81,Big Daddy,Male,-,-,-,-99.0,Icon Comics,-,good,-99.0\\r\\n82,Big Man,Male,blue,-,Brown,165.0,Marvel Comics,-,bad,71.0\\r\\n83,Bill Harken,Male,-,Alpha,-,-99.0,SyFy,-,good,-99.0\\r\\n84,Billy Kincaid,Male,-,-,-,-99.0,Image Comics,-,bad,-99.0\\r\\n85,Binary,Female,blue,-,Blond,180.0,Marvel Comics,-,good,54.0\\r\\n86,Bionic Woman,Female,blue,Cyborg,Black,-99.0,,-,good,-99.0\\r\\n87,Bird-Brain,-,-,-,-,-99.0,Marvel Comics,-,good,-99.0\\r\\n88,Bird-Man,Male,-,Human,-,-99.0,Marvel Comics,-,bad,-99.0\\r\\n89,Bird-Man II,Male,-,Human,-,-99.0,Marvel Comics,-,bad,-99.0\\r\\n90,Birdman,Male,-,God / Eternal,-,-99.0,Hanna-Barbera,-,good,-99.0\\r\\n91,Bishop,Male,brown,Mutant,No Hair,198.0,Marvel Comics,-,good,124.0\\r\\n92,Bizarro,Male,black,Bizarro,Black,191.0,DC Comics,white,neutral,155.0\\r\\n93,Black Abbott,Male,red,-,Black,-99.0,Marvel Comics,-,bad,-99.0\\r\\n94,Black Adam,Male,brown,-,Black,191.0,DC Comics,-,bad,113.0\\r\\n95,Black Bolt,Male,blue,Inhuman,Black,188.0,Marvel Comics,-,good,95.0\\r\\n96,Black Canary,Female,blue,Human,Blond,165.0,DC Comics,-,good,58.0\\r\\n97,Black Canary,Female,blue,Metahuman,Blond,170.0,DC Comics,-,good,59.0\\r\\n98,Black Cat,Female,green,Human,Blond,178.0,Marvel Comics,-,good,54.0\\r\\n99,Black Flash,Male,-,God / Eternal,-,-99.0,DC Comics,-,neutral,-99.0\\r\\n100,Black Goliath,Male,-,-,-,-99.0,Marvel Comics,-,good,-99.0\\r\\n101,Black Knight III,Male,brown,Human,Brown,183.0,Marvel Comics,-,good,86.0\\r\\n102,Black Lightning,Male,brown,-,No Hair,185.0,DC Comics,-,good,90.0\\r\\n103,Black Mamba,Female,green,-,Black,170.0,Marvel Comics,-,bad,52.0\\r\\n104,Black Manta,Male,black,Human,No Hair,188.0,DC Comics,-,bad,92.0\\r\\n105,Black Panther,Male,brown,Human,Black,183.0,Marvel Comics,-,good,90.0\\r\\n106,Black Widow,Female,green,Human,Auburn,170.0,Marvel Comics,-,good,59.0\\r\\n107,Black Widow II,Female,blue,-,Blond,170.0,Marvel Comics,-,good,61.0\\r\\n108,Blackout,Male,red,Demon,White,191.0,Marvel Comics,white,bad,104.0\\r\\n109,Blackwing,Male,blue,-,Black,185.0,Marvel Comics,-,bad,86.0\\r\\n110,Blackwulf,Male,red,Alien,White,188.0,Marvel Comics,-,-,88.0\\r\\n111,Blade,Male,brown,Vampire,Black,188.0,Marvel Comics,-,good,97.0\\r\\n112,Blaquesmith,-,black,-,No Hair,-99.0,Marvel Comics,-,good,-99.0\\r\\n113,Bling!,Female,-,-,-,168.0,Marvel Comics,-,good,68.0\\r\\n114,Blink,Female,green,Mutant,Magenta,165.0,Marvel Comics,pink,good,56.0\\r\\n115,Blizzard,Male,-,-,-,-99.0,Marvel Comics,-,bad,-99.0\\r\\n116,Blizzard,Male,-,-,Brown,-99.0,Marvel Comics,-,bad,-99.0\\r\\n117,Blizzard II,Male,brown,-,Brown,175.0,Marvel Comics,-,bad,77.0\\r\\n118,Blob,Male,brown,-,Brown,178.0,Marvel Comics,-,bad,230.0\\r\\n119,Bloodaxe,Female,blue,Human,Brown,218.0,Marvel Comics,-,bad,495.0\\r\\n120,Bloodhawk,Male,black,Mutant,No Hair,-99.0,Marvel Comics,-,good,-99.0\\r\\n121,Bloodwraith,Male,white,-,No Hair,30.5,Marvel Comics,-,bad,-99.0\\r\\n122,Blue Beetle,Male,blue,-,Brown,-99.0,DC Comics,-,good,-99.0\\r\\n123,Blue Beetle,Male,-,-,-,-99.0,DC Comics,-,good,-99.0\\r\\n124,Blue Beetle II,Male,blue,-,Brown,183.0,DC Comics,-,good,86.0\\r\\n125,Blue Beetle III,Male,brown,Human,Black,-99.0,DC Comics,-,good,-99.0\\r\\n126,Boba Fett,Male,brown,Human / Clone,Black,183.0,George Lucas,-,bad,-99.0\\r\\n127,Bolt,Male,-,-,-,-99.0,Marvel Comics,-,good,-99.0\\r\\n128,Bomb Queen,Female,-,-,-,-99.0,Image Comics,-,bad,-99.0\\r\\n129,Boom-Boom,Female,blue,Mutant,Blond,165.0,Marvel Comics,-,good,55.0\\r\\n130,Boomer,Female,-,-,-,-99.0,Marvel Comics,-,good,-99.0\\r\\n131,Booster Gold,Male,blue,Human,Blond,196.0,DC Comics,-,good,97.0\\r\\n132,Box,Male,-,-,-,-99.0,Marvel Comics,-,good,-99.0\\r\\n133,Box III,-,blue,-,Blond,193.0,Marvel Comics,-,good,110.0\\r\\n134,Box IV,-,brown,-,Brown / Black,-99.0,Marvel Comics,-,good,-99.0\\r\\n135,Brainiac,Male,green,Android,No Hair,198.0,DC Comics,green,bad,135.0\\r\\n136,Brainiac 5,Male,green,-,Blond,170.0,DC Comics,-,good,61.0\\r\\n137,Brother Voodoo,Male,brown,Human,Brown / White,183.0,Marvel Comics,-,good,99.0\\r\\n138,Brundlefly,Male,-,Mutant,-,193.0,,-,-,-99.0\\r\\n139,Buffy,Female,green,Human,Blond,157.0,Dark Horse Comics,-,good,52.0\\r\\n140,Bullseye,Male,blue,Human,blond,183.0,Marvel Comics,-,bad,90.0\\r\\n141,Bumblebee,Female,brown,Human,Black,170.0,DC Comics,-,good,59.0\\r\\n142,Bumbleboy,Male,-,-,-,-99.0,Marvel Comics,-,good,-99.0\\r\\n143,Bushido,Male,-,Human,-,-99.0,DC Comics,-,good,-99.0\\r\\n144,Cable,Male,blue,Mutant,White,203.0,Marvel Comics,-,good,158.0\\r\\n145,Callisto,Female,blue,-,Black,175.0,Marvel Comics,-,bad,74.0\\r\\n146,Cameron Hicks,Male,-,Alpha,-,-99.0,SyFy,-,good,-99.0\\r\\n147,Cannonball,Male,blue,-,Blond,183.0,Marvel Comics,-,good,81.0\\r\\n148,Captain America,Male,blue,Human,blond,188.0,Marvel Comics,-,good,108.0\\r\\n149,Captain Atom,Male,blue,Human / Radiation,Silver,193.0,DC Comics,silver,good,90.0\\r\\n150,Captain Britain,Male,blue,Human,Blond,198.0,Marvel Comics,-,good,116.0\\r\\n151,Captain Cold,Male,brown,Human,Brown,-99.0,DC Comics,-,neutral,-99.0\\r\\n152,Captain Epic,Male,blue,-,Brown,188.0,Team Epic TV,-,good,-99.0\\r\\n153,Captain Hindsight,Male,-,Human,Black,-99.0,South Park,-,good,-99.0\\r\\n154,Captain Mar-vell,Male,blue,-,Blond,188.0,Marvel Comics,-,good,108.0\\r\\n155,Captain Marvel,Female,blue,Human-Kree,Blond,180.0,Marvel Comics,-,good,74.0\\r\\n156,Captain Marvel,Male,blue,Human,Black,193.0,DC Comics,-,good,101.0\\r\\n157,Captain Marvel II,Male,blue,Human,Black,175.0,DC Comics,-,good,74.0\\r\\n158,Captain Midnight,Male,-,Human,-,-99.0,Dark Horse Comics,-,good,-99.0\\r\\n159,Captain Planet,Male,red,God / Eternal,Green,-99.0,Marvel Comics,-,good,-99.0\\r\\n160,Captain Universe,-,-,God / Eternal,-,-99.0,Marvel Comics,-,good,-99.0\\r\\n161,Carnage,Male,green,Symbiote,Red,185.0,Marvel Comics,-,bad,86.0\\r\\n162,Cat,Female,blue,-,Blond,173.0,Marvel Comics,-,good,61.0\\r\\n163,Cat II,Female,-,-,-,-99.0,Marvel Comics,-,good,-99.0\\r\\n164,Catwoman,Female,green,Human,Black,175.0,DC Comics,-,good,61.0\\r\\n165,Cecilia Reyes,-,brown,-,Brown,170.0,Marvel Comics,-,good,62.0\\r\\n166,Century,Male,white,Alien,White,201.0,Marvel Comics,grey,good,97.0\\r\\n167,Cerebra,Female,-,Mutant,-,-99.0,Marvel Comics,-,good,-99.0\\r\\n168,Chamber,Male,brown,Mutant,Brown,175.0,Marvel Comics,-,good,63.0\\r\\n169,Chameleon,Male,-,-,-,-99.0,DC Comics,-,bad,-99.0\\r\\n170,Changeling,Male,brown,-,Black,180.0,Marvel Comics,-,bad,81.0\\r\\n171,Cheetah,Female,green,Human,Blond,163.0,DC Comics,-,bad,50.0\\r\\n172,Cheetah II,Female,green,Human,Brown,170.0,DC Comics,-,bad,55.0\\r\\n173,Cheetah III,Female,brown,Human,Brown,175.0,DC Comics,-,bad,54.0\\r\\n174,Chromos,Male,brown,-,Red / Grey,185.0,Team Epic TV,-,bad,86.0\\r\\n175,Chuck Norris,Male,-,-,-,178.0,,-,good,-99.0\\r\\n176,Citizen Steel,Male,green,Human,Red,183.0,DC Comics,-,good,170.0\\r\\n177,Claire Bennet,Female,blue,-,Blond,-99.0,NBC - Heroes,-,good,-99.0\\r\\n178,Clea,-,-,-,White,-99.0,Marvel Comics,-,good,-99.0\\r\\n179,Cloak,Male,brown,-,black,226.0,Marvel Comics,-,good,70.0\\r\\n180,Clock King,Male,blue,Human,Black,178.0,DC Comics,-,bad,78.0\\r\\n181,Cogliostro,Male,-,-,-,-99.0,Image Comics,-,bad,-99.0\\r\\n182,Colin Wagner,Male,grey,-,Brown,-99.0,HarperCollins,-,good,-99.0\\r\\n183,Colossal Boy,Male,-,-,-,-99.0,DC Comics,-,good,-99.0\\r\\n184,Colossus,Male,silver,Mutant,Black,226.0,Marvel Comics,-,good,225.0\\r\\n185,Copycat,Female,red,Mutant,White,183.0,Marvel Comics,blue,neutral,67.0\\r\\n186,Corsair,Male,brown,-,Brown,191.0,Marvel Comics,-,good,79.0\\r\\n187,Cottonmouth,Male,brown,Human,Black,183.0,Marvel Comics,-,bad,99.0\\r\\n188,Crimson Crusader,Male,blue,-,Strawberry Blond,-99.0,Marvel Comics,-,good,-99.0\\r\\n189,Crimson Dynamo,Male,brown,-,No Hair,180.0,Marvel Comics,-,good,104.0\\r\\n190,Crystal,Female,green,Inhuman,Red,168.0,Marvel Comics,-,good,50.0\\r\\n191,Curse,Male,-,-,-,-99.0,Image Comics,-,bad,-99.0\\r\\n192,Cy-Gor,Male,-,-,-,-99.0,Image Comics,-,bad,-99.0\\r\\n193,Cyborg,Male,brown,Cyborg,Black,198.0,DC Comics,-,good,173.0\\r\\n194,Cyborg Superman,Male,blue,Cyborg,Black,-99.0,DC Comics,-,bad,-99.0\\r\\n195,Cyclops,Male,brown,Mutant,Brown,191.0,Marvel Comics,-,good,88.0\\r\\n196,Cypher,-,blue,-,Blond,175.0,Marvel Comics,-,good,68.0\\r\\n197,Dagger,Female,blue,-,Blond,165.0,Marvel Comics,-,good,52.0\\r\\n198,Danny Cooper,Male,brown,-,Blond,-99.0,HarperCollins,-,good,-99.0\\r\\n199,Daphne Powell,Female,-,-,-,-99.0,ABC Studios,-,good,-99.0\\r\\n200,Daredevil,Male,blue,Human,Red,183.0,Marvel Comics,-,good,90.0\\r\\n201,Darkhawk,Male,brown,Human,Brown,185.0,Marvel Comics,-,good,81.0\\r\\n202,Darkman,Male,-,-,-,-99.0,Universal Studios,-,good,-99.0\\r\\n203,Darkseid,Male,red,New God,No Hair,267.0,DC Comics,grey,bad,817.0\\r\\n204,Darkside,-,-,-,-,-99.0,,-,bad,-99.0\\r\\n205,Darkstar,Female,brown,Mutant,Blond,168.0,Marvel Comics,-,good,56.0\\r\\n206,Darth Maul,Male,yellow / red,Dathomirian Zabrak,-,170.0,George Lucas,red / black,bad,-99.0\\r\\n207,Darth Vader,Male,yellow,Cyborg,No Hair,198.0,George Lucas,-,bad,135.0\\r\\n208,Dash,Male,blue,Human,Blond,122.0,Dark Horse Comics,-,good,27.0\\r\\n209,Data,Male,yellow,Android,Brown,-99.0,Star Trek,-,good,-99.0\\r\\n210,Dazzler,Female,blue,Mutant,Blond,173.0,Marvel Comics,-,good,52.0\\r\\n211,Deadman,Male,blue,Human,Black,183.0,DC Comics,-,good,90.0\\r\\n212,Deadpool,Male,brown,Mutant,No Hair,188.0,Marvel Comics,-,neutral,95.0\\r\\n213,Deadshot,Male,brown,Human,Brown,185.0,DC Comics,-,bad,91.0\\r\\n214,Deathlok,Male,brown,Cyborg,Grey,193.0,Marvel Comics,-,good,178.0\\r\\n215,Deathstroke,Male,blue,Human,White,193.0,DC Comics,-,neutral,101.0\\r\\n216,Demogoblin,Male,red,Demon,No Hair,185.0,Marvel Comics,-,bad,95.0\\r\\n217,Destroyer,Male,-,-,-,188.0,Marvel Comics,-,bad,383.0\\r\\n218,Diamondback,Male,brown,Human,Black,193.0,Marvel Comics,-,bad,90.0\\r\\n219,DL Hawkins,Male,-,-,-,-99.0,NBC - Heroes,-,good,-99.0\\r\\n220,Doc Samson,Male,blue,Human / Radiation,Green,198.0,Marvel Comics,-,good,171.0\\r\\n221,Doctor Doom,Male,brown,Human,Brown,201.0,Marvel Comics,-,bad,187.0\\r\\n222,Doctor Doom II,Male,brown,-,Brown,201.0,Marvel Comics,-,bad,132.0\\r\\n223,Doctor Fate,Male,blue,Human,Blond,188.0,DC Comics,-,good,89.0\\r\\n224,Doctor Octopus,Male,brown,Human,Brown,175.0,Marvel Comics,-,bad,110.0\\r\\n225,Doctor Strange,Male,grey,Human,Black,188.0,Marvel Comics,-,good,81.0\\r\\n226,Domino,Female,blue,Human,Black,173.0,Marvel Comics,white,good,54.0\\r\\n227,Donatello,Male,green,Mutant,No Hair,-99.0,IDW Publishing,green,good,-99.0\\r\\n228,Donna Troy,Female,blue,Amazon,Black,175.0,DC Comics,-,good,63.0\\r\\n229,Doomsday,Male,red,Alien,White,244.0,DC Comics,-,bad,412.0\\r\\n230,Doppelganger,Male,white,-,No Hair,196.0,Marvel Comics,-,bad,104.0\\r\\n231,Dormammu,Male,yellow,-,No Hair,185.0,Marvel Comics,-,bad,-99.0\\r\\n232,Dr Manhattan,Male,white,Human / Cosmic,No Hair,-99.0,DC Comics,blue,good,-99.0\\r\\n233,Drax the Destroyer,Male,red,Human / Altered,No Hair,193.0,Marvel Comics,green,good,306.0\\r\\n234,Ego,-,-,-,-,-99.0,Marvel Comics,-,bad,-99.0\\r\\n235,Elastigirl,Female,brown,Human,Brown,168.0,Dark Horse Comics,-,good,56.0\\r\\n236,Electro,Male,blue,Human,Auburn,180.0,Marvel Comics,-,bad,74.0\\r\\n237,Elektra,Female,blue,Human,Black,175.0,Marvel Comics,-,good,59.0\\r\\n238,Elle Bishop,Female,blue,-,Blond,-99.0,NBC - Heroes,-,bad,-99.0\\r\\n239,Elongated Man,Male,blue,-,Red,185.0,DC Comics,-,good,80.0\\r\\n240,Emma Frost,Female,blue,-,Blond,178.0,Marvel Comics,-,good,65.0\\r\\n241,Enchantress,Female,blue,Human,Blond,168.0,DC Comics,-,good,57.0\\r\\n242,Energy,Female,-,-,-,-99.0,HarperCollins,-,good,-99.0\\r\\n243,ERG-1,Male,-,-,-,-99.0,DC Comics,-,good,-99.0\\r\\n244,Ethan Hunt,Male,brown,Human,Brown,168.0,,-,good,-99.0\\r\\n245,Etrigan,Male,red,Demon,No Hair,193.0,DC Comics,yellow,neutral,203.0\\r\\n246,Evil Deadpool,Male,white,Mutant,Red,188.0,Marvel Comics,-,bad,95.0\\r\\n247,Evilhawk,Male,red,Alien,Black,191.0,Marvel Comics,green,bad,106.0\\r\\n248,Exodus,Male,blue,Mutant,Black,183.0,Marvel Comics,red,bad,88.0\\r\\n249,Fabian Cortez,-,blue,-,Brown,196.0,Marvel Comics,-,bad,96.0\\r\\n250,Falcon,Male,brown,Human,Black,188.0,Marvel Comics,-,good,108.0\\r\\n251,Fallen One II,Male,black,-,Blue,-99.0,Marvel Comics,-,bad,-99.0\\r\\n252,Faora,Female,-,Kryptonian,-,-99.0,DC Comics,-,bad,-99.0\\r\\n253,Feral,-,yellow (without irises),-,Orange / White,175.0,Marvel Comics,-,good,50.0\\r\\n254,Fighting Spirit,Female,-,-,Red,-99.0,DC Comics,-,good,-99.0\\r\\n255,Fin Fang Foom,Male,red,Kakarantharaian,No Hair,975.0,Marvel Comics,green,good,18.0\\r\\n256,Firebird,Female,brown,-,Black,165.0,Marvel Comics,-,good,56.0\\r\\n257,Firelord,-,white,-,Yellow,193.0,Marvel Comics,-,good,99.0\\r\\n258,Firestar,Female,green,Mutant,Red,173.0,Marvel Comics,-,good,56.0\\r\\n259,Firestorm,Male,brown,-,Black,-99.0,DC Comics,-,good,-99.0\\r\\n260,Firestorm,Male,blue,Human,Auburn,188.0,DC Comics,-,good,91.0\\r\\n261,Fixer,-,red,-,No Hair,-99.0,Marvel Comics,-,bad,-99.0\\r\\n262,Flash,Male,blue,Human,Brown / White,180.0,DC Comics,-,good,81.0\\r\\n263,Flash Gordon,Male,-,-,-,-99.0,,-,good,-99.0\\r\\n264,Flash II,Male,blue,Human,Blond,183.0,DC Comics,-,good,88.0\\r\\n265,Flash III,Male,-,Human,-,183.0,DC Comics,-,good,86.0\\r\\n266,Flash IV,Male,yellow,Human,Auburn,157.0,DC Comics,-,good,52.0\\r\\n267,Forge,-,brown,-,Black,183.0,Marvel Comics,-,good,81.0\\r\\n268,Franklin Richards,Male,blue,Mutant,Blond,142.0,Marvel Comics,-,good,45.0\\r\\n269,Franklin Storm,-,blue,-,Grey,188.0,Marvel Comics,-,good,92.0\\r\\n270,Frenzy,Female,brown,-,Black,211.0,Marvel Comics,-,bad,104.0\\r\\n271,Frigga,Female,blue,-,White,180.0,Marvel Comics,-,good,167.0\\r\\n272,Galactus,Male,black,Cosmic Entity,Black,876.0,Marvel Comics,-,neutral,16.0\\r\\n273,Gambit,Male,red,Mutant,Brown,185.0,Marvel Comics,-,good,81.0\\r\\n274,Gamora,Female,yellow,Zen-Whoberian,Black,183.0,Marvel Comics,green,good,77.0\\r\\n275,Garbage Man,Male,-,Mutant,-,-99.0,DC Comics,-,good,-99.0\\r\\n276,Gary Bell,Male,-,Alpha,-,-99.0,SyFy,-,good,-99.0\\r\\n277,General Zod,Male,black,Kryptonian,Black,-99.0,DC Comics,-,bad,-99.0\\r\\n278,Genesis,Male,blue,-,Blond,185.0,Marvel Comics,-,good,86.0\\r\\n279,Ghost Rider,Male,red,Demon,No Hair,188.0,Marvel Comics,-,good,99.0\\r\\n280,Ghost Rider II,-,-,-,-,-99.0,Marvel Comics,-,good,-99.0\\r\\n281,Giant-Man,Male,-,Human,-,-99.0,Marvel Comics,-,good,-99.0\\r\\n282,Giant-Man II,Male,-,-,-,-99.0,Marvel Comics,-,good,-99.0\\r\\n283,Giganta,Female,green,-,Red,62.5,DC Comics,-,bad,630.0\\r\\n284,Gladiator,Male,blue,Strontian,Blue,198.0,Marvel Comics,purple,neutral,268.0\\r\\n285,Goblin Queen,Female,green,-,Red,168.0,Marvel Comics,-,bad,50.0\\r\\n286,Godzilla,-,-,Kaiju,-,108.0,,grey,bad,\\r\\n287,Gog,Male,-,-,-,-99.0,DC Comics,-,bad,-99.0\\r\\n288,Goku,Male,-,Saiyan,-,175.0,Shueisha,-,good,62.0\\r\\n289,Goliath,Male,-,-,-,-99.0,Marvel Comics,-,good,-99.0\\r\\n290,Goliath,Male,-,Human,-,-99.0,Marvel Comics,-,good,-99.0\\r\\n291,Goliath,Male,-,Human,-,-99.0,Marvel Comics,-,good,-99.0\\r\\n292,Goliath IV,Male,brown,-,Black,183.0,Marvel Comics,-,good,90.0\\r\\n293,Gorilla Grodd,Male,yellow,Gorilla,Black,198.0,DC Comics,-,bad,270.0\\r\\n294,Granny Goodness,Female,blue,-,White,178.0,DC Comics,-,bad,115.0\\r\\n295,Gravity,Male,blue,Human,Brown,178.0,Marvel Comics,-,good,79.0\\r\\n296,Greedo,Male,purple,Rodian,-,170.0,George Lucas,green,bad,-99.0\\r\\n297,Green Arrow,Male,green,Human,Blond,188.0,DC Comics,-,good,88.0\\r\\n298,Green Goblin,Male,blue,Human,Auburn,180.0,Marvel Comics,-,bad,83.0\\r\\n299,Green Goblin II,Male,blue,-,Auburn,178.0,Marvel Comics,-,bad,77.0\\r\\n300,Green Goblin III,Male,-,-,-,183.0,Marvel Comics,-,good,88.0\\r\\n301,Green Goblin IV,Male,green,-,Brown,178.0,Marvel Comics,-,good,79.0\\r\\n302,Groot,Male,yellow,Flora Colossus,-,701.0,Marvel Comics,-,good,4.0\\r\\n303,Guardian,Male,brown,Human,Black,-99.0,Marvel Comics,-,good,-99.0\\r\\n304,Guy Gardner,Male,blue,Human-Vuldarian,Red,188.0,DC Comics,-,good,95.0\\r\\n305,Hal Jordan,Male,brown,Human,Brown,188.0,DC Comics,-,good,90.0\\r\\n306,Han Solo,Male,brown,Human,Brown,183.0,George Lucas,-,good,79.0\\r\\n307,Hancock,Male,brown,Human,Black,188.0,Sony Pictures,-,good,-99.0\\r\\n308,Harley Quinn,Female,blue,Human,Blond,170.0,DC Comics,-,bad,63.0\\r\\n309,Harry Potter,Male,green,Human,Black,-99.0,J. K. Rowling,-,good,-99.0\\r\\n310,Havok,Male,blue,Mutant,Blond,183.0,Marvel Comics,-,good,79.0\\r\\n311,Hawk,Male,red,-,Brown,185.0,DC Comics,-,good,89.0\\r\\n312,Hawkeye,Male,blue,Human,Blond,191.0,Marvel Comics,-,good,104.0\\r\\n313,Hawkeye II,Female,blue,Human,Black,165.0,Marvel Comics,-,good,57.0\\r\\n314,Hawkgirl,Female,green,-,Red,175.0,DC Comics,-,good,61.0\\r\\n315,Hawkman,Male,blue,-,Brown,185.0,DC Comics,-,good,88.0\\r\\n316,Hawkwoman,Female,green,-,Red,175.0,DC Comics,-,good,54.0\\r\\n317,Hawkwoman II,Female,-,-,-,-99.0,DC Comics,-,good,-99.0\\r\\n318,Hawkwoman III,Female,blue,-,Red,170.0,DC Comics,-,good,65.0\\r\\n319,Heat Wave,Male,blue,Human,No Hair,180.0,DC Comics,-,bad,81.0\\r\\n320,Hela,Female,green,Asgardian,Black,213.0,Marvel Comics,-,bad,225.0\\r\\n321,Hellboy,Male,gold,Demon,Black,259.0,Dark Horse Comics,-,good,158.0\\r\\n322,Hellcat,Female,blue,Human,Red,173.0,Marvel Comics,-,good,61.0\\r\\n323,Hellstorm,Male,red,-,Red,185.0,Marvel Comics,-,good,81.0\\r\\n324,Hercules,Male,blue,Demi-God,Brown,196.0,Marvel Comics,-,good,146.0\\r\\n325,Hiro Nakamura,Male,-,-,-,-99.0,NBC - Heroes,-,good,-99.0\\r\\n326,Hit-Girl,Female,-,Human,-,-99.0,Icon Comics,-,good,-99.0\\r\\n327,Hobgoblin,Male,blue,-,Grey,180.0,Marvel Comics,-,bad,83.0\\r\\n328,Hollow,Female,blue,-,Red,170.0,Marvel Comics,-,good,-99.0\\r\\n329,Hope Summers,Female,green,-,Red,168.0,Marvel Comics,-,good,48.0\\r\\n330,Howard the Duck,Male,brown,-,Yellow,79.0,Marvel Comics,-,good,18.0\\r\\n331,Hulk,Male,green,Human / Radiation,Green,244.0,Marvel Comics,green,good,630.0\\r\\n332,Human Torch,Male,blue,Human / Radiation,Blond,178.0,Marvel Comics,-,good,77.0\\r\\n333,Huntress,Female,blue,-,Black,180.0,DC Comics,-,good,59.0\\r\\n334,Husk,Female,blue,Mutant,Blond,170.0,Marvel Comics,-,good,58.0\\r\\n335,Hybrid,Male,brown,Symbiote,Black,175.0,Marvel Comics,-,good,77.0\\r\\n336,Hydro-Man,Male,brown,-,Brown,188.0,Marvel Comics,-,bad,119.0\\r\\n337,Hyperion,Male,blue,Eternal,Red,183.0,Marvel Comics,-,good,207.0\\r\\n338,Iceman,Male,brown,Mutant,Brown,173.0,Marvel Comics,-,good,65.0\\r\\n339,Impulse,Male,yellow,Human,Auburn,170.0,DC Comics,-,good,65.0\\r\\n340,Indiana Jones,Male,-,Human,-,183.0,George Lucas,-,good,79.0\\r\\n341,Indigo,Female,-,Alien,Purple,-99.0,DC Comics,-,neutral,-99.0\\r\\n342,Ink,Male,blue,Mutant,No Hair,180.0,Marvel Comics,-,good,81.0\\r\\n343,Invisible Woman,Female,blue,Human / Radiation,Blond,168.0,Marvel Comics,-,good,54.0\\r\\n344,Iron Fist,Male,blue,Human,Blond,180.0,Marvel Comics,-,good,79.0\\r\\n345,Iron Man,Male,blue,Human,Black,198.0,Marvel Comics,-,good,191.0\\r\\n346,Iron Monger,Male,blue,-,No Hair,-99.0,Marvel Comics,-,bad,2.0\\r\\n347,Isis,Female,-,-,-,-99.0,DC Comics,-,good,-99.0\\r\\n348,Jack Bauer,Male,-,-,-,-99.0,,-,good,-99.0\\r\\n349,Jack of Hearts,Male,blue / white,Human,Brown,155.0,Marvel Comics,-,good,79.0\\r\\n350,Jack-Jack,Male,blue,Human,Brown,71.0,Dark Horse Comics,-,good,14.0\\r\\n351,James Bond,Male,blue,Human,Blond,183.0,Titan Books,-,good,-99.0\\r\\n352,James T. Kirk,Male,hazel,Human,Brown,178.0,Star Trek,-,good,77.0\\r\\n353,Jar Jar Binks,Male,yellow,Gungan,-,193.0,George Lucas,orange / white,good,-99.0\\r\\n354,Jason Bourne,Male,-,Human,-,-99.0,,-,good,-99.0\\r\\n355,Jean Grey,Female,green,Mutant,Red,168.0,Marvel Comics,-,good,52.0\\r\\n356,Jean-Luc Picard,Male,-,Human,-,-99.0,Star Trek,-,good,-99.0\\r\\n357,Jennifer Kale,Female,blue,-,Blond,168.0,Marvel Comics,-,good,55.0\\r\\n358,Jesse Quick,Female,-,Human,-,-99.0,DC Comics,-,good,-99.0\\r\\n359,Jessica Cruz,Female,green,Human,Brown,-99.0,DC Comics,-,good,-99.0\\r\\n360,Jessica Jones,Female,brown,Human,Brown,170.0,Marvel Comics,-,good,56.0\\r\\n361,Jessica Sanders,Female,-,-,-,-99.0,NBC - Heroes,-,good,-99.0\\r\\n362,Jigsaw,Male,blue,-,Black,188.0,Marvel Comics,-,bad,113.0\\r\\n363,Jim Powell,Male,-,-,-,-99.0,ABC Studios,-,good,-99.0\\r\\n364,JJ Powell,Male,-,-,-,-99.0,ABC Studios,-,good,-99.0\\r\\n365,Johann Krauss,Male,-,-,-,-99.0,Dark Horse Comics,-,good,-99.0\\r\\n366,John Constantine,Male,blue,Human,Blond,183.0,DC Comics,-,good,-99.0\\r\\n367,John Stewart,Male,green,Human,Black,185.0,DC Comics,-,good,90.0\\r\\n368,John Wraith,Male,brown,-,Black,183.0,Marvel Comics,-,good,88.0\\r\\n369,Joker,Male,green,Human,Green,196.0,DC Comics,white,bad,86.0\\r\\n370,Jolt,Female,blue,-,Black,165.0,Marvel Comics,-,good,49.0\\r\\n371,Jubilee,Female,red,Mutant,Black,165.0,Marvel Comics,-,good,52.0\\r\\n372,Judge Dredd,Male,-,Human,-,188.0,Rebellion,-,good,-99.0\\r\\n373,Juggernaut,Male,blue,Human,Red,287.0,Marvel Comics,-,neutral,855.0\\r\\n374,Junkpile,Male,-,Mutant,-,-99.0,Marvel Comics,-,bad,-99.0\\r\\n375,Justice,Male,hazel,Human,Brown,178.0,Marvel Comics,-,good,81.0\\r\\n376,Jyn Erso,Female,green,Human,Brown,-99.0,George Lucas,-,good,-99.0\\r\\n377,K-2SO,Male,white,Android,No Hair,213.0,George Lucas,gray,good,-99.0\\r\\n378,Kang,Male,brown,-,Brown,191.0,Marvel Comics,-,bad,104.0\\r\\n379,Karate Kid,Male,brown,Human,Brown,173.0,DC Comics,-,good,72.0\\r\\n380,Kathryn Janeway,Female,-,Human,-,-99.0,Star Trek,-,good,-99.0\\r\\n381,Katniss Everdeen,Female,-,Human,-,-99.0,,-,good,-99.0\\r\\n382,Kevin 11,Male,-,Human,Black,-99.0,DC Comics,-,good,-99.0\\r\\n383,Kick-Ass,Male,blue,Human,Blond,-99.0,Icon Comics,-,good,-99.0\\r\\n384,Kid Flash,Male,green,Human,Red,-99.0,DC Comics,-,good,-99.0\\r\\n385,Kid Flash II,Male,-,-,-,-99.0,DC Comics,-,good,-99.0\\r\\n386,Killer Croc,Male,red,Metahuman,No Hair,244.0,DC Comics,green,bad,356.0\\r\\n387,Killer Frost,Female,blue,Human,Blond,-99.0,DC Comics,blue,bad,-99.0\\r\\n388,Kilowog,Male,red,Bolovaxian,No Hair,234.0,DC Comics,pink,good,324.0\\r\\n389,King Kong,Male,yellow,Animal,Black,30.5,,-,good,\\r\\n390,King Shark,Male,black,Animal,No Hair,-99.0,DC Comics,-,bad,-99.0\\r\\n391,Kingpin,Male,blue,Human,No Hair,201.0,Marvel Comics,-,bad,203.0\\r\\n392,Klaw,Male,red,Human,No Hair,188.0,Marvel Comics,red,bad,97.0\\r\\n393,Kool-Aid Man,Male,black,-,No Hair,-99.0,,red,good,-99.0\\r\\n394,Kraven II,Male,brown,Human,Black,191.0,Marvel Comics,-,bad,99.0\\r\\n395,Kraven the Hunter,Male,brown,Human,Black,183.0,Marvel Comics,-,bad,106.0\\r\\n396,Krypto,Male,blue,Kryptonian,White,64.0,DC Comics,-,good,18.0\\r\\n397,Kyle Rayner,Male,green,Human,Black,180.0,DC Comics,-,good,79.0\\r\\n398,Kylo Ren,Male,-,Human,-,-99.0,George Lucas,-,bad,-99.0\\r\\n399,Lady Bullseye,Female,-,-,Black,-99.0,Marvel Comics,-,bad,-99.0\\r\\n400,Lady Deathstrike,Female,brown,Cyborg,Black,175.0,Marvel Comics,-,bad,58.0\\r\\n401,Leader,Male,green,-,No Hair,178.0,Marvel Comics,-,bad,63.0\\r\\n402,Leech,Male,-,-,-,-99.0,Marvel Comics,-,good,-99.0\\r\\n403,Legion,Male,green / blue,Mutant,Black,175.0,Marvel Comics,-,good,59.0\\r\\n404,Leonardo,Male,blue,Mutant,No Hair,-99.0,IDW Publishing,green,good,-99.0\\r\\n405,Lex Luthor,Male,green,Human,No Hair,188.0,DC Comics,-,bad,95.0\\r\\n406,Light Lass,Female,blue,-,Red,165.0,DC Comics,-,good,54.0\\r\\n407,Lightning Lad,Male,blue,-,Red,155.0,DC Comics,-,good,65.0\\r\\n408,Lightning Lord,Male,blue,-,Red,191.0,DC Comics,-,bad,95.0\\r\\n409,Living Brain,-,yellow,-,-,198.0,Marvel Comics,-,bad,360.0\\r\\n410,Living Tribunal,-,blue,Cosmic Entity,No Hair,-99.0,Marvel Comics,gold,neutral,-99.0\\r\\n411,Liz Sherman,Female,-,-,-,-99.0,Dark Horse Comics,-,good,-99.0\\r\\n412,Lizard,Male,red,Human,No Hair,203.0,Marvel Comics,-,bad,230.0\\r\\n413,Lobo,Male,red,Czarnian,Black,229.0,DC Comics,blue-white,neutral,288.0\\r\\n414,Loki,Male,green,Asgardian,Black,193.0,Marvel Comics,-,bad,236.0\\r\\n415,Longshot,Male,blue,Human,Blond,188.0,Marvel Comics,-,good,36.0\\r\\n416,Luke Cage,Male,brown,Human,Black,198.0,Marvel Comics,-,good,191.0\\r\\n417,Luke Campbell,Male,-,-,-,-99.0,NBC - Heroes,-,bad,-99.0\\r\\n418,Luke Skywalker,Male,blue,Human,Blond,168.0,George Lucas,-,good,77.0\\r\\n419,Luna,Female,-,Human,-,-99.0,Marvel Comics,-,good,-99.0\\r\\n420,Lyja,Female,green,-,Green,-99.0,Marvel Comics,-,good,-99.0\\r\\n421,Mach-IV,Male,brown,-,Brown,180.0,Marvel Comics,-,bad,79.0\\r\\n422,Machine Man,-,red,-,Black,183.0,Marvel Comics,-,good,383.0\\r\\n423,Magneto,Male,grey,Mutant,White,188.0,Marvel Comics,-,bad,86.0\\r\\n424,Magog,Male,blue,-,Blond,-99.0,DC Comics,-,good,-99.0\\r\\n425,Magus,Male,black,-,-,183.0,Marvel Comics,-,bad,-99.0\\r\\n426,Man of Miracles,-,blue,God / Eternal,Silver,-99.0,Image Comics,-,-,-99.0\\r\\n427,Man-Bat,Male,brown,Human,Brown,-99.0,DC Comics,-,neutral,-99.0\\r\\n428,Man-Thing,Male,red,-,No Hair,213.0,Marvel Comics,green,good,225.0\\r\\n429,Man-Wolf,Male,brown,-,Auburn,188.0,Marvel Comics,-,good,90.0\\r\\n430,Mandarin,Male,blue,Human,White,188.0,Marvel Comics,-,bad,97.0\\r\\n431,Mantis,Female,green,Human-Kree,Black,168.0,Marvel Comics,green,good,52.0\\r\\n432,Martian Manhunter,Male,red,Martian,No Hair,201.0,DC Comics,green,good,135.0\\r\\n433,Marvel Girl,Female,green,-,Red,170.0,Marvel Comics,-,good,56.0\\r\\n434,Master Brood,Male,blue,-,Black,183.0,Team Epic TV,-,good,81.0\\r\\n435,Master Chief,Male,brown,Human / Altered,Brown,213.0,Microsoft,-,good,-99.0\\r\\n436,Match,Male,black,-,Black,-99.0,DC Comics,-,bad,-99.0\\r\\n437,Matt Parkman,Male,-,-,-,-99.0,NBC - Heroes,-,good,-99.0\\r\\n438,Maverick,Male,blue,-,Black,193.0,Marvel Comics,-,good,110.0\\r\\n439,Maxima,Female,brown,-,Red,180.0,DC Comics,-,bad,72.0\\r\\n440,Maya Herrera,Female,-,-,-,-99.0,NBC - Heroes,-,good,-99.0\\r\\n441,Medusa,Female,green,Inhuman,Red,180.0,Marvel Comics,-,good,59.0\\r\\n442,Meltdown,Female,blue,-,Blond,165.0,Marvel Comics,-,good,54.0\\r\\n443,Mephisto,Male,white,-,Black,198.0,Marvel Comics,-,bad,140.0\\r\\n444,Mera,Female,blue,Atlantean,Red,175.0,DC Comics,-,good,72.0\\r\\n445,Metallo,Male,green,Android,Brown,196.0,DC Comics,-,bad,90.0\\r\\n446,Metamorpho,Male,black,-,No Hair,185.0,DC Comics,-,good,90.0\\r\\n447,Meteorite,Female,-,-,-,-99.0,Marvel Comics,-,good,-99.0\\r\\n448,Metron,Male,blue,-,Black,185.0,DC Comics,-,good,86.0\\r\\n449,Micah Sanders,Male,brown,-,Black,-99.0,NBC - Heroes,-,good,-99.0\\r\\n450,Michelangelo,Male,blue,Mutant,-,-99.0,IDW Publishing,green,good,-99.0\\r\\n451,Micro Lad,Male,grey,-,Brown,183.0,DC Comics,-,good,77.0\\r\\n452,Mimic,Male,brown,-,Brown,188.0,Marvel Comics,-,good,101.0\\r\\n453,Minna Murray,Female,-,-,-,-99.0,Wildstorm,-,good,-99.0\\r\\n454,Misfit,Female,blue,-,Red,-99.0,DC Comics,-,good,-99.0\\r\\n455,Miss Martian,Female,red,-,Red,178.0,DC Comics,-,good,61.0\\r\\n456,Mister Fantastic,Male,brown,Human / Radiation,Brown,185.0,Marvel Comics,-,good,81.0\\r\\n457,Mister Freeze,Male,-,Human,-,183.0,DC Comics,-,bad,86.0\\r\\n458,Mister Knife,Male,blue,Spartoi,Brown,-99.0,Marvel Comics,-,bad,-99.0\\r\\n459,Mister Mxyzptlk,Male,-,God / Eternal,-,-99.0,DC Comics,-,bad,-99.0\\r\\n460,Mister Sinister,Male,red,Human / Altered,Black,196.0,Marvel Comics,-,bad,128.0\\r\\n461,Mister Zsasz,Male,blue,Human,Blond,-99.0,DC Comics,-,bad,-99.0\\r\\n462,Mockingbird,Female,blue,Human,Blond,175.0,Marvel Comics,-,good,61.0\\r\\n463,MODOK,Male,white,Cyborg,Brownn,366.0,Marvel Comics,-,bad,338.0\\r\\n464,Mogo,Male,-,Planet,-,-99.0,DC Comics,-,good,-99.0\\r\\n465,Mohinder Suresh,Male,-,-,-,-99.0,NBC - Heroes,-,good,-99.0\\r\\n466,Moloch,Male,-,-,-,-99.0,DC Comics,-,bad,-99.0\\r\\n467,Molten Man,Male,gold,-,Gold,196.0,Marvel Comics,-,bad,248.0\\r\\n468,Monarch,Male,blue,-,White,193.0,DC Comics,-,good,90.0\\r\\n469,Monica Dawson,Female,-,-,-,-99.0,NBC - Heroes,-,good,-99.0\\r\\n470,Moon Knight,Male,brown,Human,Brown,188.0,Marvel Comics,-,good,101.0\\r\\n471,Moonstone,Female,blue,-,Blond,180.0,Marvel Comics,-,bad,59.0\\r\\n472,Morlun,Male,white / red,-,Black,188.0,Marvel Comics,-,bad,79.0\\r\\n473,Morph,Male,white,-,No Hair,178.0,Marvel Comics,-,good,79.0\\r\\n474,Moses Magnum,Male,brown,-,Black,175.0,Marvel Comics,-,bad,72.0\\r\\n475,Mr Immortal,Male,blue,Mutant,Blond,188.0,Marvel Comics,-,good,70.0\\r\\n476,Mr Incredible,Male,blue,Human,Blond,201.0,Dark Horse Comics,-,good,158.0\\r\\n477,Ms Marvel II,Female,blue,-,Red,173.0,Marvel Comics,-,good,61.0\\r\\n478,Multiple Man,Male,blue,-,Brown,180.0,Marvel Comics,-,good,70.0\\r\\n479,Mysterio,Male,brown,Human,No Hair,180.0,Marvel Comics,-,bad,79.0\\r\\n480,Mystique,Female,yellow (without irises),Mutant,Red / Orange,178.0,Marvel Comics,blue,bad,54.0\\r\\n481,Namor,Male,-,-,-,-99.0,Marvel Comics,-,good,-99.0\\r\\n482,Namor,Male,grey,Atlantean,Black,188.0,Marvel Comics,-,good,125.0\\r\\n483,Namora,Female,blue,-,Blond,180.0,Marvel Comics,-,good,85.0\\r\\n484,Namorita,Female,blue,-,Blond,168.0,Marvel Comics,-,good,101.0\\r\\n485,Naruto Uzumaki,Male,-,Human,-,168.0,Shueisha,-,good,54.0\\r\\n486,Nathan Petrelli,Male,brown,-,-,-99.0,NBC - Heroes,-,good,-99.0\\r\\n487,Nebula,Female,blue,Luphomoid,No Hair,185.0,Marvel Comics,blue,bad,83.0\\r\\n488,Negasonic Teenage Warhead,Female,black,Mutant,Black,-99.0,Marvel Comics,-,good,-99.0\\r\\n489,Nick Fury,Male,brown,Human,Brown / White,185.0,Marvel Comics,-,good,99.0\\r\\n490,Nightcrawler,Male,yellow,-,Indigo,175.0,Marvel Comics,-,good,88.0\\r\\n491,Nightwing,Male,blue,Human,Black,178.0,DC Comics,-,good,79.0\\r\\n492,Niki Sanders,Female,blue,-,Blond,-99.0,NBC - Heroes,-,good,-99.0\\r\\n493,Nina Theroux,Female,-,Alpha,-,-99.0,SyFy,-,good,-99.0\\r\\n494,Nite Owl II,Male,-,-,-,-99.0,DC Comics,-,good,-99.0\\r\\n495,Northstar,Male,blue,-,Black,180.0,Marvel Comics,-,good,83.0\\r\\n496,Nova,Male,brown,Human,Brown,185.0,Marvel Comics,-,good,86.0\\r\\n497,Nova,Female,white,Human / Cosmic,Red,163.0,Marvel Comics,gold,good,59.0\\r\\n498,Odin,Male,blue,God / Eternal,White,206.0,Marvel Comics,-,good,293.0\\r\\n499,Offspring,Male,-,-,-,-99.0,DC Comics,-,good,-99.0\\r\\n500,Omega Red,Male,red,-,Blond,211.0,Marvel Comics,-,bad,191.0\\r\\n501,Omniscient,Male,brown,-,Black,180.0,Team Epic TV,-,good,65.0\\r\\n502,One Punch Man,Male,-,Human,No Hair,175.0,Shueisha,-,good,69.0\\r\\n503,One-Above-All,-,-,Cosmic Entity,-,-99.0,Marvel Comics,-,neutral,-99.0\\r\\n504,Onslaught,Male,red,Mutant,No Hair,305.0,Marvel Comics,-,bad,405.0\\r\\n505,Oracle,Female,blue,Human,Red,178.0,DC Comics,-,good,59.0\\r\\n506,Osiris,Male,brown,-,Brown,-99.0,DC Comics,-,good,-99.0\\r\\n507,Overtkill,Male,-,-,-,-99.0,Image Comics,-,bad,-99.0\\r\\n508,Ozymandias,Male,blue,Human,Blond,-99.0,DC Comics,-,bad,-99.0\\r\\n509,Parademon,-,-,Parademon,-,-99.0,DC Comics,-,bad,-99.0\\r\\n510,Paul Blart,Male,-,Human,-,170.0,Sony Pictures,-,good,117.0\\r\\n511,Penance,-,-,-,-,-99.0,Marvel Comics,-,good,-99.0\\r\\n512,Penance I,Female,-,-,-,-99.0,Marvel Comics,-,good,-99.0\\r\\n513,Penance II,Male,blue,-,Blond,183.0,Marvel Comics,-,good,89.0\\r\\n514,Penguin,Male,blue,Human,Black,157.0,DC Comics,-,bad,79.0\\r\\n515,Peter Petrelli,Male,-,-,-,-99.0,NBC - Heroes,-,good,-99.0\\r\\n516,Phantom,Male,-,-,-,-99.0,DC Comics,-,good,-99.0\\r\\n517,Phantom Girl,Female,blue,-,Black,168.0,DC Comics,-,good,54.0\\r\\n518,Phoenix,Female,green,Mutant,Red,168.0,Marvel Comics,-,good,52.0\\r\\n519,Plantman,Male,green,Mutant,Grey,183.0,Marvel Comics,-,bad,87.0\\r\\n520,Plastic Lad,Male,-,-,-,-99.0,DC Comics,-,good,-99.0\\r\\n521,Plastic Man,Male,blue,Human,Black,185.0,DC Comics,-,good,80.0\\r\\n522,Plastique,Female,blue,-,Red,168.0,DC Comics,-,bad,55.0\\r\\n523,Poison Ivy,Female,green,Human,Red,168.0,DC Comics,green,bad,50.0\\r\\n524,Polaris,Female,green,Mutant,Green,170.0,Marvel Comics,-,good,52.0\\r\\n525,Power Girl,Female,blue,Kryptonian,blond,180.0,DC Comics,-,good,81.0\\r\\n526,Power Man,Male,-,Mutant,-,-99.0,Marvel Comics,-,good,-99.0\\r\\n527,Predator,Male,-,Yautja,-,213.0,Dark Horse Comics,-,bad,234.0\\r\\n528,Professor X,Male,blue,Mutant,No Hair,183.0,Marvel Comics,-,good,86.0\\r\\n529,Professor Zoom,Male,blue,Human,Strawberry Blond,180.0,DC Comics,-,bad,81.0\\r\\n530,Proto-Goblin,Male,green,-,Blond,-99.0,Marvel Comics,-,bad,-99.0\\r\\n531,Psylocke,Female,blue,Mutant,Purple,180.0,Marvel Comics,-,good,70.0\\r\\n532,Punisher,Male,blue,Human,Black,183.0,Marvel Comics,-,good,90.0\\r\\n533,Purple Man,Male,purple,Human,Purple,180.0,Marvel Comics,purple,bad,74.0\\r\\n534,Pyro,Male,blue,-,Blond,178.0,Marvel Comics,-,bad,68.0\\r\\n535,Q,Male,-,God / Eternal,-,-99.0,Star Trek,-,-,-99.0\\r\\n536,Quantum,Male,-,-,-,-99.0,HarperCollins,-,good,-99.0\\r\\n537,Question,Male,blue,Human,Blond,188.0,DC Comics,-,good,83.0\\r\\n538,Quicksilver,Male,blue,Mutant,Silver,183.0,Marvel Comics,-,good,79.0\\r\\n539,Quill,Male,brown,-,Brown,163.0,Marvel Comics,-,good,56.0\\r\\n540,Ra's Al Ghul,Male,green,Human,Grey,193.0,DC Comics,-,bad,97.0\\r\\n541,Rachel Pirzad,Female,-,Alpha,-,-99.0,SyFy,-,good,-99.0\\r\\n542,Rambo,Male,brown,Human,Black,178.0,,-,good,83.0\\r\\n543,Raphael,Male,-,Mutant,No Hair,-99.0,IDW Publishing,green,good,-99.0\\r\\n544,Raven,Female,indigo,Human,Black,165.0,DC Comics,-,neutral,50.0\\r\\n545,Ray,Male,green,Human,Red,178.0,DC Comics,-,good,70.0\\r\\n546,Razor-Fist II,Male,blue,-,No Hair,191.0,Marvel Comics,-,bad,117.0\\r\\n547,Red Arrow,Male,green,Human,Red,180.0,DC Comics,-,good,83.0\\r\\n548,Red Hood,Male,blue,Human,Black,183.0,DC Comics,-,neutral,81.0\\r\\n549,Red Hulk,Male,yellow,Human / Radiation,Black,213.0,Marvel Comics,red,neutral,630.0\\r\\n550,Red Mist,Male,-,-,-,-99.0,Icon Comics,-,bad,-99.0\\r\\n551,Red Robin,Male,blue,Human,Black,165.0,DC Comics,-,good,56.0\\r\\n552,Red Skull,Male,blue,-,No Hair,188.0,Marvel Comics,-,bad,108.0\\r\\n553,Red Tornado,Male,green,Android,No Hair,185.0,DC Comics,-,good,146.0\\r\\n554,Redeemer II,Male,-,-,-,-99.0,Image Comics,-,bad,-99.0\\r\\n555,Redeemer III,Male,-,-,-,-99.0,Image Comics,-,bad,-99.0\\r\\n556,Renata Soliz,Female,-,-,-,-99.0,HarperCollins,-,good,-99.0\\r\\n557,Rey,Female,hazel,Human,Brown,297.0,George Lucas,-,good,-99.0\\r\\n558,Rhino,Male,brown,Human / Radiation,Brown,196.0,Marvel Comics,-,bad,320.0\\r\\n559,Rick Flag,Male,blue,-,Brown,185.0,DC Comics,-,bad,85.0\\r\\n560,Riddler,Male,-,-,-,-99.0,DC Comics,-,bad,-99.0\\r\\n561,Rip Hunter,Male,blue,Human,Blond,-99.0,DC Comics,-,good,-99.0\\r\\n562,Ripcord,Female,green,-,Black,180.0,Marvel Comics,-,good,72.0\\r\\n563,Robin,Male,blue,Human,Black,178.0,DC Comics,-,good,79.0\\r\\n564,Robin II,Male,blue,Human,Red,183.0,DC Comics,-,good,101.0\\r\\n565,Robin III,Male,blue,Human,Black,165.0,DC Comics,-,good,56.0\\r\\n566,Robin V,Male,blue,Human,Black,137.0,DC Comics,-,good,38.0\\r\\n567,Robin VI,Female,green,Human,Red,-99.0,DC Comics,-,neutral,-99.0\\r\\n568,Rocket Raccoon,Male,brown,Animal,Brown,122.0,Marvel Comics,-,good,25.0\\r\\n569,Rogue,Female,green,-,Brown / White,173.0,Marvel Comics,-,good,54.0\\r\\n570,Ronin,Male,blue,Human,Blond,191.0,Marvel Comics,-,good,104.0\\r\\n571,Rorschach,Male,blue,Human,Red,168.0,DC Comics,-,good,63.0\\r\\n572,Sabretooth,Male,amber,Mutant,Blond,198.0,Marvel Comics,-,bad,171.0\\r\\n573,Sage,Female,blue,-,Black,170.0,Marvel Comics,-,good,61.0\\r\\n574,Sandman,Male,brown,Human,Brown,185.0,Marvel Comics,-,neutral,203.0\\r\\n575,Sasquatch,Male,red,-,Orange,305.0,Marvel Comics,-,good,900.0\\r\\n576,Sauron,Male,-,Maiar,-,279.0,J. R. R. Tolkien,-,bad,-99.0\\r\\n577,Savage Dragon,Male,-,-,-,-99.0,Image Comics,-,good,-99.0\\r\\n578,Scarecrow,Male,blue,Human,Brown,183.0,DC Comics,-,bad,63.0\\r\\n579,Scarlet Spider,Male,blue,Human,Blond,178.0,Marvel Comics,-,good,74.0\\r\\n580,Scarlet Spider II,Male,brown,Clone,Brown,193.0,Marvel Comics,-,good,113.0\\r\\n581,Scarlet Witch,Female,blue,Mutant,Brown,170.0,Marvel Comics,-,bad,59.0\\r\\n582,Scorpia,Female,green,-,Red,-99.0,Marvel Comics,-,bad,-99.0\\r\\n583,Scorpion,Male,brown,Human,Brown,211.0,Marvel Comics,-,bad,310.0\\r\\n584,Sebastian Shaw,Male,-,Mutant,-,-99.0,Marvel Comics,-,bad,-99.0\\r\\n585,Sentry,Male,blue,Mutant,Blond,188.0,Marvel Comics,-,neutral,87.0\\r\\n586,Shadow King,-,red,-,-,185.0,Marvel Comics,-,good,149.0\\r\\n587,Shadow Lass,Female,black,Talokite,Black,173.0,DC Comics,blue,good,54.0\\r\\n588,Shadowcat,Female,hazel,Mutant,Brown,168.0,Marvel Comics,-,good,50.0\\r\\n589,Shang-Chi,Male,brown,Human,Black,178.0,Marvel Comics,-,good,79.0\\r\\n590,Shatterstar,Male,brown,-,Red,191.0,Marvel Comics,-,good,88.0\\r\\n591,She-Hulk,Female,green,Human,Green,201.0,Marvel Comics,-,good,315.0\\r\\n592,She-Thing,Female,blue,Human / Radiation,No Hair,183.0,Marvel Comics,-,good,153.0\\r\\n593,Shocker,Male,brown,Human,Brown,175.0,Marvel Comics,-,bad,79.0\\r\\n594,Shriek,Female,yellow / blue,-,Black,173.0,Marvel Comics,-,good,52.0\\r\\n595,Shrinking Violet,Female,-,-,-,-99.0,DC Comics,-,good,-99.0\\r\\n596,Sif,Female,blue,Asgardian,Black,188.0,Marvel Comics,-,good,191.0\\r\\n597,Silk,Female,brown,Human,Black,-99.0,Marvel Comics,-,good,-99.0\\r\\n598,Silk Spectre,Female,-,-,-,-99.0,DC Comics,-,good,-99.0\\r\\n599,Silk Spectre II,Female,-,-,-,-99.0,DC Comics,-,good,-99.0\\r\\n600,Silver Surfer,Male,white,Alien,No Hair,193.0,Marvel Comics,silver,good,101.0\\r\\n601,Silverclaw,Female,brown,-,Black,157.0,Marvel Comics,-,good,50.0\\r\\n602,Simon Baz,Male,bown,Human,Black,-99.0,DC Comics,-,good,-99.0\\r\\n603,Sinestro,Male,black,Korugaran,Black,201.0,DC Comics,red,neutral,92.0\\r\\n604,Siren,Female,blue,Atlantean,Purple,175.0,DC Comics,-,bad,72.0\\r\\n605,Siren II,Female,black,-,-,-99.0,DC Comics,-,bad,-99.0\\r\\n606,Siryn,Female,blue,-,Strawberry Blond,168.0,Marvel Comics,-,bad,52.0\\r\\n607,Skaar,Male,green,-,Black,198.0,Marvel Comics,-,good,180.0\\r\\n608,Snake-Eyes,Male,-,Animal,-,-99.0,Marvel Comics,-,bad,-99.0\\r\\n609,Snowbird,Female,white,-,Blond,178.0,Marvel Comics,-,good,49.0\\r\\n610,Sobek,Male,white,-,No Hair,-99.0,DC Comics,-,good,-99.0\\r\\n611,Solomon Grundy,Male,black,Zombie,White,279.0,DC Comics,-,bad,437.0\\r\\n612,Songbird,Female,green,-,Red / White,165.0,Marvel Comics,-,good,65.0\\r\\n613,Space Ghost,Male,-,Human,-,188.0,DC Comics,-,good,113.0\\r\\n614,Spawn,Male,brown,Demon,Black,211.0,Image Comics,-,good,405.0\\r\\n615,Spectre,Male,white,God / Eternal,No Hair,-99.0,DC Comics,white,good,-99.0\\r\\n616,Speedball,Male,-,-,-,-99.0,Marvel Comics,-,good,-99.0\\r\\n617,Speedy,Male,-,Human,-,-99.0,DC Comics,-,good,-99.0\\r\\n618,Speedy,Female,green,Human,Brown,-99.0,DC Comics,-,good,-99.0\\r\\n619,Spider-Carnage,Male,-,Symbiote,-,-99.0,Marvel Comics,-,bad,-99.0\\r\\n620,Spider-Girl,Female,blue,Human,Brown,170.0,Marvel Comics,-,good,54.0\\r\\n621,Spider-Gwen,Female,blue,Human,Blond,165.0,Marvel Comics,-,good,56.0\\r\\n622,Spider-Man,Male,hazel,Human,Brown,178.0,Marvel Comics,-,good,74.0\\r\\n623,Spider-Man,-,red,Human,Brown,178.0,Marvel Comics,-,good,77.0\\r\\n624,Spider-Man,Male,brown,Human,Black,157.0,Marvel Comics,-,good,56.0\\r\\n625,Spider-Woman,Female,green,Human,Black,178.0,Marvel Comics,-,good,59.0\\r\\n626,Spider-Woman II,Female,-,-,-,-99.0,Marvel Comics,-,good,-99.0\\r\\n627,Spider-Woman III,Female,brown,-,Brown,173.0,Marvel Comics,-,good,55.0\\r\\n628,Spider-Woman IV,Female,red,-,White,178.0,Marvel Comics,-,bad,58.0\\r\\n629,Spock,Male,brown,Human-Vulcan,Black,185.0,Star Trek,-,good,81.0\\r\\n630,Spyke,Male,brown,Mutant,Blond,183.0,Marvel Comics,-,good,83.0\\r\\n631,Stacy X,Female,-,-,-,-99.0,Marvel Comics,-,good,-99.0\\r\\n632,Star-Lord,Male,blue,Human-Spartoi,Blond,188.0,Marvel Comics,-,good,79.0\\r\\n633,Stardust,Male,-,-,-,-99.0,Marvel Comics,-,good,-99.0\\r\\n634,Starfire,Female,green,Tamaranean,Auburn,193.0,DC Comics,orange,good,71.0\\r\\n635,Stargirl,Female,blue,Human,Blond,165.0,DC Comics,-,good,62.0\\r\\n636,Static,Male,brown,Mutant,Black,170.0,DC Comics,-,good,63.0\\r\\n637,Steel,Male,brown,-,No Hair,201.0,DC Comics,-,good,131.0\\r\\n638,Stephanie Powell,Female,-,-,Blond,-99.0,ABC Studios,-,good,-99.0\\r\\n639,Steppenwolf,Male,red,New God,Black,183.0,DC Comics,white,bad,91.0\\r\\n640,Storm,Female,blue,Mutant,White,180.0,Marvel Comics,-,good,57.0\\r\\n641,Stormtrooper,Male,-,Human,-,183.0,George Lucas,-,bad,-99.0\\r\\n642,Sunspot,Male,brown,Mutant,black,173.0,Marvel Comics,-,good,77.0\\r\\n643,Superboy,Male,blue,-,Black,170.0,DC Comics,-,good,68.0\\r\\n644,Superboy-Prime,Male,blue,Kryptonian,Black / Blue,180.0,DC Comics,-,bad,77.0\\r\\n645,Supergirl,Female,blue,Kryptonian,Blond,165.0,DC Comics,-,good,54.0\\r\\n646,Superman,Male,blue,Kryptonian,Black,191.0,DC Comics,-,good,101.0\\r\\n647,Swamp Thing,Male,red,God / Eternal,No Hair,-99.0,DC Comics,green,bad,-99.0\\r\\n648,Swarm,Male,yellow,Mutant,No Hair,196.0,Marvel Comics,yellow,bad,47.0\\r\\n649,Sylar,Male,-,-,-,-99.0,NBC - Heroes,-,bad,-99.0\\r\\n650,Synch,Male,brown,-,Black,180.0,Marvel Comics,-,good,74.0\\r\\n651,T-1000,Male,-,Android,-,183.0,Dark Horse Comics,silver,bad,146.0\\r\\n652,T-800,Male,red,Cyborg,-,-99.0,Dark Horse Comics,-,bad,176.0\\r\\n653,T-850,Male,red,Cyborg,-,-99.0,Dark Horse Comics,-,bad,198.0\\r\\n654,T-X,Female,-,Cyborg,-,-99.0,Dark Horse Comics,silver,bad,149.0\\r\\n655,Taskmaster,Male,brown,Human,Brown,188.0,Marvel Comics,-,bad,99.0\\r\\n656,Tempest,Female,brown,-,Black,163.0,Marvel Comics,-,good,54.0\\r\\n657,Thanos,Male,red,Eternal,No Hair,201.0,Marvel Comics,purple,bad,443.0\\r\\n658,The Cape,Male,-,-,-,-99.0,,-,good,-99.0\\r\\n659,The Comedian,Male,brown,Human,Black,188.0,DC Comics,-,neutral,101.0\\r\\n660,Thing,Male,blue,Human / Radiation,No Hair,183.0,Marvel Comics,-,good,225.0\\r\\n661,Thor,Male,blue,Asgardian,Blond,198.0,Marvel Comics,-,good,288.0\\r\\n662,Thor Girl,Female,blue,Asgardian,Blond,175.0,Marvel Comics,-,good,143.0\\r\\n663,Thunderbird,Male,brown,-,Black,185.0,Marvel Comics,-,good,101.0\\r\\n664,Thunderbird II,Male,-,-,-,-99.0,Marvel Comics,-,good,-99.0\\r\\n665,Thunderbird III,Male,brown,-,Black,175.0,Marvel Comics,-,good,74.0\\r\\n666,Thunderstrike,Male,blue,-,Blond,198.0,Marvel Comics,-,good,288.0\\r\\n667,Thundra,Female,green,-,Red,218.0,Marvel Comics,-,good,158.0\\r\\n668,Tiger Shark,Male,grey,Human,No Hair,185.0,Marvel Comics,grey,bad,203.0\\r\\n669,Tigra,Female,green,-,Auburn,178.0,Marvel Comics,-,good,81.0\\r\\n670,Tinkerer,Male,brown,-,White,163.0,Marvel Comics,-,bad,54.0\\r\\n671,Titan,Male,-,-,-,-99.0,HarperCollins,-,good,-99.0\\r\\n672,Toad,Male,black,Mutant,Brown,175.0,Marvel Comics,green,neutral,76.0\\r\\n673,Toxin,Male,blue,Symbiote,Brown,188.0,Marvel Comics,-,good,97.0\\r\\n674,Toxin,Male,black,Symbiote,Blond,191.0,Marvel Comics,-,good,117.0\\r\\n675,Tracy Strauss,Female,-,-,-,-99.0,NBC - Heroes,-,good,-99.0\\r\\n676,Trickster,Male,blue,Human,Blond,183.0,DC Comics,-,-,81.0\\r\\n677,Trigon,Male,yellow,God / Eternal,Black,-99.0,DC Comics,red,bad,-99.0\\r\\n678,Triplicate Girl,Female,purple,-,Brown,168.0,DC Comics,-,good,59.0\\r\\n679,Triton,Male,green,Inhuman,No Hair,188.0,Marvel Comics,green,good,86.0\\r\\n680,Two-Face,Male,-,-,-,183.0,DC Comics,-,bad,82.0\\r\\n681,Ultragirl,Female,blue,-,Blond,168.0,Marvel Comics,-,good,105.0\\r\\n682,Ultron,Male,red,Android,-,206.0,Marvel Comics,silver,bad,331.0\\r\\n683,Utgard-Loki,Male,blue,Frost Giant,White,15.2,Marvel Comics,-,bad,58.0\\r\\n684,Vagabond,Female,blue,-,Strawberry Blond,168.0,Marvel Comics,-,good,54.0\\r\\n685,Valerie Hart,Female,hazel,-,Black,175.0,Team Epic TV,-,good,56.0\\r\\n686,Valkyrie,Female,blue,-,Blond,191.0,Marvel Comics,-,good,214.0\\r\\n687,Vanisher,Male,green,-,No Hair,165.0,Marvel Comics,-,bad,79.0\\r\\n688,Vegeta,Male,-,Saiyan,Black,168.0,Shueisha,-,bad,73.0\\r\\n689,Venom,Male,blue,Symbiote,Strawberry Blond,191.0,Marvel Comics,-,bad,117.0\\r\\n690,Venom II,Male,brown,-,Black,175.0,Marvel Comics,-,bad,50.0\\r\\n691,Venom III,Male,brown,Symbiote,Brown,229.0,Marvel Comics,-,bad,334.0\\r\\n692,Venompool,Male,-,Symbiote,-,226.0,Marvel Comics,-,-,-99.0\\r\\n693,Vertigo II,Female,blue,-,Silver,168.0,Marvel Comics,-,good,52.0\\r\\n694,Vibe,Male,brown,Human,Black,178.0,DC Comics,-,good,71.0\\r\\n695,Vindicator,Female,green,Human,Red,165.0,Marvel Comics,-,good,54.0\\r\\n696,Vindicator,Male,-,-,-,-99.0,Marvel Comics,-,good,-99.0\\r\\n697,Violator,Male,-,-,-,-99.0,Image Comics,-,bad,-99.0\\r\\n698,Violet Parr,Female,violet,Human,Black,137.0,Dark Horse Comics,-,good,41.0\\r\\n699,Vision,Male,gold,Android,No Hair,191.0,Marvel Comics,red,good,135.0\\r\\n700,Vision II,-,red,-,No Hair,191.0,Marvel Comics,-,good,135.0\\r\\n701,Vixen,Female,amber,Human,Black,175.0,DC Comics,-,good,63.0\\r\\n702,Vulcan,Male,black,-,Black,-99.0,Marvel Comics,-,good,-99.0\\r\\n703,Vulture,Male,brown,Human,No Hair,180.0,Marvel Comics,-,bad,79.0\\r\\n704,Walrus,Male,blue,Human,Black,183.0,Marvel Comics,-,bad,162.0\\r\\n705,War Machine,Male,brown,Human,Brown,185.0,Marvel Comics,-,good,95.0\\r\\n706,Warbird,Female,blue,-,Blond,180.0,Marvel Comics,-,good,54.0\\r\\n707,Warlock,Male,red,-,Blond,188.0,Marvel Comics,-,good,108.0\\r\\n708,Warp,Male,brown,-,Black,173.0,DC Comics,-,bad,67.0\\r\\n709,Warpath,Male,brown,Mutant,Black,218.0,Marvel Comics,-,good,158.0\\r\\n710,Wasp,Female,blue,Human,Auburn,163.0,Marvel Comics,-,good,50.0\\r\\n711,Watcher,Male,-,-,-,-99.0,Marvel Comics,-,good,-99.0\\r\\n712,Weapon XI,Male,-,-,-,-99.0,Marvel Comics,-,bad,-99.0\\r\\n713,White Canary,Female,brown,Human,Black,-99.0,DC Comics,-,bad,-99.0\\r\\n714,White Queen,Female,blue,-,Blond,178.0,Marvel Comics,-,good,65.0\\r\\n715,Wildfire,Male,-,-,-,-99.0,DC Comics,-,good,-99.0\\r\\n716,Winter Soldier,Male,brown,Human,Brown,175.0,Marvel Comics,-,good,117.0\\r\\n717,Wiz Kid,-,brown,-,Black,140.0,Marvel Comics,-,good,39.0\\r\\n718,Wolfsbane,Female,green,-,Auburn,366.0,Marvel Comics,-,good,473.0\\r\\n719,Wolverine,Male,blue,Mutant,Black,160.0,Marvel Comics,-,good,135.0\\r\\n720,Wonder Girl,Female,blue,Demi-God,Blond,165.0,DC Comics,-,good,51.0\\r\\n721,Wonder Man,Male,red,-,Black,188.0,Marvel Comics,-,good,171.0\\r\\n722,Wonder Woman,Female,blue,Amazon,Black,183.0,DC Comics,-,good,74.0\\r\\n723,Wondra,Female,-,-,-,-99.0,Marvel Comics,-,good,-99.0\\r\\n724,Wyatt Wingfoot,Male,brown,-,Black,196.0,Marvel Comics,-,good,117.0\\r\\n725,X-23,Female,green,Mutant / Clone,Black,155.0,Marvel Comics,-,good,50.0\\r\\n726,X-Man,Male,blue,-,Brown,175.0,Marvel Comics,-,good,61.0\\r\\n727,Yellow Claw,Male,blue,-,No Hair,188.0,Marvel Comics,-,bad,95.0\\r\\n728,Yellowjacket,Male,blue,Human,Blond,183.0,Marvel Comics,-,good,83.0\\r\\n729,Yellowjacket II,Female,blue,Human,Strawberry Blond,165.0,Marvel Comics,-,good,52.0\\r\\n730,Ymir,Male,white,Frost Giant,No Hair,304.8,Marvel Comics,white,good,-99.0\\r\\n731,Yoda,Male,brown,Yoda's species,White,66.0,George Lucas,green,good,17.0\\r\\n732,Zatanna,Female,blue,Human,Black,170.0,DC Comics,-,good,57.0\\r\\n733,Zoom,Male,red,-,Brown,185.0,DC Comics,-,bad,81.0\\r\\n\"}"
            ]
          },
          "metadata": {},
          "execution_count": 5
        }
      ]
    },
    {
      "cell_type": "code",
      "source": [
        "a= spark.sparkContext.textFile(\"a_spark.txt\")"
      ],
      "metadata": {
        "id": "NRRFE0i7qtWV"
      },
      "execution_count": null,
      "outputs": []
    },
    {
      "cell_type": "code",
      "source": [
        "a.collect()"
      ],
      "metadata": {
        "colab": {
          "base_uri": "https://localhost:8080/"
        },
        "id": "0zG9C5Busjus",
        "outputId": "9eea2afd-6514-4156-8700-78d493a70f19"
      },
      "execution_count": null,
      "outputs": [
        {
          "output_type": "execute_result",
          "data": {
            "text/plain": [
              "['spark is fun', 'fun with spark', 'we are learning']"
            ]
          },
          "metadata": {},
          "execution_count": 13
        }
      ]
    },
    {
      "cell_type": "code",
      "source": [
        "b = a.flatMap(lambda x:x.split(\" \"))\n",
        "b.collect()"
      ],
      "metadata": {
        "colab": {
          "base_uri": "https://localhost:8080/"
        },
        "id": "r_oxZzWpsvXK",
        "outputId": "7bbd83af-0e4a-460f-950d-972448d80624"
      },
      "execution_count": null,
      "outputs": [
        {
          "output_type": "execute_result",
          "data": {
            "text/plain": [
              "['spark', 'is', 'fun', 'fun', 'with', 'spark', 'we', 'are', 'learning']"
            ]
          },
          "metadata": {},
          "execution_count": 14
        }
      ]
    },
    {
      "cell_type": "code",
      "source": [
        "c = b.map(lambda x:(x,1))\n",
        "c.collect()"
      ],
      "metadata": {
        "colab": {
          "base_uri": "https://localhost:8080/"
        },
        "id": "p077bJrhxdA3",
        "outputId": "0f07e9eb-bd5d-48cf-b4fc-d36b00eb5a49"
      },
      "execution_count": null,
      "outputs": [
        {
          "output_type": "execute_result",
          "data": {
            "text/plain": [
              "[('spark', 1),\n",
              " ('is', 1),\n",
              " ('fun', 1),\n",
              " ('fun', 1),\n",
              " ('with', 1),\n",
              " ('spark', 1),\n",
              " ('we', 1),\n",
              " ('are', 1),\n",
              " ('learning', 1)]"
            ]
          },
          "metadata": {},
          "execution_count": 15
        }
      ]
    },
    {
      "cell_type": "code",
      "source": [
        "d= c.reduceByKey(lambda a,b:a+b)\n",
        "d.collect()"
      ],
      "metadata": {
        "colab": {
          "base_uri": "https://localhost:8080/"
        },
        "id": "wV0cr2T9yw3g",
        "outputId": "4b27c8ac-14b9-4c58-841d-671e943ba3ac"
      },
      "execution_count": null,
      "outputs": [
        {
          "output_type": "execute_result",
          "data": {
            "text/plain": [
              "[('is', 1),\n",
              " ('we', 1),\n",
              " ('are', 1),\n",
              " ('learning', 1),\n",
              " ('spark', 2),\n",
              " ('fun', 2),\n",
              " ('with', 1)]"
            ]
          },
          "metadata": {},
          "execution_count": 16
        }
      ]
    },
    {
      "cell_type": "code",
      "source": [
        "from pyspark.sql.functions import *"
      ],
      "metadata": {
        "id": "Xk-B_7ST_lC-"
      },
      "execution_count": null,
      "outputs": []
    },
    {
      "cell_type": "code",
      "source": [
        "data=[(1,2),(3,4),(5,6)]\n",
        "columns=[\"A\",\"B\"]\n",
        "df = spark.createDataFrame(data,columns)\n",
        "df.show()\n"
      ],
      "metadata": {
        "colab": {
          "base_uri": "https://localhost:8080/"
        },
        "id": "-QVyanJY8ziD",
        "outputId": "df8362c8-c023-4ced-b687-a819a3097fd5"
      },
      "execution_count": null,
      "outputs": [
        {
          "output_type": "stream",
          "name": "stdout",
          "text": [
            "+---+---+\n",
            "|  A|  B|\n",
            "+---+---+\n",
            "|  1|  2|\n",
            "|  3|  4|\n",
            "|  5|  6|\n",
            "+---+---+\n",
            "\n"
          ]
        }
      ]
    },
    {
      "cell_type": "code",
      "source": [
        "df = df.withColumn(\"Sum\", col(\"A\") + col(\"B\"))\n",
        "df.show()"
      ],
      "metadata": {
        "colab": {
          "base_uri": "https://localhost:8080/"
        },
        "id": "GA9l7ffd_QYd",
        "outputId": "5272ad58-d0c3-4e53-e1ad-0592e7cf8e70"
      },
      "execution_count": null,
      "outputs": [
        {
          "output_type": "stream",
          "name": "stdout",
          "text": [
            "+---+---+---+\n",
            "|  A|  B|Sum|\n",
            "+---+---+---+\n",
            "|  1|  2|  3|\n",
            "|  3|  4|  7|\n",
            "|  5|  6| 11|\n",
            "+---+---+---+\n",
            "\n"
          ]
        }
      ]
    },
    {
      "cell_type": "code",
      "source": [
        "df_filtered =df.filter(col(\"A\")>2)\n",
        "df_filtered.show()"
      ],
      "metadata": {
        "colab": {
          "base_uri": "https://localhost:8080/"
        },
        "id": "EVkozJlf_q4a",
        "outputId": "3e97498d-10bc-446a-bb0d-edb7ca3e7778"
      },
      "execution_count": null,
      "outputs": [
        {
          "output_type": "stream",
          "name": "stdout",
          "text": [
            "+---+---+---+\n",
            "|  A|  B|Sum|\n",
            "+---+---+---+\n",
            "|  3|  4|  7|\n",
            "|  5|  6| 11|\n",
            "+---+---+---+\n",
            "\n"
          ]
        }
      ]
    },
    {
      "cell_type": "code",
      "source": [
        "df_filtered = df.filter((col(\"A\")>2)&(col(\"B\")<5))\n",
        "df_filtered.show()"
      ],
      "metadata": {
        "colab": {
          "base_uri": "https://localhost:8080/"
        },
        "id": "JOEDIt0XAHmL",
        "outputId": "7b758e9e-fb4e-4052-966c-e8749d0ca261"
      },
      "execution_count": null,
      "outputs": [
        {
          "output_type": "stream",
          "name": "stdout",
          "text": [
            "+---+---+---+\n",
            "|  A|  B|Sum|\n",
            "+---+---+---+\n",
            "|  3|  4|  7|\n",
            "+---+---+---+\n",
            "\n"
          ]
        }
      ]
    },
    {
      "cell_type": "code",
      "source": [
        "from pyspark.sql.functions import sum, avg"
      ],
      "metadata": {
        "id": "5Y9acWrxAmOg"
      },
      "execution_count": null,
      "outputs": []
    },
    {
      "cell_type": "code",
      "source": [
        "df_agg =df.agg(sum(\"a\").alias(\"sumA\"),avg(\"A\").alias(\"AvgA\"))\n",
        "df_agg.show()"
      ],
      "metadata": {
        "colab": {
          "base_uri": "https://localhost:8080/"
        },
        "id": "U02Bs7kBAsij",
        "outputId": "0ba3cfad-7d9c-467a-d585-f5096179df29"
      },
      "execution_count": null,
      "outputs": [
        {
          "output_type": "stream",
          "name": "stdout",
          "text": [
            "+----+----+\n",
            "|sumA|AvgA|\n",
            "+----+----+\n",
            "|   9| 3.0|\n",
            "+----+----+\n",
            "\n"
          ]
        }
      ]
    },
    {
      "cell_type": "code",
      "source": [
        "data=[(\"Alice\",1),(\"BOb\",2),(\"catherine\",3)]\n",
        "columns=[\"Name\",\"roll_no\"]\n",
        "df =spark.createDataFrame(data,columns)\n",
        "df.show()"
      ],
      "metadata": {
        "colab": {
          "base_uri": "https://localhost:8080/"
        },
        "id": "ymJ-U8zoBIVD",
        "outputId": "7f326e0f-7def-44dc-b829-7d44926c554b"
      },
      "execution_count": null,
      "outputs": [
        {
          "output_type": "stream",
          "name": "stdout",
          "text": [
            "+---------+-------+\n",
            "|     Name|roll_no|\n",
            "+---------+-------+\n",
            "|    Alice|      1|\n",
            "|      BOb|      2|\n",
            "|catherine|      3|\n",
            "+---------+-------+\n",
            "\n"
          ]
        }
      ]
    },
    {
      "cell_type": "code",
      "source": [
        "df_filtered=df.filter(col(\"Name\").contains(\"a\"))\n",
        "df_filtered.show()"
      ],
      "metadata": {
        "colab": {
          "base_uri": "https://localhost:8080/"
        },
        "id": "N9OawstkCNNG",
        "outputId": "5c8b536e-ec7e-47b3-b662-dcd3fb712ff8"
      },
      "execution_count": null,
      "outputs": [
        {
          "output_type": "stream",
          "name": "stdout",
          "text": [
            "+---------+-------+\n",
            "|     Name|roll_no|\n",
            "+---------+-------+\n",
            "|catherine|      3|\n",
            "+---------+-------+\n",
            "\n"
          ]
        }
      ]
    },
    {
      "cell_type": "code",
      "source": [
        "from pyspark.sql.functions import year, month, dayofmonth\n"
      ],
      "metadata": {
        "id": "0khjPlQTCgbI"
      },
      "execution_count": null,
      "outputs": []
    },
    {
      "cell_type": "code",
      "source": [
        "data = [(\"2024-07-18\",\"sunday\"), (\"2023-06-15\",\"monday\"), (\"2022-05-20\",\"tuesday\")]\n",
        "columns = [\"Date\",\"weekday\"]\n",
        "df = spark.createDataFrame(data, columns)\n",
        "df.show()"
      ],
      "metadata": {
        "colab": {
          "base_uri": "https://localhost:8080/"
        },
        "id": "GtDJjnLdCpbx",
        "outputId": "8d634d0a-2b60-46a5-db6d-5c0185fcda45"
      },
      "execution_count": null,
      "outputs": [
        {
          "output_type": "stream",
          "name": "stdout",
          "text": [
            "+----------+-------+\n",
            "|      Date|weekday|\n",
            "+----------+-------+\n",
            "|2024-07-18| sunday|\n",
            "|2023-06-15| monday|\n",
            "|2022-05-20|tuesday|\n",
            "+----------+-------+\n",
            "\n"
          ]
        }
      ]
    },
    {
      "cell_type": "code",
      "source": [
        "df = df.withColumn(\"Year\",year(col(\"Date\")))\n",
        "df=df.withColumn(\"Month\",month(col(\"Date\")))\n",
        "df =df.withColumn(\"Day\",dayofmonth(col(\"Date\")))\n",
        "df.show()"
      ],
      "metadata": {
        "colab": {
          "base_uri": "https://localhost:8080/"
        },
        "id": "-kPkirQNCw-w",
        "outputId": "47a80787-0671-447b-f030-43b8977de626"
      },
      "execution_count": null,
      "outputs": [
        {
          "output_type": "stream",
          "name": "stdout",
          "text": [
            "+----------+-------+----+-----+---+\n",
            "|      Date|weekday|Year|Month|Day|\n",
            "+----------+-------+----+-----+---+\n",
            "|2024-07-18| sunday|2024|    7| 18|\n",
            "|2023-06-15| monday|2023|    6| 15|\n",
            "|2022-05-20|tuesday|2022|    5| 20|\n",
            "+----------+-------+----+-----+---+\n",
            "\n"
          ]
        }
      ]
    },
    {
      "cell_type": "code",
      "source": [
        "data = [(1, 2, 3), (4, 5, 6), (7, 8, 9)]\n",
        "columns = [\"A\", \"B\", \"C\"]\n",
        "df = spark.createDataFrame(data, columns)\n",
        "# Create a new column which is A + B * C\n",
        "df = df.withColumn(\"Result\", col(\"A\") + (col(\"B\") * col(\"C\")))\n",
        "df.show()\n"
      ],
      "metadata": {
        "colab": {
          "base_uri": "https://localhost:8080/"
        },
        "id": "PuHdk09aDo0O",
        "outputId": "6ea73624-bd0c-476c-cd4b-e5e8dc565f40"
      },
      "execution_count": null,
      "outputs": [
        {
          "output_type": "stream",
          "name": "stdout",
          "text": [
            "+---+---+---+------+\n",
            "|  A|  B|  C|Result|\n",
            "+---+---+---+------+\n",
            "|  1|  2|  3|     7|\n",
            "|  4|  5|  6|    34|\n",
            "|  7|  8|  9|    79|\n",
            "+---+---+---+------+\n",
            "\n"
          ]
        }
      ]
    },
    {
      "cell_type": "code",
      "source": [
        "from pyspark.sql.functions import when"
      ],
      "metadata": {
        "id": "JKVUgrmUDu_R"
      },
      "execution_count": null,
      "outputs": []
    },
    {
      "cell_type": "code",
      "source": [
        "data = [(\"Alice\", 1), (\"Bob\", 2), (\"Catherine\", 3)]\n",
        "columns = [\"Name\", \"ID\"]\n",
        "df = spark.createDataFrame(data, columns)\n",
        "df = df.withColumn(\"Grop\",when(col(\"ID\") == 1,\"Group1\").when(col(\"ID\") == 2,\"Group2\").otherwise(\"Group3\"))\n",
        "df.show()"
      ],
      "metadata": {
        "colab": {
          "base_uri": "https://localhost:8080/"
        },
        "id": "ne6k9GRwDzEF",
        "outputId": "0fd9c5bb-7cd3-4857-8fc6-5bcf125d23ee"
      },
      "execution_count": null,
      "outputs": [
        {
          "output_type": "stream",
          "name": "stdout",
          "text": [
            "+---------+---+------+\n",
            "|     Name| ID|  Grop|\n",
            "+---------+---+------+\n",
            "|    Alice|  1|Group1|\n",
            "|      Bob|  2|Group2|\n",
            "|Catherine|  3|Group3|\n",
            "+---------+---+------+\n",
            "\n"
          ]
        }
      ]
    },
    {
      "cell_type": "code",
      "source": [
        "data = [(\"Alice\",1), (\"Bob\",2), (\"Catherine\",3)]\n",
        "columns = [\"Name\",\"id\"]\n",
        "df = spark.createDataFrame(data, columns)\n",
        "df.show()"
      ],
      "metadata": {
        "colab": {
          "base_uri": "https://localhost:8080/"
        },
        "id": "gxjjtI-pE3Oy",
        "outputId": "0a7b0d24-b698-4102-d21b-f78c934afa6d"
      },
      "execution_count": null,
      "outputs": [
        {
          "output_type": "stream",
          "name": "stdout",
          "text": [
            "+---------+---+\n",
            "|     Name| id|\n",
            "+---------+---+\n",
            "|    Alice|  1|\n",
            "|      Bob|  2|\n",
            "|Catherine|  3|\n",
            "+---------+---+\n",
            "\n"
          ]
        }
      ]
    },
    {
      "cell_type": "code",
      "source": [
        "from pyspark.sql.types import StructType,StructField,StringType,IntegerType"
      ],
      "metadata": {
        "id": "c1oHfVrbGuLK"
      },
      "execution_count": null,
      "outputs": []
    },
    {
      "cell_type": "code",
      "source": [
        "from pyspark.sql.functions import date_format\n",
        "\n",
        "# Sample data\n",
        "data = [(\"2024-07-18\",), (\"2023-06-15\",), (\"2022-05-20\",)]\n",
        "columns = [\"Date\"]\n",
        "df = spark.createDataFrame(data, columns)\n",
        "\n",
        "# Extract year, month, and day, and format date\n",
        "df = df.withColumn(\"Year\", year(col(\"Date\")))\n",
        "df = df.withColumn(\"Month\", month(col(\"Date\")))\n",
        "df = df.withColumn(\"Day\", dayofmonth(col(\"Date\")))\n",
        "df = df.withColumn(\"Formatted_Date\", date_format(col(\"Date\"), \"MM-dd-yyyy\"))\n",
        "df.show()"
      ],
      "metadata": {
        "colab": {
          "base_uri": "https://localhost:8080/"
        },
        "id": "XgSbg3uJHHzT",
        "outputId": "cd1153d4-7634-417b-c345-66a14d4036b0"
      },
      "execution_count": null,
      "outputs": [
        {
          "output_type": "stream",
          "name": "stdout",
          "text": [
            "+----------+----+-----+---+--------------+\n",
            "|      Date|Year|Month|Day|Formatted_Date|\n",
            "+----------+----+-----+---+--------------+\n",
            "|2024-07-18|2024|    7| 18|    07-18-2024|\n",
            "|2023-06-15|2023|    6| 15|    06-15-2023|\n",
            "|2022-05-20|2022|    5| 20|    05-20-2022|\n",
            "+----------+----+-----+---+--------------+\n",
            "\n"
          ]
        }
      ]
    },
    {
      "cell_type": "code",
      "source": [
        "data = [(\"Alice\", 50), (\"Bob\", 60), (\"Alice\", 70), (\"Bob\", 80)]\n",
        "columns = [\"Name\", \"Score\"]\n",
        "df = spark.createDataFrame(data, columns)\n",
        "\n",
        "# Group by Name and calculate average and total scores\n",
        "df_grouped = df.groupBy(\"Name\").agg(\n",
        "    avg(\"Score\").alias(\"Average_Score\"),\n",
        "    sum(\"Score\").alias(\"Total_Score\")\n",
        ")\n",
        "df_grouped.show()\n"
      ],
      "metadata": {
        "colab": {
          "base_uri": "https://localhost:8080/"
        },
        "id": "HLcRYWdwHNBF",
        "outputId": "84bd672d-af5f-49cb-d998-686342955d8e"
      },
      "execution_count": null,
      "outputs": [
        {
          "output_type": "stream",
          "name": "stdout",
          "text": [
            "+-----+-------------+-----------+\n",
            "| Name|Average_Score|Total_Score|\n",
            "+-----+-------------+-----------+\n",
            "|  Bob|         70.0|        140|\n",
            "|Alice|         60.0|        120|\n",
            "+-----+-------------+-----------+\n",
            "\n"
          ]
        }
      ]
    },
    {
      "cell_type": "code",
      "source": [
        "from pyspark.sql.types import StructType,StructField,StringType,IntegerType"
      ],
      "metadata": {
        "id": "zxHtML-UHUKB"
      },
      "execution_count": null,
      "outputs": []
    },
    {
      "cell_type": "code",
      "source": [
        "data = [\n",
        "         (\"John\",34,(\"street_1\",\"Delhi\",12345)),\n",
        "         (\"Mary\",23,(\"street_2\",\"Jaipur\",45678))]\n",
        "schema = StructType([StructField(\"name\",StringType(),True),StructField(\"age\",IntegerType(),True),StructField(\"address\",StructType([StructField(\"street\",StringType(),True),StructField(\"city\",StringType(),True),StructField(\"zip\",IntegerType(),True)]),True)])\n",
        "df = spark.createDataFrame(data,schema)\n",
        "df.show(truncate=False)"
      ],
      "metadata": {
        "colab": {
          "base_uri": "https://localhost:8080/"
        },
        "id": "_XTxG7iVHYvB",
        "outputId": "25022cc7-ccd8-4de4-e7b3-38f84e032614"
      },
      "execution_count": null,
      "outputs": [
        {
          "output_type": "stream",
          "name": "stdout",
          "text": [
            "+----+---+-------------------------+\n",
            "|name|age|address                  |\n",
            "+----+---+-------------------------+\n",
            "|John|34 |{street_1, Delhi, 12345} |\n",
            "|Mary|23 |{street_2, Jaipur, 45678}|\n",
            "+----+---+-------------------------+\n",
            "\n"
          ]
        }
      ]
    },
    {
      "cell_type": "code",
      "source": [
        "# Sample data\n",
        "data = [(\"Alice\",1), (\"Bob\",2), (\"Catherine\",3)]\n",
        "columns = [\"Name\",\"id\"]\n",
        "df = spark.createDataFrame(data, columns)\n",
        "\n",
        "# Perform string operations\n",
        "df = df.withColumn(\"Name_Upper\", upper(col(\"Name\")))\n",
        "df = df.withColumn(\"Name_Length\",length(col(\"Name\")))\n",
        "df.show()"
      ],
      "metadata": {
        "colab": {
          "base_uri": "https://localhost:8080/"
        },
        "id": "opMXga5rIBoR",
        "outputId": "e1fbfa22-a432-42a4-880c-d7832b7ca91c"
      },
      "execution_count": null,
      "outputs": [
        {
          "output_type": "stream",
          "name": "stdout",
          "text": [
            "+---------+---+----------+-----------+\n",
            "|     Name| id|Name_Upper|Name_Length|\n",
            "+---------+---+----------+-----------+\n",
            "|    Alice|  1|     ALICE|          5|\n",
            "|      Bob|  2|       BOB|          3|\n",
            "|Catherine|  3| CATHERINE|          9|\n",
            "+---------+---+----------+-----------+\n",
            "\n"
          ]
        }
      ]
    },
    {
      "cell_type": "code",
      "source": [
        "from google.colab import files\n",
        "files.upload()"
      ],
      "metadata": {
        "colab": {
          "base_uri": "https://localhost:8080/",
          "height": 1000
        },
        "id": "3elhyuNanbHb",
        "outputId": "e6ca2a8b-e7fb-4f42-82f9-88602dbec240"
      },
      "execution_count": null,
      "outputs": [
        {
          "output_type": "display_data",
          "data": {
            "text/plain": [
              "<IPython.core.display.HTML object>"
            ],
            "text/html": [
              "\n",
              "     <input type=\"file\" id=\"files-d0fda93a-31ea-4de9-906b-900b95eea092\" name=\"files[]\" multiple disabled\n",
              "        style=\"border:none\" />\n",
              "     <output id=\"result-d0fda93a-31ea-4de9-906b-900b95eea092\">\n",
              "      Upload widget is only available when the cell has been executed in the\n",
              "      current browser session. Please rerun this cell to enable.\n",
              "      </output>\n",
              "      <script>// Copyright 2017 Google LLC\n",
              "//\n",
              "// Licensed under the Apache License, Version 2.0 (the \"License\");\n",
              "// you may not use this file except in compliance with the License.\n",
              "// You may obtain a copy of the License at\n",
              "//\n",
              "//      http://www.apache.org/licenses/LICENSE-2.0\n",
              "//\n",
              "// Unless required by applicable law or agreed to in writing, software\n",
              "// distributed under the License is distributed on an \"AS IS\" BASIS,\n",
              "// WITHOUT WARRANTIES OR CONDITIONS OF ANY KIND, either express or implied.\n",
              "// See the License for the specific language governing permissions and\n",
              "// limitations under the License.\n",
              "\n",
              "/**\n",
              " * @fileoverview Helpers for google.colab Python module.\n",
              " */\n",
              "(function(scope) {\n",
              "function span(text, styleAttributes = {}) {\n",
              "  const element = document.createElement('span');\n",
              "  element.textContent = text;\n",
              "  for (const key of Object.keys(styleAttributes)) {\n",
              "    element.style[key] = styleAttributes[key];\n",
              "  }\n",
              "  return element;\n",
              "}\n",
              "\n",
              "// Max number of bytes which will be uploaded at a time.\n",
              "const MAX_PAYLOAD_SIZE = 100 * 1024;\n",
              "\n",
              "function _uploadFiles(inputId, outputId) {\n",
              "  const steps = uploadFilesStep(inputId, outputId);\n",
              "  const outputElement = document.getElementById(outputId);\n",
              "  // Cache steps on the outputElement to make it available for the next call\n",
              "  // to uploadFilesContinue from Python.\n",
              "  outputElement.steps = steps;\n",
              "\n",
              "  return _uploadFilesContinue(outputId);\n",
              "}\n",
              "\n",
              "// This is roughly an async generator (not supported in the browser yet),\n",
              "// where there are multiple asynchronous steps and the Python side is going\n",
              "// to poll for completion of each step.\n",
              "// This uses a Promise to block the python side on completion of each step,\n",
              "// then passes the result of the previous step as the input to the next step.\n",
              "function _uploadFilesContinue(outputId) {\n",
              "  const outputElement = document.getElementById(outputId);\n",
              "  const steps = outputElement.steps;\n",
              "\n",
              "  const next = steps.next(outputElement.lastPromiseValue);\n",
              "  return Promise.resolve(next.value.promise).then((value) => {\n",
              "    // Cache the last promise value to make it available to the next\n",
              "    // step of the generator.\n",
              "    outputElement.lastPromiseValue = value;\n",
              "    return next.value.response;\n",
              "  });\n",
              "}\n",
              "\n",
              "/**\n",
              " * Generator function which is called between each async step of the upload\n",
              " * process.\n",
              " * @param {string} inputId Element ID of the input file picker element.\n",
              " * @param {string} outputId Element ID of the output display.\n",
              " * @return {!Iterable<!Object>} Iterable of next steps.\n",
              " */\n",
              "function* uploadFilesStep(inputId, outputId) {\n",
              "  const inputElement = document.getElementById(inputId);\n",
              "  inputElement.disabled = false;\n",
              "\n",
              "  const outputElement = document.getElementById(outputId);\n",
              "  outputElement.innerHTML = '';\n",
              "\n",
              "  const pickedPromise = new Promise((resolve) => {\n",
              "    inputElement.addEventListener('change', (e) => {\n",
              "      resolve(e.target.files);\n",
              "    });\n",
              "  });\n",
              "\n",
              "  const cancel = document.createElement('button');\n",
              "  inputElement.parentElement.appendChild(cancel);\n",
              "  cancel.textContent = 'Cancel upload';\n",
              "  const cancelPromise = new Promise((resolve) => {\n",
              "    cancel.onclick = () => {\n",
              "      resolve(null);\n",
              "    };\n",
              "  });\n",
              "\n",
              "  // Wait for the user to pick the files.\n",
              "  const files = yield {\n",
              "    promise: Promise.race([pickedPromise, cancelPromise]),\n",
              "    response: {\n",
              "      action: 'starting',\n",
              "    }\n",
              "  };\n",
              "\n",
              "  cancel.remove();\n",
              "\n",
              "  // Disable the input element since further picks are not allowed.\n",
              "  inputElement.disabled = true;\n",
              "\n",
              "  if (!files) {\n",
              "    return {\n",
              "      response: {\n",
              "        action: 'complete',\n",
              "      }\n",
              "    };\n",
              "  }\n",
              "\n",
              "  for (const file of files) {\n",
              "    const li = document.createElement('li');\n",
              "    li.append(span(file.name, {fontWeight: 'bold'}));\n",
              "    li.append(span(\n",
              "        `(${file.type || 'n/a'}) - ${file.size} bytes, ` +\n",
              "        `last modified: ${\n",
              "            file.lastModifiedDate ? file.lastModifiedDate.toLocaleDateString() :\n",
              "                                    'n/a'} - `));\n",
              "    const percent = span('0% done');\n",
              "    li.appendChild(percent);\n",
              "\n",
              "    outputElement.appendChild(li);\n",
              "\n",
              "    const fileDataPromise = new Promise((resolve) => {\n",
              "      const reader = new FileReader();\n",
              "      reader.onload = (e) => {\n",
              "        resolve(e.target.result);\n",
              "      };\n",
              "      reader.readAsArrayBuffer(file);\n",
              "    });\n",
              "    // Wait for the data to be ready.\n",
              "    let fileData = yield {\n",
              "      promise: fileDataPromise,\n",
              "      response: {\n",
              "        action: 'continue',\n",
              "      }\n",
              "    };\n",
              "\n",
              "    // Use a chunked sending to avoid message size limits. See b/62115660.\n",
              "    let position = 0;\n",
              "    do {\n",
              "      const length = Math.min(fileData.byteLength - position, MAX_PAYLOAD_SIZE);\n",
              "      const chunk = new Uint8Array(fileData, position, length);\n",
              "      position += length;\n",
              "\n",
              "      const base64 = btoa(String.fromCharCode.apply(null, chunk));\n",
              "      yield {\n",
              "        response: {\n",
              "          action: 'append',\n",
              "          file: file.name,\n",
              "          data: base64,\n",
              "        },\n",
              "      };\n",
              "\n",
              "      let percentDone = fileData.byteLength === 0 ?\n",
              "          100 :\n",
              "          Math.round((position / fileData.byteLength) * 100);\n",
              "      percent.textContent = `${percentDone}% done`;\n",
              "\n",
              "    } while (position < fileData.byteLength);\n",
              "  }\n",
              "\n",
              "  // All done.\n",
              "  yield {\n",
              "    response: {\n",
              "      action: 'complete',\n",
              "    }\n",
              "  };\n",
              "}\n",
              "\n",
              "scope.google = scope.google || {};\n",
              "scope.google.colab = scope.google.colab || {};\n",
              "scope.google.colab._files = {\n",
              "  _uploadFiles,\n",
              "  _uploadFilesContinue,\n",
              "};\n",
              "})(self);\n",
              "</script> "
            ]
          },
          "metadata": {}
        },
        {
          "output_type": "stream",
          "name": "stdout",
          "text": [
            "Saving heroes_information.csv to heroes_information.csv\n"
          ]
        },
        {
          "output_type": "execute_result",
          "data": {
            "text/plain": [
              "{'heroes_information.csv': b\",name,Gender,Eye color,Race,Hair color,Height,Publisher,Skin color,Alignment,Weight\\r\\n0,A-Bomb,Male,yellow,Human,No Hair,203.0,Marvel Comics,-,good,441.0\\r\\n1,Abe Sapien,Male,blue,Icthyo Sapien,No Hair,191.0,Dark Horse Comics,blue,good,65.0\\r\\n2,Abin Sur,Male,blue,Ungaran,No Hair,185.0,DC Comics,red,good,90.0\\r\\n3,Abomination,Male,green,Human / Radiation,No Hair,203.0,Marvel Comics,-,bad,441.0\\r\\n4,Abraxas,Male,blue,Cosmic Entity,Black,-99.0,Marvel Comics,-,bad,-99.0\\r\\n5,Absorbing Man,Male,blue,Human,No Hair,193.0,Marvel Comics,-,bad,122.0\\r\\n6,Adam Monroe,Male,blue,-,Blond,-99.0,NBC - Heroes,-,good,-99.0\\r\\n7,Adam Strange,Male,blue,Human,Blond,185.0,DC Comics,-,good,88.0\\r\\n8,Agent 13,Female,blue,-,Blond,173.0,Marvel Comics,-,good,61.0\\r\\n9,Agent Bob,Male,brown,Human,Brown,178.0,Marvel Comics,-,good,81.0\\r\\n10,Agent Zero,Male,-,-,-,191.0,Marvel Comics,-,good,104.0\\r\\n11,Air-Walker,Male,blue,-,White,188.0,Marvel Comics,-,bad,108.0\\r\\n12,Ajax,Male,brown,Cyborg,Black,193.0,Marvel Comics,-,bad,90.0\\r\\n13,Alan Scott,Male,blue,-,Blond,180.0,DC Comics,-,good,90.0\\r\\n14,Alex Mercer,Male,-,Human,-,-99.0,Wildstorm,-,bad,-99.0\\r\\n15,Alex Woolsly,Male,-,-,-,-99.0,NBC - Heroes,-,good,-99.0\\r\\n16,Alfred Pennyworth,Male,blue,Human,Black,178.0,DC Comics,-,good,72.0\\r\\n17,Alien,Male,-,Xenomorph XX121,No Hair,244.0,Dark Horse Comics,black,bad,169.0\\r\\n18,Allan Quatermain,Male,-,-,-,-99.0,Wildstorm,-,good,-99.0\\r\\n19,Amazo,Male,red,Android,-,257.0,DC Comics,-,bad,173.0\\r\\n20,Ammo,Male,brown,Human,Black,188.0,Marvel Comics,-,bad,101.0\\r\\n21,Ando Masahashi,Male,-,-,-,-99.0,NBC - Heroes,-,good,-99.0\\r\\n22,Angel,Male,blue,-,Blond,183.0,Marvel Comics,-,good,68.0\\r\\n23,Angel,Male,-,Vampire,-,-99.0,Dark Horse Comics,-,good,-99.0\\r\\n24,Angel Dust,Female,yellow,Mutant,Black,165.0,Marvel Comics,-,good,57.0\\r\\n25,Angel Salvadore,Female,brown,-,Black,163.0,Marvel Comics,-,good,54.0\\r\\n26,Angela,Female,-,-,-,-99.0,Image Comics,-,bad,-99.0\\r\\n27,Animal Man,Male,blue,Human,Blond,183.0,DC Comics,-,good,83.0\\r\\n28,Annihilus,Male,green,-,No Hair,180.0,Marvel Comics,-,bad,90.0\\r\\n29,Ant-Man,Male,blue,Human,Blond,211.0,Marvel Comics,-,good,122.0\\r\\n30,Ant-Man II,Male,blue,Human,Blond,183.0,Marvel Comics,-,good,86.0\\r\\n31,Anti-Monitor,Male,yellow,God / Eternal,No Hair,61.0,DC Comics,-,bad,-99.0\\r\\n32,Anti-Spawn,Male,-,-,-,-99.0,Image Comics,-,bad,-99.0\\r\\n33,Anti-Venom,Male,blue,Symbiote,Blond,229.0,Marvel Comics,-,-,358.0\\r\\n34,Apocalypse,Male,red,Mutant,Black,213.0,Marvel Comics,grey,bad,135.0\\r\\n35,Aquababy,Male,blue,-,Blond,-99.0,DC Comics,-,good,-99.0\\r\\n36,Aqualad,Male,blue,Atlantean,Black,178.0,DC Comics,-,good,106.0\\r\\n37,Aquaman,Male,blue,Atlantean,Blond,185.0,DC Comics,-,good,146.0\\r\\n38,Arachne,Female,blue,Human,Blond,175.0,Marvel Comics,-,good,63.0\\r\\n39,Archangel,Male,blue,Mutant,Blond,183.0,Marvel Comics,blue,good,68.0\\r\\n40,Arclight,Female,violet,-,Purple,173.0,Marvel Comics,-,bad,57.0\\r\\n41,Ardina,Female,white,Alien,Orange,193.0,Marvel Comics,gold,good,98.0\\r\\n42,Ares,Male,brown,-,Brown,185.0,Marvel Comics,-,good,270.0\\r\\n43,Ariel,Female,purple,-,Pink,165.0,Marvel Comics,-,good,59.0\\r\\n44,Armor,Female,black,-,Black,163.0,Marvel Comics,-,good,50.0\\r\\n45,Arsenal,Male,-,Human,-,-99.0,DC Comics,-,good,-99.0\\r\\n46,Astro Boy,Male,brown,-,Black,-99.0,,-,good,-99.0\\r\\n47,Atlas,Male,brown,Mutant,Red,183.0,Marvel Comics,-,good,101.0\\r\\n48,Atlas,Male,blue,God / Eternal,Brown,198.0,DC Comics,-,bad,126.0\\r\\n49,Atom,Male,blue,-,Red,178.0,DC Comics,-,good,68.0\\r\\n50,Atom,Male,-,-,-,-99.0,DC Comics,-,good,-99.0\\r\\n51,Atom Girl,Female,black,-,Black,168.0,DC Comics,-,good,54.0\\r\\n52,Atom II,Male,brown,Human,Auburn,183.0,DC Comics,-,good,81.0\\r\\n53,Atom III,Male,-,-,Red,-99.0,DC Comics,-,good,-99.0\\r\\n54,Atom IV,Male,brown,-,Black,-99.0,DC Comics,-,good,72.0\\r\\n55,Aurora,Female,blue,Mutant,Black,180.0,Marvel Comics,-,good,63.0\\r\\n56,Azazel,Male,yellow,Neyaphem,Black,183.0,Marvel Comics,red,bad,67.0\\r\\n57,Azrael,Male,brown,Human,Black,-99.0,DC Comics,-,good,-99.0\\r\\n58,Aztar,Male,-,-,-,-99.0,DC Comics,-,good,-99.0\\r\\n59,Bane,Male,-,Human,-,203.0,DC Comics,-,bad,180.0\\r\\n60,Banshee,Male,green,Human,Strawberry Blond,183.0,Marvel Comics,-,good,77.0\\r\\n61,Bantam,Male,brown,-,Black,165.0,Marvel Comics,-,good,54.0\\r\\n62,Batgirl,Female,-,-,-,-99.0,DC Comics,-,good,-99.0\\r\\n63,Batgirl,Female,green,Human,Red,170.0,DC Comics,-,good,57.0\\r\\n64,Batgirl III,Female,-,-,-,-99.0,DC Comics,-,good,-99.0\\r\\n65,Batgirl IV,Female,green,Human,Black,165.0,DC Comics,-,good,52.0\\r\\n66,Batgirl V,Female,-,-,-,-99.0,DC Comics,-,good,-99.0\\r\\n67,Batgirl VI,Female,blue,-,Blond,168.0,DC Comics,-,good,61.0\\r\\n68,Batman,Male,blue,Human,black,188.0,DC Comics,-,good,95.0\\r\\n69,Batman,Male,blue,Human,Black,178.0,DC Comics,-,good,77.0\\r\\n70,Batman II,Male,blue,Human,Black,178.0,DC Comics,-,good,79.0\\r\\n71,Battlestar,Male,brown,-,Black,198.0,Marvel Comics,-,good,133.0\\r\\n72,Batwoman V,Female,green,Human,Red,178.0,DC Comics,-,good,-99.0\\r\\n73,Beak,Male,black,-,White,175.0,Marvel Comics,-,good,63.0\\r\\n74,Beast,Male,blue,Mutant,Blue,180.0,Marvel Comics,blue,good,181.0\\r\\n75,Beast Boy,Male,green,Human,Green,173.0,DC Comics,green,good,68.0\\r\\n76,Beetle,Male,-,-,-,-99.0,Marvel Comics,-,bad,-99.0\\r\\n77,Ben 10,Male,-,-,-,-99.0,DC Comics,-,good,-99.0\\r\\n78,Beta Ray Bill,Male,-,-,No Hair,201.0,Marvel Comics,-,good,216.0\\r\\n79,Beyonder,Male,-,God / Eternal,-,-99.0,Marvel Comics,-,good,-99.0\\r\\n80,Big Barda,Female,blue,New God,Black,188.0,DC Comics,-,bad,135.0\\r\\n81,Big Daddy,Male,-,-,-,-99.0,Icon Comics,-,good,-99.0\\r\\n82,Big Man,Male,blue,-,Brown,165.0,Marvel Comics,-,bad,71.0\\r\\n83,Bill Harken,Male,-,Alpha,-,-99.0,SyFy,-,good,-99.0\\r\\n84,Billy Kincaid,Male,-,-,-,-99.0,Image Comics,-,bad,-99.0\\r\\n85,Binary,Female,blue,-,Blond,180.0,Marvel Comics,-,good,54.0\\r\\n86,Bionic Woman,Female,blue,Cyborg,Black,-99.0,,-,good,-99.0\\r\\n87,Bird-Brain,-,-,-,-,-99.0,Marvel Comics,-,good,-99.0\\r\\n88,Bird-Man,Male,-,Human,-,-99.0,Marvel Comics,-,bad,-99.0\\r\\n89,Bird-Man II,Male,-,Human,-,-99.0,Marvel Comics,-,bad,-99.0\\r\\n90,Birdman,Male,-,God / Eternal,-,-99.0,Hanna-Barbera,-,good,-99.0\\r\\n91,Bishop,Male,brown,Mutant,No Hair,198.0,Marvel Comics,-,good,124.0\\r\\n92,Bizarro,Male,black,Bizarro,Black,191.0,DC Comics,white,neutral,155.0\\r\\n93,Black Abbott,Male,red,-,Black,-99.0,Marvel Comics,-,bad,-99.0\\r\\n94,Black Adam,Male,brown,-,Black,191.0,DC Comics,-,bad,113.0\\r\\n95,Black Bolt,Male,blue,Inhuman,Black,188.0,Marvel Comics,-,good,95.0\\r\\n96,Black Canary,Female,blue,Human,Blond,165.0,DC Comics,-,good,58.0\\r\\n97,Black Canary,Female,blue,Metahuman,Blond,170.0,DC Comics,-,good,59.0\\r\\n98,Black Cat,Female,green,Human,Blond,178.0,Marvel Comics,-,good,54.0\\r\\n99,Black Flash,Male,-,God / Eternal,-,-99.0,DC Comics,-,neutral,-99.0\\r\\n100,Black Goliath,Male,-,-,-,-99.0,Marvel Comics,-,good,-99.0\\r\\n101,Black Knight III,Male,brown,Human,Brown,183.0,Marvel Comics,-,good,86.0\\r\\n102,Black Lightning,Male,brown,-,No Hair,185.0,DC Comics,-,good,90.0\\r\\n103,Black Mamba,Female,green,-,Black,170.0,Marvel Comics,-,bad,52.0\\r\\n104,Black Manta,Male,black,Human,No Hair,188.0,DC Comics,-,bad,92.0\\r\\n105,Black Panther,Male,brown,Human,Black,183.0,Marvel Comics,-,good,90.0\\r\\n106,Black Widow,Female,green,Human,Auburn,170.0,Marvel Comics,-,good,59.0\\r\\n107,Black Widow II,Female,blue,-,Blond,170.0,Marvel Comics,-,good,61.0\\r\\n108,Blackout,Male,red,Demon,White,191.0,Marvel Comics,white,bad,104.0\\r\\n109,Blackwing,Male,blue,-,Black,185.0,Marvel Comics,-,bad,86.0\\r\\n110,Blackwulf,Male,red,Alien,White,188.0,Marvel Comics,-,-,88.0\\r\\n111,Blade,Male,brown,Vampire,Black,188.0,Marvel Comics,-,good,97.0\\r\\n112,Blaquesmith,-,black,-,No Hair,-99.0,Marvel Comics,-,good,-99.0\\r\\n113,Bling!,Female,-,-,-,168.0,Marvel Comics,-,good,68.0\\r\\n114,Blink,Female,green,Mutant,Magenta,165.0,Marvel Comics,pink,good,56.0\\r\\n115,Blizzard,Male,-,-,-,-99.0,Marvel Comics,-,bad,-99.0\\r\\n116,Blizzard,Male,-,-,Brown,-99.0,Marvel Comics,-,bad,-99.0\\r\\n117,Blizzard II,Male,brown,-,Brown,175.0,Marvel Comics,-,bad,77.0\\r\\n118,Blob,Male,brown,-,Brown,178.0,Marvel Comics,-,bad,230.0\\r\\n119,Bloodaxe,Female,blue,Human,Brown,218.0,Marvel Comics,-,bad,495.0\\r\\n120,Bloodhawk,Male,black,Mutant,No Hair,-99.0,Marvel Comics,-,good,-99.0\\r\\n121,Bloodwraith,Male,white,-,No Hair,30.5,Marvel Comics,-,bad,-99.0\\r\\n122,Blue Beetle,Male,blue,-,Brown,-99.0,DC Comics,-,good,-99.0\\r\\n123,Blue Beetle,Male,-,-,-,-99.0,DC Comics,-,good,-99.0\\r\\n124,Blue Beetle II,Male,blue,-,Brown,183.0,DC Comics,-,good,86.0\\r\\n125,Blue Beetle III,Male,brown,Human,Black,-99.0,DC Comics,-,good,-99.0\\r\\n126,Boba Fett,Male,brown,Human / Clone,Black,183.0,George Lucas,-,bad,-99.0\\r\\n127,Bolt,Male,-,-,-,-99.0,Marvel Comics,-,good,-99.0\\r\\n128,Bomb Queen,Female,-,-,-,-99.0,Image Comics,-,bad,-99.0\\r\\n129,Boom-Boom,Female,blue,Mutant,Blond,165.0,Marvel Comics,-,good,55.0\\r\\n130,Boomer,Female,-,-,-,-99.0,Marvel Comics,-,good,-99.0\\r\\n131,Booster Gold,Male,blue,Human,Blond,196.0,DC Comics,-,good,97.0\\r\\n132,Box,Male,-,-,-,-99.0,Marvel Comics,-,good,-99.0\\r\\n133,Box III,-,blue,-,Blond,193.0,Marvel Comics,-,good,110.0\\r\\n134,Box IV,-,brown,-,Brown / Black,-99.0,Marvel Comics,-,good,-99.0\\r\\n135,Brainiac,Male,green,Android,No Hair,198.0,DC Comics,green,bad,135.0\\r\\n136,Brainiac 5,Male,green,-,Blond,170.0,DC Comics,-,good,61.0\\r\\n137,Brother Voodoo,Male,brown,Human,Brown / White,183.0,Marvel Comics,-,good,99.0\\r\\n138,Brundlefly,Male,-,Mutant,-,193.0,,-,-,-99.0\\r\\n139,Buffy,Female,green,Human,Blond,157.0,Dark Horse Comics,-,good,52.0\\r\\n140,Bullseye,Male,blue,Human,blond,183.0,Marvel Comics,-,bad,90.0\\r\\n141,Bumblebee,Female,brown,Human,Black,170.0,DC Comics,-,good,59.0\\r\\n142,Bumbleboy,Male,-,-,-,-99.0,Marvel Comics,-,good,-99.0\\r\\n143,Bushido,Male,-,Human,-,-99.0,DC Comics,-,good,-99.0\\r\\n144,Cable,Male,blue,Mutant,White,203.0,Marvel Comics,-,good,158.0\\r\\n145,Callisto,Female,blue,-,Black,175.0,Marvel Comics,-,bad,74.0\\r\\n146,Cameron Hicks,Male,-,Alpha,-,-99.0,SyFy,-,good,-99.0\\r\\n147,Cannonball,Male,blue,-,Blond,183.0,Marvel Comics,-,good,81.0\\r\\n148,Captain America,Male,blue,Human,blond,188.0,Marvel Comics,-,good,108.0\\r\\n149,Captain Atom,Male,blue,Human / Radiation,Silver,193.0,DC Comics,silver,good,90.0\\r\\n150,Captain Britain,Male,blue,Human,Blond,198.0,Marvel Comics,-,good,116.0\\r\\n151,Captain Cold,Male,brown,Human,Brown,-99.0,DC Comics,-,neutral,-99.0\\r\\n152,Captain Epic,Male,blue,-,Brown,188.0,Team Epic TV,-,good,-99.0\\r\\n153,Captain Hindsight,Male,-,Human,Black,-99.0,South Park,-,good,-99.0\\r\\n154,Captain Mar-vell,Male,blue,-,Blond,188.0,Marvel Comics,-,good,108.0\\r\\n155,Captain Marvel,Female,blue,Human-Kree,Blond,180.0,Marvel Comics,-,good,74.0\\r\\n156,Captain Marvel,Male,blue,Human,Black,193.0,DC Comics,-,good,101.0\\r\\n157,Captain Marvel II,Male,blue,Human,Black,175.0,DC Comics,-,good,74.0\\r\\n158,Captain Midnight,Male,-,Human,-,-99.0,Dark Horse Comics,-,good,-99.0\\r\\n159,Captain Planet,Male,red,God / Eternal,Green,-99.0,Marvel Comics,-,good,-99.0\\r\\n160,Captain Universe,-,-,God / Eternal,-,-99.0,Marvel Comics,-,good,-99.0\\r\\n161,Carnage,Male,green,Symbiote,Red,185.0,Marvel Comics,-,bad,86.0\\r\\n162,Cat,Female,blue,-,Blond,173.0,Marvel Comics,-,good,61.0\\r\\n163,Cat II,Female,-,-,-,-99.0,Marvel Comics,-,good,-99.0\\r\\n164,Catwoman,Female,green,Human,Black,175.0,DC Comics,-,good,61.0\\r\\n165,Cecilia Reyes,-,brown,-,Brown,170.0,Marvel Comics,-,good,62.0\\r\\n166,Century,Male,white,Alien,White,201.0,Marvel Comics,grey,good,97.0\\r\\n167,Cerebra,Female,-,Mutant,-,-99.0,Marvel Comics,-,good,-99.0\\r\\n168,Chamber,Male,brown,Mutant,Brown,175.0,Marvel Comics,-,good,63.0\\r\\n169,Chameleon,Male,-,-,-,-99.0,DC Comics,-,bad,-99.0\\r\\n170,Changeling,Male,brown,-,Black,180.0,Marvel Comics,-,bad,81.0\\r\\n171,Cheetah,Female,green,Human,Blond,163.0,DC Comics,-,bad,50.0\\r\\n172,Cheetah II,Female,green,Human,Brown,170.0,DC Comics,-,bad,55.0\\r\\n173,Cheetah III,Female,brown,Human,Brown,175.0,DC Comics,-,bad,54.0\\r\\n174,Chromos,Male,brown,-,Red / Grey,185.0,Team Epic TV,-,bad,86.0\\r\\n175,Chuck Norris,Male,-,-,-,178.0,,-,good,-99.0\\r\\n176,Citizen Steel,Male,green,Human,Red,183.0,DC Comics,-,good,170.0\\r\\n177,Claire Bennet,Female,blue,-,Blond,-99.0,NBC - Heroes,-,good,-99.0\\r\\n178,Clea,-,-,-,White,-99.0,Marvel Comics,-,good,-99.0\\r\\n179,Cloak,Male,brown,-,black,226.0,Marvel Comics,-,good,70.0\\r\\n180,Clock King,Male,blue,Human,Black,178.0,DC Comics,-,bad,78.0\\r\\n181,Cogliostro,Male,-,-,-,-99.0,Image Comics,-,bad,-99.0\\r\\n182,Colin Wagner,Male,grey,-,Brown,-99.0,HarperCollins,-,good,-99.0\\r\\n183,Colossal Boy,Male,-,-,-,-99.0,DC Comics,-,good,-99.0\\r\\n184,Colossus,Male,silver,Mutant,Black,226.0,Marvel Comics,-,good,225.0\\r\\n185,Copycat,Female,red,Mutant,White,183.0,Marvel Comics,blue,neutral,67.0\\r\\n186,Corsair,Male,brown,-,Brown,191.0,Marvel Comics,-,good,79.0\\r\\n187,Cottonmouth,Male,brown,Human,Black,183.0,Marvel Comics,-,bad,99.0\\r\\n188,Crimson Crusader,Male,blue,-,Strawberry Blond,-99.0,Marvel Comics,-,good,-99.0\\r\\n189,Crimson Dynamo,Male,brown,-,No Hair,180.0,Marvel Comics,-,good,104.0\\r\\n190,Crystal,Female,green,Inhuman,Red,168.0,Marvel Comics,-,good,50.0\\r\\n191,Curse,Male,-,-,-,-99.0,Image Comics,-,bad,-99.0\\r\\n192,Cy-Gor,Male,-,-,-,-99.0,Image Comics,-,bad,-99.0\\r\\n193,Cyborg,Male,brown,Cyborg,Black,198.0,DC Comics,-,good,173.0\\r\\n194,Cyborg Superman,Male,blue,Cyborg,Black,-99.0,DC Comics,-,bad,-99.0\\r\\n195,Cyclops,Male,brown,Mutant,Brown,191.0,Marvel Comics,-,good,88.0\\r\\n196,Cypher,-,blue,-,Blond,175.0,Marvel Comics,-,good,68.0\\r\\n197,Dagger,Female,blue,-,Blond,165.0,Marvel Comics,-,good,52.0\\r\\n198,Danny Cooper,Male,brown,-,Blond,-99.0,HarperCollins,-,good,-99.0\\r\\n199,Daphne Powell,Female,-,-,-,-99.0,ABC Studios,-,good,-99.0\\r\\n200,Daredevil,Male,blue,Human,Red,183.0,Marvel Comics,-,good,90.0\\r\\n201,Darkhawk,Male,brown,Human,Brown,185.0,Marvel Comics,-,good,81.0\\r\\n202,Darkman,Male,-,-,-,-99.0,Universal Studios,-,good,-99.0\\r\\n203,Darkseid,Male,red,New God,No Hair,267.0,DC Comics,grey,bad,817.0\\r\\n204,Darkside,-,-,-,-,-99.0,,-,bad,-99.0\\r\\n205,Darkstar,Female,brown,Mutant,Blond,168.0,Marvel Comics,-,good,56.0\\r\\n206,Darth Maul,Male,yellow / red,Dathomirian Zabrak,-,170.0,George Lucas,red / black,bad,-99.0\\r\\n207,Darth Vader,Male,yellow,Cyborg,No Hair,198.0,George Lucas,-,bad,135.0\\r\\n208,Dash,Male,blue,Human,Blond,122.0,Dark Horse Comics,-,good,27.0\\r\\n209,Data,Male,yellow,Android,Brown,-99.0,Star Trek,-,good,-99.0\\r\\n210,Dazzler,Female,blue,Mutant,Blond,173.0,Marvel Comics,-,good,52.0\\r\\n211,Deadman,Male,blue,Human,Black,183.0,DC Comics,-,good,90.0\\r\\n212,Deadpool,Male,brown,Mutant,No Hair,188.0,Marvel Comics,-,neutral,95.0\\r\\n213,Deadshot,Male,brown,Human,Brown,185.0,DC Comics,-,bad,91.0\\r\\n214,Deathlok,Male,brown,Cyborg,Grey,193.0,Marvel Comics,-,good,178.0\\r\\n215,Deathstroke,Male,blue,Human,White,193.0,DC Comics,-,neutral,101.0\\r\\n216,Demogoblin,Male,red,Demon,No Hair,185.0,Marvel Comics,-,bad,95.0\\r\\n217,Destroyer,Male,-,-,-,188.0,Marvel Comics,-,bad,383.0\\r\\n218,Diamondback,Male,brown,Human,Black,193.0,Marvel Comics,-,bad,90.0\\r\\n219,DL Hawkins,Male,-,-,-,-99.0,NBC - Heroes,-,good,-99.0\\r\\n220,Doc Samson,Male,blue,Human / Radiation,Green,198.0,Marvel Comics,-,good,171.0\\r\\n221,Doctor Doom,Male,brown,Human,Brown,201.0,Marvel Comics,-,bad,187.0\\r\\n222,Doctor Doom II,Male,brown,-,Brown,201.0,Marvel Comics,-,bad,132.0\\r\\n223,Doctor Fate,Male,blue,Human,Blond,188.0,DC Comics,-,good,89.0\\r\\n224,Doctor Octopus,Male,brown,Human,Brown,175.0,Marvel Comics,-,bad,110.0\\r\\n225,Doctor Strange,Male,grey,Human,Black,188.0,Marvel Comics,-,good,81.0\\r\\n226,Domino,Female,blue,Human,Black,173.0,Marvel Comics,white,good,54.0\\r\\n227,Donatello,Male,green,Mutant,No Hair,-99.0,IDW Publishing,green,good,-99.0\\r\\n228,Donna Troy,Female,blue,Amazon,Black,175.0,DC Comics,-,good,63.0\\r\\n229,Doomsday,Male,red,Alien,White,244.0,DC Comics,-,bad,412.0\\r\\n230,Doppelganger,Male,white,-,No Hair,196.0,Marvel Comics,-,bad,104.0\\r\\n231,Dormammu,Male,yellow,-,No Hair,185.0,Marvel Comics,-,bad,-99.0\\r\\n232,Dr Manhattan,Male,white,Human / Cosmic,No Hair,-99.0,DC Comics,blue,good,-99.0\\r\\n233,Drax the Destroyer,Male,red,Human / Altered,No Hair,193.0,Marvel Comics,green,good,306.0\\r\\n234,Ego,-,-,-,-,-99.0,Marvel Comics,-,bad,-99.0\\r\\n235,Elastigirl,Female,brown,Human,Brown,168.0,Dark Horse Comics,-,good,56.0\\r\\n236,Electro,Male,blue,Human,Auburn,180.0,Marvel Comics,-,bad,74.0\\r\\n237,Elektra,Female,blue,Human,Black,175.0,Marvel Comics,-,good,59.0\\r\\n238,Elle Bishop,Female,blue,-,Blond,-99.0,NBC - Heroes,-,bad,-99.0\\r\\n239,Elongated Man,Male,blue,-,Red,185.0,DC Comics,-,good,80.0\\r\\n240,Emma Frost,Female,blue,-,Blond,178.0,Marvel Comics,-,good,65.0\\r\\n241,Enchantress,Female,blue,Human,Blond,168.0,DC Comics,-,good,57.0\\r\\n242,Energy,Female,-,-,-,-99.0,HarperCollins,-,good,-99.0\\r\\n243,ERG-1,Male,-,-,-,-99.0,DC Comics,-,good,-99.0\\r\\n244,Ethan Hunt,Male,brown,Human,Brown,168.0,,-,good,-99.0\\r\\n245,Etrigan,Male,red,Demon,No Hair,193.0,DC Comics,yellow,neutral,203.0\\r\\n246,Evil Deadpool,Male,white,Mutant,Red,188.0,Marvel Comics,-,bad,95.0\\r\\n247,Evilhawk,Male,red,Alien,Black,191.0,Marvel Comics,green,bad,106.0\\r\\n248,Exodus,Male,blue,Mutant,Black,183.0,Marvel Comics,red,bad,88.0\\r\\n249,Fabian Cortez,-,blue,-,Brown,196.0,Marvel Comics,-,bad,96.0\\r\\n250,Falcon,Male,brown,Human,Black,188.0,Marvel Comics,-,good,108.0\\r\\n251,Fallen One II,Male,black,-,Blue,-99.0,Marvel Comics,-,bad,-99.0\\r\\n252,Faora,Female,-,Kryptonian,-,-99.0,DC Comics,-,bad,-99.0\\r\\n253,Feral,-,yellow (without irises),-,Orange / White,175.0,Marvel Comics,-,good,50.0\\r\\n254,Fighting Spirit,Female,-,-,Red,-99.0,DC Comics,-,good,-99.0\\r\\n255,Fin Fang Foom,Male,red,Kakarantharaian,No Hair,975.0,Marvel Comics,green,good,18.0\\r\\n256,Firebird,Female,brown,-,Black,165.0,Marvel Comics,-,good,56.0\\r\\n257,Firelord,-,white,-,Yellow,193.0,Marvel Comics,-,good,99.0\\r\\n258,Firestar,Female,green,Mutant,Red,173.0,Marvel Comics,-,good,56.0\\r\\n259,Firestorm,Male,brown,-,Black,-99.0,DC Comics,-,good,-99.0\\r\\n260,Firestorm,Male,blue,Human,Auburn,188.0,DC Comics,-,good,91.0\\r\\n261,Fixer,-,red,-,No Hair,-99.0,Marvel Comics,-,bad,-99.0\\r\\n262,Flash,Male,blue,Human,Brown / White,180.0,DC Comics,-,good,81.0\\r\\n263,Flash Gordon,Male,-,-,-,-99.0,,-,good,-99.0\\r\\n264,Flash II,Male,blue,Human,Blond,183.0,DC Comics,-,good,88.0\\r\\n265,Flash III,Male,-,Human,-,183.0,DC Comics,-,good,86.0\\r\\n266,Flash IV,Male,yellow,Human,Auburn,157.0,DC Comics,-,good,52.0\\r\\n267,Forge,-,brown,-,Black,183.0,Marvel Comics,-,good,81.0\\r\\n268,Franklin Richards,Male,blue,Mutant,Blond,142.0,Marvel Comics,-,good,45.0\\r\\n269,Franklin Storm,-,blue,-,Grey,188.0,Marvel Comics,-,good,92.0\\r\\n270,Frenzy,Female,brown,-,Black,211.0,Marvel Comics,-,bad,104.0\\r\\n271,Frigga,Female,blue,-,White,180.0,Marvel Comics,-,good,167.0\\r\\n272,Galactus,Male,black,Cosmic Entity,Black,876.0,Marvel Comics,-,neutral,16.0\\r\\n273,Gambit,Male,red,Mutant,Brown,185.0,Marvel Comics,-,good,81.0\\r\\n274,Gamora,Female,yellow,Zen-Whoberian,Black,183.0,Marvel Comics,green,good,77.0\\r\\n275,Garbage Man,Male,-,Mutant,-,-99.0,DC Comics,-,good,-99.0\\r\\n276,Gary Bell,Male,-,Alpha,-,-99.0,SyFy,-,good,-99.0\\r\\n277,General Zod,Male,black,Kryptonian,Black,-99.0,DC Comics,-,bad,-99.0\\r\\n278,Genesis,Male,blue,-,Blond,185.0,Marvel Comics,-,good,86.0\\r\\n279,Ghost Rider,Male,red,Demon,No Hair,188.0,Marvel Comics,-,good,99.0\\r\\n280,Ghost Rider II,-,-,-,-,-99.0,Marvel Comics,-,good,-99.0\\r\\n281,Giant-Man,Male,-,Human,-,-99.0,Marvel Comics,-,good,-99.0\\r\\n282,Giant-Man II,Male,-,-,-,-99.0,Marvel Comics,-,good,-99.0\\r\\n283,Giganta,Female,green,-,Red,62.5,DC Comics,-,bad,630.0\\r\\n284,Gladiator,Male,blue,Strontian,Blue,198.0,Marvel Comics,purple,neutral,268.0\\r\\n285,Goblin Queen,Female,green,-,Red,168.0,Marvel Comics,-,bad,50.0\\r\\n286,Godzilla,-,-,Kaiju,-,108.0,,grey,bad,\\r\\n287,Gog,Male,-,-,-,-99.0,DC Comics,-,bad,-99.0\\r\\n288,Goku,Male,-,Saiyan,-,175.0,Shueisha,-,good,62.0\\r\\n289,Goliath,Male,-,-,-,-99.0,Marvel Comics,-,good,-99.0\\r\\n290,Goliath,Male,-,Human,-,-99.0,Marvel Comics,-,good,-99.0\\r\\n291,Goliath,Male,-,Human,-,-99.0,Marvel Comics,-,good,-99.0\\r\\n292,Goliath IV,Male,brown,-,Black,183.0,Marvel Comics,-,good,90.0\\r\\n293,Gorilla Grodd,Male,yellow,Gorilla,Black,198.0,DC Comics,-,bad,270.0\\r\\n294,Granny Goodness,Female,blue,-,White,178.0,DC Comics,-,bad,115.0\\r\\n295,Gravity,Male,blue,Human,Brown,178.0,Marvel Comics,-,good,79.0\\r\\n296,Greedo,Male,purple,Rodian,-,170.0,George Lucas,green,bad,-99.0\\r\\n297,Green Arrow,Male,green,Human,Blond,188.0,DC Comics,-,good,88.0\\r\\n298,Green Goblin,Male,blue,Human,Auburn,180.0,Marvel Comics,-,bad,83.0\\r\\n299,Green Goblin II,Male,blue,-,Auburn,178.0,Marvel Comics,-,bad,77.0\\r\\n300,Green Goblin III,Male,-,-,-,183.0,Marvel Comics,-,good,88.0\\r\\n301,Green Goblin IV,Male,green,-,Brown,178.0,Marvel Comics,-,good,79.0\\r\\n302,Groot,Male,yellow,Flora Colossus,-,701.0,Marvel Comics,-,good,4.0\\r\\n303,Guardian,Male,brown,Human,Black,-99.0,Marvel Comics,-,good,-99.0\\r\\n304,Guy Gardner,Male,blue,Human-Vuldarian,Red,188.0,DC Comics,-,good,95.0\\r\\n305,Hal Jordan,Male,brown,Human,Brown,188.0,DC Comics,-,good,90.0\\r\\n306,Han Solo,Male,brown,Human,Brown,183.0,George Lucas,-,good,79.0\\r\\n307,Hancock,Male,brown,Human,Black,188.0,Sony Pictures,-,good,-99.0\\r\\n308,Harley Quinn,Female,blue,Human,Blond,170.0,DC Comics,-,bad,63.0\\r\\n309,Harry Potter,Male,green,Human,Black,-99.0,J. K. Rowling,-,good,-99.0\\r\\n310,Havok,Male,blue,Mutant,Blond,183.0,Marvel Comics,-,good,79.0\\r\\n311,Hawk,Male,red,-,Brown,185.0,DC Comics,-,good,89.0\\r\\n312,Hawkeye,Male,blue,Human,Blond,191.0,Marvel Comics,-,good,104.0\\r\\n313,Hawkeye II,Female,blue,Human,Black,165.0,Marvel Comics,-,good,57.0\\r\\n314,Hawkgirl,Female,green,-,Red,175.0,DC Comics,-,good,61.0\\r\\n315,Hawkman,Male,blue,-,Brown,185.0,DC Comics,-,good,88.0\\r\\n316,Hawkwoman,Female,green,-,Red,175.0,DC Comics,-,good,54.0\\r\\n317,Hawkwoman II,Female,-,-,-,-99.0,DC Comics,-,good,-99.0\\r\\n318,Hawkwoman III,Female,blue,-,Red,170.0,DC Comics,-,good,65.0\\r\\n319,Heat Wave,Male,blue,Human,No Hair,180.0,DC Comics,-,bad,81.0\\r\\n320,Hela,Female,green,Asgardian,Black,213.0,Marvel Comics,-,bad,225.0\\r\\n321,Hellboy,Male,gold,Demon,Black,259.0,Dark Horse Comics,-,good,158.0\\r\\n322,Hellcat,Female,blue,Human,Red,173.0,Marvel Comics,-,good,61.0\\r\\n323,Hellstorm,Male,red,-,Red,185.0,Marvel Comics,-,good,81.0\\r\\n324,Hercules,Male,blue,Demi-God,Brown,196.0,Marvel Comics,-,good,146.0\\r\\n325,Hiro Nakamura,Male,-,-,-,-99.0,NBC - Heroes,-,good,-99.0\\r\\n326,Hit-Girl,Female,-,Human,-,-99.0,Icon Comics,-,good,-99.0\\r\\n327,Hobgoblin,Male,blue,-,Grey,180.0,Marvel Comics,-,bad,83.0\\r\\n328,Hollow,Female,blue,-,Red,170.0,Marvel Comics,-,good,-99.0\\r\\n329,Hope Summers,Female,green,-,Red,168.0,Marvel Comics,-,good,48.0\\r\\n330,Howard the Duck,Male,brown,-,Yellow,79.0,Marvel Comics,-,good,18.0\\r\\n331,Hulk,Male,green,Human / Radiation,Green,244.0,Marvel Comics,green,good,630.0\\r\\n332,Human Torch,Male,blue,Human / Radiation,Blond,178.0,Marvel Comics,-,good,77.0\\r\\n333,Huntress,Female,blue,-,Black,180.0,DC Comics,-,good,59.0\\r\\n334,Husk,Female,blue,Mutant,Blond,170.0,Marvel Comics,-,good,58.0\\r\\n335,Hybrid,Male,brown,Symbiote,Black,175.0,Marvel Comics,-,good,77.0\\r\\n336,Hydro-Man,Male,brown,-,Brown,188.0,Marvel Comics,-,bad,119.0\\r\\n337,Hyperion,Male,blue,Eternal,Red,183.0,Marvel Comics,-,good,207.0\\r\\n338,Iceman,Male,brown,Mutant,Brown,173.0,Marvel Comics,-,good,65.0\\r\\n339,Impulse,Male,yellow,Human,Auburn,170.0,DC Comics,-,good,65.0\\r\\n340,Indiana Jones,Male,-,Human,-,183.0,George Lucas,-,good,79.0\\r\\n341,Indigo,Female,-,Alien,Purple,-99.0,DC Comics,-,neutral,-99.0\\r\\n342,Ink,Male,blue,Mutant,No Hair,180.0,Marvel Comics,-,good,81.0\\r\\n343,Invisible Woman,Female,blue,Human / Radiation,Blond,168.0,Marvel Comics,-,good,54.0\\r\\n344,Iron Fist,Male,blue,Human,Blond,180.0,Marvel Comics,-,good,79.0\\r\\n345,Iron Man,Male,blue,Human,Black,198.0,Marvel Comics,-,good,191.0\\r\\n346,Iron Monger,Male,blue,-,No Hair,-99.0,Marvel Comics,-,bad,2.0\\r\\n347,Isis,Female,-,-,-,-99.0,DC Comics,-,good,-99.0\\r\\n348,Jack Bauer,Male,-,-,-,-99.0,,-,good,-99.0\\r\\n349,Jack of Hearts,Male,blue / white,Human,Brown,155.0,Marvel Comics,-,good,79.0\\r\\n350,Jack-Jack,Male,blue,Human,Brown,71.0,Dark Horse Comics,-,good,14.0\\r\\n351,James Bond,Male,blue,Human,Blond,183.0,Titan Books,-,good,-99.0\\r\\n352,James T. Kirk,Male,hazel,Human,Brown,178.0,Star Trek,-,good,77.0\\r\\n353,Jar Jar Binks,Male,yellow,Gungan,-,193.0,George Lucas,orange / white,good,-99.0\\r\\n354,Jason Bourne,Male,-,Human,-,-99.0,,-,good,-99.0\\r\\n355,Jean Grey,Female,green,Mutant,Red,168.0,Marvel Comics,-,good,52.0\\r\\n356,Jean-Luc Picard,Male,-,Human,-,-99.0,Star Trek,-,good,-99.0\\r\\n357,Jennifer Kale,Female,blue,-,Blond,168.0,Marvel Comics,-,good,55.0\\r\\n358,Jesse Quick,Female,-,Human,-,-99.0,DC Comics,-,good,-99.0\\r\\n359,Jessica Cruz,Female,green,Human,Brown,-99.0,DC Comics,-,good,-99.0\\r\\n360,Jessica Jones,Female,brown,Human,Brown,170.0,Marvel Comics,-,good,56.0\\r\\n361,Jessica Sanders,Female,-,-,-,-99.0,NBC - Heroes,-,good,-99.0\\r\\n362,Jigsaw,Male,blue,-,Black,188.0,Marvel Comics,-,bad,113.0\\r\\n363,Jim Powell,Male,-,-,-,-99.0,ABC Studios,-,good,-99.0\\r\\n364,JJ Powell,Male,-,-,-,-99.0,ABC Studios,-,good,-99.0\\r\\n365,Johann Krauss,Male,-,-,-,-99.0,Dark Horse Comics,-,good,-99.0\\r\\n366,John Constantine,Male,blue,Human,Blond,183.0,DC Comics,-,good,-99.0\\r\\n367,John Stewart,Male,green,Human,Black,185.0,DC Comics,-,good,90.0\\r\\n368,John Wraith,Male,brown,-,Black,183.0,Marvel Comics,-,good,88.0\\r\\n369,Joker,Male,green,Human,Green,196.0,DC Comics,white,bad,86.0\\r\\n370,Jolt,Female,blue,-,Black,165.0,Marvel Comics,-,good,49.0\\r\\n371,Jubilee,Female,red,Mutant,Black,165.0,Marvel Comics,-,good,52.0\\r\\n372,Judge Dredd,Male,-,Human,-,188.0,Rebellion,-,good,-99.0\\r\\n373,Juggernaut,Male,blue,Human,Red,287.0,Marvel Comics,-,neutral,855.0\\r\\n374,Junkpile,Male,-,Mutant,-,-99.0,Marvel Comics,-,bad,-99.0\\r\\n375,Justice,Male,hazel,Human,Brown,178.0,Marvel Comics,-,good,81.0\\r\\n376,Jyn Erso,Female,green,Human,Brown,-99.0,George Lucas,-,good,-99.0\\r\\n377,K-2SO,Male,white,Android,No Hair,213.0,George Lucas,gray,good,-99.0\\r\\n378,Kang,Male,brown,-,Brown,191.0,Marvel Comics,-,bad,104.0\\r\\n379,Karate Kid,Male,brown,Human,Brown,173.0,DC Comics,-,good,72.0\\r\\n380,Kathryn Janeway,Female,-,Human,-,-99.0,Star Trek,-,good,-99.0\\r\\n381,Katniss Everdeen,Female,-,Human,-,-99.0,,-,good,-99.0\\r\\n382,Kevin 11,Male,-,Human,Black,-99.0,DC Comics,-,good,-99.0\\r\\n383,Kick-Ass,Male,blue,Human,Blond,-99.0,Icon Comics,-,good,-99.0\\r\\n384,Kid Flash,Male,green,Human,Red,-99.0,DC Comics,-,good,-99.0\\r\\n385,Kid Flash II,Male,-,-,-,-99.0,DC Comics,-,good,-99.0\\r\\n386,Killer Croc,Male,red,Metahuman,No Hair,244.0,DC Comics,green,bad,356.0\\r\\n387,Killer Frost,Female,blue,Human,Blond,-99.0,DC Comics,blue,bad,-99.0\\r\\n388,Kilowog,Male,red,Bolovaxian,No Hair,234.0,DC Comics,pink,good,324.0\\r\\n389,King Kong,Male,yellow,Animal,Black,30.5,,-,good,\\r\\n390,King Shark,Male,black,Animal,No Hair,-99.0,DC Comics,-,bad,-99.0\\r\\n391,Kingpin,Male,blue,Human,No Hair,201.0,Marvel Comics,-,bad,203.0\\r\\n392,Klaw,Male,red,Human,No Hair,188.0,Marvel Comics,red,bad,97.0\\r\\n393,Kool-Aid Man,Male,black,-,No Hair,-99.0,,red,good,-99.0\\r\\n394,Kraven II,Male,brown,Human,Black,191.0,Marvel Comics,-,bad,99.0\\r\\n395,Kraven the Hunter,Male,brown,Human,Black,183.0,Marvel Comics,-,bad,106.0\\r\\n396,Krypto,Male,blue,Kryptonian,White,64.0,DC Comics,-,good,18.0\\r\\n397,Kyle Rayner,Male,green,Human,Black,180.0,DC Comics,-,good,79.0\\r\\n398,Kylo Ren,Male,-,Human,-,-99.0,George Lucas,-,bad,-99.0\\r\\n399,Lady Bullseye,Female,-,-,Black,-99.0,Marvel Comics,-,bad,-99.0\\r\\n400,Lady Deathstrike,Female,brown,Cyborg,Black,175.0,Marvel Comics,-,bad,58.0\\r\\n401,Leader,Male,green,-,No Hair,178.0,Marvel Comics,-,bad,63.0\\r\\n402,Leech,Male,-,-,-,-99.0,Marvel Comics,-,good,-99.0\\r\\n403,Legion,Male,green / blue,Mutant,Black,175.0,Marvel Comics,-,good,59.0\\r\\n404,Leonardo,Male,blue,Mutant,No Hair,-99.0,IDW Publishing,green,good,-99.0\\r\\n405,Lex Luthor,Male,green,Human,No Hair,188.0,DC Comics,-,bad,95.0\\r\\n406,Light Lass,Female,blue,-,Red,165.0,DC Comics,-,good,54.0\\r\\n407,Lightning Lad,Male,blue,-,Red,155.0,DC Comics,-,good,65.0\\r\\n408,Lightning Lord,Male,blue,-,Red,191.0,DC Comics,-,bad,95.0\\r\\n409,Living Brain,-,yellow,-,-,198.0,Marvel Comics,-,bad,360.0\\r\\n410,Living Tribunal,-,blue,Cosmic Entity,No Hair,-99.0,Marvel Comics,gold,neutral,-99.0\\r\\n411,Liz Sherman,Female,-,-,-,-99.0,Dark Horse Comics,-,good,-99.0\\r\\n412,Lizard,Male,red,Human,No Hair,203.0,Marvel Comics,-,bad,230.0\\r\\n413,Lobo,Male,red,Czarnian,Black,229.0,DC Comics,blue-white,neutral,288.0\\r\\n414,Loki,Male,green,Asgardian,Black,193.0,Marvel Comics,-,bad,236.0\\r\\n415,Longshot,Male,blue,Human,Blond,188.0,Marvel Comics,-,good,36.0\\r\\n416,Luke Cage,Male,brown,Human,Black,198.0,Marvel Comics,-,good,191.0\\r\\n417,Luke Campbell,Male,-,-,-,-99.0,NBC - Heroes,-,bad,-99.0\\r\\n418,Luke Skywalker,Male,blue,Human,Blond,168.0,George Lucas,-,good,77.0\\r\\n419,Luna,Female,-,Human,-,-99.0,Marvel Comics,-,good,-99.0\\r\\n420,Lyja,Female,green,-,Green,-99.0,Marvel Comics,-,good,-99.0\\r\\n421,Mach-IV,Male,brown,-,Brown,180.0,Marvel Comics,-,bad,79.0\\r\\n422,Machine Man,-,red,-,Black,183.0,Marvel Comics,-,good,383.0\\r\\n423,Magneto,Male,grey,Mutant,White,188.0,Marvel Comics,-,bad,86.0\\r\\n424,Magog,Male,blue,-,Blond,-99.0,DC Comics,-,good,-99.0\\r\\n425,Magus,Male,black,-,-,183.0,Marvel Comics,-,bad,-99.0\\r\\n426,Man of Miracles,-,blue,God / Eternal,Silver,-99.0,Image Comics,-,-,-99.0\\r\\n427,Man-Bat,Male,brown,Human,Brown,-99.0,DC Comics,-,neutral,-99.0\\r\\n428,Man-Thing,Male,red,-,No Hair,213.0,Marvel Comics,green,good,225.0\\r\\n429,Man-Wolf,Male,brown,-,Auburn,188.0,Marvel Comics,-,good,90.0\\r\\n430,Mandarin,Male,blue,Human,White,188.0,Marvel Comics,-,bad,97.0\\r\\n431,Mantis,Female,green,Human-Kree,Black,168.0,Marvel Comics,green,good,52.0\\r\\n432,Martian Manhunter,Male,red,Martian,No Hair,201.0,DC Comics,green,good,135.0\\r\\n433,Marvel Girl,Female,green,-,Red,170.0,Marvel Comics,-,good,56.0\\r\\n434,Master Brood,Male,blue,-,Black,183.0,Team Epic TV,-,good,81.0\\r\\n435,Master Chief,Male,brown,Human / Altered,Brown,213.0,Microsoft,-,good,-99.0\\r\\n436,Match,Male,black,-,Black,-99.0,DC Comics,-,bad,-99.0\\r\\n437,Matt Parkman,Male,-,-,-,-99.0,NBC - Heroes,-,good,-99.0\\r\\n438,Maverick,Male,blue,-,Black,193.0,Marvel Comics,-,good,110.0\\r\\n439,Maxima,Female,brown,-,Red,180.0,DC Comics,-,bad,72.0\\r\\n440,Maya Herrera,Female,-,-,-,-99.0,NBC - Heroes,-,good,-99.0\\r\\n441,Medusa,Female,green,Inhuman,Red,180.0,Marvel Comics,-,good,59.0\\r\\n442,Meltdown,Female,blue,-,Blond,165.0,Marvel Comics,-,good,54.0\\r\\n443,Mephisto,Male,white,-,Black,198.0,Marvel Comics,-,bad,140.0\\r\\n444,Mera,Female,blue,Atlantean,Red,175.0,DC Comics,-,good,72.0\\r\\n445,Metallo,Male,green,Android,Brown,196.0,DC Comics,-,bad,90.0\\r\\n446,Metamorpho,Male,black,-,No Hair,185.0,DC Comics,-,good,90.0\\r\\n447,Meteorite,Female,-,-,-,-99.0,Marvel Comics,-,good,-99.0\\r\\n448,Metron,Male,blue,-,Black,185.0,DC Comics,-,good,86.0\\r\\n449,Micah Sanders,Male,brown,-,Black,-99.0,NBC - Heroes,-,good,-99.0\\r\\n450,Michelangelo,Male,blue,Mutant,-,-99.0,IDW Publishing,green,good,-99.0\\r\\n451,Micro Lad,Male,grey,-,Brown,183.0,DC Comics,-,good,77.0\\r\\n452,Mimic,Male,brown,-,Brown,188.0,Marvel Comics,-,good,101.0\\r\\n453,Minna Murray,Female,-,-,-,-99.0,Wildstorm,-,good,-99.0\\r\\n454,Misfit,Female,blue,-,Red,-99.0,DC Comics,-,good,-99.0\\r\\n455,Miss Martian,Female,red,-,Red,178.0,DC Comics,-,good,61.0\\r\\n456,Mister Fantastic,Male,brown,Human / Radiation,Brown,185.0,Marvel Comics,-,good,81.0\\r\\n457,Mister Freeze,Male,-,Human,-,183.0,DC Comics,-,bad,86.0\\r\\n458,Mister Knife,Male,blue,Spartoi,Brown,-99.0,Marvel Comics,-,bad,-99.0\\r\\n459,Mister Mxyzptlk,Male,-,God / Eternal,-,-99.0,DC Comics,-,bad,-99.0\\r\\n460,Mister Sinister,Male,red,Human / Altered,Black,196.0,Marvel Comics,-,bad,128.0\\r\\n461,Mister Zsasz,Male,blue,Human,Blond,-99.0,DC Comics,-,bad,-99.0\\r\\n462,Mockingbird,Female,blue,Human,Blond,175.0,Marvel Comics,-,good,61.0\\r\\n463,MODOK,Male,white,Cyborg,Brownn,366.0,Marvel Comics,-,bad,338.0\\r\\n464,Mogo,Male,-,Planet,-,-99.0,DC Comics,-,good,-99.0\\r\\n465,Mohinder Suresh,Male,-,-,-,-99.0,NBC - Heroes,-,good,-99.0\\r\\n466,Moloch,Male,-,-,-,-99.0,DC Comics,-,bad,-99.0\\r\\n467,Molten Man,Male,gold,-,Gold,196.0,Marvel Comics,-,bad,248.0\\r\\n468,Monarch,Male,blue,-,White,193.0,DC Comics,-,good,90.0\\r\\n469,Monica Dawson,Female,-,-,-,-99.0,NBC - Heroes,-,good,-99.0\\r\\n470,Moon Knight,Male,brown,Human,Brown,188.0,Marvel Comics,-,good,101.0\\r\\n471,Moonstone,Female,blue,-,Blond,180.0,Marvel Comics,-,bad,59.0\\r\\n472,Morlun,Male,white / red,-,Black,188.0,Marvel Comics,-,bad,79.0\\r\\n473,Morph,Male,white,-,No Hair,178.0,Marvel Comics,-,good,79.0\\r\\n474,Moses Magnum,Male,brown,-,Black,175.0,Marvel Comics,-,bad,72.0\\r\\n475,Mr Immortal,Male,blue,Mutant,Blond,188.0,Marvel Comics,-,good,70.0\\r\\n476,Mr Incredible,Male,blue,Human,Blond,201.0,Dark Horse Comics,-,good,158.0\\r\\n477,Ms Marvel II,Female,blue,-,Red,173.0,Marvel Comics,-,good,61.0\\r\\n478,Multiple Man,Male,blue,-,Brown,180.0,Marvel Comics,-,good,70.0\\r\\n479,Mysterio,Male,brown,Human,No Hair,180.0,Marvel Comics,-,bad,79.0\\r\\n480,Mystique,Female,yellow (without irises),Mutant,Red / Orange,178.0,Marvel Comics,blue,bad,54.0\\r\\n481,Namor,Male,-,-,-,-99.0,Marvel Comics,-,good,-99.0\\r\\n482,Namor,Male,grey,Atlantean,Black,188.0,Marvel Comics,-,good,125.0\\r\\n483,Namora,Female,blue,-,Blond,180.0,Marvel Comics,-,good,85.0\\r\\n484,Namorita,Female,blue,-,Blond,168.0,Marvel Comics,-,good,101.0\\r\\n485,Naruto Uzumaki,Male,-,Human,-,168.0,Shueisha,-,good,54.0\\r\\n486,Nathan Petrelli,Male,brown,-,-,-99.0,NBC - Heroes,-,good,-99.0\\r\\n487,Nebula,Female,blue,Luphomoid,No Hair,185.0,Marvel Comics,blue,bad,83.0\\r\\n488,Negasonic Teenage Warhead,Female,black,Mutant,Black,-99.0,Marvel Comics,-,good,-99.0\\r\\n489,Nick Fury,Male,brown,Human,Brown / White,185.0,Marvel Comics,-,good,99.0\\r\\n490,Nightcrawler,Male,yellow,-,Indigo,175.0,Marvel Comics,-,good,88.0\\r\\n491,Nightwing,Male,blue,Human,Black,178.0,DC Comics,-,good,79.0\\r\\n492,Niki Sanders,Female,blue,-,Blond,-99.0,NBC - Heroes,-,good,-99.0\\r\\n493,Nina Theroux,Female,-,Alpha,-,-99.0,SyFy,-,good,-99.0\\r\\n494,Nite Owl II,Male,-,-,-,-99.0,DC Comics,-,good,-99.0\\r\\n495,Northstar,Male,blue,-,Black,180.0,Marvel Comics,-,good,83.0\\r\\n496,Nova,Male,brown,Human,Brown,185.0,Marvel Comics,-,good,86.0\\r\\n497,Nova,Female,white,Human / Cosmic,Red,163.0,Marvel Comics,gold,good,59.0\\r\\n498,Odin,Male,blue,God / Eternal,White,206.0,Marvel Comics,-,good,293.0\\r\\n499,Offspring,Male,-,-,-,-99.0,DC Comics,-,good,-99.0\\r\\n500,Omega Red,Male,red,-,Blond,211.0,Marvel Comics,-,bad,191.0\\r\\n501,Omniscient,Male,brown,-,Black,180.0,Team Epic TV,-,good,65.0\\r\\n502,One Punch Man,Male,-,Human,No Hair,175.0,Shueisha,-,good,69.0\\r\\n503,One-Above-All,-,-,Cosmic Entity,-,-99.0,Marvel Comics,-,neutral,-99.0\\r\\n504,Onslaught,Male,red,Mutant,No Hair,305.0,Marvel Comics,-,bad,405.0\\r\\n505,Oracle,Female,blue,Human,Red,178.0,DC Comics,-,good,59.0\\r\\n506,Osiris,Male,brown,-,Brown,-99.0,DC Comics,-,good,-99.0\\r\\n507,Overtkill,Male,-,-,-,-99.0,Image Comics,-,bad,-99.0\\r\\n508,Ozymandias,Male,blue,Human,Blond,-99.0,DC Comics,-,bad,-99.0\\r\\n509,Parademon,-,-,Parademon,-,-99.0,DC Comics,-,bad,-99.0\\r\\n510,Paul Blart,Male,-,Human,-,170.0,Sony Pictures,-,good,117.0\\r\\n511,Penance,-,-,-,-,-99.0,Marvel Comics,-,good,-99.0\\r\\n512,Penance I,Female,-,-,-,-99.0,Marvel Comics,-,good,-99.0\\r\\n513,Penance II,Male,blue,-,Blond,183.0,Marvel Comics,-,good,89.0\\r\\n514,Penguin,Male,blue,Human,Black,157.0,DC Comics,-,bad,79.0\\r\\n515,Peter Petrelli,Male,-,-,-,-99.0,NBC - Heroes,-,good,-99.0\\r\\n516,Phantom,Male,-,-,-,-99.0,DC Comics,-,good,-99.0\\r\\n517,Phantom Girl,Female,blue,-,Black,168.0,DC Comics,-,good,54.0\\r\\n518,Phoenix,Female,green,Mutant,Red,168.0,Marvel Comics,-,good,52.0\\r\\n519,Plantman,Male,green,Mutant,Grey,183.0,Marvel Comics,-,bad,87.0\\r\\n520,Plastic Lad,Male,-,-,-,-99.0,DC Comics,-,good,-99.0\\r\\n521,Plastic Man,Male,blue,Human,Black,185.0,DC Comics,-,good,80.0\\r\\n522,Plastique,Female,blue,-,Red,168.0,DC Comics,-,bad,55.0\\r\\n523,Poison Ivy,Female,green,Human,Red,168.0,DC Comics,green,bad,50.0\\r\\n524,Polaris,Female,green,Mutant,Green,170.0,Marvel Comics,-,good,52.0\\r\\n525,Power Girl,Female,blue,Kryptonian,blond,180.0,DC Comics,-,good,81.0\\r\\n526,Power Man,Male,-,Mutant,-,-99.0,Marvel Comics,-,good,-99.0\\r\\n527,Predator,Male,-,Yautja,-,213.0,Dark Horse Comics,-,bad,234.0\\r\\n528,Professor X,Male,blue,Mutant,No Hair,183.0,Marvel Comics,-,good,86.0\\r\\n529,Professor Zoom,Male,blue,Human,Strawberry Blond,180.0,DC Comics,-,bad,81.0\\r\\n530,Proto-Goblin,Male,green,-,Blond,-99.0,Marvel Comics,-,bad,-99.0\\r\\n531,Psylocke,Female,blue,Mutant,Purple,180.0,Marvel Comics,-,good,70.0\\r\\n532,Punisher,Male,blue,Human,Black,183.0,Marvel Comics,-,good,90.0\\r\\n533,Purple Man,Male,purple,Human,Purple,180.0,Marvel Comics,purple,bad,74.0\\r\\n534,Pyro,Male,blue,-,Blond,178.0,Marvel Comics,-,bad,68.0\\r\\n535,Q,Male,-,God / Eternal,-,-99.0,Star Trek,-,-,-99.0\\r\\n536,Quantum,Male,-,-,-,-99.0,HarperCollins,-,good,-99.0\\r\\n537,Question,Male,blue,Human,Blond,188.0,DC Comics,-,good,83.0\\r\\n538,Quicksilver,Male,blue,Mutant,Silver,183.0,Marvel Comics,-,good,79.0\\r\\n539,Quill,Male,brown,-,Brown,163.0,Marvel Comics,-,good,56.0\\r\\n540,Ra's Al Ghul,Male,green,Human,Grey,193.0,DC Comics,-,bad,97.0\\r\\n541,Rachel Pirzad,Female,-,Alpha,-,-99.0,SyFy,-,good,-99.0\\r\\n542,Rambo,Male,brown,Human,Black,178.0,,-,good,83.0\\r\\n543,Raphael,Male,-,Mutant,No Hair,-99.0,IDW Publishing,green,good,-99.0\\r\\n544,Raven,Female,indigo,Human,Black,165.0,DC Comics,-,neutral,50.0\\r\\n545,Ray,Male,green,Human,Red,178.0,DC Comics,-,good,70.0\\r\\n546,Razor-Fist II,Male,blue,-,No Hair,191.0,Marvel Comics,-,bad,117.0\\r\\n547,Red Arrow,Male,green,Human,Red,180.0,DC Comics,-,good,83.0\\r\\n548,Red Hood,Male,blue,Human,Black,183.0,DC Comics,-,neutral,81.0\\r\\n549,Red Hulk,Male,yellow,Human / Radiation,Black,213.0,Marvel Comics,red,neutral,630.0\\r\\n550,Red Mist,Male,-,-,-,-99.0,Icon Comics,-,bad,-99.0\\r\\n551,Red Robin,Male,blue,Human,Black,165.0,DC Comics,-,good,56.0\\r\\n552,Red Skull,Male,blue,-,No Hair,188.0,Marvel Comics,-,bad,108.0\\r\\n553,Red Tornado,Male,green,Android,No Hair,185.0,DC Comics,-,good,146.0\\r\\n554,Redeemer II,Male,-,-,-,-99.0,Image Comics,-,bad,-99.0\\r\\n555,Redeemer III,Male,-,-,-,-99.0,Image Comics,-,bad,-99.0\\r\\n556,Renata Soliz,Female,-,-,-,-99.0,HarperCollins,-,good,-99.0\\r\\n557,Rey,Female,hazel,Human,Brown,297.0,George Lucas,-,good,-99.0\\r\\n558,Rhino,Male,brown,Human / Radiation,Brown,196.0,Marvel Comics,-,bad,320.0\\r\\n559,Rick Flag,Male,blue,-,Brown,185.0,DC Comics,-,bad,85.0\\r\\n560,Riddler,Male,-,-,-,-99.0,DC Comics,-,bad,-99.0\\r\\n561,Rip Hunter,Male,blue,Human,Blond,-99.0,DC Comics,-,good,-99.0\\r\\n562,Ripcord,Female,green,-,Black,180.0,Marvel Comics,-,good,72.0\\r\\n563,Robin,Male,blue,Human,Black,178.0,DC Comics,-,good,79.0\\r\\n564,Robin II,Male,blue,Human,Red,183.0,DC Comics,-,good,101.0\\r\\n565,Robin III,Male,blue,Human,Black,165.0,DC Comics,-,good,56.0\\r\\n566,Robin V,Male,blue,Human,Black,137.0,DC Comics,-,good,38.0\\r\\n567,Robin VI,Female,green,Human,Red,-99.0,DC Comics,-,neutral,-99.0\\r\\n568,Rocket Raccoon,Male,brown,Animal,Brown,122.0,Marvel Comics,-,good,25.0\\r\\n569,Rogue,Female,green,-,Brown / White,173.0,Marvel Comics,-,good,54.0\\r\\n570,Ronin,Male,blue,Human,Blond,191.0,Marvel Comics,-,good,104.0\\r\\n571,Rorschach,Male,blue,Human,Red,168.0,DC Comics,-,good,63.0\\r\\n572,Sabretooth,Male,amber,Mutant,Blond,198.0,Marvel Comics,-,bad,171.0\\r\\n573,Sage,Female,blue,-,Black,170.0,Marvel Comics,-,good,61.0\\r\\n574,Sandman,Male,brown,Human,Brown,185.0,Marvel Comics,-,neutral,203.0\\r\\n575,Sasquatch,Male,red,-,Orange,305.0,Marvel Comics,-,good,900.0\\r\\n576,Sauron,Male,-,Maiar,-,279.0,J. R. R. Tolkien,-,bad,-99.0\\r\\n577,Savage Dragon,Male,-,-,-,-99.0,Image Comics,-,good,-99.0\\r\\n578,Scarecrow,Male,blue,Human,Brown,183.0,DC Comics,-,bad,63.0\\r\\n579,Scarlet Spider,Male,blue,Human,Blond,178.0,Marvel Comics,-,good,74.0\\r\\n580,Scarlet Spider II,Male,brown,Clone,Brown,193.0,Marvel Comics,-,good,113.0\\r\\n581,Scarlet Witch,Female,blue,Mutant,Brown,170.0,Marvel Comics,-,bad,59.0\\r\\n582,Scorpia,Female,green,-,Red,-99.0,Marvel Comics,-,bad,-99.0\\r\\n583,Scorpion,Male,brown,Human,Brown,211.0,Marvel Comics,-,bad,310.0\\r\\n584,Sebastian Shaw,Male,-,Mutant,-,-99.0,Marvel Comics,-,bad,-99.0\\r\\n585,Sentry,Male,blue,Mutant,Blond,188.0,Marvel Comics,-,neutral,87.0\\r\\n586,Shadow King,-,red,-,-,185.0,Marvel Comics,-,good,149.0\\r\\n587,Shadow Lass,Female,black,Talokite,Black,173.0,DC Comics,blue,good,54.0\\r\\n588,Shadowcat,Female,hazel,Mutant,Brown,168.0,Marvel Comics,-,good,50.0\\r\\n589,Shang-Chi,Male,brown,Human,Black,178.0,Marvel Comics,-,good,79.0\\r\\n590,Shatterstar,Male,brown,-,Red,191.0,Marvel Comics,-,good,88.0\\r\\n591,She-Hulk,Female,green,Human,Green,201.0,Marvel Comics,-,good,315.0\\r\\n592,She-Thing,Female,blue,Human / Radiation,No Hair,183.0,Marvel Comics,-,good,153.0\\r\\n593,Shocker,Male,brown,Human,Brown,175.0,Marvel Comics,-,bad,79.0\\r\\n594,Shriek,Female,yellow / blue,-,Black,173.0,Marvel Comics,-,good,52.0\\r\\n595,Shrinking Violet,Female,-,-,-,-99.0,DC Comics,-,good,-99.0\\r\\n596,Sif,Female,blue,Asgardian,Black,188.0,Marvel Comics,-,good,191.0\\r\\n597,Silk,Female,brown,Human,Black,-99.0,Marvel Comics,-,good,-99.0\\r\\n598,Silk Spectre,Female,-,-,-,-99.0,DC Comics,-,good,-99.0\\r\\n599,Silk Spectre II,Female,-,-,-,-99.0,DC Comics,-,good,-99.0\\r\\n600,Silver Surfer,Male,white,Alien,No Hair,193.0,Marvel Comics,silver,good,101.0\\r\\n601,Silverclaw,Female,brown,-,Black,157.0,Marvel Comics,-,good,50.0\\r\\n602,Simon Baz,Male,bown,Human,Black,-99.0,DC Comics,-,good,-99.0\\r\\n603,Sinestro,Male,black,Korugaran,Black,201.0,DC Comics,red,neutral,92.0\\r\\n604,Siren,Female,blue,Atlantean,Purple,175.0,DC Comics,-,bad,72.0\\r\\n605,Siren II,Female,black,-,-,-99.0,DC Comics,-,bad,-99.0\\r\\n606,Siryn,Female,blue,-,Strawberry Blond,168.0,Marvel Comics,-,bad,52.0\\r\\n607,Skaar,Male,green,-,Black,198.0,Marvel Comics,-,good,180.0\\r\\n608,Snake-Eyes,Male,-,Animal,-,-99.0,Marvel Comics,-,bad,-99.0\\r\\n609,Snowbird,Female,white,-,Blond,178.0,Marvel Comics,-,good,49.0\\r\\n610,Sobek,Male,white,-,No Hair,-99.0,DC Comics,-,good,-99.0\\r\\n611,Solomon Grundy,Male,black,Zombie,White,279.0,DC Comics,-,bad,437.0\\r\\n612,Songbird,Female,green,-,Red / White,165.0,Marvel Comics,-,good,65.0\\r\\n613,Space Ghost,Male,-,Human,-,188.0,DC Comics,-,good,113.0\\r\\n614,Spawn,Male,brown,Demon,Black,211.0,Image Comics,-,good,405.0\\r\\n615,Spectre,Male,white,God / Eternal,No Hair,-99.0,DC Comics,white,good,-99.0\\r\\n616,Speedball,Male,-,-,-,-99.0,Marvel Comics,-,good,-99.0\\r\\n617,Speedy,Male,-,Human,-,-99.0,DC Comics,-,good,-99.0\\r\\n618,Speedy,Female,green,Human,Brown,-99.0,DC Comics,-,good,-99.0\\r\\n619,Spider-Carnage,Male,-,Symbiote,-,-99.0,Marvel Comics,-,bad,-99.0\\r\\n620,Spider-Girl,Female,blue,Human,Brown,170.0,Marvel Comics,-,good,54.0\\r\\n621,Spider-Gwen,Female,blue,Human,Blond,165.0,Marvel Comics,-,good,56.0\\r\\n622,Spider-Man,Male,hazel,Human,Brown,178.0,Marvel Comics,-,good,74.0\\r\\n623,Spider-Man,-,red,Human,Brown,178.0,Marvel Comics,-,good,77.0\\r\\n624,Spider-Man,Male,brown,Human,Black,157.0,Marvel Comics,-,good,56.0\\r\\n625,Spider-Woman,Female,green,Human,Black,178.0,Marvel Comics,-,good,59.0\\r\\n626,Spider-Woman II,Female,-,-,-,-99.0,Marvel Comics,-,good,-99.0\\r\\n627,Spider-Woman III,Female,brown,-,Brown,173.0,Marvel Comics,-,good,55.0\\r\\n628,Spider-Woman IV,Female,red,-,White,178.0,Marvel Comics,-,bad,58.0\\r\\n629,Spock,Male,brown,Human-Vulcan,Black,185.0,Star Trek,-,good,81.0\\r\\n630,Spyke,Male,brown,Mutant,Blond,183.0,Marvel Comics,-,good,83.0\\r\\n631,Stacy X,Female,-,-,-,-99.0,Marvel Comics,-,good,-99.0\\r\\n632,Star-Lord,Male,blue,Human-Spartoi,Blond,188.0,Marvel Comics,-,good,79.0\\r\\n633,Stardust,Male,-,-,-,-99.0,Marvel Comics,-,good,-99.0\\r\\n634,Starfire,Female,green,Tamaranean,Auburn,193.0,DC Comics,orange,good,71.0\\r\\n635,Stargirl,Female,blue,Human,Blond,165.0,DC Comics,-,good,62.0\\r\\n636,Static,Male,brown,Mutant,Black,170.0,DC Comics,-,good,63.0\\r\\n637,Steel,Male,brown,-,No Hair,201.0,DC Comics,-,good,131.0\\r\\n638,Stephanie Powell,Female,-,-,Blond,-99.0,ABC Studios,-,good,-99.0\\r\\n639,Steppenwolf,Male,red,New God,Black,183.0,DC Comics,white,bad,91.0\\r\\n640,Storm,Female,blue,Mutant,White,180.0,Marvel Comics,-,good,57.0\\r\\n641,Stormtrooper,Male,-,Human,-,183.0,George Lucas,-,bad,-99.0\\r\\n642,Sunspot,Male,brown,Mutant,black,173.0,Marvel Comics,-,good,77.0\\r\\n643,Superboy,Male,blue,-,Black,170.0,DC Comics,-,good,68.0\\r\\n644,Superboy-Prime,Male,blue,Kryptonian,Black / Blue,180.0,DC Comics,-,bad,77.0\\r\\n645,Supergirl,Female,blue,Kryptonian,Blond,165.0,DC Comics,-,good,54.0\\r\\n646,Superman,Male,blue,Kryptonian,Black,191.0,DC Comics,-,good,101.0\\r\\n647,Swamp Thing,Male,red,God / Eternal,No Hair,-99.0,DC Comics,green,bad,-99.0\\r\\n648,Swarm,Male,yellow,Mutant,No Hair,196.0,Marvel Comics,yellow,bad,47.0\\r\\n649,Sylar,Male,-,-,-,-99.0,NBC - Heroes,-,bad,-99.0\\r\\n650,Synch,Male,brown,-,Black,180.0,Marvel Comics,-,good,74.0\\r\\n651,T-1000,Male,-,Android,-,183.0,Dark Horse Comics,silver,bad,146.0\\r\\n652,T-800,Male,red,Cyborg,-,-99.0,Dark Horse Comics,-,bad,176.0\\r\\n653,T-850,Male,red,Cyborg,-,-99.0,Dark Horse Comics,-,bad,198.0\\r\\n654,T-X,Female,-,Cyborg,-,-99.0,Dark Horse Comics,silver,bad,149.0\\r\\n655,Taskmaster,Male,brown,Human,Brown,188.0,Marvel Comics,-,bad,99.0\\r\\n656,Tempest,Female,brown,-,Black,163.0,Marvel Comics,-,good,54.0\\r\\n657,Thanos,Male,red,Eternal,No Hair,201.0,Marvel Comics,purple,bad,443.0\\r\\n658,The Cape,Male,-,-,-,-99.0,,-,good,-99.0\\r\\n659,The Comedian,Male,brown,Human,Black,188.0,DC Comics,-,neutral,101.0\\r\\n660,Thing,Male,blue,Human / Radiation,No Hair,183.0,Marvel Comics,-,good,225.0\\r\\n661,Thor,Male,blue,Asgardian,Blond,198.0,Marvel Comics,-,good,288.0\\r\\n662,Thor Girl,Female,blue,Asgardian,Blond,175.0,Marvel Comics,-,good,143.0\\r\\n663,Thunderbird,Male,brown,-,Black,185.0,Marvel Comics,-,good,101.0\\r\\n664,Thunderbird II,Male,-,-,-,-99.0,Marvel Comics,-,good,-99.0\\r\\n665,Thunderbird III,Male,brown,-,Black,175.0,Marvel Comics,-,good,74.0\\r\\n666,Thunderstrike,Male,blue,-,Blond,198.0,Marvel Comics,-,good,288.0\\r\\n667,Thundra,Female,green,-,Red,218.0,Marvel Comics,-,good,158.0\\r\\n668,Tiger Shark,Male,grey,Human,No Hair,185.0,Marvel Comics,grey,bad,203.0\\r\\n669,Tigra,Female,green,-,Auburn,178.0,Marvel Comics,-,good,81.0\\r\\n670,Tinkerer,Male,brown,-,White,163.0,Marvel Comics,-,bad,54.0\\r\\n671,Titan,Male,-,-,-,-99.0,HarperCollins,-,good,-99.0\\r\\n672,Toad,Male,black,Mutant,Brown,175.0,Marvel Comics,green,neutral,76.0\\r\\n673,Toxin,Male,blue,Symbiote,Brown,188.0,Marvel Comics,-,good,97.0\\r\\n674,Toxin,Male,black,Symbiote,Blond,191.0,Marvel Comics,-,good,117.0\\r\\n675,Tracy Strauss,Female,-,-,-,-99.0,NBC - Heroes,-,good,-99.0\\r\\n676,Trickster,Male,blue,Human,Blond,183.0,DC Comics,-,-,81.0\\r\\n677,Trigon,Male,yellow,God / Eternal,Black,-99.0,DC Comics,red,bad,-99.0\\r\\n678,Triplicate Girl,Female,purple,-,Brown,168.0,DC Comics,-,good,59.0\\r\\n679,Triton,Male,green,Inhuman,No Hair,188.0,Marvel Comics,green,good,86.0\\r\\n680,Two-Face,Male,-,-,-,183.0,DC Comics,-,bad,82.0\\r\\n681,Ultragirl,Female,blue,-,Blond,168.0,Marvel Comics,-,good,105.0\\r\\n682,Ultron,Male,red,Android,-,206.0,Marvel Comics,silver,bad,331.0\\r\\n683,Utgard-Loki,Male,blue,Frost Giant,White,15.2,Marvel Comics,-,bad,58.0\\r\\n684,Vagabond,Female,blue,-,Strawberry Blond,168.0,Marvel Comics,-,good,54.0\\r\\n685,Valerie Hart,Female,hazel,-,Black,175.0,Team Epic TV,-,good,56.0\\r\\n686,Valkyrie,Female,blue,-,Blond,191.0,Marvel Comics,-,good,214.0\\r\\n687,Vanisher,Male,green,-,No Hair,165.0,Marvel Comics,-,bad,79.0\\r\\n688,Vegeta,Male,-,Saiyan,Black,168.0,Shueisha,-,bad,73.0\\r\\n689,Venom,Male,blue,Symbiote,Strawberry Blond,191.0,Marvel Comics,-,bad,117.0\\r\\n690,Venom II,Male,brown,-,Black,175.0,Marvel Comics,-,bad,50.0\\r\\n691,Venom III,Male,brown,Symbiote,Brown,229.0,Marvel Comics,-,bad,334.0\\r\\n692,Venompool,Male,-,Symbiote,-,226.0,Marvel Comics,-,-,-99.0\\r\\n693,Vertigo II,Female,blue,-,Silver,168.0,Marvel Comics,-,good,52.0\\r\\n694,Vibe,Male,brown,Human,Black,178.0,DC Comics,-,good,71.0\\r\\n695,Vindicator,Female,green,Human,Red,165.0,Marvel Comics,-,good,54.0\\r\\n696,Vindicator,Male,-,-,-,-99.0,Marvel Comics,-,good,-99.0\\r\\n697,Violator,Male,-,-,-,-99.0,Image Comics,-,bad,-99.0\\r\\n698,Violet Parr,Female,violet,Human,Black,137.0,Dark Horse Comics,-,good,41.0\\r\\n699,Vision,Male,gold,Android,No Hair,191.0,Marvel Comics,red,good,135.0\\r\\n700,Vision II,-,red,-,No Hair,191.0,Marvel Comics,-,good,135.0\\r\\n701,Vixen,Female,amber,Human,Black,175.0,DC Comics,-,good,63.0\\r\\n702,Vulcan,Male,black,-,Black,-99.0,Marvel Comics,-,good,-99.0\\r\\n703,Vulture,Male,brown,Human,No Hair,180.0,Marvel Comics,-,bad,79.0\\r\\n704,Walrus,Male,blue,Human,Black,183.0,Marvel Comics,-,bad,162.0\\r\\n705,War Machine,Male,brown,Human,Brown,185.0,Marvel Comics,-,good,95.0\\r\\n706,Warbird,Female,blue,-,Blond,180.0,Marvel Comics,-,good,54.0\\r\\n707,Warlock,Male,red,-,Blond,188.0,Marvel Comics,-,good,108.0\\r\\n708,Warp,Male,brown,-,Black,173.0,DC Comics,-,bad,67.0\\r\\n709,Warpath,Male,brown,Mutant,Black,218.0,Marvel Comics,-,good,158.0\\r\\n710,Wasp,Female,blue,Human,Auburn,163.0,Marvel Comics,-,good,50.0\\r\\n711,Watcher,Male,-,-,-,-99.0,Marvel Comics,-,good,-99.0\\r\\n712,Weapon XI,Male,-,-,-,-99.0,Marvel Comics,-,bad,-99.0\\r\\n713,White Canary,Female,brown,Human,Black,-99.0,DC Comics,-,bad,-99.0\\r\\n714,White Queen,Female,blue,-,Blond,178.0,Marvel Comics,-,good,65.0\\r\\n715,Wildfire,Male,-,-,-,-99.0,DC Comics,-,good,-99.0\\r\\n716,Winter Soldier,Male,brown,Human,Brown,175.0,Marvel Comics,-,good,117.0\\r\\n717,Wiz Kid,-,brown,-,Black,140.0,Marvel Comics,-,good,39.0\\r\\n718,Wolfsbane,Female,green,-,Auburn,366.0,Marvel Comics,-,good,473.0\\r\\n719,Wolverine,Male,blue,Mutant,Black,160.0,Marvel Comics,-,good,135.0\\r\\n720,Wonder Girl,Female,blue,Demi-God,Blond,165.0,DC Comics,-,good,51.0\\r\\n721,Wonder Man,Male,red,-,Black,188.0,Marvel Comics,-,good,171.0\\r\\n722,Wonder Woman,Female,blue,Amazon,Black,183.0,DC Comics,-,good,74.0\\r\\n723,Wondra,Female,-,-,-,-99.0,Marvel Comics,-,good,-99.0\\r\\n724,Wyatt Wingfoot,Male,brown,-,Black,196.0,Marvel Comics,-,good,117.0\\r\\n725,X-23,Female,green,Mutant / Clone,Black,155.0,Marvel Comics,-,good,50.0\\r\\n726,X-Man,Male,blue,-,Brown,175.0,Marvel Comics,-,good,61.0\\r\\n727,Yellow Claw,Male,blue,-,No Hair,188.0,Marvel Comics,-,bad,95.0\\r\\n728,Yellowjacket,Male,blue,Human,Blond,183.0,Marvel Comics,-,good,83.0\\r\\n729,Yellowjacket II,Female,blue,Human,Strawberry Blond,165.0,Marvel Comics,-,good,52.0\\r\\n730,Ymir,Male,white,Frost Giant,No Hair,304.8,Marvel Comics,white,good,-99.0\\r\\n731,Yoda,Male,brown,Yoda's species,White,66.0,George Lucas,green,good,17.0\\r\\n732,Zatanna,Female,blue,Human,Black,170.0,DC Comics,-,good,57.0\\r\\n733,Zoom,Male,red,-,Brown,185.0,DC Comics,-,bad,81.0\\r\\n\"}"
            ]
          },
          "metadata": {},
          "execution_count": 57
        }
      ]
    },
    {
      "cell_type": "code",
      "source": [
        "df = spark.read.csv(\"heroes_information.csv\",header = True)\n",
        "df.collect()"
      ],
      "metadata": {
        "colab": {
          "base_uri": "https://localhost:8080/"
        },
        "id": "i7rMRp8in3DJ",
        "outputId": "9e75dcc1-fef4-4109-bbdb-13dce72922d6"
      },
      "execution_count": null,
      "outputs": [
        {
          "output_type": "execute_result",
          "data": {
            "text/plain": [
              "[Row(_c0='0', name='A-Bomb', Gender='Male', Eye color='yellow', Race='Human', Hair color='No Hair', Height='203.0', Publisher='Marvel Comics', Skin color='-', Alignment='good', Weight='441.0'),\n",
              " Row(_c0='1', name='Abe Sapien', Gender='Male', Eye color='blue', Race='Icthyo Sapien', Hair color='No Hair', Height='191.0', Publisher='Dark Horse Comics', Skin color='blue', Alignment='good', Weight='65.0'),\n",
              " Row(_c0='2', name='Abin Sur', Gender='Male', Eye color='blue', Race='Ungaran', Hair color='No Hair', Height='185.0', Publisher='DC Comics', Skin color='red', Alignment='good', Weight='90.0'),\n",
              " Row(_c0='3', name='Abomination', Gender='Male', Eye color='green', Race='Human / Radiation', Hair color='No Hair', Height='203.0', Publisher='Marvel Comics', Skin color='-', Alignment='bad', Weight='441.0'),\n",
              " Row(_c0='4', name='Abraxas', Gender='Male', Eye color='blue', Race='Cosmic Entity', Hair color='Black', Height='-99.0', Publisher='Marvel Comics', Skin color='-', Alignment='bad', Weight='-99.0'),\n",
              " Row(_c0='5', name='Absorbing Man', Gender='Male', Eye color='blue', Race='Human', Hair color='No Hair', Height='193.0', Publisher='Marvel Comics', Skin color='-', Alignment='bad', Weight='122.0'),\n",
              " Row(_c0='6', name='Adam Monroe', Gender='Male', Eye color='blue', Race='-', Hair color='Blond', Height='-99.0', Publisher='NBC - Heroes', Skin color='-', Alignment='good', Weight='-99.0'),\n",
              " Row(_c0='7', name='Adam Strange', Gender='Male', Eye color='blue', Race='Human', Hair color='Blond', Height='185.0', Publisher='DC Comics', Skin color='-', Alignment='good', Weight='88.0'),\n",
              " Row(_c0='8', name='Agent 13', Gender='Female', Eye color='blue', Race='-', Hair color='Blond', Height='173.0', Publisher='Marvel Comics', Skin color='-', Alignment='good', Weight='61.0'),\n",
              " Row(_c0='9', name='Agent Bob', Gender='Male', Eye color='brown', Race='Human', Hair color='Brown', Height='178.0', Publisher='Marvel Comics', Skin color='-', Alignment='good', Weight='81.0'),\n",
              " Row(_c0='10', name='Agent Zero', Gender='Male', Eye color='-', Race='-', Hair color='-', Height='191.0', Publisher='Marvel Comics', Skin color='-', Alignment='good', Weight='104.0'),\n",
              " Row(_c0='11', name='Air-Walker', Gender='Male', Eye color='blue', Race='-', Hair color='White', Height='188.0', Publisher='Marvel Comics', Skin color='-', Alignment='bad', Weight='108.0'),\n",
              " Row(_c0='12', name='Ajax', Gender='Male', Eye color='brown', Race='Cyborg', Hair color='Black', Height='193.0', Publisher='Marvel Comics', Skin color='-', Alignment='bad', Weight='90.0'),\n",
              " Row(_c0='13', name='Alan Scott', Gender='Male', Eye color='blue', Race='-', Hair color='Blond', Height='180.0', Publisher='DC Comics', Skin color='-', Alignment='good', Weight='90.0'),\n",
              " Row(_c0='14', name='Alex Mercer', Gender='Male', Eye color='-', Race='Human', Hair color='-', Height='-99.0', Publisher='Wildstorm', Skin color='-', Alignment='bad', Weight='-99.0'),\n",
              " Row(_c0='15', name='Alex Woolsly', Gender='Male', Eye color='-', Race='-', Hair color='-', Height='-99.0', Publisher='NBC - Heroes', Skin color='-', Alignment='good', Weight='-99.0'),\n",
              " Row(_c0='16', name='Alfred Pennyworth', Gender='Male', Eye color='blue', Race='Human', Hair color='Black', Height='178.0', Publisher='DC Comics', Skin color='-', Alignment='good', Weight='72.0'),\n",
              " Row(_c0='17', name='Alien', Gender='Male', Eye color='-', Race='Xenomorph XX121', Hair color='No Hair', Height='244.0', Publisher='Dark Horse Comics', Skin color='black', Alignment='bad', Weight='169.0'),\n",
              " Row(_c0='18', name='Allan Quatermain', Gender='Male', Eye color='-', Race='-', Hair color='-', Height='-99.0', Publisher='Wildstorm', Skin color='-', Alignment='good', Weight='-99.0'),\n",
              " Row(_c0='19', name='Amazo', Gender='Male', Eye color='red', Race='Android', Hair color='-', Height='257.0', Publisher='DC Comics', Skin color='-', Alignment='bad', Weight='173.0'),\n",
              " Row(_c0='20', name='Ammo', Gender='Male', Eye color='brown', Race='Human', Hair color='Black', Height='188.0', Publisher='Marvel Comics', Skin color='-', Alignment='bad', Weight='101.0'),\n",
              " Row(_c0='21', name='Ando Masahashi', Gender='Male', Eye color='-', Race='-', Hair color='-', Height='-99.0', Publisher='NBC - Heroes', Skin color='-', Alignment='good', Weight='-99.0'),\n",
              " Row(_c0='22', name='Angel', Gender='Male', Eye color='blue', Race='-', Hair color='Blond', Height='183.0', Publisher='Marvel Comics', Skin color='-', Alignment='good', Weight='68.0'),\n",
              " Row(_c0='23', name='Angel', Gender='Male', Eye color='-', Race='Vampire', Hair color='-', Height='-99.0', Publisher='Dark Horse Comics', Skin color='-', Alignment='good', Weight='-99.0'),\n",
              " Row(_c0='24', name='Angel Dust', Gender='Female', Eye color='yellow', Race='Mutant', Hair color='Black', Height='165.0', Publisher='Marvel Comics', Skin color='-', Alignment='good', Weight='57.0'),\n",
              " Row(_c0='25', name='Angel Salvadore', Gender='Female', Eye color='brown', Race='-', Hair color='Black', Height='163.0', Publisher='Marvel Comics', Skin color='-', Alignment='good', Weight='54.0'),\n",
              " Row(_c0='26', name='Angela', Gender='Female', Eye color='-', Race='-', Hair color='-', Height='-99.0', Publisher='Image Comics', Skin color='-', Alignment='bad', Weight='-99.0'),\n",
              " Row(_c0='27', name='Animal Man', Gender='Male', Eye color='blue', Race='Human', Hair color='Blond', Height='183.0', Publisher='DC Comics', Skin color='-', Alignment='good', Weight='83.0'),\n",
              " Row(_c0='28', name='Annihilus', Gender='Male', Eye color='green', Race='-', Hair color='No Hair', Height='180.0', Publisher='Marvel Comics', Skin color='-', Alignment='bad', Weight='90.0'),\n",
              " Row(_c0='29', name='Ant-Man', Gender='Male', Eye color='blue', Race='Human', Hair color='Blond', Height='211.0', Publisher='Marvel Comics', Skin color='-', Alignment='good', Weight='122.0'),\n",
              " Row(_c0='30', name='Ant-Man II', Gender='Male', Eye color='blue', Race='Human', Hair color='Blond', Height='183.0', Publisher='Marvel Comics', Skin color='-', Alignment='good', Weight='86.0'),\n",
              " Row(_c0='31', name='Anti-Monitor', Gender='Male', Eye color='yellow', Race='God / Eternal', Hair color='No Hair', Height='61.0', Publisher='DC Comics', Skin color='-', Alignment='bad', Weight='-99.0'),\n",
              " Row(_c0='32', name='Anti-Spawn', Gender='Male', Eye color='-', Race='-', Hair color='-', Height='-99.0', Publisher='Image Comics', Skin color='-', Alignment='bad', Weight='-99.0'),\n",
              " Row(_c0='33', name='Anti-Venom', Gender='Male', Eye color='blue', Race='Symbiote', Hair color='Blond', Height='229.0', Publisher='Marvel Comics', Skin color='-', Alignment='-', Weight='358.0'),\n",
              " Row(_c0='34', name='Apocalypse', Gender='Male', Eye color='red', Race='Mutant', Hair color='Black', Height='213.0', Publisher='Marvel Comics', Skin color='grey', Alignment='bad', Weight='135.0'),\n",
              " Row(_c0='35', name='Aquababy', Gender='Male', Eye color='blue', Race='-', Hair color='Blond', Height='-99.0', Publisher='DC Comics', Skin color='-', Alignment='good', Weight='-99.0'),\n",
              " Row(_c0='36', name='Aqualad', Gender='Male', Eye color='blue', Race='Atlantean', Hair color='Black', Height='178.0', Publisher='DC Comics', Skin color='-', Alignment='good', Weight='106.0'),\n",
              " Row(_c0='37', name='Aquaman', Gender='Male', Eye color='blue', Race='Atlantean', Hair color='Blond', Height='185.0', Publisher='DC Comics', Skin color='-', Alignment='good', Weight='146.0'),\n",
              " Row(_c0='38', name='Arachne', Gender='Female', Eye color='blue', Race='Human', Hair color='Blond', Height='175.0', Publisher='Marvel Comics', Skin color='-', Alignment='good', Weight='63.0'),\n",
              " Row(_c0='39', name='Archangel', Gender='Male', Eye color='blue', Race='Mutant', Hair color='Blond', Height='183.0', Publisher='Marvel Comics', Skin color='blue', Alignment='good', Weight='68.0'),\n",
              " Row(_c0='40', name='Arclight', Gender='Female', Eye color='violet', Race='-', Hair color='Purple', Height='173.0', Publisher='Marvel Comics', Skin color='-', Alignment='bad', Weight='57.0'),\n",
              " Row(_c0='41', name='Ardina', Gender='Female', Eye color='white', Race='Alien', Hair color='Orange', Height='193.0', Publisher='Marvel Comics', Skin color='gold', Alignment='good', Weight='98.0'),\n",
              " Row(_c0='42', name='Ares', Gender='Male', Eye color='brown', Race='-', Hair color='Brown', Height='185.0', Publisher='Marvel Comics', Skin color='-', Alignment='good', Weight='270.0'),\n",
              " Row(_c0='43', name='Ariel', Gender='Female', Eye color='purple', Race='-', Hair color='Pink', Height='165.0', Publisher='Marvel Comics', Skin color='-', Alignment='good', Weight='59.0'),\n",
              " Row(_c0='44', name='Armor', Gender='Female', Eye color='black', Race='-', Hair color='Black', Height='163.0', Publisher='Marvel Comics', Skin color='-', Alignment='good', Weight='50.0'),\n",
              " Row(_c0='45', name='Arsenal', Gender='Male', Eye color='-', Race='Human', Hair color='-', Height='-99.0', Publisher='DC Comics', Skin color='-', Alignment='good', Weight='-99.0'),\n",
              " Row(_c0='46', name='Astro Boy', Gender='Male', Eye color='brown', Race='-', Hair color='Black', Height='-99.0', Publisher=None, Skin color='-', Alignment='good', Weight='-99.0'),\n",
              " Row(_c0='47', name='Atlas', Gender='Male', Eye color='brown', Race='Mutant', Hair color='Red', Height='183.0', Publisher='Marvel Comics', Skin color='-', Alignment='good', Weight='101.0'),\n",
              " Row(_c0='48', name='Atlas', Gender='Male', Eye color='blue', Race='God / Eternal', Hair color='Brown', Height='198.0', Publisher='DC Comics', Skin color='-', Alignment='bad', Weight='126.0'),\n",
              " Row(_c0='49', name='Atom', Gender='Male', Eye color='blue', Race='-', Hair color='Red', Height='178.0', Publisher='DC Comics', Skin color='-', Alignment='good', Weight='68.0'),\n",
              " Row(_c0='50', name='Atom', Gender='Male', Eye color='-', Race='-', Hair color='-', Height='-99.0', Publisher='DC Comics', Skin color='-', Alignment='good', Weight='-99.0'),\n",
              " Row(_c0='51', name='Atom Girl', Gender='Female', Eye color='black', Race='-', Hair color='Black', Height='168.0', Publisher='DC Comics', Skin color='-', Alignment='good', Weight='54.0'),\n",
              " Row(_c0='52', name='Atom II', Gender='Male', Eye color='brown', Race='Human', Hair color='Auburn', Height='183.0', Publisher='DC Comics', Skin color='-', Alignment='good', Weight='81.0'),\n",
              " Row(_c0='53', name='Atom III', Gender='Male', Eye color='-', Race='-', Hair color='Red', Height='-99.0', Publisher='DC Comics', Skin color='-', Alignment='good', Weight='-99.0'),\n",
              " Row(_c0='54', name='Atom IV', Gender='Male', Eye color='brown', Race='-', Hair color='Black', Height='-99.0', Publisher='DC Comics', Skin color='-', Alignment='good', Weight='72.0'),\n",
              " Row(_c0='55', name='Aurora', Gender='Female', Eye color='blue', Race='Mutant', Hair color='Black', Height='180.0', Publisher='Marvel Comics', Skin color='-', Alignment='good', Weight='63.0'),\n",
              " Row(_c0='56', name='Azazel', Gender='Male', Eye color='yellow', Race='Neyaphem', Hair color='Black', Height='183.0', Publisher='Marvel Comics', Skin color='red', Alignment='bad', Weight='67.0'),\n",
              " Row(_c0='57', name='Azrael', Gender='Male', Eye color='brown', Race='Human', Hair color='Black', Height='-99.0', Publisher='DC Comics', Skin color='-', Alignment='good', Weight='-99.0'),\n",
              " Row(_c0='58', name='Aztar', Gender='Male', Eye color='-', Race='-', Hair color='-', Height='-99.0', Publisher='DC Comics', Skin color='-', Alignment='good', Weight='-99.0'),\n",
              " Row(_c0='59', name='Bane', Gender='Male', Eye color='-', Race='Human', Hair color='-', Height='203.0', Publisher='DC Comics', Skin color='-', Alignment='bad', Weight='180.0'),\n",
              " Row(_c0='60', name='Banshee', Gender='Male', Eye color='green', Race='Human', Hair color='Strawberry Blond', Height='183.0', Publisher='Marvel Comics', Skin color='-', Alignment='good', Weight='77.0'),\n",
              " Row(_c0='61', name='Bantam', Gender='Male', Eye color='brown', Race='-', Hair color='Black', Height='165.0', Publisher='Marvel Comics', Skin color='-', Alignment='good', Weight='54.0'),\n",
              " Row(_c0='62', name='Batgirl', Gender='Female', Eye color='-', Race='-', Hair color='-', Height='-99.0', Publisher='DC Comics', Skin color='-', Alignment='good', Weight='-99.0'),\n",
              " Row(_c0='63', name='Batgirl', Gender='Female', Eye color='green', Race='Human', Hair color='Red', Height='170.0', Publisher='DC Comics', Skin color='-', Alignment='good', Weight='57.0'),\n",
              " Row(_c0='64', name='Batgirl III', Gender='Female', Eye color='-', Race='-', Hair color='-', Height='-99.0', Publisher='DC Comics', Skin color='-', Alignment='good', Weight='-99.0'),\n",
              " Row(_c0='65', name='Batgirl IV', Gender='Female', Eye color='green', Race='Human', Hair color='Black', Height='165.0', Publisher='DC Comics', Skin color='-', Alignment='good', Weight='52.0'),\n",
              " Row(_c0='66', name='Batgirl V', Gender='Female', Eye color='-', Race='-', Hair color='-', Height='-99.0', Publisher='DC Comics', Skin color='-', Alignment='good', Weight='-99.0'),\n",
              " Row(_c0='67', name='Batgirl VI', Gender='Female', Eye color='blue', Race='-', Hair color='Blond', Height='168.0', Publisher='DC Comics', Skin color='-', Alignment='good', Weight='61.0'),\n",
              " Row(_c0='68', name='Batman', Gender='Male', Eye color='blue', Race='Human', Hair color='black', Height='188.0', Publisher='DC Comics', Skin color='-', Alignment='good', Weight='95.0'),\n",
              " Row(_c0='69', name='Batman', Gender='Male', Eye color='blue', Race='Human', Hair color='Black', Height='178.0', Publisher='DC Comics', Skin color='-', Alignment='good', Weight='77.0'),\n",
              " Row(_c0='70', name='Batman II', Gender='Male', Eye color='blue', Race='Human', Hair color='Black', Height='178.0', Publisher='DC Comics', Skin color='-', Alignment='good', Weight='79.0'),\n",
              " Row(_c0='71', name='Battlestar', Gender='Male', Eye color='brown', Race='-', Hair color='Black', Height='198.0', Publisher='Marvel Comics', Skin color='-', Alignment='good', Weight='133.0'),\n",
              " Row(_c0='72', name='Batwoman V', Gender='Female', Eye color='green', Race='Human', Hair color='Red', Height='178.0', Publisher='DC Comics', Skin color='-', Alignment='good', Weight='-99.0'),\n",
              " Row(_c0='73', name='Beak', Gender='Male', Eye color='black', Race='-', Hair color='White', Height='175.0', Publisher='Marvel Comics', Skin color='-', Alignment='good', Weight='63.0'),\n",
              " Row(_c0='74', name='Beast', Gender='Male', Eye color='blue', Race='Mutant', Hair color='Blue', Height='180.0', Publisher='Marvel Comics', Skin color='blue', Alignment='good', Weight='181.0'),\n",
              " Row(_c0='75', name='Beast Boy', Gender='Male', Eye color='green', Race='Human', Hair color='Green', Height='173.0', Publisher='DC Comics', Skin color='green', Alignment='good', Weight='68.0'),\n",
              " Row(_c0='76', name='Beetle', Gender='Male', Eye color='-', Race='-', Hair color='-', Height='-99.0', Publisher='Marvel Comics', Skin color='-', Alignment='bad', Weight='-99.0'),\n",
              " Row(_c0='77', name='Ben 10', Gender='Male', Eye color='-', Race='-', Hair color='-', Height='-99.0', Publisher='DC Comics', Skin color='-', Alignment='good', Weight='-99.0'),\n",
              " Row(_c0='78', name='Beta Ray Bill', Gender='Male', Eye color='-', Race='-', Hair color='No Hair', Height='201.0', Publisher='Marvel Comics', Skin color='-', Alignment='good', Weight='216.0'),\n",
              " Row(_c0='79', name='Beyonder', Gender='Male', Eye color='-', Race='God / Eternal', Hair color='-', Height='-99.0', Publisher='Marvel Comics', Skin color='-', Alignment='good', Weight='-99.0'),\n",
              " Row(_c0='80', name='Big Barda', Gender='Female', Eye color='blue', Race='New God', Hair color='Black', Height='188.0', Publisher='DC Comics', Skin color='-', Alignment='bad', Weight='135.0'),\n",
              " Row(_c0='81', name='Big Daddy', Gender='Male', Eye color='-', Race='-', Hair color='-', Height='-99.0', Publisher='Icon Comics', Skin color='-', Alignment='good', Weight='-99.0'),\n",
              " Row(_c0='82', name='Big Man', Gender='Male', Eye color='blue', Race='-', Hair color='Brown', Height='165.0', Publisher='Marvel Comics', Skin color='-', Alignment='bad', Weight='71.0'),\n",
              " Row(_c0='83', name='Bill Harken', Gender='Male', Eye color='-', Race='Alpha', Hair color='-', Height='-99.0', Publisher='SyFy', Skin color='-', Alignment='good', Weight='-99.0'),\n",
              " Row(_c0='84', name='Billy Kincaid', Gender='Male', Eye color='-', Race='-', Hair color='-', Height='-99.0', Publisher='Image Comics', Skin color='-', Alignment='bad', Weight='-99.0'),\n",
              " Row(_c0='85', name='Binary', Gender='Female', Eye color='blue', Race='-', Hair color='Blond', Height='180.0', Publisher='Marvel Comics', Skin color='-', Alignment='good', Weight='54.0'),\n",
              " Row(_c0='86', name='Bionic Woman', Gender='Female', Eye color='blue', Race='Cyborg', Hair color='Black', Height='-99.0', Publisher=None, Skin color='-', Alignment='good', Weight='-99.0'),\n",
              " Row(_c0='87', name='Bird-Brain', Gender='-', Eye color='-', Race='-', Hair color='-', Height='-99.0', Publisher='Marvel Comics', Skin color='-', Alignment='good', Weight='-99.0'),\n",
              " Row(_c0='88', name='Bird-Man', Gender='Male', Eye color='-', Race='Human', Hair color='-', Height='-99.0', Publisher='Marvel Comics', Skin color='-', Alignment='bad', Weight='-99.0'),\n",
              " Row(_c0='89', name='Bird-Man II', Gender='Male', Eye color='-', Race='Human', Hair color='-', Height='-99.0', Publisher='Marvel Comics', Skin color='-', Alignment='bad', Weight='-99.0'),\n",
              " Row(_c0='90', name='Birdman', Gender='Male', Eye color='-', Race='God / Eternal', Hair color='-', Height='-99.0', Publisher='Hanna-Barbera', Skin color='-', Alignment='good', Weight='-99.0'),\n",
              " Row(_c0='91', name='Bishop', Gender='Male', Eye color='brown', Race='Mutant', Hair color='No Hair', Height='198.0', Publisher='Marvel Comics', Skin color='-', Alignment='good', Weight='124.0'),\n",
              " Row(_c0='92', name='Bizarro', Gender='Male', Eye color='black', Race='Bizarro', Hair color='Black', Height='191.0', Publisher='DC Comics', Skin color='white', Alignment='neutral', Weight='155.0'),\n",
              " Row(_c0='93', name='Black Abbott', Gender='Male', Eye color='red', Race='-', Hair color='Black', Height='-99.0', Publisher='Marvel Comics', Skin color='-', Alignment='bad', Weight='-99.0'),\n",
              " Row(_c0='94', name='Black Adam', Gender='Male', Eye color='brown', Race='-', Hair color='Black', Height='191.0', Publisher='DC Comics', Skin color='-', Alignment='bad', Weight='113.0'),\n",
              " Row(_c0='95', name='Black Bolt', Gender='Male', Eye color='blue', Race='Inhuman', Hair color='Black', Height='188.0', Publisher='Marvel Comics', Skin color='-', Alignment='good', Weight='95.0'),\n",
              " Row(_c0='96', name='Black Canary', Gender='Female', Eye color='blue', Race='Human', Hair color='Blond', Height='165.0', Publisher='DC Comics', Skin color='-', Alignment='good', Weight='58.0'),\n",
              " Row(_c0='97', name='Black Canary', Gender='Female', Eye color='blue', Race='Metahuman', Hair color='Blond', Height='170.0', Publisher='DC Comics', Skin color='-', Alignment='good', Weight='59.0'),\n",
              " Row(_c0='98', name='Black Cat', Gender='Female', Eye color='green', Race='Human', Hair color='Blond', Height='178.0', Publisher='Marvel Comics', Skin color='-', Alignment='good', Weight='54.0'),\n",
              " Row(_c0='99', name='Black Flash', Gender='Male', Eye color='-', Race='God / Eternal', Hair color='-', Height='-99.0', Publisher='DC Comics', Skin color='-', Alignment='neutral', Weight='-99.0'),\n",
              " Row(_c0='100', name='Black Goliath', Gender='Male', Eye color='-', Race='-', Hair color='-', Height='-99.0', Publisher='Marvel Comics', Skin color='-', Alignment='good', Weight='-99.0'),\n",
              " Row(_c0='101', name='Black Knight III', Gender='Male', Eye color='brown', Race='Human', Hair color='Brown', Height='183.0', Publisher='Marvel Comics', Skin color='-', Alignment='good', Weight='86.0'),\n",
              " Row(_c0='102', name='Black Lightning', Gender='Male', Eye color='brown', Race='-', Hair color='No Hair', Height='185.0', Publisher='DC Comics', Skin color='-', Alignment='good', Weight='90.0'),\n",
              " Row(_c0='103', name='Black Mamba', Gender='Female', Eye color='green', Race='-', Hair color='Black', Height='170.0', Publisher='Marvel Comics', Skin color='-', Alignment='bad', Weight='52.0'),\n",
              " Row(_c0='104', name='Black Manta', Gender='Male', Eye color='black', Race='Human', Hair color='No Hair', Height='188.0', Publisher='DC Comics', Skin color='-', Alignment='bad', Weight='92.0'),\n",
              " Row(_c0='105', name='Black Panther', Gender='Male', Eye color='brown', Race='Human', Hair color='Black', Height='183.0', Publisher='Marvel Comics', Skin color='-', Alignment='good', Weight='90.0'),\n",
              " Row(_c0='106', name='Black Widow', Gender='Female', Eye color='green', Race='Human', Hair color='Auburn', Height='170.0', Publisher='Marvel Comics', Skin color='-', Alignment='good', Weight='59.0'),\n",
              " Row(_c0='107', name='Black Widow II', Gender='Female', Eye color='blue', Race='-', Hair color='Blond', Height='170.0', Publisher='Marvel Comics', Skin color='-', Alignment='good', Weight='61.0'),\n",
              " Row(_c0='108', name='Blackout', Gender='Male', Eye color='red', Race='Demon', Hair color='White', Height='191.0', Publisher='Marvel Comics', Skin color='white', Alignment='bad', Weight='104.0'),\n",
              " Row(_c0='109', name='Blackwing', Gender='Male', Eye color='blue', Race='-', Hair color='Black', Height='185.0', Publisher='Marvel Comics', Skin color='-', Alignment='bad', Weight='86.0'),\n",
              " Row(_c0='110', name='Blackwulf', Gender='Male', Eye color='red', Race='Alien', Hair color='White', Height='188.0', Publisher='Marvel Comics', Skin color='-', Alignment='-', Weight='88.0'),\n",
              " Row(_c0='111', name='Blade', Gender='Male', Eye color='brown', Race='Vampire', Hair color='Black', Height='188.0', Publisher='Marvel Comics', Skin color='-', Alignment='good', Weight='97.0'),\n",
              " Row(_c0='112', name='Blaquesmith', Gender='-', Eye color='black', Race='-', Hair color='No Hair', Height='-99.0', Publisher='Marvel Comics', Skin color='-', Alignment='good', Weight='-99.0'),\n",
              " Row(_c0='113', name='Bling!', Gender='Female', Eye color='-', Race='-', Hair color='-', Height='168.0', Publisher='Marvel Comics', Skin color='-', Alignment='good', Weight='68.0'),\n",
              " Row(_c0='114', name='Blink', Gender='Female', Eye color='green', Race='Mutant', Hair color='Magenta', Height='165.0', Publisher='Marvel Comics', Skin color='pink', Alignment='good', Weight='56.0'),\n",
              " Row(_c0='115', name='Blizzard', Gender='Male', Eye color='-', Race='-', Hair color='-', Height='-99.0', Publisher='Marvel Comics', Skin color='-', Alignment='bad', Weight='-99.0'),\n",
              " Row(_c0='116', name='Blizzard', Gender='Male', Eye color='-', Race='-', Hair color='Brown', Height='-99.0', Publisher='Marvel Comics', Skin color='-', Alignment='bad', Weight='-99.0'),\n",
              " Row(_c0='117', name='Blizzard II', Gender='Male', Eye color='brown', Race='-', Hair color='Brown', Height='175.0', Publisher='Marvel Comics', Skin color='-', Alignment='bad', Weight='77.0'),\n",
              " Row(_c0='118', name='Blob', Gender='Male', Eye color='brown', Race='-', Hair color='Brown', Height='178.0', Publisher='Marvel Comics', Skin color='-', Alignment='bad', Weight='230.0'),\n",
              " Row(_c0='119', name='Bloodaxe', Gender='Female', Eye color='blue', Race='Human', Hair color='Brown', Height='218.0', Publisher='Marvel Comics', Skin color='-', Alignment='bad', Weight='495.0'),\n",
              " Row(_c0='120', name='Bloodhawk', Gender='Male', Eye color='black', Race='Mutant', Hair color='No Hair', Height='-99.0', Publisher='Marvel Comics', Skin color='-', Alignment='good', Weight='-99.0'),\n",
              " Row(_c0='121', name='Bloodwraith', Gender='Male', Eye color='white', Race='-', Hair color='No Hair', Height='30.5', Publisher='Marvel Comics', Skin color='-', Alignment='bad', Weight='-99.0'),\n",
              " Row(_c0='122', name='Blue Beetle', Gender='Male', Eye color='blue', Race='-', Hair color='Brown', Height='-99.0', Publisher='DC Comics', Skin color='-', Alignment='good', Weight='-99.0'),\n",
              " Row(_c0='123', name='Blue Beetle', Gender='Male', Eye color='-', Race='-', Hair color='-', Height='-99.0', Publisher='DC Comics', Skin color='-', Alignment='good', Weight='-99.0'),\n",
              " Row(_c0='124', name='Blue Beetle II', Gender='Male', Eye color='blue', Race='-', Hair color='Brown', Height='183.0', Publisher='DC Comics', Skin color='-', Alignment='good', Weight='86.0'),\n",
              " Row(_c0='125', name='Blue Beetle III', Gender='Male', Eye color='brown', Race='Human', Hair color='Black', Height='-99.0', Publisher='DC Comics', Skin color='-', Alignment='good', Weight='-99.0'),\n",
              " Row(_c0='126', name='Boba Fett', Gender='Male', Eye color='brown', Race='Human / Clone', Hair color='Black', Height='183.0', Publisher='George Lucas', Skin color='-', Alignment='bad', Weight='-99.0'),\n",
              " Row(_c0='127', name='Bolt', Gender='Male', Eye color='-', Race='-', Hair color='-', Height='-99.0', Publisher='Marvel Comics', Skin color='-', Alignment='good', Weight='-99.0'),\n",
              " Row(_c0='128', name='Bomb Queen', Gender='Female', Eye color='-', Race='-', Hair color='-', Height='-99.0', Publisher='Image Comics', Skin color='-', Alignment='bad', Weight='-99.0'),\n",
              " Row(_c0='129', name='Boom-Boom', Gender='Female', Eye color='blue', Race='Mutant', Hair color='Blond', Height='165.0', Publisher='Marvel Comics', Skin color='-', Alignment='good', Weight='55.0'),\n",
              " Row(_c0='130', name='Boomer', Gender='Female', Eye color='-', Race='-', Hair color='-', Height='-99.0', Publisher='Marvel Comics', Skin color='-', Alignment='good', Weight='-99.0'),\n",
              " Row(_c0='131', name='Booster Gold', Gender='Male', Eye color='blue', Race='Human', Hair color='Blond', Height='196.0', Publisher='DC Comics', Skin color='-', Alignment='good', Weight='97.0'),\n",
              " Row(_c0='132', name='Box', Gender='Male', Eye color='-', Race='-', Hair color='-', Height='-99.0', Publisher='Marvel Comics', Skin color='-', Alignment='good', Weight='-99.0'),\n",
              " Row(_c0='133', name='Box III', Gender='-', Eye color='blue', Race='-', Hair color='Blond', Height='193.0', Publisher='Marvel Comics', Skin color='-', Alignment='good', Weight='110.0'),\n",
              " Row(_c0='134', name='Box IV', Gender='-', Eye color='brown', Race='-', Hair color='Brown / Black', Height='-99.0', Publisher='Marvel Comics', Skin color='-', Alignment='good', Weight='-99.0'),\n",
              " Row(_c0='135', name='Brainiac', Gender='Male', Eye color='green', Race='Android', Hair color='No Hair', Height='198.0', Publisher='DC Comics', Skin color='green', Alignment='bad', Weight='135.0'),\n",
              " Row(_c0='136', name='Brainiac 5', Gender='Male', Eye color='green', Race='-', Hair color='Blond', Height='170.0', Publisher='DC Comics', Skin color='-', Alignment='good', Weight='61.0'),\n",
              " Row(_c0='137', name='Brother Voodoo', Gender='Male', Eye color='brown', Race='Human', Hair color='Brown / White', Height='183.0', Publisher='Marvel Comics', Skin color='-', Alignment='good', Weight='99.0'),\n",
              " Row(_c0='138', name='Brundlefly', Gender='Male', Eye color='-', Race='Mutant', Hair color='-', Height='193.0', Publisher=None, Skin color='-', Alignment='-', Weight='-99.0'),\n",
              " Row(_c0='139', name='Buffy', Gender='Female', Eye color='green', Race='Human', Hair color='Blond', Height='157.0', Publisher='Dark Horse Comics', Skin color='-', Alignment='good', Weight='52.0'),\n",
              " Row(_c0='140', name='Bullseye', Gender='Male', Eye color='blue', Race='Human', Hair color='blond', Height='183.0', Publisher='Marvel Comics', Skin color='-', Alignment='bad', Weight='90.0'),\n",
              " Row(_c0='141', name='Bumblebee', Gender='Female', Eye color='brown', Race='Human', Hair color='Black', Height='170.0', Publisher='DC Comics', Skin color='-', Alignment='good', Weight='59.0'),\n",
              " Row(_c0='142', name='Bumbleboy', Gender='Male', Eye color='-', Race='-', Hair color='-', Height='-99.0', Publisher='Marvel Comics', Skin color='-', Alignment='good', Weight='-99.0'),\n",
              " Row(_c0='143', name='Bushido', Gender='Male', Eye color='-', Race='Human', Hair color='-', Height='-99.0', Publisher='DC Comics', Skin color='-', Alignment='good', Weight='-99.0'),\n",
              " Row(_c0='144', name='Cable', Gender='Male', Eye color='blue', Race='Mutant', Hair color='White', Height='203.0', Publisher='Marvel Comics', Skin color='-', Alignment='good', Weight='158.0'),\n",
              " Row(_c0='145', name='Callisto', Gender='Female', Eye color='blue', Race='-', Hair color='Black', Height='175.0', Publisher='Marvel Comics', Skin color='-', Alignment='bad', Weight='74.0'),\n",
              " Row(_c0='146', name='Cameron Hicks', Gender='Male', Eye color='-', Race='Alpha', Hair color='-', Height='-99.0', Publisher='SyFy', Skin color='-', Alignment='good', Weight='-99.0'),\n",
              " Row(_c0='147', name='Cannonball', Gender='Male', Eye color='blue', Race='-', Hair color='Blond', Height='183.0', Publisher='Marvel Comics', Skin color='-', Alignment='good', Weight='81.0'),\n",
              " Row(_c0='148', name='Captain America', Gender='Male', Eye color='blue', Race='Human', Hair color='blond', Height='188.0', Publisher='Marvel Comics', Skin color='-', Alignment='good', Weight='108.0'),\n",
              " Row(_c0='149', name='Captain Atom', Gender='Male', Eye color='blue', Race='Human / Radiation', Hair color='Silver', Height='193.0', Publisher='DC Comics', Skin color='silver', Alignment='good', Weight='90.0'),\n",
              " Row(_c0='150', name='Captain Britain', Gender='Male', Eye color='blue', Race='Human', Hair color='Blond', Height='198.0', Publisher='Marvel Comics', Skin color='-', Alignment='good', Weight='116.0'),\n",
              " Row(_c0='151', name='Captain Cold', Gender='Male', Eye color='brown', Race='Human', Hair color='Brown', Height='-99.0', Publisher='DC Comics', Skin color='-', Alignment='neutral', Weight='-99.0'),\n",
              " Row(_c0='152', name='Captain Epic', Gender='Male', Eye color='blue', Race='-', Hair color='Brown', Height='188.0', Publisher='Team Epic TV', Skin color='-', Alignment='good', Weight='-99.0'),\n",
              " Row(_c0='153', name='Captain Hindsight', Gender='Male', Eye color='-', Race='Human', Hair color='Black', Height='-99.0', Publisher='South Park', Skin color='-', Alignment='good', Weight='-99.0'),\n",
              " Row(_c0='154', name='Captain Mar-vell', Gender='Male', Eye color='blue', Race='-', Hair color='Blond', Height='188.0', Publisher='Marvel Comics', Skin color='-', Alignment='good', Weight='108.0'),\n",
              " Row(_c0='155', name='Captain Marvel', Gender='Female', Eye color='blue', Race='Human-Kree', Hair color='Blond', Height='180.0', Publisher='Marvel Comics', Skin color='-', Alignment='good', Weight='74.0'),\n",
              " Row(_c0='156', name='Captain Marvel', Gender='Male', Eye color='blue', Race='Human', Hair color='Black', Height='193.0', Publisher='DC Comics', Skin color='-', Alignment='good', Weight='101.0'),\n",
              " Row(_c0='157', name='Captain Marvel II', Gender='Male', Eye color='blue', Race='Human', Hair color='Black', Height='175.0', Publisher='DC Comics', Skin color='-', Alignment='good', Weight='74.0'),\n",
              " Row(_c0='158', name='Captain Midnight', Gender='Male', Eye color='-', Race='Human', Hair color='-', Height='-99.0', Publisher='Dark Horse Comics', Skin color='-', Alignment='good', Weight='-99.0'),\n",
              " Row(_c0='159', name='Captain Planet', Gender='Male', Eye color='red', Race='God / Eternal', Hair color='Green', Height='-99.0', Publisher='Marvel Comics', Skin color='-', Alignment='good', Weight='-99.0'),\n",
              " Row(_c0='160', name='Captain Universe', Gender='-', Eye color='-', Race='God / Eternal', Hair color='-', Height='-99.0', Publisher='Marvel Comics', Skin color='-', Alignment='good', Weight='-99.0'),\n",
              " Row(_c0='161', name='Carnage', Gender='Male', Eye color='green', Race='Symbiote', Hair color='Red', Height='185.0', Publisher='Marvel Comics', Skin color='-', Alignment='bad', Weight='86.0'),\n",
              " Row(_c0='162', name='Cat', Gender='Female', Eye color='blue', Race='-', Hair color='Blond', Height='173.0', Publisher='Marvel Comics', Skin color='-', Alignment='good', Weight='61.0'),\n",
              " Row(_c0='163', name='Cat II', Gender='Female', Eye color='-', Race='-', Hair color='-', Height='-99.0', Publisher='Marvel Comics', Skin color='-', Alignment='good', Weight='-99.0'),\n",
              " Row(_c0='164', name='Catwoman', Gender='Female', Eye color='green', Race='Human', Hair color='Black', Height='175.0', Publisher='DC Comics', Skin color='-', Alignment='good', Weight='61.0'),\n",
              " Row(_c0='165', name='Cecilia Reyes', Gender='-', Eye color='brown', Race='-', Hair color='Brown', Height='170.0', Publisher='Marvel Comics', Skin color='-', Alignment='good', Weight='62.0'),\n",
              " Row(_c0='166', name='Century', Gender='Male', Eye color='white', Race='Alien', Hair color='White', Height='201.0', Publisher='Marvel Comics', Skin color='grey', Alignment='good', Weight='97.0'),\n",
              " Row(_c0='167', name='Cerebra', Gender='Female', Eye color='-', Race='Mutant', Hair color='-', Height='-99.0', Publisher='Marvel Comics', Skin color='-', Alignment='good', Weight='-99.0'),\n",
              " Row(_c0='168', name='Chamber', Gender='Male', Eye color='brown', Race='Mutant', Hair color='Brown', Height='175.0', Publisher='Marvel Comics', Skin color='-', Alignment='good', Weight='63.0'),\n",
              " Row(_c0='169', name='Chameleon', Gender='Male', Eye color='-', Race='-', Hair color='-', Height='-99.0', Publisher='DC Comics', Skin color='-', Alignment='bad', Weight='-99.0'),\n",
              " Row(_c0='170', name='Changeling', Gender='Male', Eye color='brown', Race='-', Hair color='Black', Height='180.0', Publisher='Marvel Comics', Skin color='-', Alignment='bad', Weight='81.0'),\n",
              " Row(_c0='171', name='Cheetah', Gender='Female', Eye color='green', Race='Human', Hair color='Blond', Height='163.0', Publisher='DC Comics', Skin color='-', Alignment='bad', Weight='50.0'),\n",
              " Row(_c0='172', name='Cheetah II', Gender='Female', Eye color='green', Race='Human', Hair color='Brown', Height='170.0', Publisher='DC Comics', Skin color='-', Alignment='bad', Weight='55.0'),\n",
              " Row(_c0='173', name='Cheetah III', Gender='Female', Eye color='brown', Race='Human', Hair color='Brown', Height='175.0', Publisher='DC Comics', Skin color='-', Alignment='bad', Weight='54.0'),\n",
              " Row(_c0='174', name='Chromos', Gender='Male', Eye color='brown', Race='-', Hair color='Red / Grey', Height='185.0', Publisher='Team Epic TV', Skin color='-', Alignment='bad', Weight='86.0'),\n",
              " Row(_c0='175', name='Chuck Norris', Gender='Male', Eye color='-', Race='-', Hair color='-', Height='178.0', Publisher=None, Skin color='-', Alignment='good', Weight='-99.0'),\n",
              " Row(_c0='176', name='Citizen Steel', Gender='Male', Eye color='green', Race='Human', Hair color='Red', Height='183.0', Publisher='DC Comics', Skin color='-', Alignment='good', Weight='170.0'),\n",
              " Row(_c0='177', name='Claire Bennet', Gender='Female', Eye color='blue', Race='-', Hair color='Blond', Height='-99.0', Publisher='NBC - Heroes', Skin color='-', Alignment='good', Weight='-99.0'),\n",
              " Row(_c0='178', name='Clea', Gender='-', Eye color='-', Race='-', Hair color='White', Height='-99.0', Publisher='Marvel Comics', Skin color='-', Alignment='good', Weight='-99.0'),\n",
              " Row(_c0='179', name='Cloak', Gender='Male', Eye color='brown', Race='-', Hair color='black', Height='226.0', Publisher='Marvel Comics', Skin color='-', Alignment='good', Weight='70.0'),\n",
              " Row(_c0='180', name='Clock King', Gender='Male', Eye color='blue', Race='Human', Hair color='Black', Height='178.0', Publisher='DC Comics', Skin color='-', Alignment='bad', Weight='78.0'),\n",
              " Row(_c0='181', name='Cogliostro', Gender='Male', Eye color='-', Race='-', Hair color='-', Height='-99.0', Publisher='Image Comics', Skin color='-', Alignment='bad', Weight='-99.0'),\n",
              " Row(_c0='182', name='Colin Wagner', Gender='Male', Eye color='grey', Race='-', Hair color='Brown', Height='-99.0', Publisher='HarperCollins', Skin color='-', Alignment='good', Weight='-99.0'),\n",
              " Row(_c0='183', name='Colossal Boy', Gender='Male', Eye color='-', Race='-', Hair color='-', Height='-99.0', Publisher='DC Comics', Skin color='-', Alignment='good', Weight='-99.0'),\n",
              " Row(_c0='184', name='Colossus', Gender='Male', Eye color='silver', Race='Mutant', Hair color='Black', Height='226.0', Publisher='Marvel Comics', Skin color='-', Alignment='good', Weight='225.0'),\n",
              " Row(_c0='185', name='Copycat', Gender='Female', Eye color='red', Race='Mutant', Hair color='White', Height='183.0', Publisher='Marvel Comics', Skin color='blue', Alignment='neutral', Weight='67.0'),\n",
              " Row(_c0='186', name='Corsair', Gender='Male', Eye color='brown', Race='-', Hair color='Brown', Height='191.0', Publisher='Marvel Comics', Skin color='-', Alignment='good', Weight='79.0'),\n",
              " Row(_c0='187', name='Cottonmouth', Gender='Male', Eye color='brown', Race='Human', Hair color='Black', Height='183.0', Publisher='Marvel Comics', Skin color='-', Alignment='bad', Weight='99.0'),\n",
              " Row(_c0='188', name='Crimson Crusader', Gender='Male', Eye color='blue', Race='-', Hair color='Strawberry Blond', Height='-99.0', Publisher='Marvel Comics', Skin color='-', Alignment='good', Weight='-99.0'),\n",
              " Row(_c0='189', name='Crimson Dynamo', Gender='Male', Eye color='brown', Race='-', Hair color='No Hair', Height='180.0', Publisher='Marvel Comics', Skin color='-', Alignment='good', Weight='104.0'),\n",
              " Row(_c0='190', name='Crystal', Gender='Female', Eye color='green', Race='Inhuman', Hair color='Red', Height='168.0', Publisher='Marvel Comics', Skin color='-', Alignment='good', Weight='50.0'),\n",
              " Row(_c0='191', name='Curse', Gender='Male', Eye color='-', Race='-', Hair color='-', Height='-99.0', Publisher='Image Comics', Skin color='-', Alignment='bad', Weight='-99.0'),\n",
              " Row(_c0='192', name='Cy-Gor', Gender='Male', Eye color='-', Race='-', Hair color='-', Height='-99.0', Publisher='Image Comics', Skin color='-', Alignment='bad', Weight='-99.0'),\n",
              " Row(_c0='193', name='Cyborg', Gender='Male', Eye color='brown', Race='Cyborg', Hair color='Black', Height='198.0', Publisher='DC Comics', Skin color='-', Alignment='good', Weight='173.0'),\n",
              " Row(_c0='194', name='Cyborg Superman', Gender='Male', Eye color='blue', Race='Cyborg', Hair color='Black', Height='-99.0', Publisher='DC Comics', Skin color='-', Alignment='bad', Weight='-99.0'),\n",
              " Row(_c0='195', name='Cyclops', Gender='Male', Eye color='brown', Race='Mutant', Hair color='Brown', Height='191.0', Publisher='Marvel Comics', Skin color='-', Alignment='good', Weight='88.0'),\n",
              " Row(_c0='196', name='Cypher', Gender='-', Eye color='blue', Race='-', Hair color='Blond', Height='175.0', Publisher='Marvel Comics', Skin color='-', Alignment='good', Weight='68.0'),\n",
              " Row(_c0='197', name='Dagger', Gender='Female', Eye color='blue', Race='-', Hair color='Blond', Height='165.0', Publisher='Marvel Comics', Skin color='-', Alignment='good', Weight='52.0'),\n",
              " Row(_c0='198', name='Danny Cooper', Gender='Male', Eye color='brown', Race='-', Hair color='Blond', Height='-99.0', Publisher='HarperCollins', Skin color='-', Alignment='good', Weight='-99.0'),\n",
              " Row(_c0='199', name='Daphne Powell', Gender='Female', Eye color='-', Race='-', Hair color='-', Height='-99.0', Publisher='ABC Studios', Skin color='-', Alignment='good', Weight='-99.0'),\n",
              " Row(_c0='200', name='Daredevil', Gender='Male', Eye color='blue', Race='Human', Hair color='Red', Height='183.0', Publisher='Marvel Comics', Skin color='-', Alignment='good', Weight='90.0'),\n",
              " Row(_c0='201', name='Darkhawk', Gender='Male', Eye color='brown', Race='Human', Hair color='Brown', Height='185.0', Publisher='Marvel Comics', Skin color='-', Alignment='good', Weight='81.0'),\n",
              " Row(_c0='202', name='Darkman', Gender='Male', Eye color='-', Race='-', Hair color='-', Height='-99.0', Publisher='Universal Studios', Skin color='-', Alignment='good', Weight='-99.0'),\n",
              " Row(_c0='203', name='Darkseid', Gender='Male', Eye color='red', Race='New God', Hair color='No Hair', Height='267.0', Publisher='DC Comics', Skin color='grey', Alignment='bad', Weight='817.0'),\n",
              " Row(_c0='204', name='Darkside', Gender='-', Eye color='-', Race='-', Hair color='-', Height='-99.0', Publisher=None, Skin color='-', Alignment='bad', Weight='-99.0'),\n",
              " Row(_c0='205', name='Darkstar', Gender='Female', Eye color='brown', Race='Mutant', Hair color='Blond', Height='168.0', Publisher='Marvel Comics', Skin color='-', Alignment='good', Weight='56.0'),\n",
              " Row(_c0='206', name='Darth Maul', Gender='Male', Eye color='yellow / red', Race='Dathomirian Zabrak', Hair color='-', Height='170.0', Publisher='George Lucas', Skin color='red / black', Alignment='bad', Weight='-99.0'),\n",
              " Row(_c0='207', name='Darth Vader', Gender='Male', Eye color='yellow', Race='Cyborg', Hair color='No Hair', Height='198.0', Publisher='George Lucas', Skin color='-', Alignment='bad', Weight='135.0'),\n",
              " Row(_c0='208', name='Dash', Gender='Male', Eye color='blue', Race='Human', Hair color='Blond', Height='122.0', Publisher='Dark Horse Comics', Skin color='-', Alignment='good', Weight='27.0'),\n",
              " Row(_c0='209', name='Data', Gender='Male', Eye color='yellow', Race='Android', Hair color='Brown', Height='-99.0', Publisher='Star Trek', Skin color='-', Alignment='good', Weight='-99.0'),\n",
              " Row(_c0='210', name='Dazzler', Gender='Female', Eye color='blue', Race='Mutant', Hair color='Blond', Height='173.0', Publisher='Marvel Comics', Skin color='-', Alignment='good', Weight='52.0'),\n",
              " Row(_c0='211', name='Deadman', Gender='Male', Eye color='blue', Race='Human', Hair color='Black', Height='183.0', Publisher='DC Comics', Skin color='-', Alignment='good', Weight='90.0'),\n",
              " Row(_c0='212', name='Deadpool', Gender='Male', Eye color='brown', Race='Mutant', Hair color='No Hair', Height='188.0', Publisher='Marvel Comics', Skin color='-', Alignment='neutral', Weight='95.0'),\n",
              " Row(_c0='213', name='Deadshot', Gender='Male', Eye color='brown', Race='Human', Hair color='Brown', Height='185.0', Publisher='DC Comics', Skin color='-', Alignment='bad', Weight='91.0'),\n",
              " Row(_c0='214', name='Deathlok', Gender='Male', Eye color='brown', Race='Cyborg', Hair color='Grey', Height='193.0', Publisher='Marvel Comics', Skin color='-', Alignment='good', Weight='178.0'),\n",
              " Row(_c0='215', name='Deathstroke', Gender='Male', Eye color='blue', Race='Human', Hair color='White', Height='193.0', Publisher='DC Comics', Skin color='-', Alignment='neutral', Weight='101.0'),\n",
              " Row(_c0='216', name='Demogoblin', Gender='Male', Eye color='red', Race='Demon', Hair color='No Hair', Height='185.0', Publisher='Marvel Comics', Skin color='-', Alignment='bad', Weight='95.0'),\n",
              " Row(_c0='217', name='Destroyer', Gender='Male', Eye color='-', Race='-', Hair color='-', Height='188.0', Publisher='Marvel Comics', Skin color='-', Alignment='bad', Weight='383.0'),\n",
              " Row(_c0='218', name='Diamondback', Gender='Male', Eye color='brown', Race='Human', Hair color='Black', Height='193.0', Publisher='Marvel Comics', Skin color='-', Alignment='bad', Weight='90.0'),\n",
              " Row(_c0='219', name='DL Hawkins', Gender='Male', Eye color='-', Race='-', Hair color='-', Height='-99.0', Publisher='NBC - Heroes', Skin color='-', Alignment='good', Weight='-99.0'),\n",
              " Row(_c0='220', name='Doc Samson', Gender='Male', Eye color='blue', Race='Human / Radiation', Hair color='Green', Height='198.0', Publisher='Marvel Comics', Skin color='-', Alignment='good', Weight='171.0'),\n",
              " Row(_c0='221', name='Doctor Doom', Gender='Male', Eye color='brown', Race='Human', Hair color='Brown', Height='201.0', Publisher='Marvel Comics', Skin color='-', Alignment='bad', Weight='187.0'),\n",
              " Row(_c0='222', name='Doctor Doom II', Gender='Male', Eye color='brown', Race='-', Hair color='Brown', Height='201.0', Publisher='Marvel Comics', Skin color='-', Alignment='bad', Weight='132.0'),\n",
              " Row(_c0='223', name='Doctor Fate', Gender='Male', Eye color='blue', Race='Human', Hair color='Blond', Height='188.0', Publisher='DC Comics', Skin color='-', Alignment='good', Weight='89.0'),\n",
              " Row(_c0='224', name='Doctor Octopus', Gender='Male', Eye color='brown', Race='Human', Hair color='Brown', Height='175.0', Publisher='Marvel Comics', Skin color='-', Alignment='bad', Weight='110.0'),\n",
              " Row(_c0='225', name='Doctor Strange', Gender='Male', Eye color='grey', Race='Human', Hair color='Black', Height='188.0', Publisher='Marvel Comics', Skin color='-', Alignment='good', Weight='81.0'),\n",
              " Row(_c0='226', name='Domino', Gender='Female', Eye color='blue', Race='Human', Hair color='Black', Height='173.0', Publisher='Marvel Comics', Skin color='white', Alignment='good', Weight='54.0'),\n",
              " Row(_c0='227', name='Donatello', Gender='Male', Eye color='green', Race='Mutant', Hair color='No Hair', Height='-99.0', Publisher='IDW Publishing', Skin color='green', Alignment='good', Weight='-99.0'),\n",
              " Row(_c0='228', name='Donna Troy', Gender='Female', Eye color='blue', Race='Amazon', Hair color='Black', Height='175.0', Publisher='DC Comics', Skin color='-', Alignment='good', Weight='63.0'),\n",
              " Row(_c0='229', name='Doomsday', Gender='Male', Eye color='red', Race='Alien', Hair color='White', Height='244.0', Publisher='DC Comics', Skin color='-', Alignment='bad', Weight='412.0'),\n",
              " Row(_c0='230', name='Doppelganger', Gender='Male', Eye color='white', Race='-', Hair color='No Hair', Height='196.0', Publisher='Marvel Comics', Skin color='-', Alignment='bad', Weight='104.0'),\n",
              " Row(_c0='231', name='Dormammu', Gender='Male', Eye color='yellow', Race='-', Hair color='No Hair', Height='185.0', Publisher='Marvel Comics', Skin color='-', Alignment='bad', Weight='-99.0'),\n",
              " Row(_c0='232', name='Dr Manhattan', Gender='Male', Eye color='white', Race='Human / Cosmic', Hair color='No Hair', Height='-99.0', Publisher='DC Comics', Skin color='blue', Alignment='good', Weight='-99.0'),\n",
              " Row(_c0='233', name='Drax the Destroyer', Gender='Male', Eye color='red', Race='Human / Altered', Hair color='No Hair', Height='193.0', Publisher='Marvel Comics', Skin color='green', Alignment='good', Weight='306.0'),\n",
              " Row(_c0='234', name='Ego', Gender='-', Eye color='-', Race='-', Hair color='-', Height='-99.0', Publisher='Marvel Comics', Skin color='-', Alignment='bad', Weight='-99.0'),\n",
              " Row(_c0='235', name='Elastigirl', Gender='Female', Eye color='brown', Race='Human', Hair color='Brown', Height='168.0', Publisher='Dark Horse Comics', Skin color='-', Alignment='good', Weight='56.0'),\n",
              " Row(_c0='236', name='Electro', Gender='Male', Eye color='blue', Race='Human', Hair color='Auburn', Height='180.0', Publisher='Marvel Comics', Skin color='-', Alignment='bad', Weight='74.0'),\n",
              " Row(_c0='237', name='Elektra', Gender='Female', Eye color='blue', Race='Human', Hair color='Black', Height='175.0', Publisher='Marvel Comics', Skin color='-', Alignment='good', Weight='59.0'),\n",
              " Row(_c0='238', name='Elle Bishop', Gender='Female', Eye color='blue', Race='-', Hair color='Blond', Height='-99.0', Publisher='NBC - Heroes', Skin color='-', Alignment='bad', Weight='-99.0'),\n",
              " Row(_c0='239', name='Elongated Man', Gender='Male', Eye color='blue', Race='-', Hair color='Red', Height='185.0', Publisher='DC Comics', Skin color='-', Alignment='good', Weight='80.0'),\n",
              " Row(_c0='240', name='Emma Frost', Gender='Female', Eye color='blue', Race='-', Hair color='Blond', Height='178.0', Publisher='Marvel Comics', Skin color='-', Alignment='good', Weight='65.0'),\n",
              " Row(_c0='241', name='Enchantress', Gender='Female', Eye color='blue', Race='Human', Hair color='Blond', Height='168.0', Publisher='DC Comics', Skin color='-', Alignment='good', Weight='57.0'),\n",
              " Row(_c0='242', name='Energy', Gender='Female', Eye color='-', Race='-', Hair color='-', Height='-99.0', Publisher='HarperCollins', Skin color='-', Alignment='good', Weight='-99.0'),\n",
              " Row(_c0='243', name='ERG-1', Gender='Male', Eye color='-', Race='-', Hair color='-', Height='-99.0', Publisher='DC Comics', Skin color='-', Alignment='good', Weight='-99.0'),\n",
              " Row(_c0='244', name='Ethan Hunt', Gender='Male', Eye color='brown', Race='Human', Hair color='Brown', Height='168.0', Publisher=None, Skin color='-', Alignment='good', Weight='-99.0'),\n",
              " Row(_c0='245', name='Etrigan', Gender='Male', Eye color='red', Race='Demon', Hair color='No Hair', Height='193.0', Publisher='DC Comics', Skin color='yellow', Alignment='neutral', Weight='203.0'),\n",
              " Row(_c0='246', name='Evil Deadpool', Gender='Male', Eye color='white', Race='Mutant', Hair color='Red', Height='188.0', Publisher='Marvel Comics', Skin color='-', Alignment='bad', Weight='95.0'),\n",
              " Row(_c0='247', name='Evilhawk', Gender='Male', Eye color='red', Race='Alien', Hair color='Black', Height='191.0', Publisher='Marvel Comics', Skin color='green', Alignment='bad', Weight='106.0'),\n",
              " Row(_c0='248', name='Exodus', Gender='Male', Eye color='blue', Race='Mutant', Hair color='Black', Height='183.0', Publisher='Marvel Comics', Skin color='red', Alignment='bad', Weight='88.0'),\n",
              " Row(_c0='249', name='Fabian Cortez', Gender='-', Eye color='blue', Race='-', Hair color='Brown', Height='196.0', Publisher='Marvel Comics', Skin color='-', Alignment='bad', Weight='96.0'),\n",
              " Row(_c0='250', name='Falcon', Gender='Male', Eye color='brown', Race='Human', Hair color='Black', Height='188.0', Publisher='Marvel Comics', Skin color='-', Alignment='good', Weight='108.0'),\n",
              " Row(_c0='251', name='Fallen One II', Gender='Male', Eye color='black', Race='-', Hair color='Blue', Height='-99.0', Publisher='Marvel Comics', Skin color='-', Alignment='bad', Weight='-99.0'),\n",
              " Row(_c0='252', name='Faora', Gender='Female', Eye color='-', Race='Kryptonian', Hair color='-', Height='-99.0', Publisher='DC Comics', Skin color='-', Alignment='bad', Weight='-99.0'),\n",
              " Row(_c0='253', name='Feral', Gender='-', Eye color='yellow (without irises)', Race='-', Hair color='Orange / White', Height='175.0', Publisher='Marvel Comics', Skin color='-', Alignment='good', Weight='50.0'),\n",
              " Row(_c0='254', name='Fighting Spirit', Gender='Female', Eye color='-', Race='-', Hair color='Red', Height='-99.0', Publisher='DC Comics', Skin color='-', Alignment='good', Weight='-99.0'),\n",
              " Row(_c0='255', name='Fin Fang Foom', Gender='Male', Eye color='red', Race='Kakarantharaian', Hair color='No Hair', Height='975.0', Publisher='Marvel Comics', Skin color='green', Alignment='good', Weight='18.0'),\n",
              " Row(_c0='256', name='Firebird', Gender='Female', Eye color='brown', Race='-', Hair color='Black', Height='165.0', Publisher='Marvel Comics', Skin color='-', Alignment='good', Weight='56.0'),\n",
              " Row(_c0='257', name='Firelord', Gender='-', Eye color='white', Race='-', Hair color='Yellow', Height='193.0', Publisher='Marvel Comics', Skin color='-', Alignment='good', Weight='99.0'),\n",
              " Row(_c0='258', name='Firestar', Gender='Female', Eye color='green', Race='Mutant', Hair color='Red', Height='173.0', Publisher='Marvel Comics', Skin color='-', Alignment='good', Weight='56.0'),\n",
              " Row(_c0='259', name='Firestorm', Gender='Male', Eye color='brown', Race='-', Hair color='Black', Height='-99.0', Publisher='DC Comics', Skin color='-', Alignment='good', Weight='-99.0'),\n",
              " Row(_c0='260', name='Firestorm', Gender='Male', Eye color='blue', Race='Human', Hair color='Auburn', Height='188.0', Publisher='DC Comics', Skin color='-', Alignment='good', Weight='91.0'),\n",
              " Row(_c0='261', name='Fixer', Gender='-', Eye color='red', Race='-', Hair color='No Hair', Height='-99.0', Publisher='Marvel Comics', Skin color='-', Alignment='bad', Weight='-99.0'),\n",
              " Row(_c0='262', name='Flash', Gender='Male', Eye color='blue', Race='Human', Hair color='Brown / White', Height='180.0', Publisher='DC Comics', Skin color='-', Alignment='good', Weight='81.0'),\n",
              " Row(_c0='263', name='Flash Gordon', Gender='Male', Eye color='-', Race='-', Hair color='-', Height='-99.0', Publisher=None, Skin color='-', Alignment='good', Weight='-99.0'),\n",
              " Row(_c0='264', name='Flash II', Gender='Male', Eye color='blue', Race='Human', Hair color='Blond', Height='183.0', Publisher='DC Comics', Skin color='-', Alignment='good', Weight='88.0'),\n",
              " Row(_c0='265', name='Flash III', Gender='Male', Eye color='-', Race='Human', Hair color='-', Height='183.0', Publisher='DC Comics', Skin color='-', Alignment='good', Weight='86.0'),\n",
              " Row(_c0='266', name='Flash IV', Gender='Male', Eye color='yellow', Race='Human', Hair color='Auburn', Height='157.0', Publisher='DC Comics', Skin color='-', Alignment='good', Weight='52.0'),\n",
              " Row(_c0='267', name='Forge', Gender='-', Eye color='brown', Race='-', Hair color='Black', Height='183.0', Publisher='Marvel Comics', Skin color='-', Alignment='good', Weight='81.0'),\n",
              " Row(_c0='268', name='Franklin Richards', Gender='Male', Eye color='blue', Race='Mutant', Hair color='Blond', Height='142.0', Publisher='Marvel Comics', Skin color='-', Alignment='good', Weight='45.0'),\n",
              " Row(_c0='269', name='Franklin Storm', Gender='-', Eye color='blue', Race='-', Hair color='Grey', Height='188.0', Publisher='Marvel Comics', Skin color='-', Alignment='good', Weight='92.0'),\n",
              " Row(_c0='270', name='Frenzy', Gender='Female', Eye color='brown', Race='-', Hair color='Black', Height='211.0', Publisher='Marvel Comics', Skin color='-', Alignment='bad', Weight='104.0'),\n",
              " Row(_c0='271', name='Frigga', Gender='Female', Eye color='blue', Race='-', Hair color='White', Height='180.0', Publisher='Marvel Comics', Skin color='-', Alignment='good', Weight='167.0'),\n",
              " Row(_c0='272', name='Galactus', Gender='Male', Eye color='black', Race='Cosmic Entity', Hair color='Black', Height='876.0', Publisher='Marvel Comics', Skin color='-', Alignment='neutral', Weight='16.0'),\n",
              " Row(_c0='273', name='Gambit', Gender='Male', Eye color='red', Race='Mutant', Hair color='Brown', Height='185.0', Publisher='Marvel Comics', Skin color='-', Alignment='good', Weight='81.0'),\n",
              " Row(_c0='274', name='Gamora', Gender='Female', Eye color='yellow', Race='Zen-Whoberian', Hair color='Black', Height='183.0', Publisher='Marvel Comics', Skin color='green', Alignment='good', Weight='77.0'),\n",
              " Row(_c0='275', name='Garbage Man', Gender='Male', Eye color='-', Race='Mutant', Hair color='-', Height='-99.0', Publisher='DC Comics', Skin color='-', Alignment='good', Weight='-99.0'),\n",
              " Row(_c0='276', name='Gary Bell', Gender='Male', Eye color='-', Race='Alpha', Hair color='-', Height='-99.0', Publisher='SyFy', Skin color='-', Alignment='good', Weight='-99.0'),\n",
              " Row(_c0='277', name='General Zod', Gender='Male', Eye color='black', Race='Kryptonian', Hair color='Black', Height='-99.0', Publisher='DC Comics', Skin color='-', Alignment='bad', Weight='-99.0'),\n",
              " Row(_c0='278', name='Genesis', Gender='Male', Eye color='blue', Race='-', Hair color='Blond', Height='185.0', Publisher='Marvel Comics', Skin color='-', Alignment='good', Weight='86.0'),\n",
              " Row(_c0='279', name='Ghost Rider', Gender='Male', Eye color='red', Race='Demon', Hair color='No Hair', Height='188.0', Publisher='Marvel Comics', Skin color='-', Alignment='good', Weight='99.0'),\n",
              " Row(_c0='280', name='Ghost Rider II', Gender='-', Eye color='-', Race='-', Hair color='-', Height='-99.0', Publisher='Marvel Comics', Skin color='-', Alignment='good', Weight='-99.0'),\n",
              " Row(_c0='281', name='Giant-Man', Gender='Male', Eye color='-', Race='Human', Hair color='-', Height='-99.0', Publisher='Marvel Comics', Skin color='-', Alignment='good', Weight='-99.0'),\n",
              " Row(_c0='282', name='Giant-Man II', Gender='Male', Eye color='-', Race='-', Hair color='-', Height='-99.0', Publisher='Marvel Comics', Skin color='-', Alignment='good', Weight='-99.0'),\n",
              " Row(_c0='283', name='Giganta', Gender='Female', Eye color='green', Race='-', Hair color='Red', Height='62.5', Publisher='DC Comics', Skin color='-', Alignment='bad', Weight='630.0'),\n",
              " Row(_c0='284', name='Gladiator', Gender='Male', Eye color='blue', Race='Strontian', Hair color='Blue', Height='198.0', Publisher='Marvel Comics', Skin color='purple', Alignment='neutral', Weight='268.0'),\n",
              " Row(_c0='285', name='Goblin Queen', Gender='Female', Eye color='green', Race='-', Hair color='Red', Height='168.0', Publisher='Marvel Comics', Skin color='-', Alignment='bad', Weight='50.0'),\n",
              " Row(_c0='286', name='Godzilla', Gender='-', Eye color='-', Race='Kaiju', Hair color='-', Height='108.0', Publisher=None, Skin color='grey', Alignment='bad', Weight=None),\n",
              " Row(_c0='287', name='Gog', Gender='Male', Eye color='-', Race='-', Hair color='-', Height='-99.0', Publisher='DC Comics', Skin color='-', Alignment='bad', Weight='-99.0'),\n",
              " Row(_c0='288', name='Goku', Gender='Male', Eye color='-', Race='Saiyan', Hair color='-', Height='175.0', Publisher='Shueisha', Skin color='-', Alignment='good', Weight='62.0'),\n",
              " Row(_c0='289', name='Goliath', Gender='Male', Eye color='-', Race='-', Hair color='-', Height='-99.0', Publisher='Marvel Comics', Skin color='-', Alignment='good', Weight='-99.0'),\n",
              " Row(_c0='290', name='Goliath', Gender='Male', Eye color='-', Race='Human', Hair color='-', Height='-99.0', Publisher='Marvel Comics', Skin color='-', Alignment='good', Weight='-99.0'),\n",
              " Row(_c0='291', name='Goliath', Gender='Male', Eye color='-', Race='Human', Hair color='-', Height='-99.0', Publisher='Marvel Comics', Skin color='-', Alignment='good', Weight='-99.0'),\n",
              " Row(_c0='292', name='Goliath IV', Gender='Male', Eye color='brown', Race='-', Hair color='Black', Height='183.0', Publisher='Marvel Comics', Skin color='-', Alignment='good', Weight='90.0'),\n",
              " Row(_c0='293', name='Gorilla Grodd', Gender='Male', Eye color='yellow', Race='Gorilla', Hair color='Black', Height='198.0', Publisher='DC Comics', Skin color='-', Alignment='bad', Weight='270.0'),\n",
              " Row(_c0='294', name='Granny Goodness', Gender='Female', Eye color='blue', Race='-', Hair color='White', Height='178.0', Publisher='DC Comics', Skin color='-', Alignment='bad', Weight='115.0'),\n",
              " Row(_c0='295', name='Gravity', Gender='Male', Eye color='blue', Race='Human', Hair color='Brown', Height='178.0', Publisher='Marvel Comics', Skin color='-', Alignment='good', Weight='79.0'),\n",
              " Row(_c0='296', name='Greedo', Gender='Male', Eye color='purple', Race='Rodian', Hair color='-', Height='170.0', Publisher='George Lucas', Skin color='green', Alignment='bad', Weight='-99.0'),\n",
              " Row(_c0='297', name='Green Arrow', Gender='Male', Eye color='green', Race='Human', Hair color='Blond', Height='188.0', Publisher='DC Comics', Skin color='-', Alignment='good', Weight='88.0'),\n",
              " Row(_c0='298', name='Green Goblin', Gender='Male', Eye color='blue', Race='Human', Hair color='Auburn', Height='180.0', Publisher='Marvel Comics', Skin color='-', Alignment='bad', Weight='83.0'),\n",
              " Row(_c0='299', name='Green Goblin II', Gender='Male', Eye color='blue', Race='-', Hair color='Auburn', Height='178.0', Publisher='Marvel Comics', Skin color='-', Alignment='bad', Weight='77.0'),\n",
              " Row(_c0='300', name='Green Goblin III', Gender='Male', Eye color='-', Race='-', Hair color='-', Height='183.0', Publisher='Marvel Comics', Skin color='-', Alignment='good', Weight='88.0'),\n",
              " Row(_c0='301', name='Green Goblin IV', Gender='Male', Eye color='green', Race='-', Hair color='Brown', Height='178.0', Publisher='Marvel Comics', Skin color='-', Alignment='good', Weight='79.0'),\n",
              " Row(_c0='302', name='Groot', Gender='Male', Eye color='yellow', Race='Flora Colossus', Hair color='-', Height='701.0', Publisher='Marvel Comics', Skin color='-', Alignment='good', Weight='4.0'),\n",
              " Row(_c0='303', name='Guardian', Gender='Male', Eye color='brown', Race='Human', Hair color='Black', Height='-99.0', Publisher='Marvel Comics', Skin color='-', Alignment='good', Weight='-99.0'),\n",
              " Row(_c0='304', name='Guy Gardner', Gender='Male', Eye color='blue', Race='Human-Vuldarian', Hair color='Red', Height='188.0', Publisher='DC Comics', Skin color='-', Alignment='good', Weight='95.0'),\n",
              " Row(_c0='305', name='Hal Jordan', Gender='Male', Eye color='brown', Race='Human', Hair color='Brown', Height='188.0', Publisher='DC Comics', Skin color='-', Alignment='good', Weight='90.0'),\n",
              " Row(_c0='306', name='Han Solo', Gender='Male', Eye color='brown', Race='Human', Hair color='Brown', Height='183.0', Publisher='George Lucas', Skin color='-', Alignment='good', Weight='79.0'),\n",
              " Row(_c0='307', name='Hancock', Gender='Male', Eye color='brown', Race='Human', Hair color='Black', Height='188.0', Publisher='Sony Pictures', Skin color='-', Alignment='good', Weight='-99.0'),\n",
              " Row(_c0='308', name='Harley Quinn', Gender='Female', Eye color='blue', Race='Human', Hair color='Blond', Height='170.0', Publisher='DC Comics', Skin color='-', Alignment='bad', Weight='63.0'),\n",
              " Row(_c0='309', name='Harry Potter', Gender='Male', Eye color='green', Race='Human', Hair color='Black', Height='-99.0', Publisher='J. K. Rowling', Skin color='-', Alignment='good', Weight='-99.0'),\n",
              " Row(_c0='310', name='Havok', Gender='Male', Eye color='blue', Race='Mutant', Hair color='Blond', Height='183.0', Publisher='Marvel Comics', Skin color='-', Alignment='good', Weight='79.0'),\n",
              " Row(_c0='311', name='Hawk', Gender='Male', Eye color='red', Race='-', Hair color='Brown', Height='185.0', Publisher='DC Comics', Skin color='-', Alignment='good', Weight='89.0'),\n",
              " Row(_c0='312', name='Hawkeye', Gender='Male', Eye color='blue', Race='Human', Hair color='Blond', Height='191.0', Publisher='Marvel Comics', Skin color='-', Alignment='good', Weight='104.0'),\n",
              " Row(_c0='313', name='Hawkeye II', Gender='Female', Eye color='blue', Race='Human', Hair color='Black', Height='165.0', Publisher='Marvel Comics', Skin color='-', Alignment='good', Weight='57.0'),\n",
              " Row(_c0='314', name='Hawkgirl', Gender='Female', Eye color='green', Race='-', Hair color='Red', Height='175.0', Publisher='DC Comics', Skin color='-', Alignment='good', Weight='61.0'),\n",
              " Row(_c0='315', name='Hawkman', Gender='Male', Eye color='blue', Race='-', Hair color='Brown', Height='185.0', Publisher='DC Comics', Skin color='-', Alignment='good', Weight='88.0'),\n",
              " Row(_c0='316', name='Hawkwoman', Gender='Female', Eye color='green', Race='-', Hair color='Red', Height='175.0', Publisher='DC Comics', Skin color='-', Alignment='good', Weight='54.0'),\n",
              " Row(_c0='317', name='Hawkwoman II', Gender='Female', Eye color='-', Race='-', Hair color='-', Height='-99.0', Publisher='DC Comics', Skin color='-', Alignment='good', Weight='-99.0'),\n",
              " Row(_c0='318', name='Hawkwoman III', Gender='Female', Eye color='blue', Race='-', Hair color='Red', Height='170.0', Publisher='DC Comics', Skin color='-', Alignment='good', Weight='65.0'),\n",
              " Row(_c0='319', name='Heat Wave', Gender='Male', Eye color='blue', Race='Human', Hair color='No Hair', Height='180.0', Publisher='DC Comics', Skin color='-', Alignment='bad', Weight='81.0'),\n",
              " Row(_c0='320', name='Hela', Gender='Female', Eye color='green', Race='Asgardian', Hair color='Black', Height='213.0', Publisher='Marvel Comics', Skin color='-', Alignment='bad', Weight='225.0'),\n",
              " Row(_c0='321', name='Hellboy', Gender='Male', Eye color='gold', Race='Demon', Hair color='Black', Height='259.0', Publisher='Dark Horse Comics', Skin color='-', Alignment='good', Weight='158.0'),\n",
              " Row(_c0='322', name='Hellcat', Gender='Female', Eye color='blue', Race='Human', Hair color='Red', Height='173.0', Publisher='Marvel Comics', Skin color='-', Alignment='good', Weight='61.0'),\n",
              " Row(_c0='323', name='Hellstorm', Gender='Male', Eye color='red', Race='-', Hair color='Red', Height='185.0', Publisher='Marvel Comics', Skin color='-', Alignment='good', Weight='81.0'),\n",
              " Row(_c0='324', name='Hercules', Gender='Male', Eye color='blue', Race='Demi-God', Hair color='Brown', Height='196.0', Publisher='Marvel Comics', Skin color='-', Alignment='good', Weight='146.0'),\n",
              " Row(_c0='325', name='Hiro Nakamura', Gender='Male', Eye color='-', Race='-', Hair color='-', Height='-99.0', Publisher='NBC - Heroes', Skin color='-', Alignment='good', Weight='-99.0'),\n",
              " Row(_c0='326', name='Hit-Girl', Gender='Female', Eye color='-', Race='Human', Hair color='-', Height='-99.0', Publisher='Icon Comics', Skin color='-', Alignment='good', Weight='-99.0'),\n",
              " Row(_c0='327', name='Hobgoblin', Gender='Male', Eye color='blue', Race='-', Hair color='Grey', Height='180.0', Publisher='Marvel Comics', Skin color='-', Alignment='bad', Weight='83.0'),\n",
              " Row(_c0='328', name='Hollow', Gender='Female', Eye color='blue', Race='-', Hair color='Red', Height='170.0', Publisher='Marvel Comics', Skin color='-', Alignment='good', Weight='-99.0'),\n",
              " Row(_c0='329', name='Hope Summers', Gender='Female', Eye color='green', Race='-', Hair color='Red', Height='168.0', Publisher='Marvel Comics', Skin color='-', Alignment='good', Weight='48.0'),\n",
              " Row(_c0='330', name='Howard the Duck', Gender='Male', Eye color='brown', Race='-', Hair color='Yellow', Height='79.0', Publisher='Marvel Comics', Skin color='-', Alignment='good', Weight='18.0'),\n",
              " Row(_c0='331', name='Hulk', Gender='Male', Eye color='green', Race='Human / Radiation', Hair color='Green', Height='244.0', Publisher='Marvel Comics', Skin color='green', Alignment='good', Weight='630.0'),\n",
              " Row(_c0='332', name='Human Torch', Gender='Male', Eye color='blue', Race='Human / Radiation', Hair color='Blond', Height='178.0', Publisher='Marvel Comics', Skin color='-', Alignment='good', Weight='77.0'),\n",
              " Row(_c0='333', name='Huntress', Gender='Female', Eye color='blue', Race='-', Hair color='Black', Height='180.0', Publisher='DC Comics', Skin color='-', Alignment='good', Weight='59.0'),\n",
              " Row(_c0='334', name='Husk', Gender='Female', Eye color='blue', Race='Mutant', Hair color='Blond', Height='170.0', Publisher='Marvel Comics', Skin color='-', Alignment='good', Weight='58.0'),\n",
              " Row(_c0='335', name='Hybrid', Gender='Male', Eye color='brown', Race='Symbiote', Hair color='Black', Height='175.0', Publisher='Marvel Comics', Skin color='-', Alignment='good', Weight='77.0'),\n",
              " Row(_c0='336', name='Hydro-Man', Gender='Male', Eye color='brown', Race='-', Hair color='Brown', Height='188.0', Publisher='Marvel Comics', Skin color='-', Alignment='bad', Weight='119.0'),\n",
              " Row(_c0='337', name='Hyperion', Gender='Male', Eye color='blue', Race='Eternal', Hair color='Red', Height='183.0', Publisher='Marvel Comics', Skin color='-', Alignment='good', Weight='207.0'),\n",
              " Row(_c0='338', name='Iceman', Gender='Male', Eye color='brown', Race='Mutant', Hair color='Brown', Height='173.0', Publisher='Marvel Comics', Skin color='-', Alignment='good', Weight='65.0'),\n",
              " Row(_c0='339', name='Impulse', Gender='Male', Eye color='yellow', Race='Human', Hair color='Auburn', Height='170.0', Publisher='DC Comics', Skin color='-', Alignment='good', Weight='65.0'),\n",
              " Row(_c0='340', name='Indiana Jones', Gender='Male', Eye color='-', Race='Human', Hair color='-', Height='183.0', Publisher='George Lucas', Skin color='-', Alignment='good', Weight='79.0'),\n",
              " Row(_c0='341', name='Indigo', Gender='Female', Eye color='-', Race='Alien', Hair color='Purple', Height='-99.0', Publisher='DC Comics', Skin color='-', Alignment='neutral', Weight='-99.0'),\n",
              " Row(_c0='342', name='Ink', Gender='Male', Eye color='blue', Race='Mutant', Hair color='No Hair', Height='180.0', Publisher='Marvel Comics', Skin color='-', Alignment='good', Weight='81.0'),\n",
              " Row(_c0='343', name='Invisible Woman', Gender='Female', Eye color='blue', Race='Human / Radiation', Hair color='Blond', Height='168.0', Publisher='Marvel Comics', Skin color='-', Alignment='good', Weight='54.0'),\n",
              " Row(_c0='344', name='Iron Fist', Gender='Male', Eye color='blue', Race='Human', Hair color='Blond', Height='180.0', Publisher='Marvel Comics', Skin color='-', Alignment='good', Weight='79.0'),\n",
              " Row(_c0='345', name='Iron Man', Gender='Male', Eye color='blue', Race='Human', Hair color='Black', Height='198.0', Publisher='Marvel Comics', Skin color='-', Alignment='good', Weight='191.0'),\n",
              " Row(_c0='346', name='Iron Monger', Gender='Male', Eye color='blue', Race='-', Hair color='No Hair', Height='-99.0', Publisher='Marvel Comics', Skin color='-', Alignment='bad', Weight='2.0'),\n",
              " Row(_c0='347', name='Isis', Gender='Female', Eye color='-', Race='-', Hair color='-', Height='-99.0', Publisher='DC Comics', Skin color='-', Alignment='good', Weight='-99.0'),\n",
              " Row(_c0='348', name='Jack Bauer', Gender='Male', Eye color='-', Race='-', Hair color='-', Height='-99.0', Publisher=None, Skin color='-', Alignment='good', Weight='-99.0'),\n",
              " Row(_c0='349', name='Jack of Hearts', Gender='Male', Eye color='blue / white', Race='Human', Hair color='Brown', Height='155.0', Publisher='Marvel Comics', Skin color='-', Alignment='good', Weight='79.0'),\n",
              " Row(_c0='350', name='Jack-Jack', Gender='Male', Eye color='blue', Race='Human', Hair color='Brown', Height='71.0', Publisher='Dark Horse Comics', Skin color='-', Alignment='good', Weight='14.0'),\n",
              " Row(_c0='351', name='James Bond', Gender='Male', Eye color='blue', Race='Human', Hair color='Blond', Height='183.0', Publisher='Titan Books', Skin color='-', Alignment='good', Weight='-99.0'),\n",
              " Row(_c0='352', name='James T. Kirk', Gender='Male', Eye color='hazel', Race='Human', Hair color='Brown', Height='178.0', Publisher='Star Trek', Skin color='-', Alignment='good', Weight='77.0'),\n",
              " Row(_c0='353', name='Jar Jar Binks', Gender='Male', Eye color='yellow', Race='Gungan', Hair color='-', Height='193.0', Publisher='George Lucas', Skin color='orange / white', Alignment='good', Weight='-99.0'),\n",
              " Row(_c0='354', name='Jason Bourne', Gender='Male', Eye color='-', Race='Human', Hair color='-', Height='-99.0', Publisher=None, Skin color='-', Alignment='good', Weight='-99.0'),\n",
              " Row(_c0='355', name='Jean Grey', Gender='Female', Eye color='green', Race='Mutant', Hair color='Red', Height='168.0', Publisher='Marvel Comics', Skin color='-', Alignment='good', Weight='52.0'),\n",
              " Row(_c0='356', name='Jean-Luc Picard', Gender='Male', Eye color='-', Race='Human', Hair color='-', Height='-99.0', Publisher='Star Trek', Skin color='-', Alignment='good', Weight='-99.0'),\n",
              " Row(_c0='357', name='Jennifer Kale', Gender='Female', Eye color='blue', Race='-', Hair color='Blond', Height='168.0', Publisher='Marvel Comics', Skin color='-', Alignment='good', Weight='55.0'),\n",
              " Row(_c0='358', name='Jesse Quick', Gender='Female', Eye color='-', Race='Human', Hair color='-', Height='-99.0', Publisher='DC Comics', Skin color='-', Alignment='good', Weight='-99.0'),\n",
              " Row(_c0='359', name='Jessica Cruz', Gender='Female', Eye color='green', Race='Human', Hair color='Brown', Height='-99.0', Publisher='DC Comics', Skin color='-', Alignment='good', Weight='-99.0'),\n",
              " Row(_c0='360', name='Jessica Jones', Gender='Female', Eye color='brown', Race='Human', Hair color='Brown', Height='170.0', Publisher='Marvel Comics', Skin color='-', Alignment='good', Weight='56.0'),\n",
              " Row(_c0='361', name='Jessica Sanders', Gender='Female', Eye color='-', Race='-', Hair color='-', Height='-99.0', Publisher='NBC - Heroes', Skin color='-', Alignment='good', Weight='-99.0'),\n",
              " Row(_c0='362', name='Jigsaw', Gender='Male', Eye color='blue', Race='-', Hair color='Black', Height='188.0', Publisher='Marvel Comics', Skin color='-', Alignment='bad', Weight='113.0'),\n",
              " Row(_c0='363', name='Jim Powell', Gender='Male', Eye color='-', Race='-', Hair color='-', Height='-99.0', Publisher='ABC Studios', Skin color='-', Alignment='good', Weight='-99.0'),\n",
              " Row(_c0='364', name='JJ Powell', Gender='Male', Eye color='-', Race='-', Hair color='-', Height='-99.0', Publisher='ABC Studios', Skin color='-', Alignment='good', Weight='-99.0'),\n",
              " Row(_c0='365', name='Johann Krauss', Gender='Male', Eye color='-', Race='-', Hair color='-', Height='-99.0', Publisher='Dark Horse Comics', Skin color='-', Alignment='good', Weight='-99.0'),\n",
              " Row(_c0='366', name='John Constantine', Gender='Male', Eye color='blue', Race='Human', Hair color='Blond', Height='183.0', Publisher='DC Comics', Skin color='-', Alignment='good', Weight='-99.0'),\n",
              " Row(_c0='367', name='John Stewart', Gender='Male', Eye color='green', Race='Human', Hair color='Black', Height='185.0', Publisher='DC Comics', Skin color='-', Alignment='good', Weight='90.0'),\n",
              " Row(_c0='368', name='John Wraith', Gender='Male', Eye color='brown', Race='-', Hair color='Black', Height='183.0', Publisher='Marvel Comics', Skin color='-', Alignment='good', Weight='88.0'),\n",
              " Row(_c0='369', name='Joker', Gender='Male', Eye color='green', Race='Human', Hair color='Green', Height='196.0', Publisher='DC Comics', Skin color='white', Alignment='bad', Weight='86.0'),\n",
              " Row(_c0='370', name='Jolt', Gender='Female', Eye color='blue', Race='-', Hair color='Black', Height='165.0', Publisher='Marvel Comics', Skin color='-', Alignment='good', Weight='49.0'),\n",
              " Row(_c0='371', name='Jubilee', Gender='Female', Eye color='red', Race='Mutant', Hair color='Black', Height='165.0', Publisher='Marvel Comics', Skin color='-', Alignment='good', Weight='52.0'),\n",
              " Row(_c0='372', name='Judge Dredd', Gender='Male', Eye color='-', Race='Human', Hair color='-', Height='188.0', Publisher='Rebellion', Skin color='-', Alignment='good', Weight='-99.0'),\n",
              " Row(_c0='373', name='Juggernaut', Gender='Male', Eye color='blue', Race='Human', Hair color='Red', Height='287.0', Publisher='Marvel Comics', Skin color='-', Alignment='neutral', Weight='855.0'),\n",
              " Row(_c0='374', name='Junkpile', Gender='Male', Eye color='-', Race='Mutant', Hair color='-', Height='-99.0', Publisher='Marvel Comics', Skin color='-', Alignment='bad', Weight='-99.0'),\n",
              " Row(_c0='375', name='Justice', Gender='Male', Eye color='hazel', Race='Human', Hair color='Brown', Height='178.0', Publisher='Marvel Comics', Skin color='-', Alignment='good', Weight='81.0'),\n",
              " Row(_c0='376', name='Jyn Erso', Gender='Female', Eye color='green', Race='Human', Hair color='Brown', Height='-99.0', Publisher='George Lucas', Skin color='-', Alignment='good', Weight='-99.0'),\n",
              " Row(_c0='377', name='K-2SO', Gender='Male', Eye color='white', Race='Android', Hair color='No Hair', Height='213.0', Publisher='George Lucas', Skin color='gray', Alignment='good', Weight='-99.0'),\n",
              " Row(_c0='378', name='Kang', Gender='Male', Eye color='brown', Race='-', Hair color='Brown', Height='191.0', Publisher='Marvel Comics', Skin color='-', Alignment='bad', Weight='104.0'),\n",
              " Row(_c0='379', name='Karate Kid', Gender='Male', Eye color='brown', Race='Human', Hair color='Brown', Height='173.0', Publisher='DC Comics', Skin color='-', Alignment='good', Weight='72.0'),\n",
              " Row(_c0='380', name='Kathryn Janeway', Gender='Female', Eye color='-', Race='Human', Hair color='-', Height='-99.0', Publisher='Star Trek', Skin color='-', Alignment='good', Weight='-99.0'),\n",
              " Row(_c0='381', name='Katniss Everdeen', Gender='Female', Eye color='-', Race='Human', Hair color='-', Height='-99.0', Publisher=None, Skin color='-', Alignment='good', Weight='-99.0'),\n",
              " Row(_c0='382', name='Kevin 11', Gender='Male', Eye color='-', Race='Human', Hair color='Black', Height='-99.0', Publisher='DC Comics', Skin color='-', Alignment='good', Weight='-99.0'),\n",
              " Row(_c0='383', name='Kick-Ass', Gender='Male', Eye color='blue', Race='Human', Hair color='Blond', Height='-99.0', Publisher='Icon Comics', Skin color='-', Alignment='good', Weight='-99.0'),\n",
              " Row(_c0='384', name='Kid Flash', Gender='Male', Eye color='green', Race='Human', Hair color='Red', Height='-99.0', Publisher='DC Comics', Skin color='-', Alignment='good', Weight='-99.0'),\n",
              " Row(_c0='385', name='Kid Flash II', Gender='Male', Eye color='-', Race='-', Hair color='-', Height='-99.0', Publisher='DC Comics', Skin color='-', Alignment='good', Weight='-99.0'),\n",
              " Row(_c0='386', name='Killer Croc', Gender='Male', Eye color='red', Race='Metahuman', Hair color='No Hair', Height='244.0', Publisher='DC Comics', Skin color='green', Alignment='bad', Weight='356.0'),\n",
              " Row(_c0='387', name='Killer Frost', Gender='Female', Eye color='blue', Race='Human', Hair color='Blond', Height='-99.0', Publisher='DC Comics', Skin color='blue', Alignment='bad', Weight='-99.0'),\n",
              " Row(_c0='388', name='Kilowog', Gender='Male', Eye color='red', Race='Bolovaxian', Hair color='No Hair', Height='234.0', Publisher='DC Comics', Skin color='pink', Alignment='good', Weight='324.0'),\n",
              " Row(_c0='389', name='King Kong', Gender='Male', Eye color='yellow', Race='Animal', Hair color='Black', Height='30.5', Publisher=None, Skin color='-', Alignment='good', Weight=None),\n",
              " Row(_c0='390', name='King Shark', Gender='Male', Eye color='black', Race='Animal', Hair color='No Hair', Height='-99.0', Publisher='DC Comics', Skin color='-', Alignment='bad', Weight='-99.0'),\n",
              " Row(_c0='391', name='Kingpin', Gender='Male', Eye color='blue', Race='Human', Hair color='No Hair', Height='201.0', Publisher='Marvel Comics', Skin color='-', Alignment='bad', Weight='203.0'),\n",
              " Row(_c0='392', name='Klaw', Gender='Male', Eye color='red', Race='Human', Hair color='No Hair', Height='188.0', Publisher='Marvel Comics', Skin color='red', Alignment='bad', Weight='97.0'),\n",
              " Row(_c0='393', name='Kool-Aid Man', Gender='Male', Eye color='black', Race='-', Hair color='No Hair', Height='-99.0', Publisher=None, Skin color='red', Alignment='good', Weight='-99.0'),\n",
              " Row(_c0='394', name='Kraven II', Gender='Male', Eye color='brown', Race='Human', Hair color='Black', Height='191.0', Publisher='Marvel Comics', Skin color='-', Alignment='bad', Weight='99.0'),\n",
              " Row(_c0='395', name='Kraven the Hunter', Gender='Male', Eye color='brown', Race='Human', Hair color='Black', Height='183.0', Publisher='Marvel Comics', Skin color='-', Alignment='bad', Weight='106.0'),\n",
              " Row(_c0='396', name='Krypto', Gender='Male', Eye color='blue', Race='Kryptonian', Hair color='White', Height='64.0', Publisher='DC Comics', Skin color='-', Alignment='good', Weight='18.0'),\n",
              " Row(_c0='397', name='Kyle Rayner', Gender='Male', Eye color='green', Race='Human', Hair color='Black', Height='180.0', Publisher='DC Comics', Skin color='-', Alignment='good', Weight='79.0'),\n",
              " Row(_c0='398', name='Kylo Ren', Gender='Male', Eye color='-', Race='Human', Hair color='-', Height='-99.0', Publisher='George Lucas', Skin color='-', Alignment='bad', Weight='-99.0'),\n",
              " Row(_c0='399', name='Lady Bullseye', Gender='Female', Eye color='-', Race='-', Hair color='Black', Height='-99.0', Publisher='Marvel Comics', Skin color='-', Alignment='bad', Weight='-99.0'),\n",
              " Row(_c0='400', name='Lady Deathstrike', Gender='Female', Eye color='brown', Race='Cyborg', Hair color='Black', Height='175.0', Publisher='Marvel Comics', Skin color='-', Alignment='bad', Weight='58.0'),\n",
              " Row(_c0='401', name='Leader', Gender='Male', Eye color='green', Race='-', Hair color='No Hair', Height='178.0', Publisher='Marvel Comics', Skin color='-', Alignment='bad', Weight='63.0'),\n",
              " Row(_c0='402', name='Leech', Gender='Male', Eye color='-', Race='-', Hair color='-', Height='-99.0', Publisher='Marvel Comics', Skin color='-', Alignment='good', Weight='-99.0'),\n",
              " Row(_c0='403', name='Legion', Gender='Male', Eye color='green / blue', Race='Mutant', Hair color='Black', Height='175.0', Publisher='Marvel Comics', Skin color='-', Alignment='good', Weight='59.0'),\n",
              " Row(_c0='404', name='Leonardo', Gender='Male', Eye color='blue', Race='Mutant', Hair color='No Hair', Height='-99.0', Publisher='IDW Publishing', Skin color='green', Alignment='good', Weight='-99.0'),\n",
              " Row(_c0='405', name='Lex Luthor', Gender='Male', Eye color='green', Race='Human', Hair color='No Hair', Height='188.0', Publisher='DC Comics', Skin color='-', Alignment='bad', Weight='95.0'),\n",
              " Row(_c0='406', name='Light Lass', Gender='Female', Eye color='blue', Race='-', Hair color='Red', Height='165.0', Publisher='DC Comics', Skin color='-', Alignment='good', Weight='54.0'),\n",
              " Row(_c0='407', name='Lightning Lad', Gender='Male', Eye color='blue', Race='-', Hair color='Red', Height='155.0', Publisher='DC Comics', Skin color='-', Alignment='good', Weight='65.0'),\n",
              " Row(_c0='408', name='Lightning Lord', Gender='Male', Eye color='blue', Race='-', Hair color='Red', Height='191.0', Publisher='DC Comics', Skin color='-', Alignment='bad', Weight='95.0'),\n",
              " Row(_c0='409', name='Living Brain', Gender='-', Eye color='yellow', Race='-', Hair color='-', Height='198.0', Publisher='Marvel Comics', Skin color='-', Alignment='bad', Weight='360.0'),\n",
              " Row(_c0='410', name='Living Tribunal', Gender='-', Eye color='blue', Race='Cosmic Entity', Hair color='No Hair', Height='-99.0', Publisher='Marvel Comics', Skin color='gold', Alignment='neutral', Weight='-99.0'),\n",
              " Row(_c0='411', name='Liz Sherman', Gender='Female', Eye color='-', Race='-', Hair color='-', Height='-99.0', Publisher='Dark Horse Comics', Skin color='-', Alignment='good', Weight='-99.0'),\n",
              " Row(_c0='412', name='Lizard', Gender='Male', Eye color='red', Race='Human', Hair color='No Hair', Height='203.0', Publisher='Marvel Comics', Skin color='-', Alignment='bad', Weight='230.0'),\n",
              " Row(_c0='413', name='Lobo', Gender='Male', Eye color='red', Race='Czarnian', Hair color='Black', Height='229.0', Publisher='DC Comics', Skin color='blue-white', Alignment='neutral', Weight='288.0'),\n",
              " Row(_c0='414', name='Loki', Gender='Male', Eye color='green', Race='Asgardian', Hair color='Black', Height='193.0', Publisher='Marvel Comics', Skin color='-', Alignment='bad', Weight='236.0'),\n",
              " Row(_c0='415', name='Longshot', Gender='Male', Eye color='blue', Race='Human', Hair color='Blond', Height='188.0', Publisher='Marvel Comics', Skin color='-', Alignment='good', Weight='36.0'),\n",
              " Row(_c0='416', name='Luke Cage', Gender='Male', Eye color='brown', Race='Human', Hair color='Black', Height='198.0', Publisher='Marvel Comics', Skin color='-', Alignment='good', Weight='191.0'),\n",
              " Row(_c0='417', name='Luke Campbell', Gender='Male', Eye color='-', Race='-', Hair color='-', Height='-99.0', Publisher='NBC - Heroes', Skin color='-', Alignment='bad', Weight='-99.0'),\n",
              " Row(_c0='418', name='Luke Skywalker', Gender='Male', Eye color='blue', Race='Human', Hair color='Blond', Height='168.0', Publisher='George Lucas', Skin color='-', Alignment='good', Weight='77.0'),\n",
              " Row(_c0='419', name='Luna', Gender='Female', Eye color='-', Race='Human', Hair color='-', Height='-99.0', Publisher='Marvel Comics', Skin color='-', Alignment='good', Weight='-99.0'),\n",
              " Row(_c0='420', name='Lyja', Gender='Female', Eye color='green', Race='-', Hair color='Green', Height='-99.0', Publisher='Marvel Comics', Skin color='-', Alignment='good', Weight='-99.0'),\n",
              " Row(_c0='421', name='Mach-IV', Gender='Male', Eye color='brown', Race='-', Hair color='Brown', Height='180.0', Publisher='Marvel Comics', Skin color='-', Alignment='bad', Weight='79.0'),\n",
              " Row(_c0='422', name='Machine Man', Gender='-', Eye color='red', Race='-', Hair color='Black', Height='183.0', Publisher='Marvel Comics', Skin color='-', Alignment='good', Weight='383.0'),\n",
              " Row(_c0='423', name='Magneto', Gender='Male', Eye color='grey', Race='Mutant', Hair color='White', Height='188.0', Publisher='Marvel Comics', Skin color='-', Alignment='bad', Weight='86.0'),\n",
              " Row(_c0='424', name='Magog', Gender='Male', Eye color='blue', Race='-', Hair color='Blond', Height='-99.0', Publisher='DC Comics', Skin color='-', Alignment='good', Weight='-99.0'),\n",
              " Row(_c0='425', name='Magus', Gender='Male', Eye color='black', Race='-', Hair color='-', Height='183.0', Publisher='Marvel Comics', Skin color='-', Alignment='bad', Weight='-99.0'),\n",
              " Row(_c0='426', name='Man of Miracles', Gender='-', Eye color='blue', Race='God / Eternal', Hair color='Silver', Height='-99.0', Publisher='Image Comics', Skin color='-', Alignment='-', Weight='-99.0'),\n",
              " Row(_c0='427', name='Man-Bat', Gender='Male', Eye color='brown', Race='Human', Hair color='Brown', Height='-99.0', Publisher='DC Comics', Skin color='-', Alignment='neutral', Weight='-99.0'),\n",
              " Row(_c0='428', name='Man-Thing', Gender='Male', Eye color='red', Race='-', Hair color='No Hair', Height='213.0', Publisher='Marvel Comics', Skin color='green', Alignment='good', Weight='225.0'),\n",
              " Row(_c0='429', name='Man-Wolf', Gender='Male', Eye color='brown', Race='-', Hair color='Auburn', Height='188.0', Publisher='Marvel Comics', Skin color='-', Alignment='good', Weight='90.0'),\n",
              " Row(_c0='430', name='Mandarin', Gender='Male', Eye color='blue', Race='Human', Hair color='White', Height='188.0', Publisher='Marvel Comics', Skin color='-', Alignment='bad', Weight='97.0'),\n",
              " Row(_c0='431', name='Mantis', Gender='Female', Eye color='green', Race='Human-Kree', Hair color='Black', Height='168.0', Publisher='Marvel Comics', Skin color='green', Alignment='good', Weight='52.0'),\n",
              " Row(_c0='432', name='Martian Manhunter', Gender='Male', Eye color='red', Race='Martian', Hair color='No Hair', Height='201.0', Publisher='DC Comics', Skin color='green', Alignment='good', Weight='135.0'),\n",
              " Row(_c0='433', name='Marvel Girl', Gender='Female', Eye color='green', Race='-', Hair color='Red', Height='170.0', Publisher='Marvel Comics', Skin color='-', Alignment='good', Weight='56.0'),\n",
              " Row(_c0='434', name='Master Brood', Gender='Male', Eye color='blue', Race='-', Hair color='Black', Height='183.0', Publisher='Team Epic TV', Skin color='-', Alignment='good', Weight='81.0'),\n",
              " Row(_c0='435', name='Master Chief', Gender='Male', Eye color='brown', Race='Human / Altered', Hair color='Brown', Height='213.0', Publisher='Microsoft', Skin color='-', Alignment='good', Weight='-99.0'),\n",
              " Row(_c0='436', name='Match', Gender='Male', Eye color='black', Race='-', Hair color='Black', Height='-99.0', Publisher='DC Comics', Skin color='-', Alignment='bad', Weight='-99.0'),\n",
              " Row(_c0='437', name='Matt Parkman', Gender='Male', Eye color='-', Race='-', Hair color='-', Height='-99.0', Publisher='NBC - Heroes', Skin color='-', Alignment='good', Weight='-99.0'),\n",
              " Row(_c0='438', name='Maverick', Gender='Male', Eye color='blue', Race='-', Hair color='Black', Height='193.0', Publisher='Marvel Comics', Skin color='-', Alignment='good', Weight='110.0'),\n",
              " Row(_c0='439', name='Maxima', Gender='Female', Eye color='brown', Race='-', Hair color='Red', Height='180.0', Publisher='DC Comics', Skin color='-', Alignment='bad', Weight='72.0'),\n",
              " Row(_c0='440', name='Maya Herrera', Gender='Female', Eye color='-', Race='-', Hair color='-', Height='-99.0', Publisher='NBC - Heroes', Skin color='-', Alignment='good', Weight='-99.0'),\n",
              " Row(_c0='441', name='Medusa', Gender='Female', Eye color='green', Race='Inhuman', Hair color='Red', Height='180.0', Publisher='Marvel Comics', Skin color='-', Alignment='good', Weight='59.0'),\n",
              " Row(_c0='442', name='Meltdown', Gender='Female', Eye color='blue', Race='-', Hair color='Blond', Height='165.0', Publisher='Marvel Comics', Skin color='-', Alignment='good', Weight='54.0'),\n",
              " Row(_c0='443', name='Mephisto', Gender='Male', Eye color='white', Race='-', Hair color='Black', Height='198.0', Publisher='Marvel Comics', Skin color='-', Alignment='bad', Weight='140.0'),\n",
              " Row(_c0='444', name='Mera', Gender='Female', Eye color='blue', Race='Atlantean', Hair color='Red', Height='175.0', Publisher='DC Comics', Skin color='-', Alignment='good', Weight='72.0'),\n",
              " Row(_c0='445', name='Metallo', Gender='Male', Eye color='green', Race='Android', Hair color='Brown', Height='196.0', Publisher='DC Comics', Skin color='-', Alignment='bad', Weight='90.0'),\n",
              " Row(_c0='446', name='Metamorpho', Gender='Male', Eye color='black', Race='-', Hair color='No Hair', Height='185.0', Publisher='DC Comics', Skin color='-', Alignment='good', Weight='90.0'),\n",
              " Row(_c0='447', name='Meteorite', Gender='Female', Eye color='-', Race='-', Hair color='-', Height='-99.0', Publisher='Marvel Comics', Skin color='-', Alignment='good', Weight='-99.0'),\n",
              " Row(_c0='448', name='Metron', Gender='Male', Eye color='blue', Race='-', Hair color='Black', Height='185.0', Publisher='DC Comics', Skin color='-', Alignment='good', Weight='86.0'),\n",
              " Row(_c0='449', name='Micah Sanders', Gender='Male', Eye color='brown', Race='-', Hair color='Black', Height='-99.0', Publisher='NBC - Heroes', Skin color='-', Alignment='good', Weight='-99.0'),\n",
              " Row(_c0='450', name='Michelangelo', Gender='Male', Eye color='blue', Race='Mutant', Hair color='-', Height='-99.0', Publisher='IDW Publishing', Skin color='green', Alignment='good', Weight='-99.0'),\n",
              " Row(_c0='451', name='Micro Lad', Gender='Male', Eye color='grey', Race='-', Hair color='Brown', Height='183.0', Publisher='DC Comics', Skin color='-', Alignment='good', Weight='77.0'),\n",
              " Row(_c0='452', name='Mimic', Gender='Male', Eye color='brown', Race='-', Hair color='Brown', Height='188.0', Publisher='Marvel Comics', Skin color='-', Alignment='good', Weight='101.0'),\n",
              " Row(_c0='453', name='Minna Murray', Gender='Female', Eye color='-', Race='-', Hair color='-', Height='-99.0', Publisher='Wildstorm', Skin color='-', Alignment='good', Weight='-99.0'),\n",
              " Row(_c0='454', name='Misfit', Gender='Female', Eye color='blue', Race='-', Hair color='Red', Height='-99.0', Publisher='DC Comics', Skin color='-', Alignment='good', Weight='-99.0'),\n",
              " Row(_c0='455', name='Miss Martian', Gender='Female', Eye color='red', Race='-', Hair color='Red', Height='178.0', Publisher='DC Comics', Skin color='-', Alignment='good', Weight='61.0'),\n",
              " Row(_c0='456', name='Mister Fantastic', Gender='Male', Eye color='brown', Race='Human / Radiation', Hair color='Brown', Height='185.0', Publisher='Marvel Comics', Skin color='-', Alignment='good', Weight='81.0'),\n",
              " Row(_c0='457', name='Mister Freeze', Gender='Male', Eye color='-', Race='Human', Hair color='-', Height='183.0', Publisher='DC Comics', Skin color='-', Alignment='bad', Weight='86.0'),\n",
              " Row(_c0='458', name='Mister Knife', Gender='Male', Eye color='blue', Race='Spartoi', Hair color='Brown', Height='-99.0', Publisher='Marvel Comics', Skin color='-', Alignment='bad', Weight='-99.0'),\n",
              " Row(_c0='459', name='Mister Mxyzptlk', Gender='Male', Eye color='-', Race='God / Eternal', Hair color='-', Height='-99.0', Publisher='DC Comics', Skin color='-', Alignment='bad', Weight='-99.0'),\n",
              " Row(_c0='460', name='Mister Sinister', Gender='Male', Eye color='red', Race='Human / Altered', Hair color='Black', Height='196.0', Publisher='Marvel Comics', Skin color='-', Alignment='bad', Weight='128.0'),\n",
              " Row(_c0='461', name='Mister Zsasz', Gender='Male', Eye color='blue', Race='Human', Hair color='Blond', Height='-99.0', Publisher='DC Comics', Skin color='-', Alignment='bad', Weight='-99.0'),\n",
              " Row(_c0='462', name='Mockingbird', Gender='Female', Eye color='blue', Race='Human', Hair color='Blond', Height='175.0', Publisher='Marvel Comics', Skin color='-', Alignment='good', Weight='61.0'),\n",
              " Row(_c0='463', name='MODOK', Gender='Male', Eye color='white', Race='Cyborg', Hair color='Brownn', Height='366.0', Publisher='Marvel Comics', Skin color='-', Alignment='bad', Weight='338.0'),\n",
              " Row(_c0='464', name='Mogo', Gender='Male', Eye color='-', Race='Planet', Hair color='-', Height='-99.0', Publisher='DC Comics', Skin color='-', Alignment='good', Weight='-99.0'),\n",
              " Row(_c0='465', name='Mohinder Suresh', Gender='Male', Eye color='-', Race='-', Hair color='-', Height='-99.0', Publisher='NBC - Heroes', Skin color='-', Alignment='good', Weight='-99.0'),\n",
              " Row(_c0='466', name='Moloch', Gender='Male', Eye color='-', Race='-', Hair color='-', Height='-99.0', Publisher='DC Comics', Skin color='-', Alignment='bad', Weight='-99.0'),\n",
              " Row(_c0='467', name='Molten Man', Gender='Male', Eye color='gold', Race='-', Hair color='Gold', Height='196.0', Publisher='Marvel Comics', Skin color='-', Alignment='bad', Weight='248.0'),\n",
              " Row(_c0='468', name='Monarch', Gender='Male', Eye color='blue', Race='-', Hair color='White', Height='193.0', Publisher='DC Comics', Skin color='-', Alignment='good', Weight='90.0'),\n",
              " Row(_c0='469', name='Monica Dawson', Gender='Female', Eye color='-', Race='-', Hair color='-', Height='-99.0', Publisher='NBC - Heroes', Skin color='-', Alignment='good', Weight='-99.0'),\n",
              " Row(_c0='470', name='Moon Knight', Gender='Male', Eye color='brown', Race='Human', Hair color='Brown', Height='188.0', Publisher='Marvel Comics', Skin color='-', Alignment='good', Weight='101.0'),\n",
              " Row(_c0='471', name='Moonstone', Gender='Female', Eye color='blue', Race='-', Hair color='Blond', Height='180.0', Publisher='Marvel Comics', Skin color='-', Alignment='bad', Weight='59.0'),\n",
              " Row(_c0='472', name='Morlun', Gender='Male', Eye color='white / red', Race='-', Hair color='Black', Height='188.0', Publisher='Marvel Comics', Skin color='-', Alignment='bad', Weight='79.0'),\n",
              " Row(_c0='473', name='Morph', Gender='Male', Eye color='white', Race='-', Hair color='No Hair', Height='178.0', Publisher='Marvel Comics', Skin color='-', Alignment='good', Weight='79.0'),\n",
              " Row(_c0='474', name='Moses Magnum', Gender='Male', Eye color='brown', Race='-', Hair color='Black', Height='175.0', Publisher='Marvel Comics', Skin color='-', Alignment='bad', Weight='72.0'),\n",
              " Row(_c0='475', name='Mr Immortal', Gender='Male', Eye color='blue', Race='Mutant', Hair color='Blond', Height='188.0', Publisher='Marvel Comics', Skin color='-', Alignment='good', Weight='70.0'),\n",
              " Row(_c0='476', name='Mr Incredible', Gender='Male', Eye color='blue', Race='Human', Hair color='Blond', Height='201.0', Publisher='Dark Horse Comics', Skin color='-', Alignment='good', Weight='158.0'),\n",
              " Row(_c0='477', name='Ms Marvel II', Gender='Female', Eye color='blue', Race='-', Hair color='Red', Height='173.0', Publisher='Marvel Comics', Skin color='-', Alignment='good', Weight='61.0'),\n",
              " Row(_c0='478', name='Multiple Man', Gender='Male', Eye color='blue', Race='-', Hair color='Brown', Height='180.0', Publisher='Marvel Comics', Skin color='-', Alignment='good', Weight='70.0'),\n",
              " Row(_c0='479', name='Mysterio', Gender='Male', Eye color='brown', Race='Human', Hair color='No Hair', Height='180.0', Publisher='Marvel Comics', Skin color='-', Alignment='bad', Weight='79.0'),\n",
              " Row(_c0='480', name='Mystique', Gender='Female', Eye color='yellow (without irises)', Race='Mutant', Hair color='Red / Orange', Height='178.0', Publisher='Marvel Comics', Skin color='blue', Alignment='bad', Weight='54.0'),\n",
              " Row(_c0='481', name='Namor', Gender='Male', Eye color='-', Race='-', Hair color='-', Height='-99.0', Publisher='Marvel Comics', Skin color='-', Alignment='good', Weight='-99.0'),\n",
              " Row(_c0='482', name='Namor', Gender='Male', Eye color='grey', Race='Atlantean', Hair color='Black', Height='188.0', Publisher='Marvel Comics', Skin color='-', Alignment='good', Weight='125.0'),\n",
              " Row(_c0='483', name='Namora', Gender='Female', Eye color='blue', Race='-', Hair color='Blond', Height='180.0', Publisher='Marvel Comics', Skin color='-', Alignment='good', Weight='85.0'),\n",
              " Row(_c0='484', name='Namorita', Gender='Female', Eye color='blue', Race='-', Hair color='Blond', Height='168.0', Publisher='Marvel Comics', Skin color='-', Alignment='good', Weight='101.0'),\n",
              " Row(_c0='485', name='Naruto Uzumaki', Gender='Male', Eye color='-', Race='Human', Hair color='-', Height='168.0', Publisher='Shueisha', Skin color='-', Alignment='good', Weight='54.0'),\n",
              " Row(_c0='486', name='Nathan Petrelli', Gender='Male', Eye color='brown', Race='-', Hair color='-', Height='-99.0', Publisher='NBC - Heroes', Skin color='-', Alignment='good', Weight='-99.0'),\n",
              " Row(_c0='487', name='Nebula', Gender='Female', Eye color='blue', Race='Luphomoid', Hair color='No Hair', Height='185.0', Publisher='Marvel Comics', Skin color='blue', Alignment='bad', Weight='83.0'),\n",
              " Row(_c0='488', name='Negasonic Teenage Warhead', Gender='Female', Eye color='black', Race='Mutant', Hair color='Black', Height='-99.0', Publisher='Marvel Comics', Skin color='-', Alignment='good', Weight='-99.0'),\n",
              " Row(_c0='489', name='Nick Fury', Gender='Male', Eye color='brown', Race='Human', Hair color='Brown / White', Height='185.0', Publisher='Marvel Comics', Skin color='-', Alignment='good', Weight='99.0'),\n",
              " Row(_c0='490', name='Nightcrawler', Gender='Male', Eye color='yellow', Race='-', Hair color='Indigo', Height='175.0', Publisher='Marvel Comics', Skin color='-', Alignment='good', Weight='88.0'),\n",
              " Row(_c0='491', name='Nightwing', Gender='Male', Eye color='blue', Race='Human', Hair color='Black', Height='178.0', Publisher='DC Comics', Skin color='-', Alignment='good', Weight='79.0'),\n",
              " Row(_c0='492', name='Niki Sanders', Gender='Female', Eye color='blue', Race='-', Hair color='Blond', Height='-99.0', Publisher='NBC - Heroes', Skin color='-', Alignment='good', Weight='-99.0'),\n",
              " Row(_c0='493', name='Nina Theroux', Gender='Female', Eye color='-', Race='Alpha', Hair color='-', Height='-99.0', Publisher='SyFy', Skin color='-', Alignment='good', Weight='-99.0'),\n",
              " Row(_c0='494', name='Nite Owl II', Gender='Male', Eye color='-', Race='-', Hair color='-', Height='-99.0', Publisher='DC Comics', Skin color='-', Alignment='good', Weight='-99.0'),\n",
              " Row(_c0='495', name='Northstar', Gender='Male', Eye color='blue', Race='-', Hair color='Black', Height='180.0', Publisher='Marvel Comics', Skin color='-', Alignment='good', Weight='83.0'),\n",
              " Row(_c0='496', name='Nova', Gender='Male', Eye color='brown', Race='Human', Hair color='Brown', Height='185.0', Publisher='Marvel Comics', Skin color='-', Alignment='good', Weight='86.0'),\n",
              " Row(_c0='497', name='Nova', Gender='Female', Eye color='white', Race='Human / Cosmic', Hair color='Red', Height='163.0', Publisher='Marvel Comics', Skin color='gold', Alignment='good', Weight='59.0'),\n",
              " Row(_c0='498', name='Odin', Gender='Male', Eye color='blue', Race='God / Eternal', Hair color='White', Height='206.0', Publisher='Marvel Comics', Skin color='-', Alignment='good', Weight='293.0'),\n",
              " Row(_c0='499', name='Offspring', Gender='Male', Eye color='-', Race='-', Hair color='-', Height='-99.0', Publisher='DC Comics', Skin color='-', Alignment='good', Weight='-99.0'),\n",
              " Row(_c0='500', name='Omega Red', Gender='Male', Eye color='red', Race='-', Hair color='Blond', Height='211.0', Publisher='Marvel Comics', Skin color='-', Alignment='bad', Weight='191.0'),\n",
              " Row(_c0='501', name='Omniscient', Gender='Male', Eye color='brown', Race='-', Hair color='Black', Height='180.0', Publisher='Team Epic TV', Skin color='-', Alignment='good', Weight='65.0'),\n",
              " Row(_c0='502', name='One Punch Man', Gender='Male', Eye color='-', Race='Human', Hair color='No Hair', Height='175.0', Publisher='Shueisha', Skin color='-', Alignment='good', Weight='69.0'),\n",
              " Row(_c0='503', name='One-Above-All', Gender='-', Eye color='-', Race='Cosmic Entity', Hair color='-', Height='-99.0', Publisher='Marvel Comics', Skin color='-', Alignment='neutral', Weight='-99.0'),\n",
              " Row(_c0='504', name='Onslaught', Gender='Male', Eye color='red', Race='Mutant', Hair color='No Hair', Height='305.0', Publisher='Marvel Comics', Skin color='-', Alignment='bad', Weight='405.0'),\n",
              " Row(_c0='505', name='Oracle', Gender='Female', Eye color='blue', Race='Human', Hair color='Red', Height='178.0', Publisher='DC Comics', Skin color='-', Alignment='good', Weight='59.0'),\n",
              " Row(_c0='506', name='Osiris', Gender='Male', Eye color='brown', Race='-', Hair color='Brown', Height='-99.0', Publisher='DC Comics', Skin color='-', Alignment='good', Weight='-99.0'),\n",
              " Row(_c0='507', name='Overtkill', Gender='Male', Eye color='-', Race='-', Hair color='-', Height='-99.0', Publisher='Image Comics', Skin color='-', Alignment='bad', Weight='-99.0'),\n",
              " Row(_c0='508', name='Ozymandias', Gender='Male', Eye color='blue', Race='Human', Hair color='Blond', Height='-99.0', Publisher='DC Comics', Skin color='-', Alignment='bad', Weight='-99.0'),\n",
              " Row(_c0='509', name='Parademon', Gender='-', Eye color='-', Race='Parademon', Hair color='-', Height='-99.0', Publisher='DC Comics', Skin color='-', Alignment='bad', Weight='-99.0'),\n",
              " Row(_c0='510', name='Paul Blart', Gender='Male', Eye color='-', Race='Human', Hair color='-', Height='170.0', Publisher='Sony Pictures', Skin color='-', Alignment='good', Weight='117.0'),\n",
              " Row(_c0='511', name='Penance', Gender='-', Eye color='-', Race='-', Hair color='-', Height='-99.0', Publisher='Marvel Comics', Skin color='-', Alignment='good', Weight='-99.0'),\n",
              " Row(_c0='512', name='Penance I', Gender='Female', Eye color='-', Race='-', Hair color='-', Height='-99.0', Publisher='Marvel Comics', Skin color='-', Alignment='good', Weight='-99.0'),\n",
              " Row(_c0='513', name='Penance II', Gender='Male', Eye color='blue', Race='-', Hair color='Blond', Height='183.0', Publisher='Marvel Comics', Skin color='-', Alignment='good', Weight='89.0'),\n",
              " Row(_c0='514', name='Penguin', Gender='Male', Eye color='blue', Race='Human', Hair color='Black', Height='157.0', Publisher='DC Comics', Skin color='-', Alignment='bad', Weight='79.0'),\n",
              " Row(_c0='515', name='Peter Petrelli', Gender='Male', Eye color='-', Race='-', Hair color='-', Height='-99.0', Publisher='NBC - Heroes', Skin color='-', Alignment='good', Weight='-99.0'),\n",
              " Row(_c0='516', name='Phantom', Gender='Male', Eye color='-', Race='-', Hair color='-', Height='-99.0', Publisher='DC Comics', Skin color='-', Alignment='good', Weight='-99.0'),\n",
              " Row(_c0='517', name='Phantom Girl', Gender='Female', Eye color='blue', Race='-', Hair color='Black', Height='168.0', Publisher='DC Comics', Skin color='-', Alignment='good', Weight='54.0'),\n",
              " Row(_c0='518', name='Phoenix', Gender='Female', Eye color='green', Race='Mutant', Hair color='Red', Height='168.0', Publisher='Marvel Comics', Skin color='-', Alignment='good', Weight='52.0'),\n",
              " Row(_c0='519', name='Plantman', Gender='Male', Eye color='green', Race='Mutant', Hair color='Grey', Height='183.0', Publisher='Marvel Comics', Skin color='-', Alignment='bad', Weight='87.0'),\n",
              " Row(_c0='520', name='Plastic Lad', Gender='Male', Eye color='-', Race='-', Hair color='-', Height='-99.0', Publisher='DC Comics', Skin color='-', Alignment='good', Weight='-99.0'),\n",
              " Row(_c0='521', name='Plastic Man', Gender='Male', Eye color='blue', Race='Human', Hair color='Black', Height='185.0', Publisher='DC Comics', Skin color='-', Alignment='good', Weight='80.0'),\n",
              " Row(_c0='522', name='Plastique', Gender='Female', Eye color='blue', Race='-', Hair color='Red', Height='168.0', Publisher='DC Comics', Skin color='-', Alignment='bad', Weight='55.0'),\n",
              " Row(_c0='523', name='Poison Ivy', Gender='Female', Eye color='green', Race='Human', Hair color='Red', Height='168.0', Publisher='DC Comics', Skin color='green', Alignment='bad', Weight='50.0'),\n",
              " Row(_c0='524', name='Polaris', Gender='Female', Eye color='green', Race='Mutant', Hair color='Green', Height='170.0', Publisher='Marvel Comics', Skin color='-', Alignment='good', Weight='52.0'),\n",
              " Row(_c0='525', name='Power Girl', Gender='Female', Eye color='blue', Race='Kryptonian', Hair color='blond', Height='180.0', Publisher='DC Comics', Skin color='-', Alignment='good', Weight='81.0'),\n",
              " Row(_c0='526', name='Power Man', Gender='Male', Eye color='-', Race='Mutant', Hair color='-', Height='-99.0', Publisher='Marvel Comics', Skin color='-', Alignment='good', Weight='-99.0'),\n",
              " Row(_c0='527', name='Predator', Gender='Male', Eye color='-', Race='Yautja', Hair color='-', Height='213.0', Publisher='Dark Horse Comics', Skin color='-', Alignment='bad', Weight='234.0'),\n",
              " Row(_c0='528', name='Professor X', Gender='Male', Eye color='blue', Race='Mutant', Hair color='No Hair', Height='183.0', Publisher='Marvel Comics', Skin color='-', Alignment='good', Weight='86.0'),\n",
              " Row(_c0='529', name='Professor Zoom', Gender='Male', Eye color='blue', Race='Human', Hair color='Strawberry Blond', Height='180.0', Publisher='DC Comics', Skin color='-', Alignment='bad', Weight='81.0'),\n",
              " Row(_c0='530', name='Proto-Goblin', Gender='Male', Eye color='green', Race='-', Hair color='Blond', Height='-99.0', Publisher='Marvel Comics', Skin color='-', Alignment='bad', Weight='-99.0'),\n",
              " Row(_c0='531', name='Psylocke', Gender='Female', Eye color='blue', Race='Mutant', Hair color='Purple', Height='180.0', Publisher='Marvel Comics', Skin color='-', Alignment='good', Weight='70.0'),\n",
              " Row(_c0='532', name='Punisher', Gender='Male', Eye color='blue', Race='Human', Hair color='Black', Height='183.0', Publisher='Marvel Comics', Skin color='-', Alignment='good', Weight='90.0'),\n",
              " Row(_c0='533', name='Purple Man', Gender='Male', Eye color='purple', Race='Human', Hair color='Purple', Height='180.0', Publisher='Marvel Comics', Skin color='purple', Alignment='bad', Weight='74.0'),\n",
              " Row(_c0='534', name='Pyro', Gender='Male', Eye color='blue', Race='-', Hair color='Blond', Height='178.0', Publisher='Marvel Comics', Skin color='-', Alignment='bad', Weight='68.0'),\n",
              " Row(_c0='535', name='Q', Gender='Male', Eye color='-', Race='God / Eternal', Hair color='-', Height='-99.0', Publisher='Star Trek', Skin color='-', Alignment='-', Weight='-99.0'),\n",
              " Row(_c0='536', name='Quantum', Gender='Male', Eye color='-', Race='-', Hair color='-', Height='-99.0', Publisher='HarperCollins', Skin color='-', Alignment='good', Weight='-99.0'),\n",
              " Row(_c0='537', name='Question', Gender='Male', Eye color='blue', Race='Human', Hair color='Blond', Height='188.0', Publisher='DC Comics', Skin color='-', Alignment='good', Weight='83.0'),\n",
              " Row(_c0='538', name='Quicksilver', Gender='Male', Eye color='blue', Race='Mutant', Hair color='Silver', Height='183.0', Publisher='Marvel Comics', Skin color='-', Alignment='good', Weight='79.0'),\n",
              " Row(_c0='539', name='Quill', Gender='Male', Eye color='brown', Race='-', Hair color='Brown', Height='163.0', Publisher='Marvel Comics', Skin color='-', Alignment='good', Weight='56.0'),\n",
              " Row(_c0='540', name=\"Ra's Al Ghul\", Gender='Male', Eye color='green', Race='Human', Hair color='Grey', Height='193.0', Publisher='DC Comics', Skin color='-', Alignment='bad', Weight='97.0'),\n",
              " Row(_c0='541', name='Rachel Pirzad', Gender='Female', Eye color='-', Race='Alpha', Hair color='-', Height='-99.0', Publisher='SyFy', Skin color='-', Alignment='good', Weight='-99.0'),\n",
              " Row(_c0='542', name='Rambo', Gender='Male', Eye color='brown', Race='Human', Hair color='Black', Height='178.0', Publisher=None, Skin color='-', Alignment='good', Weight='83.0'),\n",
              " Row(_c0='543', name='Raphael', Gender='Male', Eye color='-', Race='Mutant', Hair color='No Hair', Height='-99.0', Publisher='IDW Publishing', Skin color='green', Alignment='good', Weight='-99.0'),\n",
              " Row(_c0='544', name='Raven', Gender='Female', Eye color='indigo', Race='Human', Hair color='Black', Height='165.0', Publisher='DC Comics', Skin color='-', Alignment='neutral', Weight='50.0'),\n",
              " Row(_c0='545', name='Ray', Gender='Male', Eye color='green', Race='Human', Hair color='Red', Height='178.0', Publisher='DC Comics', Skin color='-', Alignment='good', Weight='70.0'),\n",
              " Row(_c0='546', name='Razor-Fist II', Gender='Male', Eye color='blue', Race='-', Hair color='No Hair', Height='191.0', Publisher='Marvel Comics', Skin color='-', Alignment='bad', Weight='117.0'),\n",
              " Row(_c0='547', name='Red Arrow', Gender='Male', Eye color='green', Race='Human', Hair color='Red', Height='180.0', Publisher='DC Comics', Skin color='-', Alignment='good', Weight='83.0'),\n",
              " Row(_c0='548', name='Red Hood', Gender='Male', Eye color='blue', Race='Human', Hair color='Black', Height='183.0', Publisher='DC Comics', Skin color='-', Alignment='neutral', Weight='81.0'),\n",
              " Row(_c0='549', name='Red Hulk', Gender='Male', Eye color='yellow', Race='Human / Radiation', Hair color='Black', Height='213.0', Publisher='Marvel Comics', Skin color='red', Alignment='neutral', Weight='630.0'),\n",
              " Row(_c0='550', name='Red Mist', Gender='Male', Eye color='-', Race='-', Hair color='-', Height='-99.0', Publisher='Icon Comics', Skin color='-', Alignment='bad', Weight='-99.0'),\n",
              " Row(_c0='551', name='Red Robin', Gender='Male', Eye color='blue', Race='Human', Hair color='Black', Height='165.0', Publisher='DC Comics', Skin color='-', Alignment='good', Weight='56.0'),\n",
              " Row(_c0='552', name='Red Skull', Gender='Male', Eye color='blue', Race='-', Hair color='No Hair', Height='188.0', Publisher='Marvel Comics', Skin color='-', Alignment='bad', Weight='108.0'),\n",
              " Row(_c0='553', name='Red Tornado', Gender='Male', Eye color='green', Race='Android', Hair color='No Hair', Height='185.0', Publisher='DC Comics', Skin color='-', Alignment='good', Weight='146.0'),\n",
              " Row(_c0='554', name='Redeemer II', Gender='Male', Eye color='-', Race='-', Hair color='-', Height='-99.0', Publisher='Image Comics', Skin color='-', Alignment='bad', Weight='-99.0'),\n",
              " Row(_c0='555', name='Redeemer III', Gender='Male', Eye color='-', Race='-', Hair color='-', Height='-99.0', Publisher='Image Comics', Skin color='-', Alignment='bad', Weight='-99.0'),\n",
              " Row(_c0='556', name='Renata Soliz', Gender='Female', Eye color='-', Race='-', Hair color='-', Height='-99.0', Publisher='HarperCollins', Skin color='-', Alignment='good', Weight='-99.0'),\n",
              " Row(_c0='557', name='Rey', Gender='Female', Eye color='hazel', Race='Human', Hair color='Brown', Height='297.0', Publisher='George Lucas', Skin color='-', Alignment='good', Weight='-99.0'),\n",
              " Row(_c0='558', name='Rhino', Gender='Male', Eye color='brown', Race='Human / Radiation', Hair color='Brown', Height='196.0', Publisher='Marvel Comics', Skin color='-', Alignment='bad', Weight='320.0'),\n",
              " Row(_c0='559', name='Rick Flag', Gender='Male', Eye color='blue', Race='-', Hair color='Brown', Height='185.0', Publisher='DC Comics', Skin color='-', Alignment='bad', Weight='85.0'),\n",
              " Row(_c0='560', name='Riddler', Gender='Male', Eye color='-', Race='-', Hair color='-', Height='-99.0', Publisher='DC Comics', Skin color='-', Alignment='bad', Weight='-99.0'),\n",
              " Row(_c0='561', name='Rip Hunter', Gender='Male', Eye color='blue', Race='Human', Hair color='Blond', Height='-99.0', Publisher='DC Comics', Skin color='-', Alignment='good', Weight='-99.0'),\n",
              " Row(_c0='562', name='Ripcord', Gender='Female', Eye color='green', Race='-', Hair color='Black', Height='180.0', Publisher='Marvel Comics', Skin color='-', Alignment='good', Weight='72.0'),\n",
              " Row(_c0='563', name='Robin', Gender='Male', Eye color='blue', Race='Human', Hair color='Black', Height='178.0', Publisher='DC Comics', Skin color='-', Alignment='good', Weight='79.0'),\n",
              " Row(_c0='564', name='Robin II', Gender='Male', Eye color='blue', Race='Human', Hair color='Red', Height='183.0', Publisher='DC Comics', Skin color='-', Alignment='good', Weight='101.0'),\n",
              " Row(_c0='565', name='Robin III', Gender='Male', Eye color='blue', Race='Human', Hair color='Black', Height='165.0', Publisher='DC Comics', Skin color='-', Alignment='good', Weight='56.0'),\n",
              " Row(_c0='566', name='Robin V', Gender='Male', Eye color='blue', Race='Human', Hair color='Black', Height='137.0', Publisher='DC Comics', Skin color='-', Alignment='good', Weight='38.0'),\n",
              " Row(_c0='567', name='Robin VI', Gender='Female', Eye color='green', Race='Human', Hair color='Red', Height='-99.0', Publisher='DC Comics', Skin color='-', Alignment='neutral', Weight='-99.0'),\n",
              " Row(_c0='568', name='Rocket Raccoon', Gender='Male', Eye color='brown', Race='Animal', Hair color='Brown', Height='122.0', Publisher='Marvel Comics', Skin color='-', Alignment='good', Weight='25.0'),\n",
              " Row(_c0='569', name='Rogue', Gender='Female', Eye color='green', Race='-', Hair color='Brown / White', Height='173.0', Publisher='Marvel Comics', Skin color='-', Alignment='good', Weight='54.0'),\n",
              " Row(_c0='570', name='Ronin', Gender='Male', Eye color='blue', Race='Human', Hair color='Blond', Height='191.0', Publisher='Marvel Comics', Skin color='-', Alignment='good', Weight='104.0'),\n",
              " Row(_c0='571', name='Rorschach', Gender='Male', Eye color='blue', Race='Human', Hair color='Red', Height='168.0', Publisher='DC Comics', Skin color='-', Alignment='good', Weight='63.0'),\n",
              " Row(_c0='572', name='Sabretooth', Gender='Male', Eye color='amber', Race='Mutant', Hair color='Blond', Height='198.0', Publisher='Marvel Comics', Skin color='-', Alignment='bad', Weight='171.0'),\n",
              " Row(_c0='573', name='Sage', Gender='Female', Eye color='blue', Race='-', Hair color='Black', Height='170.0', Publisher='Marvel Comics', Skin color='-', Alignment='good', Weight='61.0'),\n",
              " Row(_c0='574', name='Sandman', Gender='Male', Eye color='brown', Race='Human', Hair color='Brown', Height='185.0', Publisher='Marvel Comics', Skin color='-', Alignment='neutral', Weight='203.0'),\n",
              " Row(_c0='575', name='Sasquatch', Gender='Male', Eye color='red', Race='-', Hair color='Orange', Height='305.0', Publisher='Marvel Comics', Skin color='-', Alignment='good', Weight='900.0'),\n",
              " Row(_c0='576', name='Sauron', Gender='Male', Eye color='-', Race='Maiar', Hair color='-', Height='279.0', Publisher='J. R. R. Tolkien', Skin color='-', Alignment='bad', Weight='-99.0'),\n",
              " Row(_c0='577', name='Savage Dragon', Gender='Male', Eye color='-', Race='-', Hair color='-', Height='-99.0', Publisher='Image Comics', Skin color='-', Alignment='good', Weight='-99.0'),\n",
              " Row(_c0='578', name='Scarecrow', Gender='Male', Eye color='blue', Race='Human', Hair color='Brown', Height='183.0', Publisher='DC Comics', Skin color='-', Alignment='bad', Weight='63.0'),\n",
              " Row(_c0='579', name='Scarlet Spider', Gender='Male', Eye color='blue', Race='Human', Hair color='Blond', Height='178.0', Publisher='Marvel Comics', Skin color='-', Alignment='good', Weight='74.0'),\n",
              " Row(_c0='580', name='Scarlet Spider II', Gender='Male', Eye color='brown', Race='Clone', Hair color='Brown', Height='193.0', Publisher='Marvel Comics', Skin color='-', Alignment='good', Weight='113.0'),\n",
              " Row(_c0='581', name='Scarlet Witch', Gender='Female', Eye color='blue', Race='Mutant', Hair color='Brown', Height='170.0', Publisher='Marvel Comics', Skin color='-', Alignment='bad', Weight='59.0'),\n",
              " Row(_c0='582', name='Scorpia', Gender='Female', Eye color='green', Race='-', Hair color='Red', Height='-99.0', Publisher='Marvel Comics', Skin color='-', Alignment='bad', Weight='-99.0'),\n",
              " Row(_c0='583', name='Scorpion', Gender='Male', Eye color='brown', Race='Human', Hair color='Brown', Height='211.0', Publisher='Marvel Comics', Skin color='-', Alignment='bad', Weight='310.0'),\n",
              " Row(_c0='584', name='Sebastian Shaw', Gender='Male', Eye color='-', Race='Mutant', Hair color='-', Height='-99.0', Publisher='Marvel Comics', Skin color='-', Alignment='bad', Weight='-99.0'),\n",
              " Row(_c0='585', name='Sentry', Gender='Male', Eye color='blue', Race='Mutant', Hair color='Blond', Height='188.0', Publisher='Marvel Comics', Skin color='-', Alignment='neutral', Weight='87.0'),\n",
              " Row(_c0='586', name='Shadow King', Gender='-', Eye color='red', Race='-', Hair color='-', Height='185.0', Publisher='Marvel Comics', Skin color='-', Alignment='good', Weight='149.0'),\n",
              " Row(_c0='587', name='Shadow Lass', Gender='Female', Eye color='black', Race='Talokite', Hair color='Black', Height='173.0', Publisher='DC Comics', Skin color='blue', Alignment='good', Weight='54.0'),\n",
              " Row(_c0='588', name='Shadowcat', Gender='Female', Eye color='hazel', Race='Mutant', Hair color='Brown', Height='168.0', Publisher='Marvel Comics', Skin color='-', Alignment='good', Weight='50.0'),\n",
              " Row(_c0='589', name='Shang-Chi', Gender='Male', Eye color='brown', Race='Human', Hair color='Black', Height='178.0', Publisher='Marvel Comics', Skin color='-', Alignment='good', Weight='79.0'),\n",
              " Row(_c0='590', name='Shatterstar', Gender='Male', Eye color='brown', Race='-', Hair color='Red', Height='191.0', Publisher='Marvel Comics', Skin color='-', Alignment='good', Weight='88.0'),\n",
              " Row(_c0='591', name='She-Hulk', Gender='Female', Eye color='green', Race='Human', Hair color='Green', Height='201.0', Publisher='Marvel Comics', Skin color='-', Alignment='good', Weight='315.0'),\n",
              " Row(_c0='592', name='She-Thing', Gender='Female', Eye color='blue', Race='Human / Radiation', Hair color='No Hair', Height='183.0', Publisher='Marvel Comics', Skin color='-', Alignment='good', Weight='153.0'),\n",
              " Row(_c0='593', name='Shocker', Gender='Male', Eye color='brown', Race='Human', Hair color='Brown', Height='175.0', Publisher='Marvel Comics', Skin color='-', Alignment='bad', Weight='79.0'),\n",
              " Row(_c0='594', name='Shriek', Gender='Female', Eye color='yellow / blue', Race='-', Hair color='Black', Height='173.0', Publisher='Marvel Comics', Skin color='-', Alignment='good', Weight='52.0'),\n",
              " Row(_c0='595', name='Shrinking Violet', Gender='Female', Eye color='-', Race='-', Hair color='-', Height='-99.0', Publisher='DC Comics', Skin color='-', Alignment='good', Weight='-99.0'),\n",
              " Row(_c0='596', name='Sif', Gender='Female', Eye color='blue', Race='Asgardian', Hair color='Black', Height='188.0', Publisher='Marvel Comics', Skin color='-', Alignment='good', Weight='191.0'),\n",
              " Row(_c0='597', name='Silk', Gender='Female', Eye color='brown', Race='Human', Hair color='Black', Height='-99.0', Publisher='Marvel Comics', Skin color='-', Alignment='good', Weight='-99.0'),\n",
              " Row(_c0='598', name='Silk Spectre', Gender='Female', Eye color='-', Race='-', Hair color='-', Height='-99.0', Publisher='DC Comics', Skin color='-', Alignment='good', Weight='-99.0'),\n",
              " Row(_c0='599', name='Silk Spectre II', Gender='Female', Eye color='-', Race='-', Hair color='-', Height='-99.0', Publisher='DC Comics', Skin color='-', Alignment='good', Weight='-99.0'),\n",
              " Row(_c0='600', name='Silver Surfer', Gender='Male', Eye color='white', Race='Alien', Hair color='No Hair', Height='193.0', Publisher='Marvel Comics', Skin color='silver', Alignment='good', Weight='101.0'),\n",
              " Row(_c0='601', name='Silverclaw', Gender='Female', Eye color='brown', Race='-', Hair color='Black', Height='157.0', Publisher='Marvel Comics', Skin color='-', Alignment='good', Weight='50.0'),\n",
              " Row(_c0='602', name='Simon Baz', Gender='Male', Eye color='bown', Race='Human', Hair color='Black', Height='-99.0', Publisher='DC Comics', Skin color='-', Alignment='good', Weight='-99.0'),\n",
              " Row(_c0='603', name='Sinestro', Gender='Male', Eye color='black', Race='Korugaran', Hair color='Black', Height='201.0', Publisher='DC Comics', Skin color='red', Alignment='neutral', Weight='92.0'),\n",
              " Row(_c0='604', name='Siren', Gender='Female', Eye color='blue', Race='Atlantean', Hair color='Purple', Height='175.0', Publisher='DC Comics', Skin color='-', Alignment='bad', Weight='72.0'),\n",
              " Row(_c0='605', name='Siren II', Gender='Female', Eye color='black', Race='-', Hair color='-', Height='-99.0', Publisher='DC Comics', Skin color='-', Alignment='bad', Weight='-99.0'),\n",
              " Row(_c0='606', name='Siryn', Gender='Female', Eye color='blue', Race='-', Hair color='Strawberry Blond', Height='168.0', Publisher='Marvel Comics', Skin color='-', Alignment='bad', Weight='52.0'),\n",
              " Row(_c0='607', name='Skaar', Gender='Male', Eye color='green', Race='-', Hair color='Black', Height='198.0', Publisher='Marvel Comics', Skin color='-', Alignment='good', Weight='180.0'),\n",
              " Row(_c0='608', name='Snake-Eyes', Gender='Male', Eye color='-', Race='Animal', Hair color='-', Height='-99.0', Publisher='Marvel Comics', Skin color='-', Alignment='bad', Weight='-99.0'),\n",
              " Row(_c0='609', name='Snowbird', Gender='Female', Eye color='white', Race='-', Hair color='Blond', Height='178.0', Publisher='Marvel Comics', Skin color='-', Alignment='good', Weight='49.0'),\n",
              " Row(_c0='610', name='Sobek', Gender='Male', Eye color='white', Race='-', Hair color='No Hair', Height='-99.0', Publisher='DC Comics', Skin color='-', Alignment='good', Weight='-99.0'),\n",
              " Row(_c0='611', name='Solomon Grundy', Gender='Male', Eye color='black', Race='Zombie', Hair color='White', Height='279.0', Publisher='DC Comics', Skin color='-', Alignment='bad', Weight='437.0'),\n",
              " Row(_c0='612', name='Songbird', Gender='Female', Eye color='green', Race='-', Hair color='Red / White', Height='165.0', Publisher='Marvel Comics', Skin color='-', Alignment='good', Weight='65.0'),\n",
              " Row(_c0='613', name='Space Ghost', Gender='Male', Eye color='-', Race='Human', Hair color='-', Height='188.0', Publisher='DC Comics', Skin color='-', Alignment='good', Weight='113.0'),\n",
              " Row(_c0='614', name='Spawn', Gender='Male', Eye color='brown', Race='Demon', Hair color='Black', Height='211.0', Publisher='Image Comics', Skin color='-', Alignment='good', Weight='405.0'),\n",
              " Row(_c0='615', name='Spectre', Gender='Male', Eye color='white', Race='God / Eternal', Hair color='No Hair', Height='-99.0', Publisher='DC Comics', Skin color='white', Alignment='good', Weight='-99.0'),\n",
              " Row(_c0='616', name='Speedball', Gender='Male', Eye color='-', Race='-', Hair color='-', Height='-99.0', Publisher='Marvel Comics', Skin color='-', Alignment='good', Weight='-99.0'),\n",
              " Row(_c0='617', name='Speedy', Gender='Male', Eye color='-', Race='Human', Hair color='-', Height='-99.0', Publisher='DC Comics', Skin color='-', Alignment='good', Weight='-99.0'),\n",
              " Row(_c0='618', name='Speedy', Gender='Female', Eye color='green', Race='Human', Hair color='Brown', Height='-99.0', Publisher='DC Comics', Skin color='-', Alignment='good', Weight='-99.0'),\n",
              " Row(_c0='619', name='Spider-Carnage', Gender='Male', Eye color='-', Race='Symbiote', Hair color='-', Height='-99.0', Publisher='Marvel Comics', Skin color='-', Alignment='bad', Weight='-99.0'),\n",
              " Row(_c0='620', name='Spider-Girl', Gender='Female', Eye color='blue', Race='Human', Hair color='Brown', Height='170.0', Publisher='Marvel Comics', Skin color='-', Alignment='good', Weight='54.0'),\n",
              " Row(_c0='621', name='Spider-Gwen', Gender='Female', Eye color='blue', Race='Human', Hair color='Blond', Height='165.0', Publisher='Marvel Comics', Skin color='-', Alignment='good', Weight='56.0'),\n",
              " Row(_c0='622', name='Spider-Man', Gender='Male', Eye color='hazel', Race='Human', Hair color='Brown', Height='178.0', Publisher='Marvel Comics', Skin color='-', Alignment='good', Weight='74.0'),\n",
              " Row(_c0='623', name='Spider-Man', Gender='-', Eye color='red', Race='Human', Hair color='Brown', Height='178.0', Publisher='Marvel Comics', Skin color='-', Alignment='good', Weight='77.0'),\n",
              " Row(_c0='624', name='Spider-Man', Gender='Male', Eye color='brown', Race='Human', Hair color='Black', Height='157.0', Publisher='Marvel Comics', Skin color='-', Alignment='good', Weight='56.0'),\n",
              " Row(_c0='625', name='Spider-Woman', Gender='Female', Eye color='green', Race='Human', Hair color='Black', Height='178.0', Publisher='Marvel Comics', Skin color='-', Alignment='good', Weight='59.0'),\n",
              " Row(_c0='626', name='Spider-Woman II', Gender='Female', Eye color='-', Race='-', Hair color='-', Height='-99.0', Publisher='Marvel Comics', Skin color='-', Alignment='good', Weight='-99.0'),\n",
              " Row(_c0='627', name='Spider-Woman III', Gender='Female', Eye color='brown', Race='-', Hair color='Brown', Height='173.0', Publisher='Marvel Comics', Skin color='-', Alignment='good', Weight='55.0'),\n",
              " Row(_c0='628', name='Spider-Woman IV', Gender='Female', Eye color='red', Race='-', Hair color='White', Height='178.0', Publisher='Marvel Comics', Skin color='-', Alignment='bad', Weight='58.0'),\n",
              " Row(_c0='629', name='Spock', Gender='Male', Eye color='brown', Race='Human-Vulcan', Hair color='Black', Height='185.0', Publisher='Star Trek', Skin color='-', Alignment='good', Weight='81.0'),\n",
              " Row(_c0='630', name='Spyke', Gender='Male', Eye color='brown', Race='Mutant', Hair color='Blond', Height='183.0', Publisher='Marvel Comics', Skin color='-', Alignment='good', Weight='83.0'),\n",
              " Row(_c0='631', name='Stacy X', Gender='Female', Eye color='-', Race='-', Hair color='-', Height='-99.0', Publisher='Marvel Comics', Skin color='-', Alignment='good', Weight='-99.0'),\n",
              " Row(_c0='632', name='Star-Lord', Gender='Male', Eye color='blue', Race='Human-Spartoi', Hair color='Blond', Height='188.0', Publisher='Marvel Comics', Skin color='-', Alignment='good', Weight='79.0'),\n",
              " Row(_c0='633', name='Stardust', Gender='Male', Eye color='-', Race='-', Hair color='-', Height='-99.0', Publisher='Marvel Comics', Skin color='-', Alignment='good', Weight='-99.0'),\n",
              " Row(_c0='634', name='Starfire', Gender='Female', Eye color='green', Race='Tamaranean', Hair color='Auburn', Height='193.0', Publisher='DC Comics', Skin color='orange', Alignment='good', Weight='71.0'),\n",
              " Row(_c0='635', name='Stargirl', Gender='Female', Eye color='blue', Race='Human', Hair color='Blond', Height='165.0', Publisher='DC Comics', Skin color='-', Alignment='good', Weight='62.0'),\n",
              " Row(_c0='636', name='Static', Gender='Male', Eye color='brown', Race='Mutant', Hair color='Black', Height='170.0', Publisher='DC Comics', Skin color='-', Alignment='good', Weight='63.0'),\n",
              " Row(_c0='637', name='Steel', Gender='Male', Eye color='brown', Race='-', Hair color='No Hair', Height='201.0', Publisher='DC Comics', Skin color='-', Alignment='good', Weight='131.0'),\n",
              " Row(_c0='638', name='Stephanie Powell', Gender='Female', Eye color='-', Race='-', Hair color='Blond', Height='-99.0', Publisher='ABC Studios', Skin color='-', Alignment='good', Weight='-99.0'),\n",
              " Row(_c0='639', name='Steppenwolf', Gender='Male', Eye color='red', Race='New God', Hair color='Black', Height='183.0', Publisher='DC Comics', Skin color='white', Alignment='bad', Weight='91.0'),\n",
              " Row(_c0='640', name='Storm', Gender='Female', Eye color='blue', Race='Mutant', Hair color='White', Height='180.0', Publisher='Marvel Comics', Skin color='-', Alignment='good', Weight='57.0'),\n",
              " Row(_c0='641', name='Stormtrooper', Gender='Male', Eye color='-', Race='Human', Hair color='-', Height='183.0', Publisher='George Lucas', Skin color='-', Alignment='bad', Weight='-99.0'),\n",
              " Row(_c0='642', name='Sunspot', Gender='Male', Eye color='brown', Race='Mutant', Hair color='black', Height='173.0', Publisher='Marvel Comics', Skin color='-', Alignment='good', Weight='77.0'),\n",
              " Row(_c0='643', name='Superboy', Gender='Male', Eye color='blue', Race='-', Hair color='Black', Height='170.0', Publisher='DC Comics', Skin color='-', Alignment='good', Weight='68.0'),\n",
              " Row(_c0='644', name='Superboy-Prime', Gender='Male', Eye color='blue', Race='Kryptonian', Hair color='Black / Blue', Height='180.0', Publisher='DC Comics', Skin color='-', Alignment='bad', Weight='77.0'),\n",
              " Row(_c0='645', name='Supergirl', Gender='Female', Eye color='blue', Race='Kryptonian', Hair color='Blond', Height='165.0', Publisher='DC Comics', Skin color='-', Alignment='good', Weight='54.0'),\n",
              " Row(_c0='646', name='Superman', Gender='Male', Eye color='blue', Race='Kryptonian', Hair color='Black', Height='191.0', Publisher='DC Comics', Skin color='-', Alignment='good', Weight='101.0'),\n",
              " Row(_c0='647', name='Swamp Thing', Gender='Male', Eye color='red', Race='God / Eternal', Hair color='No Hair', Height='-99.0', Publisher='DC Comics', Skin color='green', Alignment='bad', Weight='-99.0'),\n",
              " Row(_c0='648', name='Swarm', Gender='Male', Eye color='yellow', Race='Mutant', Hair color='No Hair', Height='196.0', Publisher='Marvel Comics', Skin color='yellow', Alignment='bad', Weight='47.0'),\n",
              " Row(_c0='649', name='Sylar', Gender='Male', Eye color='-', Race='-', Hair color='-', Height='-99.0', Publisher='NBC - Heroes', Skin color='-', Alignment='bad', Weight='-99.0'),\n",
              " Row(_c0='650', name='Synch', Gender='Male', Eye color='brown', Race='-', Hair color='Black', Height='180.0', Publisher='Marvel Comics', Skin color='-', Alignment='good', Weight='74.0'),\n",
              " Row(_c0='651', name='T-1000', Gender='Male', Eye color='-', Race='Android', Hair color='-', Height='183.0', Publisher='Dark Horse Comics', Skin color='silver', Alignment='bad', Weight='146.0'),\n",
              " Row(_c0='652', name='T-800', Gender='Male', Eye color='red', Race='Cyborg', Hair color='-', Height='-99.0', Publisher='Dark Horse Comics', Skin color='-', Alignment='bad', Weight='176.0'),\n",
              " Row(_c0='653', name='T-850', Gender='Male', Eye color='red', Race='Cyborg', Hair color='-', Height='-99.0', Publisher='Dark Horse Comics', Skin color='-', Alignment='bad', Weight='198.0'),\n",
              " Row(_c0='654', name='T-X', Gender='Female', Eye color='-', Race='Cyborg', Hair color='-', Height='-99.0', Publisher='Dark Horse Comics', Skin color='silver', Alignment='bad', Weight='149.0'),\n",
              " Row(_c0='655', name='Taskmaster', Gender='Male', Eye color='brown', Race='Human', Hair color='Brown', Height='188.0', Publisher='Marvel Comics', Skin color='-', Alignment='bad', Weight='99.0'),\n",
              " Row(_c0='656', name='Tempest', Gender='Female', Eye color='brown', Race='-', Hair color='Black', Height='163.0', Publisher='Marvel Comics', Skin color='-', Alignment='good', Weight='54.0'),\n",
              " Row(_c0='657', name='Thanos', Gender='Male', Eye color='red', Race='Eternal', Hair color='No Hair', Height='201.0', Publisher='Marvel Comics', Skin color='purple', Alignment='bad', Weight='443.0'),\n",
              " Row(_c0='658', name='The Cape', Gender='Male', Eye color='-', Race='-', Hair color='-', Height='-99.0', Publisher=None, Skin color='-', Alignment='good', Weight='-99.0'),\n",
              " Row(_c0='659', name='The Comedian', Gender='Male', Eye color='brown', Race='Human', Hair color='Black', Height='188.0', Publisher='DC Comics', Skin color='-', Alignment='neutral', Weight='101.0'),\n",
              " Row(_c0='660', name='Thing', Gender='Male', Eye color='blue', Race='Human / Radiation', Hair color='No Hair', Height='183.0', Publisher='Marvel Comics', Skin color='-', Alignment='good', Weight='225.0'),\n",
              " Row(_c0='661', name='Thor', Gender='Male', Eye color='blue', Race='Asgardian', Hair color='Blond', Height='198.0', Publisher='Marvel Comics', Skin color='-', Alignment='good', Weight='288.0'),\n",
              " Row(_c0='662', name='Thor Girl', Gender='Female', Eye color='blue', Race='Asgardian', Hair color='Blond', Height='175.0', Publisher='Marvel Comics', Skin color='-', Alignment='good', Weight='143.0'),\n",
              " Row(_c0='663', name='Thunderbird', Gender='Male', Eye color='brown', Race='-', Hair color='Black', Height='185.0', Publisher='Marvel Comics', Skin color='-', Alignment='good', Weight='101.0'),\n",
              " Row(_c0='664', name='Thunderbird II', Gender='Male', Eye color='-', Race='-', Hair color='-', Height='-99.0', Publisher='Marvel Comics', Skin color='-', Alignment='good', Weight='-99.0'),\n",
              " Row(_c0='665', name='Thunderbird III', Gender='Male', Eye color='brown', Race='-', Hair color='Black', Height='175.0', Publisher='Marvel Comics', Skin color='-', Alignment='good', Weight='74.0'),\n",
              " Row(_c0='666', name='Thunderstrike', Gender='Male', Eye color='blue', Race='-', Hair color='Blond', Height='198.0', Publisher='Marvel Comics', Skin color='-', Alignment='good', Weight='288.0'),\n",
              " Row(_c0='667', name='Thundra', Gender='Female', Eye color='green', Race='-', Hair color='Red', Height='218.0', Publisher='Marvel Comics', Skin color='-', Alignment='good', Weight='158.0'),\n",
              " Row(_c0='668', name='Tiger Shark', Gender='Male', Eye color='grey', Race='Human', Hair color='No Hair', Height='185.0', Publisher='Marvel Comics', Skin color='grey', Alignment='bad', Weight='203.0'),\n",
              " Row(_c0='669', name='Tigra', Gender='Female', Eye color='green', Race='-', Hair color='Auburn', Height='178.0', Publisher='Marvel Comics', Skin color='-', Alignment='good', Weight='81.0'),\n",
              " Row(_c0='670', name='Tinkerer', Gender='Male', Eye color='brown', Race='-', Hair color='White', Height='163.0', Publisher='Marvel Comics', Skin color='-', Alignment='bad', Weight='54.0'),\n",
              " Row(_c0='671', name='Titan', Gender='Male', Eye color='-', Race='-', Hair color='-', Height='-99.0', Publisher='HarperCollins', Skin color='-', Alignment='good', Weight='-99.0'),\n",
              " Row(_c0='672', name='Toad', Gender='Male', Eye color='black', Race='Mutant', Hair color='Brown', Height='175.0', Publisher='Marvel Comics', Skin color='green', Alignment='neutral', Weight='76.0'),\n",
              " Row(_c0='673', name='Toxin', Gender='Male', Eye color='blue', Race='Symbiote', Hair color='Brown', Height='188.0', Publisher='Marvel Comics', Skin color='-', Alignment='good', Weight='97.0'),\n",
              " Row(_c0='674', name='Toxin', Gender='Male', Eye color='black', Race='Symbiote', Hair color='Blond', Height='191.0', Publisher='Marvel Comics', Skin color='-', Alignment='good', Weight='117.0'),\n",
              " Row(_c0='675', name='Tracy Strauss', Gender='Female', Eye color='-', Race='-', Hair color='-', Height='-99.0', Publisher='NBC - Heroes', Skin color='-', Alignment='good', Weight='-99.0'),\n",
              " Row(_c0='676', name='Trickster', Gender='Male', Eye color='blue', Race='Human', Hair color='Blond', Height='183.0', Publisher='DC Comics', Skin color='-', Alignment='-', Weight='81.0'),\n",
              " Row(_c0='677', name='Trigon', Gender='Male', Eye color='yellow', Race='God / Eternal', Hair color='Black', Height='-99.0', Publisher='DC Comics', Skin color='red', Alignment='bad', Weight='-99.0'),\n",
              " Row(_c0='678', name='Triplicate Girl', Gender='Female', Eye color='purple', Race='-', Hair color='Brown', Height='168.0', Publisher='DC Comics', Skin color='-', Alignment='good', Weight='59.0'),\n",
              " Row(_c0='679', name='Triton', Gender='Male', Eye color='green', Race='Inhuman', Hair color='No Hair', Height='188.0', Publisher='Marvel Comics', Skin color='green', Alignment='good', Weight='86.0'),\n",
              " Row(_c0='680', name='Two-Face', Gender='Male', Eye color='-', Race='-', Hair color='-', Height='183.0', Publisher='DC Comics', Skin color='-', Alignment='bad', Weight='82.0'),\n",
              " Row(_c0='681', name='Ultragirl', Gender='Female', Eye color='blue', Race='-', Hair color='Blond', Height='168.0', Publisher='Marvel Comics', Skin color='-', Alignment='good', Weight='105.0'),\n",
              " Row(_c0='682', name='Ultron', Gender='Male', Eye color='red', Race='Android', Hair color='-', Height='206.0', Publisher='Marvel Comics', Skin color='silver', Alignment='bad', Weight='331.0'),\n",
              " Row(_c0='683', name='Utgard-Loki', Gender='Male', Eye color='blue', Race='Frost Giant', Hair color='White', Height='15.2', Publisher='Marvel Comics', Skin color='-', Alignment='bad', Weight='58.0'),\n",
              " Row(_c0='684', name='Vagabond', Gender='Female', Eye color='blue', Race='-', Hair color='Strawberry Blond', Height='168.0', Publisher='Marvel Comics', Skin color='-', Alignment='good', Weight='54.0'),\n",
              " Row(_c0='685', name='Valerie Hart', Gender='Female', Eye color='hazel', Race='-', Hair color='Black', Height='175.0', Publisher='Team Epic TV', Skin color='-', Alignment='good', Weight='56.0'),\n",
              " Row(_c0='686', name='Valkyrie', Gender='Female', Eye color='blue', Race='-', Hair color='Blond', Height='191.0', Publisher='Marvel Comics', Skin color='-', Alignment='good', Weight='214.0'),\n",
              " Row(_c0='687', name='Vanisher', Gender='Male', Eye color='green', Race='-', Hair color='No Hair', Height='165.0', Publisher='Marvel Comics', Skin color='-', Alignment='bad', Weight='79.0'),\n",
              " Row(_c0='688', name='Vegeta', Gender='Male', Eye color='-', Race='Saiyan', Hair color='Black', Height='168.0', Publisher='Shueisha', Skin color='-', Alignment='bad', Weight='73.0'),\n",
              " Row(_c0='689', name='Venom', Gender='Male', Eye color='blue', Race='Symbiote', Hair color='Strawberry Blond', Height='191.0', Publisher='Marvel Comics', Skin color='-', Alignment='bad', Weight='117.0'),\n",
              " Row(_c0='690', name='Venom II', Gender='Male', Eye color='brown', Race='-', Hair color='Black', Height='175.0', Publisher='Marvel Comics', Skin color='-', Alignment='bad', Weight='50.0'),\n",
              " Row(_c0='691', name='Venom III', Gender='Male', Eye color='brown', Race='Symbiote', Hair color='Brown', Height='229.0', Publisher='Marvel Comics', Skin color='-', Alignment='bad', Weight='334.0'),\n",
              " Row(_c0='692', name='Venompool', Gender='Male', Eye color='-', Race='Symbiote', Hair color='-', Height='226.0', Publisher='Marvel Comics', Skin color='-', Alignment='-', Weight='-99.0'),\n",
              " Row(_c0='693', name='Vertigo II', Gender='Female', Eye color='blue', Race='-', Hair color='Silver', Height='168.0', Publisher='Marvel Comics', Skin color='-', Alignment='good', Weight='52.0'),\n",
              " Row(_c0='694', name='Vibe', Gender='Male', Eye color='brown', Race='Human', Hair color='Black', Height='178.0', Publisher='DC Comics', Skin color='-', Alignment='good', Weight='71.0'),\n",
              " Row(_c0='695', name='Vindicator', Gender='Female', Eye color='green', Race='Human', Hair color='Red', Height='165.0', Publisher='Marvel Comics', Skin color='-', Alignment='good', Weight='54.0'),\n",
              " Row(_c0='696', name='Vindicator', Gender='Male', Eye color='-', Race='-', Hair color='-', Height='-99.0', Publisher='Marvel Comics', Skin color='-', Alignment='good', Weight='-99.0'),\n",
              " Row(_c0='697', name='Violator', Gender='Male', Eye color='-', Race='-', Hair color='-', Height='-99.0', Publisher='Image Comics', Skin color='-', Alignment='bad', Weight='-99.0'),\n",
              " Row(_c0='698', name='Violet Parr', Gender='Female', Eye color='violet', Race='Human', Hair color='Black', Height='137.0', Publisher='Dark Horse Comics', Skin color='-', Alignment='good', Weight='41.0'),\n",
              " Row(_c0='699', name='Vision', Gender='Male', Eye color='gold', Race='Android', Hair color='No Hair', Height='191.0', Publisher='Marvel Comics', Skin color='red', Alignment='good', Weight='135.0'),\n",
              " Row(_c0='700', name='Vision II', Gender='-', Eye color='red', Race='-', Hair color='No Hair', Height='191.0', Publisher='Marvel Comics', Skin color='-', Alignment='good', Weight='135.0'),\n",
              " Row(_c0='701', name='Vixen', Gender='Female', Eye color='amber', Race='Human', Hair color='Black', Height='175.0', Publisher='DC Comics', Skin color='-', Alignment='good', Weight='63.0'),\n",
              " Row(_c0='702', name='Vulcan', Gender='Male', Eye color='black', Race='-', Hair color='Black', Height='-99.0', Publisher='Marvel Comics', Skin color='-', Alignment='good', Weight='-99.0'),\n",
              " Row(_c0='703', name='Vulture', Gender='Male', Eye color='brown', Race='Human', Hair color='No Hair', Height='180.0', Publisher='Marvel Comics', Skin color='-', Alignment='bad', Weight='79.0'),\n",
              " Row(_c0='704', name='Walrus', Gender='Male', Eye color='blue', Race='Human', Hair color='Black', Height='183.0', Publisher='Marvel Comics', Skin color='-', Alignment='bad', Weight='162.0'),\n",
              " Row(_c0='705', name='War Machine', Gender='Male', Eye color='brown', Race='Human', Hair color='Brown', Height='185.0', Publisher='Marvel Comics', Skin color='-', Alignment='good', Weight='95.0'),\n",
              " Row(_c0='706', name='Warbird', Gender='Female', Eye color='blue', Race='-', Hair color='Blond', Height='180.0', Publisher='Marvel Comics', Skin color='-', Alignment='good', Weight='54.0'),\n",
              " Row(_c0='707', name='Warlock', Gender='Male', Eye color='red', Race='-', Hair color='Blond', Height='188.0', Publisher='Marvel Comics', Skin color='-', Alignment='good', Weight='108.0'),\n",
              " Row(_c0='708', name='Warp', Gender='Male', Eye color='brown', Race='-', Hair color='Black', Height='173.0', Publisher='DC Comics', Skin color='-', Alignment='bad', Weight='67.0'),\n",
              " Row(_c0='709', name='Warpath', Gender='Male', Eye color='brown', Race='Mutant', Hair color='Black', Height='218.0', Publisher='Marvel Comics', Skin color='-', Alignment='good', Weight='158.0'),\n",
              " Row(_c0='710', name='Wasp', Gender='Female', Eye color='blue', Race='Human', Hair color='Auburn', Height='163.0', Publisher='Marvel Comics', Skin color='-', Alignment='good', Weight='50.0'),\n",
              " Row(_c0='711', name='Watcher', Gender='Male', Eye color='-', Race='-', Hair color='-', Height='-99.0', Publisher='Marvel Comics', Skin color='-', Alignment='good', Weight='-99.0'),\n",
              " Row(_c0='712', name='Weapon XI', Gender='Male', Eye color='-', Race='-', Hair color='-', Height='-99.0', Publisher='Marvel Comics', Skin color='-', Alignment='bad', Weight='-99.0'),\n",
              " Row(_c0='713', name='White Canary', Gender='Female', Eye color='brown', Race='Human', Hair color='Black', Height='-99.0', Publisher='DC Comics', Skin color='-', Alignment='bad', Weight='-99.0'),\n",
              " Row(_c0='714', name='White Queen', Gender='Female', Eye color='blue', Race='-', Hair color='Blond', Height='178.0', Publisher='Marvel Comics', Skin color='-', Alignment='good', Weight='65.0'),\n",
              " Row(_c0='715', name='Wildfire', Gender='Male', Eye color='-', Race='-', Hair color='-', Height='-99.0', Publisher='DC Comics', Skin color='-', Alignment='good', Weight='-99.0'),\n",
              " Row(_c0='716', name='Winter Soldier', Gender='Male', Eye color='brown', Race='Human', Hair color='Brown', Height='175.0', Publisher='Marvel Comics', Skin color='-', Alignment='good', Weight='117.0'),\n",
              " Row(_c0='717', name='Wiz Kid', Gender='-', Eye color='brown', Race='-', Hair color='Black', Height='140.0', Publisher='Marvel Comics', Skin color='-', Alignment='good', Weight='39.0'),\n",
              " Row(_c0='718', name='Wolfsbane', Gender='Female', Eye color='green', Race='-', Hair color='Auburn', Height='366.0', Publisher='Marvel Comics', Skin color='-', Alignment='good', Weight='473.0'),\n",
              " Row(_c0='719', name='Wolverine', Gender='Male', Eye color='blue', Race='Mutant', Hair color='Black', Height='160.0', Publisher='Marvel Comics', Skin color='-', Alignment='good', Weight='135.0'),\n",
              " Row(_c0='720', name='Wonder Girl', Gender='Female', Eye color='blue', Race='Demi-God', Hair color='Blond', Height='165.0', Publisher='DC Comics', Skin color='-', Alignment='good', Weight='51.0'),\n",
              " Row(_c0='721', name='Wonder Man', Gender='Male', Eye color='red', Race='-', Hair color='Black', Height='188.0', Publisher='Marvel Comics', Skin color='-', Alignment='good', Weight='171.0'),\n",
              " Row(_c0='722', name='Wonder Woman', Gender='Female', Eye color='blue', Race='Amazon', Hair color='Black', Height='183.0', Publisher='DC Comics', Skin color='-', Alignment='good', Weight='74.0'),\n",
              " Row(_c0='723', name='Wondra', Gender='Female', Eye color='-', Race='-', Hair color='-', Height='-99.0', Publisher='Marvel Comics', Skin color='-', Alignment='good', Weight='-99.0'),\n",
              " Row(_c0='724', name='Wyatt Wingfoot', Gender='Male', Eye color='brown', Race='-', Hair color='Black', Height='196.0', Publisher='Marvel Comics', Skin color='-', Alignment='good', Weight='117.0'),\n",
              " Row(_c0='725', name='X-23', Gender='Female', Eye color='green', Race='Mutant / Clone', Hair color='Black', Height='155.0', Publisher='Marvel Comics', Skin color='-', Alignment='good', Weight='50.0'),\n",
              " Row(_c0='726', name='X-Man', Gender='Male', Eye color='blue', Race='-', Hair color='Brown', Height='175.0', Publisher='Marvel Comics', Skin color='-', Alignment='good', Weight='61.0'),\n",
              " Row(_c0='727', name='Yellow Claw', Gender='Male', Eye color='blue', Race='-', Hair color='No Hair', Height='188.0', Publisher='Marvel Comics', Skin color='-', Alignment='bad', Weight='95.0'),\n",
              " Row(_c0='728', name='Yellowjacket', Gender='Male', Eye color='blue', Race='Human', Hair color='Blond', Height='183.0', Publisher='Marvel Comics', Skin color='-', Alignment='good', Weight='83.0'),\n",
              " Row(_c0='729', name='Yellowjacket II', Gender='Female', Eye color='blue', Race='Human', Hair color='Strawberry Blond', Height='165.0', Publisher='Marvel Comics', Skin color='-', Alignment='good', Weight='52.0'),\n",
              " Row(_c0='730', name='Ymir', Gender='Male', Eye color='white', Race='Frost Giant', Hair color='No Hair', Height='304.8', Publisher='Marvel Comics', Skin color='white', Alignment='good', Weight='-99.0'),\n",
              " Row(_c0='731', name='Yoda', Gender='Male', Eye color='brown', Race=\"Yoda's species\", Hair color='White', Height='66.0', Publisher='George Lucas', Skin color='green', Alignment='good', Weight='17.0'),\n",
              " Row(_c0='732', name='Zatanna', Gender='Female', Eye color='blue', Race='Human', Hair color='Black', Height='170.0', Publisher='DC Comics', Skin color='-', Alignment='good', Weight='57.0'),\n",
              " Row(_c0='733', name='Zoom', Gender='Male', Eye color='red', Race='-', Hair color='Brown', Height='185.0', Publisher='DC Comics', Skin color='-', Alignment='bad', Weight='81.0')]"
            ]
          },
          "metadata": {},
          "execution_count": 6
        }
      ]
    },
    {
      "cell_type": "code",
      "source": [
        "df.show(76)"
      ],
      "metadata": {
        "colab": {
          "base_uri": "https://localhost:8080/"
        },
        "id": "gzBQvsH9oQXR",
        "outputId": "b900459b-2560-48f6-ceac-d8411084f92a"
      },
      "execution_count": null,
      "outputs": [
        {
          "output_type": "stream",
          "name": "stdout",
          "text": [
            "+---+-----------------+------+---------+-----------------+----------------+------+-----------------+----------+---------+------+\n",
            "|_c0|             name|Gender|Eye color|             Race|      Hair color|Height|        Publisher|Skin color|Alignment|Weight|\n",
            "+---+-----------------+------+---------+-----------------+----------------+------+-----------------+----------+---------+------+\n",
            "|  0|           A-Bomb|  Male|   yellow|            Human|         No Hair| 203.0|    Marvel Comics|         -|     good| 441.0|\n",
            "|  1|       Abe Sapien|  Male|     blue|    Icthyo Sapien|         No Hair| 191.0|Dark Horse Comics|      blue|     good|  65.0|\n",
            "|  2|         Abin Sur|  Male|     blue|          Ungaran|         No Hair| 185.0|        DC Comics|       red|     good|  90.0|\n",
            "|  3|      Abomination|  Male|    green|Human / Radiation|         No Hair| 203.0|    Marvel Comics|         -|      bad| 441.0|\n",
            "|  4|          Abraxas|  Male|     blue|    Cosmic Entity|           Black| -99.0|    Marvel Comics|         -|      bad| -99.0|\n",
            "|  5|    Absorbing Man|  Male|     blue|            Human|         No Hair| 193.0|    Marvel Comics|         -|      bad| 122.0|\n",
            "|  6|      Adam Monroe|  Male|     blue|                -|           Blond| -99.0|     NBC - Heroes|         -|     good| -99.0|\n",
            "|  7|     Adam Strange|  Male|     blue|            Human|           Blond| 185.0|        DC Comics|         -|     good|  88.0|\n",
            "|  8|         Agent 13|Female|     blue|                -|           Blond| 173.0|    Marvel Comics|         -|     good|  61.0|\n",
            "|  9|        Agent Bob|  Male|    brown|            Human|           Brown| 178.0|    Marvel Comics|         -|     good|  81.0|\n",
            "| 10|       Agent Zero|  Male|        -|                -|               -| 191.0|    Marvel Comics|         -|     good| 104.0|\n",
            "| 11|       Air-Walker|  Male|     blue|                -|           White| 188.0|    Marvel Comics|         -|      bad| 108.0|\n",
            "| 12|             Ajax|  Male|    brown|           Cyborg|           Black| 193.0|    Marvel Comics|         -|      bad|  90.0|\n",
            "| 13|       Alan Scott|  Male|     blue|                -|           Blond| 180.0|        DC Comics|         -|     good|  90.0|\n",
            "| 14|      Alex Mercer|  Male|        -|            Human|               -| -99.0|        Wildstorm|         -|      bad| -99.0|\n",
            "| 15|     Alex Woolsly|  Male|        -|                -|               -| -99.0|     NBC - Heroes|         -|     good| -99.0|\n",
            "| 16|Alfred Pennyworth|  Male|     blue|            Human|           Black| 178.0|        DC Comics|         -|     good|  72.0|\n",
            "| 17|            Alien|  Male|        -|  Xenomorph XX121|         No Hair| 244.0|Dark Horse Comics|     black|      bad| 169.0|\n",
            "| 18| Allan Quatermain|  Male|        -|                -|               -| -99.0|        Wildstorm|         -|     good| -99.0|\n",
            "| 19|            Amazo|  Male|      red|          Android|               -| 257.0|        DC Comics|         -|      bad| 173.0|\n",
            "| 20|             Ammo|  Male|    brown|            Human|           Black| 188.0|    Marvel Comics|         -|      bad| 101.0|\n",
            "| 21|   Ando Masahashi|  Male|        -|                -|               -| -99.0|     NBC - Heroes|         -|     good| -99.0|\n",
            "| 22|            Angel|  Male|     blue|                -|           Blond| 183.0|    Marvel Comics|         -|     good|  68.0|\n",
            "| 23|            Angel|  Male|        -|          Vampire|               -| -99.0|Dark Horse Comics|         -|     good| -99.0|\n",
            "| 24|       Angel Dust|Female|   yellow|           Mutant|           Black| 165.0|    Marvel Comics|         -|     good|  57.0|\n",
            "| 25|  Angel Salvadore|Female|    brown|                -|           Black| 163.0|    Marvel Comics|         -|     good|  54.0|\n",
            "| 26|           Angela|Female|        -|                -|               -| -99.0|     Image Comics|         -|      bad| -99.0|\n",
            "| 27|       Animal Man|  Male|     blue|            Human|           Blond| 183.0|        DC Comics|         -|     good|  83.0|\n",
            "| 28|        Annihilus|  Male|    green|                -|         No Hair| 180.0|    Marvel Comics|         -|      bad|  90.0|\n",
            "| 29|          Ant-Man|  Male|     blue|            Human|           Blond| 211.0|    Marvel Comics|         -|     good| 122.0|\n",
            "| 30|       Ant-Man II|  Male|     blue|            Human|           Blond| 183.0|    Marvel Comics|         -|     good|  86.0|\n",
            "| 31|     Anti-Monitor|  Male|   yellow|    God / Eternal|         No Hair|  61.0|        DC Comics|         -|      bad| -99.0|\n",
            "| 32|       Anti-Spawn|  Male|        -|                -|               -| -99.0|     Image Comics|         -|      bad| -99.0|\n",
            "| 33|       Anti-Venom|  Male|     blue|         Symbiote|           Blond| 229.0|    Marvel Comics|         -|        -| 358.0|\n",
            "| 34|       Apocalypse|  Male|      red|           Mutant|           Black| 213.0|    Marvel Comics|      grey|      bad| 135.0|\n",
            "| 35|         Aquababy|  Male|     blue|                -|           Blond| -99.0|        DC Comics|         -|     good| -99.0|\n",
            "| 36|          Aqualad|  Male|     blue|        Atlantean|           Black| 178.0|        DC Comics|         -|     good| 106.0|\n",
            "| 37|          Aquaman|  Male|     blue|        Atlantean|           Blond| 185.0|        DC Comics|         -|     good| 146.0|\n",
            "| 38|          Arachne|Female|     blue|            Human|           Blond| 175.0|    Marvel Comics|         -|     good|  63.0|\n",
            "| 39|        Archangel|  Male|     blue|           Mutant|           Blond| 183.0|    Marvel Comics|      blue|     good|  68.0|\n",
            "| 40|         Arclight|Female|   violet|                -|          Purple| 173.0|    Marvel Comics|         -|      bad|  57.0|\n",
            "| 41|           Ardina|Female|    white|            Alien|          Orange| 193.0|    Marvel Comics|      gold|     good|  98.0|\n",
            "| 42|             Ares|  Male|    brown|                -|           Brown| 185.0|    Marvel Comics|         -|     good| 270.0|\n",
            "| 43|            Ariel|Female|   purple|                -|            Pink| 165.0|    Marvel Comics|         -|     good|  59.0|\n",
            "| 44|            Armor|Female|    black|                -|           Black| 163.0|    Marvel Comics|         -|     good|  50.0|\n",
            "| 45|          Arsenal|  Male|        -|            Human|               -| -99.0|        DC Comics|         -|     good| -99.0|\n",
            "| 46|        Astro Boy|  Male|    brown|                -|           Black| -99.0|             NULL|         -|     good| -99.0|\n",
            "| 47|            Atlas|  Male|    brown|           Mutant|             Red| 183.0|    Marvel Comics|         -|     good| 101.0|\n",
            "| 48|            Atlas|  Male|     blue|    God / Eternal|           Brown| 198.0|        DC Comics|         -|      bad| 126.0|\n",
            "| 49|             Atom|  Male|     blue|                -|             Red| 178.0|        DC Comics|         -|     good|  68.0|\n",
            "| 50|             Atom|  Male|        -|                -|               -| -99.0|        DC Comics|         -|     good| -99.0|\n",
            "| 51|        Atom Girl|Female|    black|                -|           Black| 168.0|        DC Comics|         -|     good|  54.0|\n",
            "| 52|          Atom II|  Male|    brown|            Human|          Auburn| 183.0|        DC Comics|         -|     good|  81.0|\n",
            "| 53|         Atom III|  Male|        -|                -|             Red| -99.0|        DC Comics|         -|     good| -99.0|\n",
            "| 54|          Atom IV|  Male|    brown|                -|           Black| -99.0|        DC Comics|         -|     good|  72.0|\n",
            "| 55|           Aurora|Female|     blue|           Mutant|           Black| 180.0|    Marvel Comics|         -|     good|  63.0|\n",
            "| 56|           Azazel|  Male|   yellow|         Neyaphem|           Black| 183.0|    Marvel Comics|       red|      bad|  67.0|\n",
            "| 57|           Azrael|  Male|    brown|            Human|           Black| -99.0|        DC Comics|         -|     good| -99.0|\n",
            "| 58|            Aztar|  Male|        -|                -|               -| -99.0|        DC Comics|         -|     good| -99.0|\n",
            "| 59|             Bane|  Male|        -|            Human|               -| 203.0|        DC Comics|         -|      bad| 180.0|\n",
            "| 60|          Banshee|  Male|    green|            Human|Strawberry Blond| 183.0|    Marvel Comics|         -|     good|  77.0|\n",
            "| 61|           Bantam|  Male|    brown|                -|           Black| 165.0|    Marvel Comics|         -|     good|  54.0|\n",
            "| 62|          Batgirl|Female|        -|                -|               -| -99.0|        DC Comics|         -|     good| -99.0|\n",
            "| 63|          Batgirl|Female|    green|            Human|             Red| 170.0|        DC Comics|         -|     good|  57.0|\n",
            "| 64|      Batgirl III|Female|        -|                -|               -| -99.0|        DC Comics|         -|     good| -99.0|\n",
            "| 65|       Batgirl IV|Female|    green|            Human|           Black| 165.0|        DC Comics|         -|     good|  52.0|\n",
            "| 66|        Batgirl V|Female|        -|                -|               -| -99.0|        DC Comics|         -|     good| -99.0|\n",
            "| 67|       Batgirl VI|Female|     blue|                -|           Blond| 168.0|        DC Comics|         -|     good|  61.0|\n",
            "| 68|           Batman|  Male|     blue|            Human|           black| 188.0|        DC Comics|         -|     good|  95.0|\n",
            "| 69|           Batman|  Male|     blue|            Human|           Black| 178.0|        DC Comics|         -|     good|  77.0|\n",
            "| 70|        Batman II|  Male|     blue|            Human|           Black| 178.0|        DC Comics|         -|     good|  79.0|\n",
            "| 71|       Battlestar|  Male|    brown|                -|           Black| 198.0|    Marvel Comics|         -|     good| 133.0|\n",
            "| 72|       Batwoman V|Female|    green|            Human|             Red| 178.0|        DC Comics|         -|     good| -99.0|\n",
            "| 73|             Beak|  Male|    black|                -|           White| 175.0|    Marvel Comics|         -|     good|  63.0|\n",
            "| 74|            Beast|  Male|     blue|           Mutant|            Blue| 180.0|    Marvel Comics|      blue|     good| 181.0|\n",
            "| 75|        Beast Boy|  Male|    green|            Human|           Green| 173.0|        DC Comics|     green|     good|  68.0|\n",
            "+---+-----------------+------+---------+-----------------+----------------+------+-----------------+----------+---------+------+\n",
            "only showing top 76 rows\n",
            "\n"
          ]
        }
      ]
    },
    {
      "cell_type": "code",
      "source": [
        "df.filter(df.Gender == 'Male').count()"
      ],
      "metadata": {
        "colab": {
          "base_uri": "https://localhost:8080/"
        },
        "id": "RtwlD7v9oYj-",
        "outputId": "3059986f-883b-4920-de8b-b349abd5d147"
      },
      "execution_count": null,
      "outputs": [
        {
          "output_type": "execute_result",
          "data": {
            "text/plain": [
              "505"
            ]
          },
          "metadata": {},
          "execution_count": 61
        }
      ]
    },
    {
      "cell_type": "code",
      "source": [
        "df.filter(df.Gender =='Female').count()"
      ],
      "metadata": {
        "colab": {
          "base_uri": "https://localhost:8080/"
        },
        "id": "Hyz01tJdonAp",
        "outputId": "fc0df6b5-d0a3-4a28-f01f-5104f92607d6"
      },
      "execution_count": null,
      "outputs": [
        {
          "output_type": "execute_result",
          "data": {
            "text/plain": [
              "200"
            ]
          },
          "metadata": {},
          "execution_count": 62
        }
      ]
    },
    {
      "cell_type": "code",
      "source": [
        "df.groupBy(\"Race\").count().show()"
      ],
      "metadata": {
        "colab": {
          "base_uri": "https://localhost:8080/"
        },
        "id": "QmKcvIy3oyzn",
        "outputId": "e6e86793-05d7-411f-a3ee-ea86950e3abe"
      },
      "execution_count": null,
      "outputs": [
        {
          "output_type": "stream",
          "name": "stdout",
          "text": [
            "+------------------+-----+\n",
            "|              Race|count|\n",
            "+------------------+-----+\n",
            "|          Neyaphem|    1|\n",
            "|          Symbiote|    9|\n",
            "|        Kryptonian|    7|\n",
            "|           Ungaran|    1|\n",
            "|           Martian|    1|\n",
            "|         Strontian|    1|\n",
            "| Human / Radiation|   11|\n",
            "|   Kakarantharaian|    1|\n",
            "|         Metahuman|    2|\n",
            "|Dathomirian Zabrak|    1|\n",
            "|    Human / Cosmic|    2|\n",
            "|   Xenomorph XX121|    1|\n",
            "|            Animal|    4|\n",
            "|       Frost Giant|    2|\n",
            "|            Cyborg|   11|\n",
            "|           Inhuman|    4|\n",
            "|     God / Eternal|   14|\n",
            "|    Yoda's species|    1|\n",
            "|     Icthyo Sapien|    1|\n",
            "|            Rodian|    1|\n",
            "+------------------+-----+\n",
            "only showing top 20 rows\n",
            "\n"
          ]
        }
      ]
    },
    {
      "cell_type": "code",
      "source": [
        "df1 = df.withColumn(\"Height\",col(\"Height\").cast(\"INTEGER\"))\n",
        "df1.printSchema()"
      ],
      "metadata": {
        "colab": {
          "base_uri": "https://localhost:8080/"
        },
        "id": "D1YXN9bvpIox",
        "outputId": "211ca296-9344-48a3-f08e-f3f4c2a38cb1"
      },
      "execution_count": null,
      "outputs": [
        {
          "output_type": "stream",
          "name": "stdout",
          "text": [
            "root\n",
            " |-- _c0: string (nullable = true)\n",
            " |-- name: string (nullable = true)\n",
            " |-- Gender: string (nullable = true)\n",
            " |-- Eye color: string (nullable = true)\n",
            " |-- Race: string (nullable = true)\n",
            " |-- Hair color: string (nullable = true)\n",
            " |-- Height: integer (nullable = true)\n",
            " |-- Publisher: string (nullable = true)\n",
            " |-- Skin color: string (nullable = true)\n",
            " |-- Alignment: string (nullable = true)\n",
            " |-- Weight: string (nullable = true)\n",
            "\n"
          ]
        }
      ]
    },
    {
      "cell_type": "code",
      "source": [
        "df1.groupBy(\"Publisher\").avg(\"Height\").show(90)"
      ],
      "metadata": {
        "colab": {
          "base_uri": "https://localhost:8080/"
        },
        "id": "l0PbB84ppggn",
        "outputId": "0da91bb3-a73e-4f76-c736-a6ae02825b2b"
      },
      "execution_count": null,
      "outputs": [
        {
          "output_type": "stream",
          "name": "stdout",
          "text": [
            "+-----------------+------------------+\n",
            "|        Publisher|       avg(Height)|\n",
            "+-----------------+------------------+\n",
            "|        Rebellion|             188.0|\n",
            "|    HarperCollins|             -99.0|\n",
            "| J. R. R. Tolkien|             279.0|\n",
            "|        Star Trek|              -5.5|\n",
            "|    Marvel Comics|142.75257731958763|\n",
            "|        Wildstorm|             -99.0|\n",
            "|             NULL|              -2.4|\n",
            "|       South Park|             -99.0|\n",
            "|    Sony Pictures|             179.0|\n",
            "|      Titan Books|             183.0|\n",
            "|      ABC Studios|             -99.0|\n",
            "|             SyFy|             -99.0|\n",
            "|     Image Comics|-76.85714285714286|\n",
            "|Universal Studios|             -99.0|\n",
            "|   IDW Publishing|             -99.0|\n",
            "|     NBC - Heroes|             -99.0|\n",
            "|    Hanna-Barbera|             -99.0|\n",
            "|        DC Comics| 91.06976744186046|\n",
            "|        Microsoft|             213.0|\n",
            "|    J. K. Rowling|             -99.0|\n",
            "|      Icon Comics|             -99.0|\n",
            "|Dark Horse Comics| 69.61111111111111|\n",
            "|     Team Epic TV|             182.2|\n",
            "|     George Lucas|             143.5|\n",
            "|         Shueisha|             171.5|\n",
            "+-----------------+------------------+\n",
            "\n"
          ]
        }
      ]
    },
    {
      "cell_type": "code",
      "source": [
        "df2 = df.withColumn(\"Is_Good\",df.Alignment ==\"good\")\n",
        "df2.show()"
      ],
      "metadata": {
        "colab": {
          "base_uri": "https://localhost:8080/"
        },
        "id": "UpfPozQ4p1Z2",
        "outputId": "b7fc43a2-9183-4490-fa64-2256d3de8966"
      },
      "execution_count": null,
      "outputs": [
        {
          "output_type": "stream",
          "name": "stdout",
          "text": [
            "+---+-----------------+------+---------+-----------------+----------+------+-----------------+----------+---------+------+-------+\n",
            "|_c0|             name|Gender|Eye color|             Race|Hair color|Height|        Publisher|Skin color|Alignment|Weight|Is_Good|\n",
            "+---+-----------------+------+---------+-----------------+----------+------+-----------------+----------+---------+------+-------+\n",
            "|  0|           A-Bomb|  Male|   yellow|            Human|   No Hair| 203.0|    Marvel Comics|         -|     good| 441.0|   true|\n",
            "|  1|       Abe Sapien|  Male|     blue|    Icthyo Sapien|   No Hair| 191.0|Dark Horse Comics|      blue|     good|  65.0|   true|\n",
            "|  2|         Abin Sur|  Male|     blue|          Ungaran|   No Hair| 185.0|        DC Comics|       red|     good|  90.0|   true|\n",
            "|  3|      Abomination|  Male|    green|Human / Radiation|   No Hair| 203.0|    Marvel Comics|         -|      bad| 441.0|  false|\n",
            "|  4|          Abraxas|  Male|     blue|    Cosmic Entity|     Black| -99.0|    Marvel Comics|         -|      bad| -99.0|  false|\n",
            "|  5|    Absorbing Man|  Male|     blue|            Human|   No Hair| 193.0|    Marvel Comics|         -|      bad| 122.0|  false|\n",
            "|  6|      Adam Monroe|  Male|     blue|                -|     Blond| -99.0|     NBC - Heroes|         -|     good| -99.0|   true|\n",
            "|  7|     Adam Strange|  Male|     blue|            Human|     Blond| 185.0|        DC Comics|         -|     good|  88.0|   true|\n",
            "|  8|         Agent 13|Female|     blue|                -|     Blond| 173.0|    Marvel Comics|         -|     good|  61.0|   true|\n",
            "|  9|        Agent Bob|  Male|    brown|            Human|     Brown| 178.0|    Marvel Comics|         -|     good|  81.0|   true|\n",
            "| 10|       Agent Zero|  Male|        -|                -|         -| 191.0|    Marvel Comics|         -|     good| 104.0|   true|\n",
            "| 11|       Air-Walker|  Male|     blue|                -|     White| 188.0|    Marvel Comics|         -|      bad| 108.0|  false|\n",
            "| 12|             Ajax|  Male|    brown|           Cyborg|     Black| 193.0|    Marvel Comics|         -|      bad|  90.0|  false|\n",
            "| 13|       Alan Scott|  Male|     blue|                -|     Blond| 180.0|        DC Comics|         -|     good|  90.0|   true|\n",
            "| 14|      Alex Mercer|  Male|        -|            Human|         -| -99.0|        Wildstorm|         -|      bad| -99.0|  false|\n",
            "| 15|     Alex Woolsly|  Male|        -|                -|         -| -99.0|     NBC - Heroes|         -|     good| -99.0|   true|\n",
            "| 16|Alfred Pennyworth|  Male|     blue|            Human|     Black| 178.0|        DC Comics|         -|     good|  72.0|   true|\n",
            "| 17|            Alien|  Male|        -|  Xenomorph XX121|   No Hair| 244.0|Dark Horse Comics|     black|      bad| 169.0|  false|\n",
            "| 18| Allan Quatermain|  Male|        -|                -|         -| -99.0|        Wildstorm|         -|     good| -99.0|   true|\n",
            "| 19|            Amazo|  Male|      red|          Android|         -| 257.0|        DC Comics|         -|      bad| 173.0|  false|\n",
            "+---+-----------------+------+---------+-----------------+----------+------+-----------------+----------+---------+------+-------+\n",
            "only showing top 20 rows\n",
            "\n"
          ]
        }
      ]
    },
    {
      "cell_type": "code",
      "source": [
        "from google.colab import files\n",
        "files.upload()"
      ],
      "metadata": {
        "colab": {
          "base_uri": "https://localhost:8080/",
          "height": 229
        },
        "id": "wPWT6cPW6FfP",
        "outputId": "389c9962-ff54-45e9-b4bc-1d1fab51a821"
      },
      "execution_count": null,
      "outputs": [
        {
          "output_type": "display_data",
          "data": {
            "text/plain": [
              "<IPython.core.display.HTML object>"
            ],
            "text/html": [
              "\n",
              "     <input type=\"file\" id=\"files-a847d8c9-af31-4731-8d34-821da89afd54\" name=\"files[]\" multiple disabled\n",
              "        style=\"border:none\" />\n",
              "     <output id=\"result-a847d8c9-af31-4731-8d34-821da89afd54\">\n",
              "      Upload widget is only available when the cell has been executed in the\n",
              "      current browser session. Please rerun this cell to enable.\n",
              "      </output>\n",
              "      <script>// Copyright 2017 Google LLC\n",
              "//\n",
              "// Licensed under the Apache License, Version 2.0 (the \"License\");\n",
              "// you may not use this file except in compliance with the License.\n",
              "// You may obtain a copy of the License at\n",
              "//\n",
              "//      http://www.apache.org/licenses/LICENSE-2.0\n",
              "//\n",
              "// Unless required by applicable law or agreed to in writing, software\n",
              "// distributed under the License is distributed on an \"AS IS\" BASIS,\n",
              "// WITHOUT WARRANTIES OR CONDITIONS OF ANY KIND, either express or implied.\n",
              "// See the License for the specific language governing permissions and\n",
              "// limitations under the License.\n",
              "\n",
              "/**\n",
              " * @fileoverview Helpers for google.colab Python module.\n",
              " */\n",
              "(function(scope) {\n",
              "function span(text, styleAttributes = {}) {\n",
              "  const element = document.createElement('span');\n",
              "  element.textContent = text;\n",
              "  for (const key of Object.keys(styleAttributes)) {\n",
              "    element.style[key] = styleAttributes[key];\n",
              "  }\n",
              "  return element;\n",
              "}\n",
              "\n",
              "// Max number of bytes which will be uploaded at a time.\n",
              "const MAX_PAYLOAD_SIZE = 100 * 1024;\n",
              "\n",
              "function _uploadFiles(inputId, outputId) {\n",
              "  const steps = uploadFilesStep(inputId, outputId);\n",
              "  const outputElement = document.getElementById(outputId);\n",
              "  // Cache steps on the outputElement to make it available for the next call\n",
              "  // to uploadFilesContinue from Python.\n",
              "  outputElement.steps = steps;\n",
              "\n",
              "  return _uploadFilesContinue(outputId);\n",
              "}\n",
              "\n",
              "// This is roughly an async generator (not supported in the browser yet),\n",
              "// where there are multiple asynchronous steps and the Python side is going\n",
              "// to poll for completion of each step.\n",
              "// This uses a Promise to block the python side on completion of each step,\n",
              "// then passes the result of the previous step as the input to the next step.\n",
              "function _uploadFilesContinue(outputId) {\n",
              "  const outputElement = document.getElementById(outputId);\n",
              "  const steps = outputElement.steps;\n",
              "\n",
              "  const next = steps.next(outputElement.lastPromiseValue);\n",
              "  return Promise.resolve(next.value.promise).then((value) => {\n",
              "    // Cache the last promise value to make it available to the next\n",
              "    // step of the generator.\n",
              "    outputElement.lastPromiseValue = value;\n",
              "    return next.value.response;\n",
              "  });\n",
              "}\n",
              "\n",
              "/**\n",
              " * Generator function which is called between each async step of the upload\n",
              " * process.\n",
              " * @param {string} inputId Element ID of the input file picker element.\n",
              " * @param {string} outputId Element ID of the output display.\n",
              " * @return {!Iterable<!Object>} Iterable of next steps.\n",
              " */\n",
              "function* uploadFilesStep(inputId, outputId) {\n",
              "  const inputElement = document.getElementById(inputId);\n",
              "  inputElement.disabled = false;\n",
              "\n",
              "  const outputElement = document.getElementById(outputId);\n",
              "  outputElement.innerHTML = '';\n",
              "\n",
              "  const pickedPromise = new Promise((resolve) => {\n",
              "    inputElement.addEventListener('change', (e) => {\n",
              "      resolve(e.target.files);\n",
              "    });\n",
              "  });\n",
              "\n",
              "  const cancel = document.createElement('button');\n",
              "  inputElement.parentElement.appendChild(cancel);\n",
              "  cancel.textContent = 'Cancel upload';\n",
              "  const cancelPromise = new Promise((resolve) => {\n",
              "    cancel.onclick = () => {\n",
              "      resolve(null);\n",
              "    };\n",
              "  });\n",
              "\n",
              "  // Wait for the user to pick the files.\n",
              "  const files = yield {\n",
              "    promise: Promise.race([pickedPromise, cancelPromise]),\n",
              "    response: {\n",
              "      action: 'starting',\n",
              "    }\n",
              "  };\n",
              "\n",
              "  cancel.remove();\n",
              "\n",
              "  // Disable the input element since further picks are not allowed.\n",
              "  inputElement.disabled = true;\n",
              "\n",
              "  if (!files) {\n",
              "    return {\n",
              "      response: {\n",
              "        action: 'complete',\n",
              "      }\n",
              "    };\n",
              "  }\n",
              "\n",
              "  for (const file of files) {\n",
              "    const li = document.createElement('li');\n",
              "    li.append(span(file.name, {fontWeight: 'bold'}));\n",
              "    li.append(span(\n",
              "        `(${file.type || 'n/a'}) - ${file.size} bytes, ` +\n",
              "        `last modified: ${\n",
              "            file.lastModifiedDate ? file.lastModifiedDate.toLocaleDateString() :\n",
              "                                    'n/a'} - `));\n",
              "    const percent = span('0% done');\n",
              "    li.appendChild(percent);\n",
              "\n",
              "    outputElement.appendChild(li);\n",
              "\n",
              "    const fileDataPromise = new Promise((resolve) => {\n",
              "      const reader = new FileReader();\n",
              "      reader.onload = (e) => {\n",
              "        resolve(e.target.result);\n",
              "      };\n",
              "      reader.readAsArrayBuffer(file);\n",
              "    });\n",
              "    // Wait for the data to be ready.\n",
              "    let fileData = yield {\n",
              "      promise: fileDataPromise,\n",
              "      response: {\n",
              "        action: 'continue',\n",
              "      }\n",
              "    };\n",
              "\n",
              "    // Use a chunked sending to avoid message size limits. See b/62115660.\n",
              "    let position = 0;\n",
              "    do {\n",
              "      const length = Math.min(fileData.byteLength - position, MAX_PAYLOAD_SIZE);\n",
              "      const chunk = new Uint8Array(fileData, position, length);\n",
              "      position += length;\n",
              "\n",
              "      const base64 = btoa(String.fromCharCode.apply(null, chunk));\n",
              "      yield {\n",
              "        response: {\n",
              "          action: 'append',\n",
              "          file: file.name,\n",
              "          data: base64,\n",
              "        },\n",
              "      };\n",
              "\n",
              "      let percentDone = fileData.byteLength === 0 ?\n",
              "          100 :\n",
              "          Math.round((position / fileData.byteLength) * 100);\n",
              "      percent.textContent = `${percentDone}% done`;\n",
              "\n",
              "    } while (position < fileData.byteLength);\n",
              "  }\n",
              "\n",
              "  // All done.\n",
              "  yield {\n",
              "    response: {\n",
              "      action: 'complete',\n",
              "    }\n",
              "  };\n",
              "}\n",
              "\n",
              "scope.google = scope.google || {};\n",
              "scope.google.colab = scope.google.colab || {};\n",
              "scope.google.colab._files = {\n",
              "  _uploadFiles,\n",
              "  _uploadFilesContinue,\n",
              "};\n",
              "})(self);\n",
              "</script> "
            ]
          },
          "metadata": {}
        },
        {
          "output_type": "stream",
          "name": "stdout",
          "text": [
            "Saving sample_books.json to sample_books.json\n"
          ]
        },
        {
          "output_type": "execute_result",
          "data": {
            "text/plain": [
              "{'sample_books.json': b'{\"title\": \"Northanger Abbey\", \"author\": \"Austen, Jane\", \"year_written\": 1814, \"edition\": \"Penguin\", \"price\":  18.2}\\n{\"title\": \"War and Peace\", \"author\": \"Tolstoy, Leo\", \"year_written\": 1865, \"edition\": \"Penguin\", \"price\":  12.7}\\n{\"title\": \"Anna Karenina\", \"author\": \"Tolstoy, Leo\", \"year_written\": 1875, \"edition\": \"Penguin\", \"price\":  13.5}\\n{\"title\": \"Mrs. Dalloway\", \"author\": \"Woolf, Virginia\", \"year_written\": 1925, \"edition\": \"Harcourt Brace\", \"price\":  25}\\n{\"title\": \"The Hours\", \"author\": \"Cunnningham, Michael\", \"year_written\": 1999, \"edition\": \"Harcourt Brace\", \"price\":  12.35}\\n{\"title\": \"Huckleberry Finn\", \"author\": \"Twain, Mark\", \"year_written\": 1865, \"edition\": \"Penguin\", \"price\":  5.76}\\n{\"title\": \"Bleak House\", \"author\": \"Dickens, Charles\", \"year_written\": 1870, \"edition\": \"Random House\", \"price\":  5.75}\\n{\"title\": \"Tom Sawyer\", \"author\": \"Twain, Mark\", \"year_written\": 1862, \"edition\": \"Random House\", \"price\":  7.75}\\n{\"title\": \"A Room of One\\'s Own\", \"author\": \"Woolf, Virginia\", \"year_written\": 1922, \"edition\": \"Penguin\", \"price\":  29}\\n{\"title\": \"Harry Potter\", \"author\": \"Rowling, J.K.\", \"year_written\": 2000, \"edition\": \"Harcourt Brace\", \"price\":  19.95}\\n{\"title\": \"One Hundred Years of Solitude\", \"author\": \"Marquez\", \"year_written\": 1967, \"edition\": \"Harper  Perennial\", \"price\":  14.00}\\n{\"title\": \"Hamlet, Prince of Denmark\", \"author\": \"Shakespeare\", \"year_written\": 1603, \"edition\": \"Signet  Classics\", \"price\":  7.95}\\n{\"title\": \"Lord of the Rings\", \"author\": \"Tolkien, J.R.\", \"year_written\": 1937, \"edition\": \"Penguin\", \"price\":  27.45}\\n'}"
            ]
          },
          "metadata": {},
          "execution_count": 10
        }
      ]
    },
    {
      "cell_type": "code",
      "source": [
        "df = spark.read.json(\"sample_books.json\")\n",
        "df.printSchema()"
      ],
      "metadata": {
        "colab": {
          "base_uri": "https://localhost:8080/"
        },
        "id": "fqoNAnkCE2to",
        "outputId": "f92f8bc6-52d1-4fcb-9683-9c4a9fe47462"
      },
      "execution_count": null,
      "outputs": [
        {
          "output_type": "stream",
          "name": "stdout",
          "text": [
            "root\n",
            " |-- author: string (nullable = true)\n",
            " |-- edition: string (nullable = true)\n",
            " |-- price: double (nullable = true)\n",
            " |-- title: string (nullable = true)\n",
            " |-- year_written: long (nullable = true)\n",
            "\n"
          ]
        }
      ]
    },
    {
      "cell_type": "code",
      "source": [
        "df.count()"
      ],
      "metadata": {
        "colab": {
          "base_uri": "https://localhost:8080/"
        },
        "id": "1GqcFFmJE98Y",
        "outputId": "d41b7a46-c617-4dca-b291-41602656c204"
      },
      "execution_count": null,
      "outputs": [
        {
          "output_type": "execute_result",
          "data": {
            "text/plain": [
              "13"
            ]
          },
          "metadata": {},
          "execution_count": 12
        }
      ]
    },
    {
      "cell_type": "code",
      "source": [
        "df.select(\"title\", \"price\").show()\n",
        "df.filter((df.year_written>1950)& (df.price>10)).show()"
      ],
      "metadata": {
        "colab": {
          "base_uri": "https://localhost:8080/"
        },
        "id": "5UKiV8wYFB52",
        "outputId": "13896eee-ce38-4a7c-a6c8-4b4c00ff66ed"
      },
      "execution_count": null,
      "outputs": [
        {
          "output_type": "stream",
          "name": "stdout",
          "text": [
            "+--------------------+-----+\n",
            "|               title|price|\n",
            "+--------------------+-----+\n",
            "|    Northanger Abbey| 18.2|\n",
            "|       War and Peace| 12.7|\n",
            "|       Anna Karenina| 13.5|\n",
            "|       Mrs. Dalloway| 25.0|\n",
            "|           The Hours|12.35|\n",
            "|    Huckleberry Finn| 5.76|\n",
            "|         Bleak House| 5.75|\n",
            "|          Tom Sawyer| 7.75|\n",
            "| A Room of One's Own| 29.0|\n",
            "|        Harry Potter|19.95|\n",
            "|One Hundred Years...| 14.0|\n",
            "|Hamlet, Prince of...| 7.95|\n",
            "|   Lord of the Rings|27.45|\n",
            "+--------------------+-----+\n",
            "\n",
            "+--------------------+-----------------+-----+--------------------+------------+\n",
            "|              author|          edition|price|               title|year_written|\n",
            "+--------------------+-----------------+-----+--------------------+------------+\n",
            "|Cunnningham, Michael|   Harcourt Brace|12.35|           The Hours|        1999|\n",
            "|       Rowling, J.K.|   Harcourt Brace|19.95|        Harry Potter|        2000|\n",
            "|             Marquez|Harper  Perennial| 14.0|One Hundred Years...|        1967|\n",
            "+--------------------+-----------------+-----+--------------------+------------+\n",
            "\n"
          ]
        }
      ]
    },
    {
      "cell_type": "code",
      "source": [
        "df1 = df.select(\"title\",\"year_written\")\n",
        "df1.show()\n",
        "df1.filter(\"title LIKE '%Harry Potter%'\").show()"
      ],
      "metadata": {
        "colab": {
          "base_uri": "https://localhost:8080/"
        },
        "id": "fqTFnJM6FLRQ",
        "outputId": "6100b675-a5aa-417f-a50a-4cac8fbc7693"
      },
      "execution_count": null,
      "outputs": [
        {
          "output_type": "stream",
          "name": "stdout",
          "text": [
            "+--------------------+------------+\n",
            "|               title|year_written|\n",
            "+--------------------+------------+\n",
            "|    Northanger Abbey|        1814|\n",
            "|       War and Peace|        1865|\n",
            "|       Anna Karenina|        1875|\n",
            "|       Mrs. Dalloway|        1925|\n",
            "|           The Hours|        1999|\n",
            "|    Huckleberry Finn|        1865|\n",
            "|         Bleak House|        1870|\n",
            "|          Tom Sawyer|        1862|\n",
            "| A Room of One's Own|        1922|\n",
            "|        Harry Potter|        2000|\n",
            "|One Hundred Years...|        1967|\n",
            "|Hamlet, Prince of...|        1603|\n",
            "|   Lord of the Rings|        1937|\n",
            "+--------------------+------------+\n",
            "\n",
            "+------------+------------+\n",
            "|       title|year_written|\n",
            "+------------+------------+\n",
            "|Harry Potter|        2000|\n",
            "+------------+------------+\n",
            "\n"
          ]
        }
      ]
    },
    {
      "cell_type": "code",
      "source": [
        "#max price\n",
        "from pyspark.sql.functions import *\n",
        "df.select(max(\"price\")).show()"
      ],
      "metadata": {
        "colab": {
          "base_uri": "https://localhost:8080/"
        },
        "id": "5Qfy0cOWFR1S",
        "outputId": "3f347edd-57f8-4cb0-aa7a-0b446049b836"
      },
      "execution_count": null,
      "outputs": [
        {
          "output_type": "stream",
          "name": "stdout",
          "text": [
            "+----------+\n",
            "|max(price)|\n",
            "+----------+\n",
            "|      29.0|\n",
            "+----------+\n",
            "\n"
          ]
        }
      ]
    },
    {
      "cell_type": "code",
      "source": [
        "from google.colab import files\n",
        "files.upload()"
      ],
      "metadata": {
        "colab": {
          "base_uri": "https://localhost:8080/",
          "height": 90
        },
        "id": "nqtalYWhFlkQ",
        "outputId": "428986ea-51dc-4299-f96d-20162057984c"
      },
      "execution_count": null,
      "outputs": [
        {
          "output_type": "display_data",
          "data": {
            "text/plain": [
              "<IPython.core.display.HTML object>"
            ],
            "text/html": [
              "\n",
              "     <input type=\"file\" id=\"files-037ba10e-5a28-4fac-995b-668fafcc1f97\" name=\"files[]\" multiple disabled\n",
              "        style=\"border:none\" />\n",
              "     <output id=\"result-037ba10e-5a28-4fac-995b-668fafcc1f97\">\n",
              "      Upload widget is only available when the cell has been executed in the\n",
              "      current browser session. Please rerun this cell to enable.\n",
              "      </output>\n",
              "      <script>// Copyright 2017 Google LLC\n",
              "//\n",
              "// Licensed under the Apache License, Version 2.0 (the \"License\");\n",
              "// you may not use this file except in compliance with the License.\n",
              "// You may obtain a copy of the License at\n",
              "//\n",
              "//      http://www.apache.org/licenses/LICENSE-2.0\n",
              "//\n",
              "// Unless required by applicable law or agreed to in writing, software\n",
              "// distributed under the License is distributed on an \"AS IS\" BASIS,\n",
              "// WITHOUT WARRANTIES OR CONDITIONS OF ANY KIND, either express or implied.\n",
              "// See the License for the specific language governing permissions and\n",
              "// limitations under the License.\n",
              "\n",
              "/**\n",
              " * @fileoverview Helpers for google.colab Python module.\n",
              " */\n",
              "(function(scope) {\n",
              "function span(text, styleAttributes = {}) {\n",
              "  const element = document.createElement('span');\n",
              "  element.textContent = text;\n",
              "  for (const key of Object.keys(styleAttributes)) {\n",
              "    element.style[key] = styleAttributes[key];\n",
              "  }\n",
              "  return element;\n",
              "}\n",
              "\n",
              "// Max number of bytes which will be uploaded at a time.\n",
              "const MAX_PAYLOAD_SIZE = 100 * 1024;\n",
              "\n",
              "function _uploadFiles(inputId, outputId) {\n",
              "  const steps = uploadFilesStep(inputId, outputId);\n",
              "  const outputElement = document.getElementById(outputId);\n",
              "  // Cache steps on the outputElement to make it available for the next call\n",
              "  // to uploadFilesContinue from Python.\n",
              "  outputElement.steps = steps;\n",
              "\n",
              "  return _uploadFilesContinue(outputId);\n",
              "}\n",
              "\n",
              "// This is roughly an async generator (not supported in the browser yet),\n",
              "// where there are multiple asynchronous steps and the Python side is going\n",
              "// to poll for completion of each step.\n",
              "// This uses a Promise to block the python side on completion of each step,\n",
              "// then passes the result of the previous step as the input to the next step.\n",
              "function _uploadFilesContinue(outputId) {\n",
              "  const outputElement = document.getElementById(outputId);\n",
              "  const steps = outputElement.steps;\n",
              "\n",
              "  const next = steps.next(outputElement.lastPromiseValue);\n",
              "  return Promise.resolve(next.value.promise).then((value) => {\n",
              "    // Cache the last promise value to make it available to the next\n",
              "    // step of the generator.\n",
              "    outputElement.lastPromiseValue = value;\n",
              "    return next.value.response;\n",
              "  });\n",
              "}\n",
              "\n",
              "/**\n",
              " * Generator function which is called between each async step of the upload\n",
              " * process.\n",
              " * @param {string} inputId Element ID of the input file picker element.\n",
              " * @param {string} outputId Element ID of the output display.\n",
              " * @return {!Iterable<!Object>} Iterable of next steps.\n",
              " */\n",
              "function* uploadFilesStep(inputId, outputId) {\n",
              "  const inputElement = document.getElementById(inputId);\n",
              "  inputElement.disabled = false;\n",
              "\n",
              "  const outputElement = document.getElementById(outputId);\n",
              "  outputElement.innerHTML = '';\n",
              "\n",
              "  const pickedPromise = new Promise((resolve) => {\n",
              "    inputElement.addEventListener('change', (e) => {\n",
              "      resolve(e.target.files);\n",
              "    });\n",
              "  });\n",
              "\n",
              "  const cancel = document.createElement('button');\n",
              "  inputElement.parentElement.appendChild(cancel);\n",
              "  cancel.textContent = 'Cancel upload';\n",
              "  const cancelPromise = new Promise((resolve) => {\n",
              "    cancel.onclick = () => {\n",
              "      resolve(null);\n",
              "    };\n",
              "  });\n",
              "\n",
              "  // Wait for the user to pick the files.\n",
              "  const files = yield {\n",
              "    promise: Promise.race([pickedPromise, cancelPromise]),\n",
              "    response: {\n",
              "      action: 'starting',\n",
              "    }\n",
              "  };\n",
              "\n",
              "  cancel.remove();\n",
              "\n",
              "  // Disable the input element since further picks are not allowed.\n",
              "  inputElement.disabled = true;\n",
              "\n",
              "  if (!files) {\n",
              "    return {\n",
              "      response: {\n",
              "        action: 'complete',\n",
              "      }\n",
              "    };\n",
              "  }\n",
              "\n",
              "  for (const file of files) {\n",
              "    const li = document.createElement('li');\n",
              "    li.append(span(file.name, {fontWeight: 'bold'}));\n",
              "    li.append(span(\n",
              "        `(${file.type || 'n/a'}) - ${file.size} bytes, ` +\n",
              "        `last modified: ${\n",
              "            file.lastModifiedDate ? file.lastModifiedDate.toLocaleDateString() :\n",
              "                                    'n/a'} - `));\n",
              "    const percent = span('0% done');\n",
              "    li.appendChild(percent);\n",
              "\n",
              "    outputElement.appendChild(li);\n",
              "\n",
              "    const fileDataPromise = new Promise((resolve) => {\n",
              "      const reader = new FileReader();\n",
              "      reader.onload = (e) => {\n",
              "        resolve(e.target.result);\n",
              "      };\n",
              "      reader.readAsArrayBuffer(file);\n",
              "    });\n",
              "    // Wait for the data to be ready.\n",
              "    let fileData = yield {\n",
              "      promise: fileDataPromise,\n",
              "      response: {\n",
              "        action: 'continue',\n",
              "      }\n",
              "    };\n",
              "\n",
              "    // Use a chunked sending to avoid message size limits. See b/62115660.\n",
              "    let position = 0;\n",
              "    do {\n",
              "      const length = Math.min(fileData.byteLength - position, MAX_PAYLOAD_SIZE);\n",
              "      const chunk = new Uint8Array(fileData, position, length);\n",
              "      position += length;\n",
              "\n",
              "      const base64 = btoa(String.fromCharCode.apply(null, chunk));\n",
              "      yield {\n",
              "        response: {\n",
              "          action: 'append',\n",
              "          file: file.name,\n",
              "          data: base64,\n",
              "        },\n",
              "      };\n",
              "\n",
              "      let percentDone = fileData.byteLength === 0 ?\n",
              "          100 :\n",
              "          Math.round((position / fileData.byteLength) * 100);\n",
              "      percent.textContent = `${percentDone}% done`;\n",
              "\n",
              "    } while (position < fileData.byteLength);\n",
              "  }\n",
              "\n",
              "  // All done.\n",
              "  yield {\n",
              "    response: {\n",
              "      action: 'complete',\n",
              "    }\n",
              "  };\n",
              "}\n",
              "\n",
              "scope.google = scope.google || {};\n",
              "scope.google.colab = scope.google.colab || {};\n",
              "scope.google.colab._files = {\n",
              "  _uploadFiles,\n",
              "  _uploadFilesContinue,\n",
              "};\n",
              "})(self);\n",
              "</script> "
            ]
          },
          "metadata": {}
        },
        {
          "output_type": "stream",
          "name": "stdout",
          "text": [
            "Saving Missing_records.csv to Missing_records.csv\n"
          ]
        },
        {
          "output_type": "execute_result",
          "data": {
            "text/plain": [
              "{'Missing_records.csv': b'Id,Name,Sales\\nemp1,John,\\nemp2,,\\nemp3,,345.0\\nemp4,Cindy,456.0\\n'}"
            ]
          },
          "metadata": {},
          "execution_count": 16
        }
      ]
    },
    {
      "cell_type": "code",
      "source": [
        "df = spark.read.csv(\"Missing_records.csv\",header=True,inferSchema=True)"
      ],
      "metadata": {
        "id": "-ez8AUGYGDB2"
      },
      "execution_count": null,
      "outputs": []
    },
    {
      "cell_type": "code",
      "source": [
        "df.na.drop().show()"
      ],
      "metadata": {
        "colab": {
          "base_uri": "https://localhost:8080/"
        },
        "id": "SqvDWpqGGHPs",
        "outputId": "02ec790e-d526-48f6-e8b0-61abcbe56a79"
      },
      "execution_count": null,
      "outputs": [
        {
          "output_type": "stream",
          "name": "stdout",
          "text": [
            "+----+-----+-----+\n",
            "|  Id| Name|Sales|\n",
            "+----+-----+-----+\n",
            "|emp4|Cindy|456.0|\n",
            "+----+-----+-----+\n",
            "\n"
          ]
        }
      ]
    },
    {
      "cell_type": "code",
      "source": [
        "df.na.drop(thresh=2).show()"
      ],
      "metadata": {
        "colab": {
          "base_uri": "https://localhost:8080/"
        },
        "id": "_YkJSqVZGK64",
        "outputId": "0f8e5af6-46c5-400f-d41f-793a5bef83db"
      },
      "execution_count": null,
      "outputs": [
        {
          "output_type": "stream",
          "name": "stdout",
          "text": [
            "+----+-----+-----+\n",
            "|  Id| Name|Sales|\n",
            "+----+-----+-----+\n",
            "|emp1| John| NULL|\n",
            "|emp3| NULL|345.0|\n",
            "|emp4|Cindy|456.0|\n",
            "+----+-----+-----+\n",
            "\n"
          ]
        }
      ]
    },
    {
      "cell_type": "code",
      "source": [
        "df.na.drop(subset=[\"Sales\",]).show()"
      ],
      "metadata": {
        "colab": {
          "base_uri": "https://localhost:8080/"
        },
        "id": "lSttwkxFGPro",
        "outputId": "f63f0ada-8fbd-497a-82f9-7abc9d9593b3"
      },
      "execution_count": null,
      "outputs": [
        {
          "output_type": "stream",
          "name": "stdout",
          "text": [
            "+----+-----+-----+\n",
            "|  Id| Name|Sales|\n",
            "+----+-----+-----+\n",
            "|emp3| NULL|345.0|\n",
            "|emp4|Cindy|456.0|\n",
            "+----+-----+-----+\n",
            "\n"
          ]
        }
      ]
    },
    {
      "cell_type": "code",
      "source": [
        "df.na.drop(how=\"any\").show()"
      ],
      "metadata": {
        "colab": {
          "base_uri": "https://localhost:8080/"
        },
        "id": "CX_2hXJBGSzA",
        "outputId": "a7cf3daf-3eeb-4fd4-b569-e75618d50c4d"
      },
      "execution_count": null,
      "outputs": [
        {
          "output_type": "stream",
          "name": "stdout",
          "text": [
            "+----+-----+-----+\n",
            "|  Id| Name|Sales|\n",
            "+----+-----+-----+\n",
            "|emp4|Cindy|456.0|\n",
            "+----+-----+-----+\n",
            "\n"
          ]
        }
      ]
    },
    {
      "cell_type": "code",
      "source": [
        "df.na.drop(how=\"all\").show()"
      ],
      "metadata": {
        "colab": {
          "base_uri": "https://localhost:8080/"
        },
        "id": "Ksc9QFI8GbOY",
        "outputId": "39afdcc4-af41-4841-e662-2aa6be87f62b"
      },
      "execution_count": null,
      "outputs": [
        {
          "output_type": "stream",
          "name": "stdout",
          "text": [
            "+----+-----+-----+\n",
            "|  Id| Name|Sales|\n",
            "+----+-----+-----+\n",
            "|emp1| John| NULL|\n",
            "|emp2| NULL| NULL|\n",
            "|emp3| NULL|345.0|\n",
            "|emp4|Cindy|456.0|\n",
            "+----+-----+-----+\n",
            "\n"
          ]
        }
      ]
    },
    {
      "cell_type": "code",
      "source": [
        "df.na.fill('No Name',subset=['Name']).show()"
      ],
      "metadata": {
        "colab": {
          "base_uri": "https://localhost:8080/"
        },
        "id": "GlGVscROGjxm",
        "outputId": "2e67a268-e08a-4109-a0ad-2aa257bfc7d9"
      },
      "execution_count": null,
      "outputs": [
        {
          "output_type": "stream",
          "name": "stdout",
          "text": [
            "+----+-------+-----+\n",
            "|  Id|   Name|Sales|\n",
            "+----+-------+-----+\n",
            "|emp1|   John| NULL|\n",
            "|emp2|No Name| NULL|\n",
            "|emp3|No Name|345.0|\n",
            "|emp4|  Cindy|456.0|\n",
            "+----+-------+-----+\n",
            "\n"
          ]
        }
      ]
    },
    {
      "cell_type": "code",
      "source": [
        "df.na.fill(0,subset=['Sales']).show()"
      ],
      "metadata": {
        "colab": {
          "base_uri": "https://localhost:8080/"
        },
        "id": "zMHjB3OuGoLT",
        "outputId": "5339e5b2-e4e4-4552-bd3f-b313350ecee3"
      },
      "execution_count": null,
      "outputs": [
        {
          "output_type": "stream",
          "name": "stdout",
          "text": [
            "+----+-----+-----+\n",
            "|  Id| Name|Sales|\n",
            "+----+-----+-----+\n",
            "|emp1| John|  0.0|\n",
            "|emp2| NULL|  0.0|\n",
            "|emp3| NULL|345.0|\n",
            "|emp4|Cindy|456.0|\n",
            "+----+-----+-----+\n",
            "\n"
          ]
        }
      ]
    },
    {
      "cell_type": "code",
      "source": [
        "from pyspark.sql.functions import mean\n",
        "mean_value = df.select(mean(df['Sales'])).collect()[0][0]\n",
        "df.na.fill(mean_value,subset=['Sales']).show()"
      ],
      "metadata": {
        "colab": {
          "base_uri": "https://localhost:8080/"
        },
        "id": "0gCyHxQpGsyp",
        "outputId": "cd4d8dc9-48f2-4f70-bc66-2561edfc9169"
      },
      "execution_count": null,
      "outputs": [
        {
          "output_type": "stream",
          "name": "stdout",
          "text": [
            "+----+-----+-----+\n",
            "|  Id| Name|Sales|\n",
            "+----+-----+-----+\n",
            "|emp1| John|400.5|\n",
            "|emp2| NULL|400.5|\n",
            "|emp3| NULL|345.0|\n",
            "|emp4|Cindy|456.0|\n",
            "+----+-----+-----+\n",
            "\n"
          ]
        }
      ]
    },
    {
      "cell_type": "code",
      "source": [
        "from google.colab import files\n",
        "files.upload()"
      ],
      "metadata": {
        "id": "J3Evs2udQQRh",
        "colab": {
          "base_uri": "https://localhost:8080/",
          "height": 128
        },
        "outputId": "b0e96049-11ed-42ad-e111-5ac225f7c0ec"
      },
      "execution_count": null,
      "outputs": [
        {
          "output_type": "display_data",
          "data": {
            "text/plain": [
              "<IPython.core.display.HTML object>"
            ],
            "text/html": [
              "\n",
              "     <input type=\"file\" id=\"files-a912368d-db12-46ab-bf29-be5817b7327b\" name=\"files[]\" multiple disabled\n",
              "        style=\"border:none\" />\n",
              "     <output id=\"result-a912368d-db12-46ab-bf29-be5817b7327b\">\n",
              "      Upload widget is only available when the cell has been executed in the\n",
              "      current browser session. Please rerun this cell to enable.\n",
              "      </output>\n",
              "      <script>// Copyright 2017 Google LLC\n",
              "//\n",
              "// Licensed under the Apache License, Version 2.0 (the \"License\");\n",
              "// you may not use this file except in compliance with the License.\n",
              "// You may obtain a copy of the License at\n",
              "//\n",
              "//      http://www.apache.org/licenses/LICENSE-2.0\n",
              "//\n",
              "// Unless required by applicable law or agreed to in writing, software\n",
              "// distributed under the License is distributed on an \"AS IS\" BASIS,\n",
              "// WITHOUT WARRANTIES OR CONDITIONS OF ANY KIND, either express or implied.\n",
              "// See the License for the specific language governing permissions and\n",
              "// limitations under the License.\n",
              "\n",
              "/**\n",
              " * @fileoverview Helpers for google.colab Python module.\n",
              " */\n",
              "(function(scope) {\n",
              "function span(text, styleAttributes = {}) {\n",
              "  const element = document.createElement('span');\n",
              "  element.textContent = text;\n",
              "  for (const key of Object.keys(styleAttributes)) {\n",
              "    element.style[key] = styleAttributes[key];\n",
              "  }\n",
              "  return element;\n",
              "}\n",
              "\n",
              "// Max number of bytes which will be uploaded at a time.\n",
              "const MAX_PAYLOAD_SIZE = 100 * 1024;\n",
              "\n",
              "function _uploadFiles(inputId, outputId) {\n",
              "  const steps = uploadFilesStep(inputId, outputId);\n",
              "  const outputElement = document.getElementById(outputId);\n",
              "  // Cache steps on the outputElement to make it available for the next call\n",
              "  // to uploadFilesContinue from Python.\n",
              "  outputElement.steps = steps;\n",
              "\n",
              "  return _uploadFilesContinue(outputId);\n",
              "}\n",
              "\n",
              "// This is roughly an async generator (not supported in the browser yet),\n",
              "// where there are multiple asynchronous steps and the Python side is going\n",
              "// to poll for completion of each step.\n",
              "// This uses a Promise to block the python side on completion of each step,\n",
              "// then passes the result of the previous step as the input to the next step.\n",
              "function _uploadFilesContinue(outputId) {\n",
              "  const outputElement = document.getElementById(outputId);\n",
              "  const steps = outputElement.steps;\n",
              "\n",
              "  const next = steps.next(outputElement.lastPromiseValue);\n",
              "  return Promise.resolve(next.value.promise).then((value) => {\n",
              "    // Cache the last promise value to make it available to the next\n",
              "    // step of the generator.\n",
              "    outputElement.lastPromiseValue = value;\n",
              "    return next.value.response;\n",
              "  });\n",
              "}\n",
              "\n",
              "/**\n",
              " * Generator function which is called between each async step of the upload\n",
              " * process.\n",
              " * @param {string} inputId Element ID of the input file picker element.\n",
              " * @param {string} outputId Element ID of the output display.\n",
              " * @return {!Iterable<!Object>} Iterable of next steps.\n",
              " */\n",
              "function* uploadFilesStep(inputId, outputId) {\n",
              "  const inputElement = document.getElementById(inputId);\n",
              "  inputElement.disabled = false;\n",
              "\n",
              "  const outputElement = document.getElementById(outputId);\n",
              "  outputElement.innerHTML = '';\n",
              "\n",
              "  const pickedPromise = new Promise((resolve) => {\n",
              "    inputElement.addEventListener('change', (e) => {\n",
              "      resolve(e.target.files);\n",
              "    });\n",
              "  });\n",
              "\n",
              "  const cancel = document.createElement('button');\n",
              "  inputElement.parentElement.appendChild(cancel);\n",
              "  cancel.textContent = 'Cancel upload';\n",
              "  const cancelPromise = new Promise((resolve) => {\n",
              "    cancel.onclick = () => {\n",
              "      resolve(null);\n",
              "    };\n",
              "  });\n",
              "\n",
              "  // Wait for the user to pick the files.\n",
              "  const files = yield {\n",
              "    promise: Promise.race([pickedPromise, cancelPromise]),\n",
              "    response: {\n",
              "      action: 'starting',\n",
              "    }\n",
              "  };\n",
              "\n",
              "  cancel.remove();\n",
              "\n",
              "  // Disable the input element since further picks are not allowed.\n",
              "  inputElement.disabled = true;\n",
              "\n",
              "  if (!files) {\n",
              "    return {\n",
              "      response: {\n",
              "        action: 'complete',\n",
              "      }\n",
              "    };\n",
              "  }\n",
              "\n",
              "  for (const file of files) {\n",
              "    const li = document.createElement('li');\n",
              "    li.append(span(file.name, {fontWeight: 'bold'}));\n",
              "    li.append(span(\n",
              "        `(${file.type || 'n/a'}) - ${file.size} bytes, ` +\n",
              "        `last modified: ${\n",
              "            file.lastModifiedDate ? file.lastModifiedDate.toLocaleDateString() :\n",
              "                                    'n/a'} - `));\n",
              "    const percent = span('0% done');\n",
              "    li.appendChild(percent);\n",
              "\n",
              "    outputElement.appendChild(li);\n",
              "\n",
              "    const fileDataPromise = new Promise((resolve) => {\n",
              "      const reader = new FileReader();\n",
              "      reader.onload = (e) => {\n",
              "        resolve(e.target.result);\n",
              "      };\n",
              "      reader.readAsArrayBuffer(file);\n",
              "    });\n",
              "    // Wait for the data to be ready.\n",
              "    let fileData = yield {\n",
              "      promise: fileDataPromise,\n",
              "      response: {\n",
              "        action: 'continue',\n",
              "      }\n",
              "    };\n",
              "\n",
              "    // Use a chunked sending to avoid message size limits. See b/62115660.\n",
              "    let position = 0;\n",
              "    do {\n",
              "      const length = Math.min(fileData.byteLength - position, MAX_PAYLOAD_SIZE);\n",
              "      const chunk = new Uint8Array(fileData, position, length);\n",
              "      position += length;\n",
              "\n",
              "      const base64 = btoa(String.fromCharCode.apply(null, chunk));\n",
              "      yield {\n",
              "        response: {\n",
              "          action: 'append',\n",
              "          file: file.name,\n",
              "          data: base64,\n",
              "        },\n",
              "      };\n",
              "\n",
              "      let percentDone = fileData.byteLength === 0 ?\n",
              "          100 :\n",
              "          Math.round((position / fileData.byteLength) * 100);\n",
              "      percent.textContent = `${percentDone}% done`;\n",
              "\n",
              "    } while (position < fileData.byteLength);\n",
              "  }\n",
              "\n",
              "  // All done.\n",
              "  yield {\n",
              "    response: {\n",
              "      action: 'complete',\n",
              "    }\n",
              "  };\n",
              "}\n",
              "\n",
              "scope.google = scope.google || {};\n",
              "scope.google.colab = scope.google.colab || {};\n",
              "scope.google.colab._files = {\n",
              "  _uploadFiles,\n",
              "  _uploadFilesContinue,\n",
              "};\n",
              "})(self);\n",
              "</script> "
            ]
          },
          "metadata": {}
        },
        {
          "output_type": "stream",
          "name": "stdout",
          "text": [
            "Saving BostonHousing.csv to BostonHousing.csv\n"
          ]
        },
        {
          "output_type": "execute_result",
          "data": {
            "text/plain": [
              "{'BostonHousing.csv': b'\"crim\",\"zn\",\"indus\",\"chas\",\"nox\",\"rm\",\"age\",\"dis\",\"rad\",\"tax\",\"ptratio\",\"b\",\"lstat\",\"medv\"\\n0.00632,18,2.31,\"0\",0.538,6.575,65.2,4.09,1,296,15.3,396.9,4.98,24\\n0.02731,0,7.07,\"0\",0.469,6.421,78.9,4.9671,2,242,17.8,396.9,9.14,21.6\\n0.02729,0,7.07,\"0\",0.469,7.185,61.1,4.9671,2,242,17.8,392.83,4.03,34.7\\n0.03237,0,2.18,\"0\",0.458,6.998,45.8,6.0622,3,222,18.7,394.63,2.94,33.4\\n0.06905,0,2.18,\"0\",0.458,7.147,54.2,6.0622,3,222,18.7,396.9,5.33,36.2\\n0.02985,0,2.18,\"0\",0.458,6.43,58.7,6.0622,3,222,18.7,394.12,5.21,28.7\\n0.08829,12.5,7.87,\"0\",0.524,6.012,66.6,5.5605,5,311,15.2,395.6,12.43,22.9\\n0.14455,12.5,7.87,\"0\",0.524,6.172,96.1,5.9505,5,311,15.2,396.9,19.15,27.1\\n0.21124,12.5,7.87,\"0\",0.524,5.631,100,6.0821,5,311,15.2,386.63,29.93,16.5\\n0.17004,12.5,7.87,\"0\",0.524,6.004,85.9,6.5921,5,311,15.2,386.71,17.1,18.9\\n0.22489,12.5,7.87,\"0\",0.524,6.377,94.3,6.3467,5,311,15.2,392.52,20.45,15\\n0.11747,12.5,7.87,\"0\",0.524,6.009,82.9,6.2267,5,311,15.2,396.9,13.27,18.9\\n0.09378,12.5,7.87,\"0\",0.524,5.889,39,5.4509,5,311,15.2,390.5,15.71,21.7\\n0.62976,0,8.14,\"0\",0.538,5.949,61.8,4.7075,4,307,21,396.9,8.26,20.4\\n0.63796,0,8.14,\"0\",0.538,6.096,84.5,4.4619,4,307,21,380.02,10.26,18.2\\n0.62739,0,8.14,\"0\",0.538,5.834,56.5,4.4986,4,307,21,395.62,8.47,19.9\\n1.05393,0,8.14,\"0\",0.538,5.935,29.3,4.4986,4,307,21,386.85,6.58,23.1\\n0.7842,0,8.14,\"0\",0.538,5.99,81.7,4.2579,4,307,21,386.75,14.67,17.5\\n0.80271,0,8.14,\"0\",0.538,5.456,36.6,3.7965,4,307,21,288.99,11.69,20.2\\n0.7258,0,8.14,\"0\",0.538,5.727,69.5,3.7965,4,307,21,390.95,11.28,18.2\\n1.25179,0,8.14,\"0\",0.538,5.57,98.1,3.7979,4,307,21,376.57,21.02,13.6\\n0.85204,0,8.14,\"0\",0.538,5.965,89.2,4.0123,4,307,21,392.53,13.83,19.6\\n1.23247,0,8.14,\"0\",0.538,6.142,91.7,3.9769,4,307,21,396.9,18.72,15.2\\n0.98843,0,8.14,\"0\",0.538,5.813,100,4.0952,4,307,21,394.54,19.88,14.5\\n0.75026,0,8.14,\"0\",0.538,5.924,94.1,4.3996,4,307,21,394.33,16.3,15.6\\n0.84054,0,8.14,\"0\",0.538,5.599,85.7,4.4546,4,307,21,303.42,16.51,13.9\\n0.67191,0,8.14,\"0\",0.538,5.813,90.3,4.682,4,307,21,376.88,14.81,16.6\\n0.95577,0,8.14,\"0\",0.538,6.047,88.8,4.4534,4,307,21,306.38,17.28,14.8\\n0.77299,0,8.14,\"0\",0.538,6.495,94.4,4.4547,4,307,21,387.94,12.8,18.4\\n1.00245,0,8.14,\"0\",0.538,6.674,87.3,4.239,4,307,21,380.23,11.98,21\\n1.13081,0,8.14,\"0\",0.538,5.713,94.1,4.233,4,307,21,360.17,22.6,12.7\\n1.35472,0,8.14,\"0\",0.538,6.072,100,4.175,4,307,21,376.73,13.04,14.5\\n1.38799,0,8.14,\"0\",0.538,5.95,82,3.99,4,307,21,232.6,27.71,13.2\\n1.15172,0,8.14,\"0\",0.538,5.701,95,3.7872,4,307,21,358.77,18.35,13.1\\n1.61282,0,8.14,\"0\",0.538,6.096,96.9,3.7598,4,307,21,248.31,20.34,13.5\\n0.06417,0,5.96,\"0\",0.499,5.933,68.2,3.3603,5,279,19.2,396.9,9.68,18.9\\n0.09744,0,5.96,\"0\",0.499,5.841,61.4,3.3779,5,279,19.2,377.56,11.41,20\\n0.08014,0,5.96,\"0\",0.499,5.85,41.5,3.9342,5,279,19.2,396.9,8.77,21\\n0.17505,0,5.96,\"0\",0.499,5.966,30.2,3.8473,5,279,19.2,393.43,10.13,24.7\\n0.02763,75,2.95,\"0\",0.428,6.595,21.8,5.4011,3,252,18.3,395.63,4.32,30.8\\n0.03359,75,2.95,\"0\",0.428,7.024,15.8,5.4011,3,252,18.3,395.62,1.98,34.9\\n0.12744,0,6.91,\"0\",0.448,6.77,2.9,5.7209,3,233,17.9,385.41,4.84,26.6\\n0.1415,0,6.91,\"0\",0.448,6.169,6.6,5.7209,3,233,17.9,383.37,5.81,25.3\\n0.15936,0,6.91,\"0\",0.448,6.211,6.5,5.7209,3,233,17.9,394.46,7.44,24.7\\n0.12269,0,6.91,\"0\",0.448,6.069,40,5.7209,3,233,17.9,389.39,9.55,21.2\\n0.17142,0,6.91,\"0\",0.448,5.682,33.8,5.1004,3,233,17.9,396.9,10.21,19.3\\n0.18836,0,6.91,\"0\",0.448,5.786,33.3,5.1004,3,233,17.9,396.9,14.15,20\\n0.22927,0,6.91,\"0\",0.448,6.03,85.5,5.6894,3,233,17.9,392.74,18.8,16.6\\n0.25387,0,6.91,\"0\",0.448,5.399,95.3,5.87,3,233,17.9,396.9,30.81,14.4\\n0.21977,0,6.91,\"0\",0.448,5.602,62,6.0877,3,233,17.9,396.9,16.2,19.4\\n0.08873,21,5.64,\"0\",0.439,5.963,45.7,6.8147,4,243,16.8,395.56,13.45,19.7\\n0.04337,21,5.64,\"0\",0.439,6.115,63,6.8147,4,243,16.8,393.97,9.43,20.5\\n0.0536,21,5.64,\"0\",0.439,6.511,21.1,6.8147,4,243,16.8,396.9,5.28,25\\n0.04981,21,5.64,\"0\",0.439,5.998,21.4,6.8147,4,243,16.8,396.9,8.43,23.4\\n0.0136,75,4,\"0\",0.41,5.888,47.6,7.3197,3,469,21.1,396.9,14.8,18.9\\n0.01311,90,1.22,\"0\",0.403,7.249,21.9,8.6966,5,226,17.9,395.93,4.81,35.4\\n0.02055,85,0.74,\"0\",0.41,6.383,35.7,9.1876,2,313,17.3,396.9,5.77,24.7\\n0.01432,100,1.32,\"0\",0.411,6.816,40.5,8.3248,5,256,15.1,392.9,3.95,31.6\\n0.15445,25,5.13,\"0\",0.453,6.145,29.2,7.8148,8,284,19.7,390.68,6.86,23.3\\n0.10328,25,5.13,\"0\",0.453,5.927,47.2,6.932,8,284,19.7,396.9,9.22,19.6\\n0.14932,25,5.13,\"0\",0.453,5.741,66.2,7.2254,8,284,19.7,395.11,13.15,18.7\\n0.17171,25,5.13,\"0\",0.453,5.966,93.4,6.8185,8,284,19.7,378.08,14.44,16\\n0.11027,25,5.13,\"0\",0.453,6.456,67.8,7.2255,8,284,19.7,396.9,6.73,22.2\\n0.1265,25,5.13,\"0\",0.453,6.762,43.4,7.9809,8,284,19.7,395.58,9.5,25\\n0.01951,17.5,1.38,\"0\",0.4161,7.104,59.5,9.2229,3,216,18.6,393.24,8.05,33\\n0.03584,80,3.37,\"0\",0.398,6.29,17.8,6.6115,4,337,16.1,396.9,4.67,23.5\\n0.04379,80,3.37,\"0\",0.398,5.787,31.1,6.6115,4,337,16.1,396.9,10.24,19.4\\n0.05789,12.5,6.07,\"0\",0.409,5.878,21.4,6.498,4,345,18.9,396.21,8.1,22\\n0.13554,12.5,6.07,\"0\",0.409,5.594,36.8,6.498,4,345,18.9,396.9,13.09,17.4\\n0.12816,12.5,6.07,\"0\",0.409,5.885,33,6.498,4,345,18.9,396.9,8.79,20.9\\n0.08826,0,10.81,\"0\",0.413,6.417,6.6,5.2873,4,305,19.2,383.73,6.72,24.2\\n0.15876,0,10.81,\"0\",0.413,5.961,17.5,5.2873,4,305,19.2,376.94,9.88,21.7\\n0.09164,0,10.81,\"0\",0.413,6.065,7.8,5.2873,4,305,19.2,390.91,5.52,22.8\\n0.19539,0,10.81,\"0\",0.413,6.245,6.2,5.2873,4,305,19.2,377.17,7.54,23.4\\n0.07896,0,12.83,\"0\",0.437,6.273,6,4.2515,5,398,18.7,394.92,6.78,24.1\\n0.09512,0,12.83,\"0\",0.437,6.286,45,4.5026,5,398,18.7,383.23,8.94,21.4\\n0.10153,0,12.83,\"0\",0.437,6.279,74.5,4.0522,5,398,18.7,373.66,11.97,20\\n0.08707,0,12.83,\"0\",0.437,6.14,45.8,4.0905,5,398,18.7,386.96,10.27,20.8\\n0.05646,0,12.83,\"0\",0.437,6.232,53.7,5.0141,5,398,18.7,386.4,12.34,21.2\\n0.08387,0,12.83,\"0\",0.437,5.874,36.6,4.5026,5,398,18.7,396.06,9.1,20.3\\n0.04113,25,4.86,\"0\",0.426,6.727,33.5,5.4007,4,281,19,396.9,5.29,28\\n0.04462,25,4.86,\"0\",0.426,6.619,70.4,5.4007,4,281,19,395.63,7.22,23.9\\n0.03659,25,4.86,\"0\",0.426,6.302,32.2,5.4007,4,281,19,396.9,6.72,24.8\\n0.03551,25,4.86,\"0\",0.426,6.167,46.7,5.4007,4,281,19,390.64,7.51,22.9\\n0.05059,0,4.49,\"0\",0.449,6.389,48,4.7794,3,247,18.5,396.9,9.62,23.9\\n0.05735,0,4.49,\"0\",0.449,6.63,56.1,4.4377,3,247,18.5,392.3,6.53,26.6\\n0.05188,0,4.49,\"0\",0.449,6.015,45.1,4.4272,3,247,18.5,395.99,12.86,22.5\\n0.07151,0,4.49,\"0\",0.449,6.121,56.8,3.7476,3,247,18.5,395.15,8.44,22.2\\n0.0566,0,3.41,\"0\",0.489,7.007,86.3,3.4217,2,270,17.8,396.9,5.5,23.6\\n0.05302,0,3.41,\"0\",0.489,7.079,63.1,3.4145,2,270,17.8,396.06,5.7,28.7\\n0.04684,0,3.41,\"0\",0.489,6.417,66.1,3.0923,2,270,17.8,392.18,8.81,22.6\\n0.03932,0,3.41,\"0\",0.489,6.405,73.9,3.0921,2,270,17.8,393.55,8.2,22\\n0.04203,28,15.04,\"0\",0.464,6.442,53.6,3.6659,4,270,18.2,395.01,8.16,22.9\\n0.02875,28,15.04,\"0\",0.464,6.211,28.9,3.6659,4,270,18.2,396.33,6.21,25\\n0.04294,28,15.04,\"0\",0.464,6.249,77.3,3.615,4,270,18.2,396.9,10.59,20.6\\n0.12204,0,2.89,\"0\",0.445,6.625,57.8,3.4952,2,276,18,357.98,6.65,28.4\\n0.11504,0,2.89,\"0\",0.445,6.163,69.6,3.4952,2,276,18,391.83,11.34,21.4\\n0.12083,0,2.89,\"0\",0.445,8.069,76,3.4952,2,276,18,396.9,4.21,38.7\\n0.08187,0,2.89,\"0\",0.445,7.82,36.9,3.4952,2,276,18,393.53,3.57,43.8\\n0.0686,0,2.89,\"0\",0.445,7.416,62.5,3.4952,2,276,18,396.9,6.19,33.2\\n0.14866,0,8.56,\"0\",0.52,6.727,79.9,2.7778,5,384,20.9,394.76,9.42,27.5\\n0.11432,0,8.56,\"0\",0.52,6.781,71.3,2.8561,5,384,20.9,395.58,7.67,26.5\\n0.22876,0,8.56,\"0\",0.52,6.405,85.4,2.7147,5,384,20.9,70.8,10.63,18.6\\n0.21161,0,8.56,\"0\",0.52,6.137,87.4,2.7147,5,384,20.9,394.47,13.44,19.3\\n0.1396,0,8.56,\"0\",0.52,6.167,90,2.421,5,384,20.9,392.69,12.33,20.1\\n0.13262,0,8.56,\"0\",0.52,5.851,96.7,2.1069,5,384,20.9,394.05,16.47,19.5\\n0.1712,0,8.56,\"0\",0.52,5.836,91.9,2.211,5,384,20.9,395.67,18.66,19.5\\n0.13117,0,8.56,\"0\",0.52,6.127,85.2,2.1224,5,384,20.9,387.69,14.09,20.4\\n0.12802,0,8.56,\"0\",0.52,6.474,97.1,2.4329,5,384,20.9,395.24,12.27,19.8\\n0.26363,0,8.56,\"0\",0.52,6.229,91.2,2.5451,5,384,20.9,391.23,15.55,19.4\\n0.10793,0,8.56,\"0\",0.52,6.195,54.4,2.7778,5,384,20.9,393.49,13,21.7\\n0.10084,0,10.01,\"0\",0.547,6.715,81.6,2.6775,6,432,17.8,395.59,10.16,22.8\\n0.12329,0,10.01,\"0\",0.547,5.913,92.9,2.3534,6,432,17.8,394.95,16.21,18.8\\n0.22212,0,10.01,\"0\",0.547,6.092,95.4,2.548,6,432,17.8,396.9,17.09,18.7\\n0.14231,0,10.01,\"0\",0.547,6.254,84.2,2.2565,6,432,17.8,388.74,10.45,18.5\\n0.17134,0,10.01,\"0\",0.547,5.928,88.2,2.4631,6,432,17.8,344.91,15.76,18.3\\n0.13158,0,10.01,\"0\",0.547,6.176,72.5,2.7301,6,432,17.8,393.3,12.04,21.2\\n0.15098,0,10.01,\"0\",0.547,6.021,82.6,2.7474,6,432,17.8,394.51,10.3,19.2\\n0.13058,0,10.01,\"0\",0.547,5.872,73.1,2.4775,6,432,17.8,338.63,15.37,20.4\\n0.14476,0,10.01,\"0\",0.547,5.731,65.2,2.7592,6,432,17.8,391.5,13.61,19.3\\n0.06899,0,25.65,\"0\",0.581,5.87,69.7,2.2577,2,188,19.1,389.15,14.37,22\\n0.07165,0,25.65,\"0\",0.581,6.004,84.1,2.1974,2,188,19.1,377.67,14.27,20.3\\n0.09299,0,25.65,\"0\",0.581,5.961,92.9,2.0869,2,188,19.1,378.09,17.93,20.5\\n0.15038,0,25.65,\"0\",0.581,5.856,97,1.9444,2,188,19.1,370.31,25.41,17.3\\n0.09849,0,25.65,\"0\",0.581,5.879,95.8,2.0063,2,188,19.1,379.38,17.58,18.8\\n0.16902,0,25.65,\"0\",0.581,5.986,88.4,1.9929,2,188,19.1,385.02,14.81,21.4\\n0.38735,0,25.65,\"0\",0.581,5.613,95.6,1.7572,2,188,19.1,359.29,27.26,15.7\\n0.25915,0,21.89,\"0\",0.624,5.693,96,1.7883,4,437,21.2,392.11,17.19,16.2\\n0.32543,0,21.89,\"0\",0.624,6.431,98.8,1.8125,4,437,21.2,396.9,15.39,18\\n0.88125,0,21.89,\"0\",0.624,5.637,94.7,1.9799,4,437,21.2,396.9,18.34,14.3\\n0.34006,0,21.89,\"0\",0.624,6.458,98.9,2.1185,4,437,21.2,395.04,12.6,19.2\\n1.19294,0,21.89,\"0\",0.624,6.326,97.7,2.271,4,437,21.2,396.9,12.26,19.6\\n0.59005,0,21.89,\"0\",0.624,6.372,97.9,2.3274,4,437,21.2,385.76,11.12,23\\n0.32982,0,21.89,\"0\",0.624,5.822,95.4,2.4699,4,437,21.2,388.69,15.03,18.4\\n0.97617,0,21.89,\"0\",0.624,5.757,98.4,2.346,4,437,21.2,262.76,17.31,15.6\\n0.55778,0,21.89,\"0\",0.624,6.335,98.2,2.1107,4,437,21.2,394.67,16.96,18.1\\n0.32264,0,21.89,\"0\",0.624,5.942,93.5,1.9669,4,437,21.2,378.25,16.9,17.4\\n0.35233,0,21.89,\"0\",0.624,6.454,98.4,1.8498,4,437,21.2,394.08,14.59,17.1\\n0.2498,0,21.89,\"0\",0.624,5.857,98.2,1.6686,4,437,21.2,392.04,21.32,13.3\\n0.54452,0,21.89,\"0\",0.624,6.151,97.9,1.6687,4,437,21.2,396.9,18.46,17.8\\n0.2909,0,21.89,\"0\",0.624,6.174,93.6,1.6119,4,437,21.2,388.08,24.16,14\\n1.62864,0,21.89,\"0\",0.624,5.019,100,1.4394,4,437,21.2,396.9,34.41,14.4\\n3.32105,0,19.58,\"1\",0.871,5.403,100,1.3216,5,403,14.7,396.9,26.82,13.4\\n4.0974,0,19.58,\"0\",0.871,5.468,100,1.4118,5,403,14.7,396.9,26.42,15.6\\n2.77974,0,19.58,\"0\",0.871,4.903,97.8,1.3459,5,403,14.7,396.9,29.29,11.8\\n2.37934,0,19.58,\"0\",0.871,6.13,100,1.4191,5,403,14.7,172.91,27.8,13.8\\n2.15505,0,19.58,\"0\",0.871,5.628,100,1.5166,5,403,14.7,169.27,16.65,15.6\\n2.36862,0,19.58,\"0\",0.871,4.926,95.7,1.4608,5,403,14.7,391.71,29.53,14.6\\n2.33099,0,19.58,\"0\",0.871,5.186,93.8,1.5296,5,403,14.7,356.99,28.32,17.8\\n2.73397,0,19.58,\"0\",0.871,5.597,94.9,1.5257,5,403,14.7,351.85,21.45,15.4\\n1.6566,0,19.58,\"0\",0.871,6.122,97.3,1.618,5,403,14.7,372.8,14.1,21.5\\n1.49632,0,19.58,\"0\",0.871,5.404,100,1.5916,5,403,14.7,341.6,13.28,19.6\\n1.12658,0,19.58,\"1\",0.871,5.012,88,1.6102,5,403,14.7,343.28,12.12,15.3\\n2.14918,0,19.58,\"0\",0.871,5.709,98.5,1.6232,5,403,14.7,261.95,15.79,19.4\\n1.41385,0,19.58,\"1\",0.871,6.129,96,1.7494,5,403,14.7,321.02,15.12,17\\n3.53501,0,19.58,\"1\",0.871,6.152,82.6,1.7455,5,403,14.7,88.01,15.02,15.6\\n2.44668,0,19.58,\"0\",0.871,5.272,94,1.7364,5,403,14.7,88.63,16.14,13.1\\n1.22358,0,19.58,\"0\",0.605,6.943,97.4,1.8773,5,403,14.7,363.43,4.59,41.3\\n1.34284,0,19.58,\"0\",0.605,6.066,100,1.7573,5,403,14.7,353.89,6.43,24.3\\n1.42502,0,19.58,\"0\",0.871,6.51,100,1.7659,5,403,14.7,364.31,7.39,23.3\\n1.27346,0,19.58,\"1\",0.605,6.25,92.6,1.7984,5,403,14.7,338.92,5.5,27\\n1.46336,0,19.58,\"0\",0.605,7.489,90.8,1.9709,5,403,14.7,374.43,1.73,50\\n1.83377,0,19.58,\"1\",0.605,7.802,98.2,2.0407,5,403,14.7,389.61,1.92,50\\n1.51902,0,19.58,\"1\",0.605,8.375,93.9,2.162,5,403,14.7,388.45,3.32,50\\n2.24236,0,19.58,\"0\",0.605,5.854,91.8,2.422,5,403,14.7,395.11,11.64,22.7\\n2.924,0,19.58,\"0\",0.605,6.101,93,2.2834,5,403,14.7,240.16,9.81,25\\n2.01019,0,19.58,\"0\",0.605,7.929,96.2,2.0459,5,403,14.7,369.3,3.7,50\\n1.80028,0,19.58,\"0\",0.605,5.877,79.2,2.4259,5,403,14.7,227.61,12.14,23.8\\n2.3004,0,19.58,\"0\",0.605,6.319,96.1,2.1,5,403,14.7,297.09,11.1,23.8\\n2.44953,0,19.58,\"0\",0.605,6.402,95.2,2.2625,5,403,14.7,330.04,11.32,22.3\\n1.20742,0,19.58,\"0\",0.605,5.875,94.6,2.4259,5,403,14.7,292.29,14.43,17.4\\n2.3139,0,19.58,\"0\",0.605,5.88,97.3,2.3887,5,403,14.7,348.13,12.03,19.1\\n0.13914,0,4.05,\"0\",0.51,5.572,88.5,2.5961,5,296,16.6,396.9,14.69,23.1\\n0.09178,0,4.05,\"0\",0.51,6.416,84.1,2.6463,5,296,16.6,395.5,9.04,23.6\\n0.08447,0,4.05,\"0\",0.51,5.859,68.7,2.7019,5,296,16.6,393.23,9.64,22.6\\n0.06664,0,4.05,\"0\",0.51,6.546,33.1,3.1323,5,296,16.6,390.96,5.33,29.4\\n0.07022,0,4.05,\"0\",0.51,6.02,47.2,3.5549,5,296,16.6,393.23,10.11,23.2\\n0.05425,0,4.05,\"0\",0.51,6.315,73.4,3.3175,5,296,16.6,395.6,6.29,24.6\\n0.06642,0,4.05,\"0\",0.51,6.86,74.4,2.9153,5,296,16.6,391.27,6.92,29.9\\n0.0578,0,2.46,\"0\",0.488,6.98,58.4,2.829,3,193,17.8,396.9,5.04,37.2\\n0.06588,0,2.46,\"0\",0.488,7.765,83.3,2.741,3,193,17.8,395.56,7.56,39.8\\n0.06888,0,2.46,\"0\",0.488,6.144,62.2,2.5979,3,193,17.8,396.9,9.45,36.2\\n0.09103,0,2.46,\"0\",0.488,7.155,92.2,2.7006,3,193,17.8,394.12,4.82,37.9\\n0.10008,0,2.46,\"0\",0.488,6.563,95.6,2.847,3,193,17.8,396.9,5.68,32.5\\n0.08308,0,2.46,\"0\",0.488,5.604,89.8,2.9879,3,193,17.8,391,13.98,26.4\\n0.06047,0,2.46,\"0\",0.488,6.153,68.8,3.2797,3,193,17.8,387.11,13.15,29.6\\n0.05602,0,2.46,\"0\",0.488,7.831,53.6,3.1992,3,193,17.8,392.63,4.45,50\\n0.07875,45,3.44,\"0\",0.437,6.782,41.1,3.7886,5,398,15.2,393.87,6.68,32\\n0.12579,45,3.44,\"0\",0.437,6.556,29.1,4.5667,5,398,15.2,382.84,4.56,29.8\\n0.0837,45,3.44,\"0\",0.437,7.185,38.9,4.5667,5,398,15.2,396.9,5.39,34.9\\n0.09068,45,3.44,\"0\",0.437,6.951,21.5,6.4798,5,398,15.2,377.68,5.1,37\\n0.06911,45,3.44,\"0\",0.437,6.739,30.8,6.4798,5,398,15.2,389.71,4.69,30.5\\n0.08664,45,3.44,\"0\",0.437,7.178,26.3,6.4798,5,398,15.2,390.49,2.87,36.4\\n0.02187,60,2.93,\"0\",0.401,6.8,9.9,6.2196,1,265,15.6,393.37,5.03,31.1\\n0.01439,60,2.93,\"0\",0.401,6.604,18.8,6.2196,1,265,15.6,376.7,4.38,29.1\\n0.01381,80,0.46,\"0\",0.422,7.875,32,5.6484,4,255,14.4,394.23,2.97,50\\n0.04011,80,1.52,\"0\",0.404,7.287,34.1,7.309,2,329,12.6,396.9,4.08,33.3\\n0.04666,80,1.52,\"0\",0.404,7.107,36.6,7.309,2,329,12.6,354.31,8.61,30.3\\n0.03768,80,1.52,\"0\",0.404,7.274,38.3,7.309,2,329,12.6,392.2,6.62,34.6\\n0.0315,95,1.47,\"0\",0.403,6.975,15.3,7.6534,3,402,17,396.9,4.56,34.9\\n0.01778,95,1.47,\"0\",0.403,7.135,13.9,7.6534,3,402,17,384.3,4.45,32.9\\n0.03445,82.5,2.03,\"0\",0.415,6.162,38.4,6.27,2,348,14.7,393.77,7.43,24.1\\n0.02177,82.5,2.03,\"0\",0.415,7.61,15.7,6.27,2,348,14.7,395.38,3.11,42.3\\n0.0351,95,2.68,\"0\",0.4161,7.853,33.2,5.118,4,224,14.7,392.78,3.81,48.5\\n0.02009,95,2.68,\"0\",0.4161,8.034,31.9,5.118,4,224,14.7,390.55,2.88,50\\n0.13642,0,10.59,\"0\",0.489,5.891,22.3,3.9454,4,277,18.6,396.9,10.87,22.6\\n0.22969,0,10.59,\"0\",0.489,6.326,52.5,4.3549,4,277,18.6,394.87,10.97,24.4\\n0.25199,0,10.59,\"0\",0.489,5.783,72.7,4.3549,4,277,18.6,389.43,18.06,22.5\\n0.13587,0,10.59,\"1\",0.489,6.064,59.1,4.2392,4,277,18.6,381.32,14.66,24.4\\n0.43571,0,10.59,\"1\",0.489,5.344,100,3.875,4,277,18.6,396.9,23.09,20\\n0.17446,0,10.59,\"1\",0.489,5.96,92.1,3.8771,4,277,18.6,393.25,17.27,21.7\\n0.37578,0,10.59,\"1\",0.489,5.404,88.6,3.665,4,277,18.6,395.24,23.98,19.3\\n0.21719,0,10.59,\"1\",0.489,5.807,53.8,3.6526,4,277,18.6,390.94,16.03,22.4\\n0.14052,0,10.59,\"0\",0.489,6.375,32.3,3.9454,4,277,18.6,385.81,9.38,28.1\\n0.28955,0,10.59,\"0\",0.489,5.412,9.8,3.5875,4,277,18.6,348.93,29.55,23.7\\n0.19802,0,10.59,\"0\",0.489,6.182,42.4,3.9454,4,277,18.6,393.63,9.47,25\\n0.0456,0,13.89,\"1\",0.55,5.888,56,3.1121,5,276,16.4,392.8,13.51,23.3\\n0.07013,0,13.89,\"0\",0.55,6.642,85.1,3.4211,5,276,16.4,392.78,9.69,28.7\\n0.11069,0,13.89,\"1\",0.55,5.951,93.8,2.8893,5,276,16.4,396.9,17.92,21.5\\n0.11425,0,13.89,\"1\",0.55,6.373,92.4,3.3633,5,276,16.4,393.74,10.5,23\\n0.35809,0,6.2,\"1\",0.507,6.951,88.5,2.8617,8,307,17.4,391.7,9.71,26.7\\n0.40771,0,6.2,\"1\",0.507,6.164,91.3,3.048,8,307,17.4,395.24,21.46,21.7\\n0.62356,0,6.2,\"1\",0.507,6.879,77.7,3.2721,8,307,17.4,390.39,9.93,27.5\\n0.6147,0,6.2,\"0\",0.507,6.618,80.8,3.2721,8,307,17.4,396.9,7.6,30.1\\n0.31533,0,6.2,\"0\",0.504,8.266,78.3,2.8944,8,307,17.4,385.05,4.14,44.8\\n0.52693,0,6.2,\"0\",0.504,8.725,83,2.8944,8,307,17.4,382,4.63,50\\n0.38214,0,6.2,\"0\",0.504,8.04,86.5,3.2157,8,307,17.4,387.38,3.13,37.6\\n0.41238,0,6.2,\"0\",0.504,7.163,79.9,3.2157,8,307,17.4,372.08,6.36,31.6\\n0.29819,0,6.2,\"0\",0.504,7.686,17,3.3751,8,307,17.4,377.51,3.92,46.7\\n0.44178,0,6.2,\"0\",0.504,6.552,21.4,3.3751,8,307,17.4,380.34,3.76,31.5\\n0.537,0,6.2,\"0\",0.504,5.981,68.1,3.6715,8,307,17.4,378.35,11.65,24.3\\n0.46296,0,6.2,\"0\",0.504,7.412,76.9,3.6715,8,307,17.4,376.14,5.25,31.7\\n0.57529,0,6.2,\"0\",0.507,8.337,73.3,3.8384,8,307,17.4,385.91,2.47,41.7\\n0.33147,0,6.2,\"0\",0.507,8.247,70.4,3.6519,8,307,17.4,378.95,3.95,48.3\\n0.44791,0,6.2,\"1\",0.507,6.726,66.5,3.6519,8,307,17.4,360.2,8.05,29\\n0.33045,0,6.2,\"0\",0.507,6.086,61.5,3.6519,8,307,17.4,376.75,10.88,24\\n0.52058,0,6.2,\"1\",0.507,6.631,76.5,4.148,8,307,17.4,388.45,9.54,25.1\\n0.51183,0,6.2,\"0\",0.507,7.358,71.6,4.148,8,307,17.4,390.07,4.73,31.5\\n0.08244,30,4.93,\"0\",0.428,6.481,18.5,6.1899,6,300,16.6,379.41,6.36,23.7\\n0.09252,30,4.93,\"0\",0.428,6.606,42.2,6.1899,6,300,16.6,383.78,7.37,23.3\\n0.11329,30,4.93,\"0\",0.428,6.897,54.3,6.3361,6,300,16.6,391.25,11.38,22\\n0.10612,30,4.93,\"0\",0.428,6.095,65.1,6.3361,6,300,16.6,394.62,12.4,20.1\\n0.1029,30,4.93,\"0\",0.428,6.358,52.9,7.0355,6,300,16.6,372.75,11.22,22.2\\n0.12757,30,4.93,\"0\",0.428,6.393,7.8,7.0355,6,300,16.6,374.71,5.19,23.7\\n0.20608,22,5.86,\"0\",0.431,5.593,76.5,7.9549,7,330,19.1,372.49,12.5,17.6\\n0.19133,22,5.86,\"0\",0.431,5.605,70.2,7.9549,7,330,19.1,389.13,18.46,18.5\\n0.33983,22,5.86,\"0\",0.431,6.108,34.9,8.0555,7,330,19.1,390.18,9.16,24.3\\n0.19657,22,5.86,\"0\",0.431,6.226,79.2,8.0555,7,330,19.1,376.14,10.15,20.5\\n0.16439,22,5.86,\"0\",0.431,6.433,49.1,7.8265,7,330,19.1,374.71,9.52,24.5\\n0.19073,22,5.86,\"0\",0.431,6.718,17.5,7.8265,7,330,19.1,393.74,6.56,26.2\\n0.1403,22,5.86,\"0\",0.431,6.487,13,7.3967,7,330,19.1,396.28,5.9,24.4\\n0.21409,22,5.86,\"0\",0.431,6.438,8.9,7.3967,7,330,19.1,377.07,3.59,24.8\\n0.08221,22,5.86,\"0\",0.431,6.957,6.8,8.9067,7,330,19.1,386.09,3.53,29.6\\n0.36894,22,5.86,\"0\",0.431,8.259,8.4,8.9067,7,330,19.1,396.9,3.54,42.8\\n0.04819,80,3.64,\"0\",0.392,6.108,32,9.2203,1,315,16.4,392.89,6.57,21.9\\n0.03548,80,3.64,\"0\",0.392,5.876,19.1,9.2203,1,315,16.4,395.18,9.25,20.9\\n0.01538,90,3.75,\"0\",0.394,7.454,34.2,6.3361,3,244,15.9,386.34,3.11,44\\n0.61154,20,3.97,\"0\",0.647,8.704,86.9,1.801,5,264,13,389.7,5.12,50\\n0.66351,20,3.97,\"0\",0.647,7.333,100,1.8946,5,264,13,383.29,7.79,36\\n0.65665,20,3.97,\"0\",0.647,6.842,100,2.0107,5,264,13,391.93,6.9,30.1\\n0.54011,20,3.97,\"0\",0.647,7.203,81.8,2.1121,5,264,13,392.8,9.59,33.8\\n0.53412,20,3.97,\"0\",0.647,7.52,89.4,2.1398,5,264,13,388.37,7.26,43.1\\n0.52014,20,3.97,\"0\",0.647,8.398,91.5,2.2885,5,264,13,386.86,5.91,48.8\\n0.82526,20,3.97,\"0\",0.647,7.327,94.5,2.0788,5,264,13,393.42,11.25,31\\n0.55007,20,3.97,\"0\",0.647,7.206,91.6,1.9301,5,264,13,387.89,8.1,36.5\\n0.76162,20,3.97,\"0\",0.647,5.56,62.8,1.9865,5,264,13,392.4,10.45,22.8\\n0.7857,20,3.97,\"0\",0.647,7.014,84.6,2.1329,5,264,13,384.07,14.79,30.7\\n0.57834,20,3.97,\"0\",0.575,8.297,67,2.4216,5,264,13,384.54,7.44,50\\n0.5405,20,3.97,\"0\",0.575,7.47,52.6,2.872,5,264,13,390.3,3.16,43.5\\n0.09065,20,6.96,\"1\",0.464,5.92,61.5,3.9175,3,223,18.6,391.34,13.65,20.7\\n0.29916,20,6.96,\"0\",0.464,5.856,42.1,4.429,3,223,18.6,388.65,13,21.1\\n0.16211,20,6.96,\"0\",0.464,6.24,16.3,4.429,3,223,18.6,396.9,6.59,25.2\\n0.1146,20,6.96,\"0\",0.464,6.538,58.7,3.9175,3,223,18.6,394.96,7.73,24.4\\n0.22188,20,6.96,\"1\",0.464,7.691,51.8,4.3665,3,223,18.6,390.77,6.58,35.2\\n0.05644,40,6.41,\"1\",0.447,6.758,32.9,4.0776,4,254,17.6,396.9,3.53,32.4\\n0.09604,40,6.41,\"0\",0.447,6.854,42.8,4.2673,4,254,17.6,396.9,2.98,32\\n0.10469,40,6.41,\"1\",0.447,7.267,49,4.7872,4,254,17.6,389.25,6.05,33.2\\n0.06127,40,6.41,\"1\",0.447,6.826,27.6,4.8628,4,254,17.6,393.45,4.16,33.1\\n0.07978,40,6.41,\"0\",0.447,6.482,32.1,4.1403,4,254,17.6,396.9,7.19,29.1\\n0.21038,20,3.33,\"0\",0.4429,6.812,32.2,4.1007,5,216,14.9,396.9,4.85,35.1\\n0.03578,20,3.33,\"0\",0.4429,7.82,64.5,4.6947,5,216,14.9,387.31,3.76,45.4\\n0.03705,20,3.33,\"0\",0.4429,6.968,37.2,5.2447,5,216,14.9,392.23,4.59,35.4\\n0.06129,20,3.33,\"1\",0.4429,7.645,49.7,5.2119,5,216,14.9,377.07,3.01,46\\n0.01501,90,1.21,\"1\",0.401,7.923,24.8,5.885,1,198,13.6,395.52,3.16,50\\n0.00906,90,2.97,\"0\",0.4,7.088,20.8,7.3073,1,285,15.3,394.72,7.85,32.2\\n0.01096,55,2.25,\"0\",0.389,6.453,31.9,7.3073,1,300,15.3,394.72,8.23,22\\n0.01965,80,1.76,\"0\",0.385,6.23,31.5,9.0892,1,241,18.2,341.6,12.93,20.1\\n0.03871,52.5,5.32,\"0\",0.405,6.209,31.3,7.3172,6,293,16.6,396.9,7.14,23.2\\n0.0459,52.5,5.32,\"0\",0.405,6.315,45.6,7.3172,6,293,16.6,396.9,7.6,22.3\\n0.04297,52.5,5.32,\"0\",0.405,6.565,22.9,7.3172,6,293,16.6,371.72,9.51,24.8\\n0.03502,80,4.95,\"0\",0.411,6.861,27.9,5.1167,4,245,19.2,396.9,3.33,28.5\\n0.07886,80,4.95,\"0\",0.411,7.148,27.7,5.1167,4,245,19.2,396.9,3.56,37.3\\n0.03615,80,4.95,\"0\",0.411,6.63,23.4,5.1167,4,245,19.2,396.9,4.7,27.9\\n0.08265,0,13.92,\"0\",0.437,6.127,18.4,5.5027,4,289,16,396.9,8.58,23.9\\n0.08199,0,13.92,\"0\",0.437,6.009,42.3,5.5027,4,289,16,396.9,10.4,21.7\\n0.12932,0,13.92,\"0\",0.437,6.678,31.1,5.9604,4,289,16,396.9,6.27,28.6\\n0.05372,0,13.92,\"0\",0.437,6.549,51,5.9604,4,289,16,392.85,7.39,27.1\\n0.14103,0,13.92,\"0\",0.437,5.79,58,6.32,4,289,16,396.9,15.84,20.3\\n0.06466,70,2.24,\"0\",0.4,6.345,20.1,7.8278,5,358,14.8,368.24,4.97,22.5\\n0.05561,70,2.24,\"0\",0.4,7.041,10,7.8278,5,358,14.8,371.58,4.74,29\\n0.04417,70,2.24,\"0\",0.4,6.871,47.4,7.8278,5,358,14.8,390.86,6.07,24.8\\n0.03537,34,6.09,\"0\",0.433,6.59,40.4,5.4917,7,329,16.1,395.75,9.5,22\\n0.09266,34,6.09,\"0\",0.433,6.495,18.4,5.4917,7,329,16.1,383.61,8.67,26.4\\n0.1,34,6.09,\"0\",0.433,6.982,17.7,5.4917,7,329,16.1,390.43,4.86,33.1\\n0.05515,33,2.18,\"0\",0.472,7.236,41.1,4.022,7,222,18.4,393.68,6.93,36.1\\n0.05479,33,2.18,\"0\",0.472,6.616,58.1,3.37,7,222,18.4,393.36,8.93,28.4\\n0.07503,33,2.18,\"0\",0.472,7.42,71.9,3.0992,7,222,18.4,396.9,6.47,33.4\\n0.04932,33,2.18,\"0\",0.472,6.849,70.3,3.1827,7,222,18.4,396.9,7.53,28.2\\n0.49298,0,9.9,\"0\",0.544,6.635,82.5,3.3175,4,304,18.4,396.9,4.54,22.8\\n0.3494,0,9.9,\"0\",0.544,5.972,76.7,3.1025,4,304,18.4,396.24,9.97,20.3\\n2.63548,0,9.9,\"0\",0.544,4.973,37.8,2.5194,4,304,18.4,350.45,12.64,16.1\\n0.79041,0,9.9,\"0\",0.544,6.122,52.8,2.6403,4,304,18.4,396.9,5.98,22.1\\n0.26169,0,9.9,\"0\",0.544,6.023,90.4,2.834,4,304,18.4,396.3,11.72,19.4\\n0.26938,0,9.9,\"0\",0.544,6.266,82.8,3.2628,4,304,18.4,393.39,7.9,21.6\\n0.3692,0,9.9,\"0\",0.544,6.567,87.3,3.6023,4,304,18.4,395.69,9.28,23.8\\n0.25356,0,9.9,\"0\",0.544,5.705,77.7,3.945,4,304,18.4,396.42,11.5,16.2\\n0.31827,0,9.9,\"0\",0.544,5.914,83.2,3.9986,4,304,18.4,390.7,18.33,17.8\\n0.24522,0,9.9,\"0\",0.544,5.782,71.7,4.0317,4,304,18.4,396.9,15.94,19.8\\n0.40202,0,9.9,\"0\",0.544,6.382,67.2,3.5325,4,304,18.4,395.21,10.36,23.1\\n0.47547,0,9.9,\"0\",0.544,6.113,58.8,4.0019,4,304,18.4,396.23,12.73,21\\n0.1676,0,7.38,\"0\",0.493,6.426,52.3,4.5404,5,287,19.6,396.9,7.2,23.8\\n0.18159,0,7.38,\"0\",0.493,6.376,54.3,4.5404,5,287,19.6,396.9,6.87,23.1\\n0.35114,0,7.38,\"0\",0.493,6.041,49.9,4.7211,5,287,19.6,396.9,7.7,20.4\\n0.28392,0,7.38,\"0\",0.493,5.708,74.3,4.7211,5,287,19.6,391.13,11.74,18.5\\n0.34109,0,7.38,\"0\",0.493,6.415,40.1,4.7211,5,287,19.6,396.9,6.12,25\\n0.19186,0,7.38,\"0\",0.493,6.431,14.7,5.4159,5,287,19.6,393.68,5.08,24.6\\n0.30347,0,7.38,\"0\",0.493,6.312,28.9,5.4159,5,287,19.6,396.9,6.15,23\\n0.24103,0,7.38,\"0\",0.493,6.083,43.7,5.4159,5,287,19.6,396.9,12.79,22.2\\n0.06617,0,3.24,\"0\",0.46,5.868,25.8,5.2146,4,430,16.9,382.44,9.97,19.3\\n0.06724,0,3.24,\"0\",0.46,6.333,17.2,5.2146,4,430,16.9,375.21,7.34,22.6\\n0.04544,0,3.24,\"0\",0.46,6.144,32.2,5.8736,4,430,16.9,368.57,9.09,19.8\\n0.05023,35,6.06,\"0\",0.4379,5.706,28.4,6.6407,1,304,16.9,394.02,12.43,17.1\\n0.03466,35,6.06,\"0\",0.4379,6.031,23.3,6.6407,1,304,16.9,362.25,7.83,19.4\\n0.05083,0,5.19,\"0\",0.515,6.316,38.1,6.4584,5,224,20.2,389.71,5.68,22.2\\n0.03738,0,5.19,\"0\",0.515,6.31,38.5,6.4584,5,224,20.2,389.4,6.75,20.7\\n0.03961,0,5.19,\"0\",0.515,6.037,34.5,5.9853,5,224,20.2,396.9,8.01,21.1\\n0.03427,0,5.19,\"0\",0.515,5.869,46.3,5.2311,5,224,20.2,396.9,9.8,19.5\\n0.03041,0,5.19,\"0\",0.515,5.895,59.6,5.615,5,224,20.2,394.81,10.56,18.5\\n0.03306,0,5.19,\"0\",0.515,6.059,37.3,4.8122,5,224,20.2,396.14,8.51,20.6\\n0.05497,0,5.19,\"0\",0.515,5.985,45.4,4.8122,5,224,20.2,396.9,9.74,19\\n0.06151,0,5.19,\"0\",0.515,5.968,58.5,4.8122,5,224,20.2,396.9,9.29,18.7\\n0.01301,35,1.52,\"0\",0.442,7.241,49.3,7.0379,1,284,15.5,394.74,5.49,32.7\\n0.02498,0,1.89,\"0\",0.518,6.54,59.7,6.2669,1,422,15.9,389.96,8.65,16.5\\n0.02543,55,3.78,\"0\",0.484,6.696,56.4,5.7321,5,370,17.6,396.9,7.18,23.9\\n0.03049,55,3.78,\"0\",0.484,6.874,28.1,6.4654,5,370,17.6,387.97,4.61,31.2\\n0.03113,0,4.39,\"0\",0.442,6.014,48.5,8.0136,3,352,18.8,385.64,10.53,17.5\\n0.06162,0,4.39,\"0\",0.442,5.898,52.3,8.0136,3,352,18.8,364.61,12.67,17.2\\n0.0187,85,4.15,\"0\",0.429,6.516,27.7,8.5353,4,351,17.9,392.43,6.36,23.1\\n0.01501,80,2.01,\"0\",0.435,6.635,29.7,8.344,4,280,17,390.94,5.99,24.5\\n0.02899,40,1.25,\"0\",0.429,6.939,34.5,8.7921,1,335,19.7,389.85,5.89,26.6\\n0.06211,40,1.25,\"0\",0.429,6.49,44.4,8.7921,1,335,19.7,396.9,5.98,22.9\\n0.0795,60,1.69,\"0\",0.411,6.579,35.9,10.7103,4,411,18.3,370.78,5.49,24.1\\n0.07244,60,1.69,\"0\",0.411,5.884,18.5,10.7103,4,411,18.3,392.33,7.79,18.6\\n0.01709,90,2.02,\"0\",0.41,6.728,36.1,12.1265,5,187,17,384.46,4.5,30.1\\n0.04301,80,1.91,\"0\",0.413,5.663,21.9,10.5857,4,334,22,382.8,8.05,18.2\\n0.10659,80,1.91,\"0\",0.413,5.936,19.5,10.5857,4,334,22,376.04,5.57,20.6\\n8.98296,0,18.1,\"1\",0.77,6.212,97.4,2.1222,24,666,20.2,377.73,17.6,17.8\\n3.8497,0,18.1,\"1\",0.77,6.395,91,2.5052,24,666,20.2,391.34,13.27,21.7\\n5.20177,0,18.1,\"1\",0.77,6.127,83.4,2.7227,24,666,20.2,395.43,11.48,22.7\\n4.26131,0,18.1,\"0\",0.77,6.112,81.3,2.5091,24,666,20.2,390.74,12.67,22.6\\n4.54192,0,18.1,\"0\",0.77,6.398,88,2.5182,24,666,20.2,374.56,7.79,25\\n3.83684,0,18.1,\"0\",0.77,6.251,91.1,2.2955,24,666,20.2,350.65,14.19,19.9\\n3.67822,0,18.1,\"0\",0.77,5.362,96.2,2.1036,24,666,20.2,380.79,10.19,20.8\\n4.22239,0,18.1,\"1\",0.77,5.803,89,1.9047,24,666,20.2,353.04,14.64,16.8\\n3.47428,0,18.1,\"1\",0.718,8.78,82.9,1.9047,24,666,20.2,354.55,5.29,21.9\\n4.55587,0,18.1,\"0\",0.718,3.561,87.9,1.6132,24,666,20.2,354.7,7.12,27.5\\n3.69695,0,18.1,\"0\",0.718,4.963,91.4,1.7523,24,666,20.2,316.03,14,21.9\\n13.5222,0,18.1,\"0\",0.631,3.863,100,1.5106,24,666,20.2,131.42,13.33,23.1\\n4.89822,0,18.1,\"0\",0.631,4.97,100,1.3325,24,666,20.2,375.52,3.26,50\\n5.66998,0,18.1,\"1\",0.631,6.683,96.8,1.3567,24,666,20.2,375.33,3.73,50\\n6.53876,0,18.1,\"1\",0.631,7.016,97.5,1.2024,24,666,20.2,392.05,2.96,50\\n9.2323,0,18.1,\"0\",0.631,6.216,100,1.1691,24,666,20.2,366.15,9.53,50\\n8.26725,0,18.1,\"1\",0.668,5.875,89.6,1.1296,24,666,20.2,347.88,8.88,50\\n11.1081,0,18.1,\"0\",0.668,4.906,100,1.1742,24,666,20.2,396.9,34.77,13.8\\n18.4982,0,18.1,\"0\",0.668,4.138,100,1.137,24,666,20.2,396.9,37.97,13.8\\n19.6091,0,18.1,\"0\",0.671,7.313,97.9,1.3163,24,666,20.2,396.9,13.44,15\\n15.288,0,18.1,\"0\",0.671,6.649,93.3,1.3449,24,666,20.2,363.02,23.24,13.9\\n9.82349,0,18.1,\"0\",0.671,6.794,98.8,1.358,24,666,20.2,396.9,21.24,13.3\\n23.6482,0,18.1,\"0\",0.671,6.38,96.2,1.3861,24,666,20.2,396.9,23.69,13.1\\n17.8667,0,18.1,\"0\",0.671,6.223,100,1.3861,24,666,20.2,393.74,21.78,10.2\\n88.9762,0,18.1,\"0\",0.671,6.968,91.9,1.4165,24,666,20.2,396.9,17.21,10.4\\n15.8744,0,18.1,\"0\",0.671,6.545,99.1,1.5192,24,666,20.2,396.9,21.08,10.9\\n9.18702,0,18.1,\"0\",0.7,5.536,100,1.5804,24,666,20.2,396.9,23.6,11.3\\n7.99248,0,18.1,\"0\",0.7,5.52,100,1.5331,24,666,20.2,396.9,24.56,12.3\\n20.0849,0,18.1,\"0\",0.7,4.368,91.2,1.4395,24,666,20.2,285.83,30.63,8.8\\n16.8118,0,18.1,\"0\",0.7,5.277,98.1,1.4261,24,666,20.2,396.9,30.81,7.2\\n24.3938,0,18.1,\"0\",0.7,4.652,100,1.4672,24,666,20.2,396.9,28.28,10.5\\n22.5971,0,18.1,\"0\",0.7,5,89.5,1.5184,24,666,20.2,396.9,31.99,7.4\\n14.3337,0,18.1,\"0\",0.7,4.88,100,1.5895,24,666,20.2,372.92,30.62,10.2\\n8.15174,0,18.1,\"0\",0.7,5.39,98.9,1.7281,24,666,20.2,396.9,20.85,11.5\\n6.96215,0,18.1,\"0\",0.7,5.713,97,1.9265,24,666,20.2,394.43,17.11,15.1\\n5.29305,0,18.1,\"0\",0.7,6.051,82.5,2.1678,24,666,20.2,378.38,18.76,23.2\\n11.5779,0,18.1,\"0\",0.7,5.036,97,1.77,24,666,20.2,396.9,25.68,9.7\\n8.64476,0,18.1,\"0\",0.693,6.193,92.6,1.7912,24,666,20.2,396.9,15.17,13.8\\n13.3598,0,18.1,\"0\",0.693,5.887,94.7,1.7821,24,666,20.2,396.9,16.35,12.7\\n8.71675,0,18.1,\"0\",0.693,6.471,98.8,1.7257,24,666,20.2,391.98,17.12,13.1\\n5.87205,0,18.1,\"0\",0.693,6.405,96,1.6768,24,666,20.2,396.9,19.37,12.5\\n7.67202,0,18.1,\"0\",0.693,5.747,98.9,1.6334,24,666,20.2,393.1,19.92,8.5\\n38.3518,0,18.1,\"0\",0.693,5.453,100,1.4896,24,666,20.2,396.9,30.59,5\\n9.91655,0,18.1,\"0\",0.693,5.852,77.8,1.5004,24,666,20.2,338.16,29.97,6.3\\n25.0461,0,18.1,\"0\",0.693,5.987,100,1.5888,24,666,20.2,396.9,26.77,5.6\\n14.2362,0,18.1,\"0\",0.693,6.343,100,1.5741,24,666,20.2,396.9,20.32,7.2\\n9.59571,0,18.1,\"0\",0.693,6.404,100,1.639,24,666,20.2,376.11,20.31,12.1\\n24.8017,0,18.1,\"0\",0.693,5.349,96,1.7028,24,666,20.2,396.9,19.77,8.3\\n41.5292,0,18.1,\"0\",0.693,5.531,85.4,1.6074,24,666,20.2,329.46,27.38,8.5\\n67.9208,0,18.1,\"0\",0.693,5.683,100,1.4254,24,666,20.2,384.97,22.98,5\\n20.7162,0,18.1,\"0\",0.659,4.138,100,1.1781,24,666,20.2,370.22,23.34,11.9\\n11.9511,0,18.1,\"0\",0.659,5.608,100,1.2852,24,666,20.2,332.09,12.13,27.9\\n7.40389,0,18.1,\"0\",0.597,5.617,97.9,1.4547,24,666,20.2,314.64,26.4,17.2\\n14.4383,0,18.1,\"0\",0.597,6.852,100,1.4655,24,666,20.2,179.36,19.78,27.5\\n51.1358,0,18.1,\"0\",0.597,5.757,100,1.413,24,666,20.2,2.6,10.11,15\\n14.0507,0,18.1,\"0\",0.597,6.657,100,1.5275,24,666,20.2,35.05,21.22,17.2\\n18.811,0,18.1,\"0\",0.597,4.628,100,1.5539,24,666,20.2,28.79,34.37,17.9\\n28.6558,0,18.1,\"0\",0.597,5.155,100,1.5894,24,666,20.2,210.97,20.08,16.3\\n45.7461,0,18.1,\"0\",0.693,4.519,100,1.6582,24,666,20.2,88.27,36.98,7\\n18.0846,0,18.1,\"0\",0.679,6.434,100,1.8347,24,666,20.2,27.25,29.05,7.2\\n10.8342,0,18.1,\"0\",0.679,6.782,90.8,1.8195,24,666,20.2,21.57,25.79,7.5\\n25.9406,0,18.1,\"0\",0.679,5.304,89.1,1.6475,24,666,20.2,127.36,26.64,10.4\\n73.5341,0,18.1,\"0\",0.679,5.957,100,1.8026,24,666,20.2,16.45,20.62,8.8\\n11.8123,0,18.1,\"0\",0.718,6.824,76.5,1.794,24,666,20.2,48.45,22.74,8.4\\n11.0874,0,18.1,\"0\",0.718,6.411,100,1.8589,24,666,20.2,318.75,15.02,16.7\\n7.02259,0,18.1,\"0\",0.718,6.006,95.3,1.8746,24,666,20.2,319.98,15.7,14.2\\n12.0482,0,18.1,\"0\",0.614,5.648,87.6,1.9512,24,666,20.2,291.55,14.1,20.8\\n7.05042,0,18.1,\"0\",0.614,6.103,85.1,2.0218,24,666,20.2,2.52,23.29,13.4\\n8.79212,0,18.1,\"0\",0.584,5.565,70.6,2.0635,24,666,20.2,3.65,17.16,11.7\\n15.8603,0,18.1,\"0\",0.679,5.896,95.4,1.9096,24,666,20.2,7.68,24.39,8.3\\n12.2472,0,18.1,\"0\",0.584,5.837,59.7,1.9976,24,666,20.2,24.65,15.69,10.2\\n37.6619,0,18.1,\"0\",0.679,6.202,78.7,1.8629,24,666,20.2,18.82,14.52,10.9\\n7.36711,0,18.1,\"0\",0.679,6.193,78.1,1.9356,24,666,20.2,96.73,21.52,11\\n9.33889,0,18.1,\"0\",0.679,6.38,95.6,1.9682,24,666,20.2,60.72,24.08,9.5\\n8.49213,0,18.1,\"0\",0.584,6.348,86.1,2.0527,24,666,20.2,83.45,17.64,14.5\\n10.0623,0,18.1,\"0\",0.584,6.833,94.3,2.0882,24,666,20.2,81.33,19.69,14.1\\n6.44405,0,18.1,\"0\",0.584,6.425,74.8,2.2004,24,666,20.2,97.95,12.03,16.1\\n5.58107,0,18.1,\"0\",0.713,6.436,87.9,2.3158,24,666,20.2,100.19,16.22,14.3\\n13.9134,0,18.1,\"0\",0.713,6.208,95,2.2222,24,666,20.2,100.63,15.17,11.7\\n11.1604,0,18.1,\"0\",0.74,6.629,94.6,2.1247,24,666,20.2,109.85,23.27,13.4\\n14.4208,0,18.1,\"0\",0.74,6.461,93.3,2.0026,24,666,20.2,27.49,18.05,9.6\\n15.1772,0,18.1,\"0\",0.74,6.152,100,1.9142,24,666,20.2,9.32,26.45,8.7\\n13.6781,0,18.1,\"0\",0.74,5.935,87.9,1.8206,24,666,20.2,68.95,34.02,8.4\\n9.39063,0,18.1,\"0\",0.74,5.627,93.9,1.8172,24,666,20.2,396.9,22.88,12.8\\n22.0511,0,18.1,\"0\",0.74,5.818,92.4,1.8662,24,666,20.2,391.45,22.11,10.5\\n9.72418,0,18.1,\"0\",0.74,6.406,97.2,2.0651,24,666,20.2,385.96,19.52,17.1\\n5.66637,0,18.1,\"0\",0.74,6.219,100,2.0048,24,666,20.2,395.69,16.59,18.4\\n9.96654,0,18.1,\"0\",0.74,6.485,100,1.9784,24,666,20.2,386.73,18.85,15.4\\n12.8023,0,18.1,\"0\",0.74,5.854,96.6,1.8956,24,666,20.2,240.52,23.79,10.8\\n10.6718,0,18.1,\"0\",0.74,6.459,94.8,1.9879,24,666,20.2,43.06,23.98,11.8\\n6.28807,0,18.1,\"0\",0.74,6.341,96.4,2.072,24,666,20.2,318.01,17.79,14.9\\n9.92485,0,18.1,\"0\",0.74,6.251,96.6,2.198,24,666,20.2,388.52,16.44,12.6\\n9.32909,0,18.1,\"0\",0.713,6.185,98.7,2.2616,24,666,20.2,396.9,18.13,14.1\\n7.52601,0,18.1,\"0\",0.713,6.417,98.3,2.185,24,666,20.2,304.21,19.31,13\\n6.71772,0,18.1,\"0\",0.713,6.749,92.6,2.3236,24,666,20.2,0.32,17.44,13.4\\n5.44114,0,18.1,\"0\",0.713,6.655,98.2,2.3552,24,666,20.2,355.29,17.73,15.2\\n5.09017,0,18.1,\"0\",0.713,6.297,91.8,2.3682,24,666,20.2,385.09,17.27,16.1\\n8.24809,0,18.1,\"0\",0.713,7.393,99.3,2.4527,24,666,20.2,375.87,16.74,17.8\\n9.51363,0,18.1,\"0\",0.713,6.728,94.1,2.4961,24,666,20.2,6.68,18.71,14.9\\n4.75237,0,18.1,\"0\",0.713,6.525,86.5,2.4358,24,666,20.2,50.92,18.13,14.1\\n4.66883,0,18.1,\"0\",0.713,5.976,87.9,2.5806,24,666,20.2,10.48,19.01,12.7\\n8.20058,0,18.1,\"0\",0.713,5.936,80.3,2.7792,24,666,20.2,3.5,16.94,13.5\\n7.75223,0,18.1,\"0\",0.713,6.301,83.7,2.7831,24,666,20.2,272.21,16.23,14.9\\n6.80117,0,18.1,\"0\",0.713,6.081,84.4,2.7175,24,666,20.2,396.9,14.7,20\\n4.81213,0,18.1,\"0\",0.713,6.701,90,2.5975,24,666,20.2,255.23,16.42,16.4\\n3.69311,0,18.1,\"0\",0.713,6.376,88.4,2.5671,24,666,20.2,391.43,14.65,17.7\\n6.65492,0,18.1,\"0\",0.713,6.317,83,2.7344,24,666,20.2,396.9,13.99,19.5\\n5.82115,0,18.1,\"0\",0.713,6.513,89.9,2.8016,24,666,20.2,393.82,10.29,20.2\\n7.83932,0,18.1,\"0\",0.655,6.209,65.4,2.9634,24,666,20.2,396.9,13.22,21.4\\n3.1636,0,18.1,\"0\",0.655,5.759,48.2,3.0665,24,666,20.2,334.4,14.13,19.9\\n3.77498,0,18.1,\"0\",0.655,5.952,84.7,2.8715,24,666,20.2,22.01,17.15,19\\n4.42228,0,18.1,\"0\",0.584,6.003,94.5,2.5403,24,666,20.2,331.29,21.32,19.1\\n15.5757,0,18.1,\"0\",0.58,5.926,71,2.9084,24,666,20.2,368.74,18.13,19.1\\n13.0751,0,18.1,\"0\",0.58,5.713,56.7,2.8237,24,666,20.2,396.9,14.76,20.1\\n4.34879,0,18.1,\"0\",0.58,6.167,84,3.0334,24,666,20.2,396.9,16.29,19.9\\n4.03841,0,18.1,\"0\",0.532,6.229,90.7,3.0993,24,666,20.2,395.33,12.87,19.6\\n3.56868,0,18.1,\"0\",0.58,6.437,75,2.8965,24,666,20.2,393.37,14.36,23.2\\n4.64689,0,18.1,\"0\",0.614,6.98,67.6,2.5329,24,666,20.2,374.68,11.66,29.8\\n8.05579,0,18.1,\"0\",0.584,5.427,95.4,2.4298,24,666,20.2,352.58,18.14,13.8\\n6.39312,0,18.1,\"0\",0.584,6.162,97.4,2.206,24,666,20.2,302.76,24.1,13.3\\n4.87141,0,18.1,\"0\",0.614,6.484,93.6,2.3053,24,666,20.2,396.21,18.68,16.7\\n15.0234,0,18.1,\"0\",0.614,5.304,97.3,2.1007,24,666,20.2,349.48,24.91,12\\n10.233,0,18.1,\"0\",0.614,6.185,96.7,2.1705,24,666,20.2,379.7,18.03,14.6\\n14.3337,0,18.1,\"0\",0.614,6.229,88,1.9512,24,666,20.2,383.32,13.11,21.4\\n5.82401,0,18.1,\"0\",0.532,6.242,64.7,3.4242,24,666,20.2,396.9,10.74,23\\n5.70818,0,18.1,\"0\",0.532,6.75,74.9,3.3317,24,666,20.2,393.07,7.74,23.7\\n5.73116,0,18.1,\"0\",0.532,7.061,77,3.4106,24,666,20.2,395.28,7.01,25\\n2.81838,0,18.1,\"0\",0.532,5.762,40.3,4.0983,24,666,20.2,392.92,10.42,21.8\\n2.37857,0,18.1,\"0\",0.583,5.871,41.9,3.724,24,666,20.2,370.73,13.34,20.6\\n3.67367,0,18.1,\"0\",0.583,6.312,51.9,3.9917,24,666,20.2,388.62,10.58,21.2\\n5.69175,0,18.1,\"0\",0.583,6.114,79.8,3.5459,24,666,20.2,392.68,14.98,19.1\\n4.83567,0,18.1,\"0\",0.583,5.905,53.2,3.1523,24,666,20.2,388.22,11.45,20.6\\n0.15086,0,27.74,\"0\",0.609,5.454,92.7,1.8209,4,711,20.1,395.09,18.06,15.2\\n0.18337,0,27.74,\"0\",0.609,5.414,98.3,1.7554,4,711,20.1,344.05,23.97,7\\n0.20746,0,27.74,\"0\",0.609,5.093,98,1.8226,4,711,20.1,318.43,29.68,8.1\\n0.10574,0,27.74,\"0\",0.609,5.983,98.8,1.8681,4,711,20.1,390.11,18.07,13.6\\n0.11132,0,27.74,\"0\",0.609,5.983,83.5,2.1099,4,711,20.1,396.9,13.35,20.1\\n0.17331,0,9.69,\"0\",0.585,5.707,54,2.3817,6,391,19.2,396.9,12.01,21.8\\n0.27957,0,9.69,\"0\",0.585,5.926,42.6,2.3817,6,391,19.2,396.9,13.59,24.5\\n0.17899,0,9.69,\"0\",0.585,5.67,28.8,2.7986,6,391,19.2,393.29,17.6,23.1\\n0.2896,0,9.69,\"0\",0.585,5.39,72.9,2.7986,6,391,19.2,396.9,21.14,19.7\\n0.26838,0,9.69,\"0\",0.585,5.794,70.6,2.8927,6,391,19.2,396.9,14.1,18.3\\n0.23912,0,9.69,\"0\",0.585,6.019,65.3,2.4091,6,391,19.2,396.9,12.92,21.2\\n0.17783,0,9.69,\"0\",0.585,5.569,73.5,2.3999,6,391,19.2,395.77,15.1,17.5\\n0.22438,0,9.69,\"0\",0.585,6.027,79.7,2.4982,6,391,19.2,396.9,14.33,16.8\\n0.06263,0,11.93,\"0\",0.573,6.593,69.1,2.4786,1,273,21,391.99,9.67,22.4\\n0.04527,0,11.93,\"0\",0.573,6.12,76.7,2.2875,1,273,21,396.9,9.08,20.6\\n0.06076,0,11.93,\"0\",0.573,6.976,91,2.1675,1,273,21,396.9,5.64,23.9\\n0.10959,0,11.93,\"0\",0.573,6.794,89.3,2.3889,1,273,21,393.45,6.48,22\\n0.04741,0,11.93,\"0\",0.573,6.03,80.8,2.505,1,273,21,396.9,7.88,11.9\\n'}"
            ]
          },
          "metadata": {},
          "execution_count": 5
        }
      ]
    },
    {
      "cell_type": "code",
      "source": [
        "from pyspark.ml.feature import VectorAssembler\n",
        "from pyspark.ml.regression import LinearRegression\n",
        "\n",
        "dataset = spark.read.csv('BostonHousing.csv', inferSchema=True,header =True)"
      ],
      "metadata": {
        "id": "aTfOscAaIzWs"
      },
      "execution_count": null,
      "outputs": []
    },
    {
      "cell_type": "code",
      "source": [
        "dataset.printSchema()"
      ],
      "metadata": {
        "colab": {
          "base_uri": "https://localhost:8080/"
        },
        "id": "EDe-jB9_I7Sv",
        "outputId": "75c11876-6070-4703-a7d6-021319d2f59b"
      },
      "execution_count": null,
      "outputs": [
        {
          "output_type": "stream",
          "name": "stdout",
          "text": [
            "root\n",
            " |-- crim: double (nullable = true)\n",
            " |-- zn: double (nullable = true)\n",
            " |-- indus: double (nullable = true)\n",
            " |-- chas: integer (nullable = true)\n",
            " |-- nox: double (nullable = true)\n",
            " |-- rm: double (nullable = true)\n",
            " |-- age: double (nullable = true)\n",
            " |-- dis: double (nullable = true)\n",
            " |-- rad: integer (nullable = true)\n",
            " |-- tax: integer (nullable = true)\n",
            " |-- ptratio: double (nullable = true)\n",
            " |-- b: double (nullable = true)\n",
            " |-- lstat: double (nullable = true)\n",
            " |-- medv: double (nullable = true)\n",
            "\n"
          ]
        }
      ]
    },
    {
      "cell_type": "code",
      "source": [
        "assembler = VectorAssembler(inputCols=['crim', 'zn', 'indus', 'chas', 'nox', 'rm', 'age', 'dis', 'rad', 'tax', 'ptratio', 'b', 'lstat'], outputCol = 'Attributes')"
      ],
      "metadata": {
        "id": "C-IJJGdkI_GY"
      },
      "execution_count": null,
      "outputs": []
    },
    {
      "cell_type": "code",
      "source": [
        "output = assembler.transform(dataset)"
      ],
      "metadata": {
        "id": "gTtHlc2gJFGu"
      },
      "execution_count": null,
      "outputs": []
    },
    {
      "cell_type": "code",
      "source": [
        "finalized_data = output.select(\"Attributes\",\"medv\")\n",
        "\n",
        "finalized_data.show()"
      ],
      "metadata": {
        "colab": {
          "base_uri": "https://localhost:8080/"
        },
        "id": "qqxSdpj3JJcI",
        "outputId": "7bbe3359-7b2a-46a4-8bc0-f75df8d1f709"
      },
      "execution_count": null,
      "outputs": [
        {
          "output_type": "stream",
          "name": "stdout",
          "text": [
            "+--------------------+----+\n",
            "|          Attributes|medv|\n",
            "+--------------------+----+\n",
            "|[0.00632,18.0,2.3...|24.0|\n",
            "|[0.02731,0.0,7.07...|21.6|\n",
            "|[0.02729,0.0,7.07...|34.7|\n",
            "|[0.03237,0.0,2.18...|33.4|\n",
            "|[0.06905,0.0,2.18...|36.2|\n",
            "|[0.02985,0.0,2.18...|28.7|\n",
            "|[0.08829,12.5,7.8...|22.9|\n",
            "|[0.14455,12.5,7.8...|27.1|\n",
            "|[0.21124,12.5,7.8...|16.5|\n",
            "|[0.17004,12.5,7.8...|18.9|\n",
            "|[0.22489,12.5,7.8...|15.0|\n",
            "|[0.11747,12.5,7.8...|18.9|\n",
            "|[0.09378,12.5,7.8...|21.7|\n",
            "|[0.62976,0.0,8.14...|20.4|\n",
            "|[0.63796,0.0,8.14...|18.2|\n",
            "|[0.62739,0.0,8.14...|19.9|\n",
            "|[1.05393,0.0,8.14...|23.1|\n",
            "|[0.7842,0.0,8.14,...|17.5|\n",
            "|[0.80271,0.0,8.14...|20.2|\n",
            "|[0.7258,0.0,8.14,...|18.2|\n",
            "+--------------------+----+\n",
            "only showing top 20 rows\n",
            "\n"
          ]
        }
      ]
    },
    {
      "cell_type": "code",
      "source": [
        "train_data,test_data = finalized_data.randomSplit([0.8,0.2])\n",
        "\n",
        "regressor = LinearRegression(featuresCol = 'Attributes', labelCol = 'medv')\n",
        "\n",
        "#Learn to fit the model from training set\n",
        "regressor = regressor.fit(train_data)\n",
        "\n",
        "#To predict the prices on testing set\n",
        "pred = regressor.evaluate(test_data)\n",
        "\n",
        "#Predict the model\n",
        "pred.predictions.show()"
      ],
      "metadata": {
        "colab": {
          "base_uri": "https://localhost:8080/"
        },
        "id": "J9NdrqC2JPQ_",
        "outputId": "2259f476-7973-4580-cee4-3bc8d501fcc1"
      },
      "execution_count": null,
      "outputs": [
        {
          "output_type": "stream",
          "name": "stdout",
          "text": [
            "+--------------------+----+------------------+\n",
            "|          Attributes|medv|        prediction|\n",
            "+--------------------+----+------------------+\n",
            "|[0.01301,35.0,1.5...|32.7|30.337733352170574|\n",
            "|[0.0136,75.0,4.0,...|18.9|15.297644198072028|\n",
            "|[0.01439,60.0,2.9...|29.1|31.568957917552787|\n",
            "|[0.02187,60.0,2.9...|31.1|   32.233326102606|\n",
            "|[0.02985,0.0,2.18...|28.7|25.007414104319807|\n",
            "|[0.03113,0.0,4.39...|17.5|16.546182546327046|\n",
            "|[0.0315,95.0,1.47...|34.9|29.803227787368996|\n",
            "|[0.03306,0.0,5.19...|20.6|22.133049837195962|\n",
            "|[0.04294,28.0,15....|20.6| 27.09860824466607|\n",
            "|[0.04379,80.0,3.3...|19.4|25.730327798826455|\n",
            "|[0.04527,0.0,11.9...|20.6| 21.82785067859745|\n",
            "|[0.04544,0.0,3.24...|19.8|21.337595291275235|\n",
            "|[0.0459,52.5,5.32...|22.3|27.367905771016346|\n",
            "|[0.05023,35.0,6.0...|17.1|20.360726302040646|\n",
            "|[0.05188,0.0,4.49...|22.5| 22.54149417856862|\n",
            "|[0.0536,21.0,5.64...|25.0|27.750398775297086|\n",
            "|[0.05479,33.0,2.1...|28.4|30.908102876011277|\n",
            "|[0.05515,33.0,2.1...|36.1| 33.38034009221437|\n",
            "|[0.05602,0.0,2.46...|50.0| 35.83261908713351|\n",
            "|[0.05646,0.0,12.8...|21.2| 21.28844200188349|\n",
            "+--------------------+----+------------------+\n",
            "only showing top 20 rows\n",
            "\n"
          ]
        }
      ]
    },
    {
      "cell_type": "code",
      "source": [
        "from google.colab import files\n",
        "files.upload()"
      ],
      "metadata": {
        "colab": {
          "base_uri": "https://localhost:8080/",
          "height": 1000
        },
        "id": "kz38-4t-JcKX",
        "outputId": "88ae38d6-af43-48e1-fb04-3433b9951fb5"
      },
      "execution_count": null,
      "outputs": [
        {
          "output_type": "display_data",
          "data": {
            "text/plain": [
              "<IPython.core.display.HTML object>"
            ],
            "text/html": [
              "\n",
              "     <input type=\"file\" id=\"files-f6febb41-7a3e-42bf-9327-2a89202f33fe\" name=\"files[]\" multiple disabled\n",
              "        style=\"border:none\" />\n",
              "     <output id=\"result-f6febb41-7a3e-42bf-9327-2a89202f33fe\">\n",
              "      Upload widget is only available when the cell has been executed in the\n",
              "      current browser session. Please rerun this cell to enable.\n",
              "      </output>\n",
              "      <script>// Copyright 2017 Google LLC\n",
              "//\n",
              "// Licensed under the Apache License, Version 2.0 (the \"License\");\n",
              "// you may not use this file except in compliance with the License.\n",
              "// You may obtain a copy of the License at\n",
              "//\n",
              "//      http://www.apache.org/licenses/LICENSE-2.0\n",
              "//\n",
              "// Unless required by applicable law or agreed to in writing, software\n",
              "// distributed under the License is distributed on an \"AS IS\" BASIS,\n",
              "// WITHOUT WARRANTIES OR CONDITIONS OF ANY KIND, either express or implied.\n",
              "// See the License for the specific language governing permissions and\n",
              "// limitations under the License.\n",
              "\n",
              "/**\n",
              " * @fileoverview Helpers for google.colab Python module.\n",
              " */\n",
              "(function(scope) {\n",
              "function span(text, styleAttributes = {}) {\n",
              "  const element = document.createElement('span');\n",
              "  element.textContent = text;\n",
              "  for (const key of Object.keys(styleAttributes)) {\n",
              "    element.style[key] = styleAttributes[key];\n",
              "  }\n",
              "  return element;\n",
              "}\n",
              "\n",
              "// Max number of bytes which will be uploaded at a time.\n",
              "const MAX_PAYLOAD_SIZE = 100 * 1024;\n",
              "\n",
              "function _uploadFiles(inputId, outputId) {\n",
              "  const steps = uploadFilesStep(inputId, outputId);\n",
              "  const outputElement = document.getElementById(outputId);\n",
              "  // Cache steps on the outputElement to make it available for the next call\n",
              "  // to uploadFilesContinue from Python.\n",
              "  outputElement.steps = steps;\n",
              "\n",
              "  return _uploadFilesContinue(outputId);\n",
              "}\n",
              "\n",
              "// This is roughly an async generator (not supported in the browser yet),\n",
              "// where there are multiple asynchronous steps and the Python side is going\n",
              "// to poll for completion of each step.\n",
              "// This uses a Promise to block the python side on completion of each step,\n",
              "// then passes the result of the previous step as the input to the next step.\n",
              "function _uploadFilesContinue(outputId) {\n",
              "  const outputElement = document.getElementById(outputId);\n",
              "  const steps = outputElement.steps;\n",
              "\n",
              "  const next = steps.next(outputElement.lastPromiseValue);\n",
              "  return Promise.resolve(next.value.promise).then((value) => {\n",
              "    // Cache the last promise value to make it available to the next\n",
              "    // step of the generator.\n",
              "    outputElement.lastPromiseValue = value;\n",
              "    return next.value.response;\n",
              "  });\n",
              "}\n",
              "\n",
              "/**\n",
              " * Generator function which is called between each async step of the upload\n",
              " * process.\n",
              " * @param {string} inputId Element ID of the input file picker element.\n",
              " * @param {string} outputId Element ID of the output display.\n",
              " * @return {!Iterable<!Object>} Iterable of next steps.\n",
              " */\n",
              "function* uploadFilesStep(inputId, outputId) {\n",
              "  const inputElement = document.getElementById(inputId);\n",
              "  inputElement.disabled = false;\n",
              "\n",
              "  const outputElement = document.getElementById(outputId);\n",
              "  outputElement.innerHTML = '';\n",
              "\n",
              "  const pickedPromise = new Promise((resolve) => {\n",
              "    inputElement.addEventListener('change', (e) => {\n",
              "      resolve(e.target.files);\n",
              "    });\n",
              "  });\n",
              "\n",
              "  const cancel = document.createElement('button');\n",
              "  inputElement.parentElement.appendChild(cancel);\n",
              "  cancel.textContent = 'Cancel upload';\n",
              "  const cancelPromise = new Promise((resolve) => {\n",
              "    cancel.onclick = () => {\n",
              "      resolve(null);\n",
              "    };\n",
              "  });\n",
              "\n",
              "  // Wait for the user to pick the files.\n",
              "  const files = yield {\n",
              "    promise: Promise.race([pickedPromise, cancelPromise]),\n",
              "    response: {\n",
              "      action: 'starting',\n",
              "    }\n",
              "  };\n",
              "\n",
              "  cancel.remove();\n",
              "\n",
              "  // Disable the input element since further picks are not allowed.\n",
              "  inputElement.disabled = true;\n",
              "\n",
              "  if (!files) {\n",
              "    return {\n",
              "      response: {\n",
              "        action: 'complete',\n",
              "      }\n",
              "    };\n",
              "  }\n",
              "\n",
              "  for (const file of files) {\n",
              "    const li = document.createElement('li');\n",
              "    li.append(span(file.name, {fontWeight: 'bold'}));\n",
              "    li.append(span(\n",
              "        `(${file.type || 'n/a'}) - ${file.size} bytes, ` +\n",
              "        `last modified: ${\n",
              "            file.lastModifiedDate ? file.lastModifiedDate.toLocaleDateString() :\n",
              "                                    'n/a'} - `));\n",
              "    const percent = span('0% done');\n",
              "    li.appendChild(percent);\n",
              "\n",
              "    outputElement.appendChild(li);\n",
              "\n",
              "    const fileDataPromise = new Promise((resolve) => {\n",
              "      const reader = new FileReader();\n",
              "      reader.onload = (e) => {\n",
              "        resolve(e.target.result);\n",
              "      };\n",
              "      reader.readAsArrayBuffer(file);\n",
              "    });\n",
              "    // Wait for the data to be ready.\n",
              "    let fileData = yield {\n",
              "      promise: fileDataPromise,\n",
              "      response: {\n",
              "        action: 'continue',\n",
              "      }\n",
              "    };\n",
              "\n",
              "    // Use a chunked sending to avoid message size limits. See b/62115660.\n",
              "    let position = 0;\n",
              "    do {\n",
              "      const length = Math.min(fileData.byteLength - position, MAX_PAYLOAD_SIZE);\n",
              "      const chunk = new Uint8Array(fileData, position, length);\n",
              "      position += length;\n",
              "\n",
              "      const base64 = btoa(String.fromCharCode.apply(null, chunk));\n",
              "      yield {\n",
              "        response: {\n",
              "          action: 'append',\n",
              "          file: file.name,\n",
              "          data: base64,\n",
              "        },\n",
              "      };\n",
              "\n",
              "      let percentDone = fileData.byteLength === 0 ?\n",
              "          100 :\n",
              "          Math.round((position / fileData.byteLength) * 100);\n",
              "      percent.textContent = `${percentDone}% done`;\n",
              "\n",
              "    } while (position < fileData.byteLength);\n",
              "  }\n",
              "\n",
              "  // All done.\n",
              "  yield {\n",
              "    response: {\n",
              "      action: 'complete',\n",
              "    }\n",
              "  };\n",
              "}\n",
              "\n",
              "scope.google = scope.google || {};\n",
              "scope.google.colab = scope.google.colab || {};\n",
              "scope.google.colab._files = {\n",
              "  _uploadFiles,\n",
              "  _uploadFilesContinue,\n",
              "};\n",
              "})(self);\n",
              "</script> "
            ]
          },
          "metadata": {}
        },
        {
          "output_type": "stream",
          "name": "stdout",
          "text": [
            "Saving titanic.csv to titanic.csv\n"
          ]
        },
        {
          "output_type": "execute_result",
          "data": {
            "text/plain": [
              "{'titanic.csv': b'PassengerId,Survived,Pclass,Name,Gender,Age,SibSp,Parch,Ticket,Fare,Cabin,Embarked\\r\\n1,0,3,\"Braund, Mr. Owen Harris\",male,22,1,0,A/5 21171,7.25,,S\\r\\n2,1,1,\"Cumings, Mrs. John Bradley (Florence Briggs Thayer)\",female,38,1,0,PC 17599,71.2833,C85,C\\r\\n3,1,3,\"Heikkinen, Miss. Laina\",female,26,0,0,STON/O2. 3101282,7.925,,S\\r\\n4,1,1,\"Futrelle, Mrs. Jacques Heath (Lily May Peel)\",female,35,1,0,113803,53.1,C123,S\\r\\n5,0,3,\"Allen, Mr. William Henry\",male,35,0,0,373450,8.05,,S\\r\\n6,0,3,\"Moran, Mr. James\",male,,0,0,330877,8.4583,,Q\\r\\n7,0,1,\"McCarthy, Mr. Timothy J\",male,54,0,0,17463,51.8625,E46,S\\r\\n8,0,3,\"Palsson, Master. Gosta Leonard\",male,2,3,1,349909,21.075,,S\\r\\n9,1,3,\"Johnson, Mrs. Oscar W (Elisabeth Vilhelmina Berg)\",female,27,0,2,347742,11.1333,,S\\r\\n10,1,2,\"Nasser, Mrs. Nicholas (Adele Achem)\",female,14,1,0,237736,30.0708,,C\\r\\n11,1,3,\"Sandstrom, Miss. Marguerite Rut\",female,4,1,1,PP 9549,16.7,G6,S\\r\\n12,1,1,\"Bonnell, Miss. Elizabeth\",female,58,0,0,113783,26.55,C103,S\\r\\n13,0,3,\"Saundercock, Mr. William Henry\",male,20,0,0,A/5. 2151,8.05,,S\\r\\n14,0,3,\"Andersson, Mr. Anders Johan\",male,39,1,5,347082,31.275,,S\\r\\n15,0,3,\"Vestrom, Miss. Hulda Amanda Adolfina\",female,14,0,0,350406,7.8542,,S\\r\\n16,1,2,\"Hewlett, Mrs. (Mary D Kingcome) \",female,55,0,0,248706,16,,S\\r\\n17,0,3,\"Rice, Master. Eugene\",male,2,4,1,382652,29.125,,Q\\r\\n18,1,2,\"Williams, Mr. Charles Eugene\",male,,0,0,244373,13,,S\\r\\n19,0,3,\"Vander Planke, Mrs. Julius (Emelia Maria Vandemoortele)\",female,31,1,0,345763,18,,S\\r\\n20,1,3,\"Masselmani, Mrs. Fatima\",female,,0,0,2649,7.225,,C\\r\\n21,0,2,\"Fynney, Mr. Joseph J\",male,35,0,0,239865,26,,S\\r\\n22,1,2,\"Beesley, Mr. Lawrence\",male,34,0,0,248698,13,D56,S\\r\\n23,1,3,\"McGowan, Miss. Anna \"\"Annie\"\"\",female,15,0,0,330923,8.0292,,Q\\r\\n24,1,1,\"Sloper, Mr. William Thompson\",male,28,0,0,113788,35.5,A6,S\\r\\n25,0,3,\"Palsson, Miss. Torborg Danira\",female,8,3,1,349909,21.075,,S\\r\\n26,1,3,\"Asplund, Mrs. Carl Oscar (Selma Augusta Emilia Johansson)\",female,38,1,5,347077,31.3875,,S\\r\\n27,0,3,\"Emir, Mr. Farred Chehab\",male,,0,0,2631,7.225,,C\\r\\n28,0,1,\"Fortune, Mr. Charles Alexander\",male,19,3,2,19950,263,C23 C25 C27,S\\r\\n29,1,3,\"O\\'Dwyer, Miss. Ellen \"\"Nellie\"\"\",female,,0,0,330959,7.8792,,Q\\r\\n30,0,3,\"Todoroff, Mr. Lalio\",male,,0,0,349216,7.8958,,S\\r\\n31,0,1,\"Uruchurtu, Don. Manuel E\",male,40,0,0,PC 17601,27.7208,,C\\r\\n32,1,1,\"Spencer, Mrs. William Augustus (Marie Eugenie)\",female,,1,0,PC 17569,146.5208,B78,C\\r\\n33,1,3,\"Glynn, Miss. Mary Agatha\",female,,0,0,335677,7.75,,Q\\r\\n34,0,2,\"Wheadon, Mr. Edward H\",male,66,0,0,C.A. 24579,10.5,,S\\r\\n35,0,1,\"Meyer, Mr. Edgar Joseph\",male,28,1,0,PC 17604,82.1708,,C\\r\\n36,0,1,\"Holverson, Mr. Alexander Oskar\",male,42,1,0,113789,52,,S\\r\\n37,1,3,\"Mamee, Mr. Hanna\",male,,0,0,2677,7.2292,,C\\r\\n38,0,3,\"Cann, Mr. Ernest Charles\",male,21,0,0,A./5. 2152,8.05,,S\\r\\n39,0,3,\"Vander Planke, Miss. Augusta Maria\",female,18,2,0,345764,18,,S\\r\\n40,1,3,\"Nicola-Yarred, Miss. Jamila\",female,14,1,0,2651,11.2417,,C\\r\\n41,0,3,\"Ahlin, Mrs. Johan (Johanna Persdotter Larsson)\",female,40,1,0,7546,9.475,,S\\r\\n42,0,2,\"Turpin, Mrs. William John Robert (Dorothy Ann Wonnacott)\",female,27,1,0,11668,21,,S\\r\\n43,0,3,\"Kraeff, Mr. Theodor\",male,,0,0,349253,7.8958,,C\\r\\n44,1,2,\"Laroche, Miss. Simonne Marie Anne Andree\",female,3,1,2,SC/Paris 2123,41.5792,,C\\r\\n45,1,3,\"Devaney, Miss. Margaret Delia\",female,19,0,0,330958,7.8792,,Q\\r\\n46,0,3,\"Rogers, Mr. William John\",male,,0,0,S.C./A.4. 23567,8.05,,S\\r\\n47,0,3,\"Lennon, Mr. Denis\",male,,1,0,370371,15.5,,Q\\r\\n48,1,3,\"O\\'Driscoll, Miss. Bridget\",female,,0,0,14311,7.75,,Q\\r\\n49,0,3,\"Samaan, Mr. Youssef\",male,,2,0,2662,21.6792,,C\\r\\n50,0,3,\"Arnold-Franchi, Mrs. Josef (Josefine Franchi)\",female,18,1,0,349237,17.8,,S\\r\\n51,0,3,\"Panula, Master. Juha Niilo\",male,7,4,1,3101295,39.6875,,S\\r\\n52,0,3,\"Nosworthy, Mr. Richard Cater\",male,21,0,0,A/4. 39886,7.8,,S\\r\\n53,1,1,\"Harper, Mrs. Henry Sleeper (Myna Haxtun)\",female,49,1,0,PC 17572,76.7292,D33,C\\r\\n54,1,2,\"Faunthorpe, Mrs. Lizzie (Elizabeth Anne Wilkinson)\",female,29,1,0,2926,26,,S\\r\\n55,0,1,\"Ostby, Mr. Engelhart Cornelius\",male,65,0,1,113509,61.9792,B30,C\\r\\n56,1,1,\"Woolner, Mr. Hugh\",male,,0,0,19947,35.5,C52,S\\r\\n57,1,2,\"Rugg, Miss. Emily\",female,21,0,0,C.A. 31026,10.5,,S\\r\\n58,0,3,\"Novel, Mr. Mansouer\",male,28.5,0,0,2697,7.2292,,C\\r\\n59,1,2,\"West, Miss. Constance Mirium\",female,5,1,2,C.A. 34651,27.75,,S\\r\\n60,0,3,\"Goodwin, Master. William Frederick\",male,11,5,2,CA 2144,46.9,,S\\r\\n61,0,3,\"Sirayanian, Mr. Orsen\",male,22,0,0,2669,7.2292,,C\\r\\n62,1,1,\"Icard, Miss. Amelie\",female,38,0,0,113572,80,B28,\\r\\n63,0,1,\"Harris, Mr. Henry Birkhardt\",male,45,1,0,36973,83.475,C83,S\\r\\n64,0,3,\"Skoog, Master. Harald\",male,4,3,2,347088,27.9,,S\\r\\n65,0,1,\"Stewart, Mr. Albert A\",male,,0,0,PC 17605,27.7208,,C\\r\\n66,1,3,\"Moubarek, Master. Gerios\",male,,1,1,2661,15.2458,,C\\r\\n67,1,2,\"Nye, Mrs. (Elizabeth Ramell)\",female,29,0,0,C.A. 29395,10.5,F33,S\\r\\n68,0,3,\"Crease, Mr. Ernest James\",male,19,0,0,S.P. 3464,8.1583,,S\\r\\n69,1,3,\"Andersson, Miss. Erna Alexandra\",female,17,4,2,3101281,7.925,,S\\r\\n70,0,3,\"Kink, Mr. Vincenz\",male,26,2,0,315151,8.6625,,S\\r\\n71,0,2,\"Jenkin, Mr. Stephen Curnow\",male,32,0,0,C.A. 33111,10.5,,S\\r\\n72,0,3,\"Goodwin, Miss. Lillian Amy\",female,16,5,2,CA 2144,46.9,,S\\r\\n73,0,2,\"Hood, Mr. Ambrose Jr\",male,21,0,0,S.O.C. 14879,73.5,,S\\r\\n74,0,3,\"Chronopoulos, Mr. Apostolos\",male,26,1,0,2680,14.4542,,C\\r\\n75,1,3,\"Bing, Mr. Lee\",male,32,0,0,1601,56.4958,,S\\r\\n76,0,3,\"Moen, Mr. Sigurd Hansen\",male,25,0,0,348123,7.65,F G73,S\\r\\n77,0,3,\"Staneff, Mr. Ivan\",male,,0,0,349208,7.8958,,S\\r\\n78,0,3,\"Moutal, Mr. Rahamin Haim\",male,,0,0,374746,8.05,,S\\r\\n79,1,2,\"Caldwell, Master. Alden Gates\",male,0.83,0,2,248738,29,,S\\r\\n80,1,3,\"Dowdell, Miss. Elizabeth\",female,30,0,0,364516,12.475,,S\\r\\n81,0,3,\"Waelens, Mr. Achille\",male,22,0,0,345767,9,,S\\r\\n82,1,3,\"Sheerlinck, Mr. Jan Baptist\",male,29,0,0,345779,9.5,,S\\r\\n83,1,3,\"McDermott, Miss. Brigdet Delia\",female,,0,0,330932,7.7875,,Q\\r\\n84,0,1,\"Carrau, Mr. Francisco M\",male,28,0,0,113059,47.1,,S\\r\\n85,1,2,\"Ilett, Miss. Bertha\",female,17,0,0,SO/C 14885,10.5,,S\\r\\n86,1,3,\"Backstrom, Mrs. Karl Alfred (Maria Mathilda Gustafsson)\",female,33,3,0,3101278,15.85,,S\\r\\n87,0,3,\"Ford, Mr. William Neal\",male,16,1,3,W./C. 6608,34.375,,S\\r\\n88,0,3,\"Slocovski, Mr. Selman Francis\",male,,0,0,SOTON/OQ 392086,8.05,,S\\r\\n89,1,1,\"Fortune, Miss. Mabel Helen\",female,23,3,2,19950,263,C23 C25 C27,S\\r\\n90,0,3,\"Celotti, Mr. Francesco\",male,24,0,0,343275,8.05,,S\\r\\n91,0,3,\"Christmann, Mr. Emil\",male,29,0,0,343276,8.05,,S\\r\\n92,0,3,\"Andreasson, Mr. Paul Edvin\",male,20,0,0,347466,7.8542,,S\\r\\n93,0,1,\"Chaffee, Mr. Herbert Fuller\",male,46,1,0,W.E.P. 5734,61.175,E31,S\\r\\n94,0,3,\"Dean, Mr. Bertram Frank\",male,26,1,2,C.A. 2315,20.575,,S\\r\\n95,0,3,\"Coxon, Mr. Daniel\",male,59,0,0,364500,7.25,,S\\r\\n96,0,3,\"Shorney, Mr. Charles Joseph\",male,,0,0,374910,8.05,,S\\r\\n97,0,1,\"Goldschmidt, Mr. George B\",male,71,0,0,PC 17754,34.6542,A5,C\\r\\n98,1,1,\"Greenfield, Mr. William Bertram\",male,23,0,1,PC 17759,63.3583,D10 D12,C\\r\\n99,1,2,\"Doling, Mrs. John T (Ada Julia Bone)\",female,34,0,1,231919,23,,S\\r\\n100,0,2,\"Kantor, Mr. Sinai\",male,34,1,0,244367,26,,S\\r\\n101,0,3,\"Petranec, Miss. Matilda\",female,28,0,0,349245,7.8958,,S\\r\\n102,0,3,\"Petroff, Mr. Pastcho (\"\"Pentcho\"\")\",male,,0,0,349215,7.8958,,S\\r\\n103,0,1,\"White, Mr. Richard Frasar\",male,21,0,1,35281,77.2875,D26,S\\r\\n104,0,3,\"Johansson, Mr. Gustaf Joel\",male,33,0,0,7540,8.6542,,S\\r\\n105,0,3,\"Gustafsson, Mr. Anders Vilhelm\",male,37,2,0,3101276,7.925,,S\\r\\n106,0,3,\"Mionoff, Mr. Stoytcho\",male,28,0,0,349207,7.8958,,S\\r\\n107,1,3,\"Salkjelsvik, Miss. Anna Kristine\",female,21,0,0,343120,7.65,,S\\r\\n108,1,3,\"Moss, Mr. Albert Johan\",male,,0,0,312991,7.775,,S\\r\\n109,0,3,\"Rekic, Mr. Tido\",male,38,0,0,349249,7.8958,,S\\r\\n110,1,3,\"Moran, Miss. Bertha\",female,,1,0,371110,24.15,,Q\\r\\n111,0,1,\"Porter, Mr. Walter Chamberlain\",male,47,0,0,110465,52,C110,S\\r\\n112,0,3,\"Zabour, Miss. Hileni\",female,14.5,1,0,2665,14.4542,,C\\r\\n113,0,3,\"Barton, Mr. David John\",male,22,0,0,324669,8.05,,S\\r\\n114,0,3,\"Jussila, Miss. Katriina\",female,20,1,0,4136,9.825,,S\\r\\n115,0,3,\"Attalah, Miss. Malake\",female,17,0,0,2627,14.4583,,C\\r\\n116,0,3,\"Pekoniemi, Mr. Edvard\",male,21,0,0,STON/O 2. 3101294,7.925,,S\\r\\n117,0,3,\"Connors, Mr. Patrick\",male,70.5,0,0,370369,7.75,,Q\\r\\n118,0,2,\"Turpin, Mr. William John Robert\",male,29,1,0,11668,21,,S\\r\\n119,0,1,\"Baxter, Mr. Quigg Edmond\",male,24,0,1,PC 17558,247.5208,B58 B60,C\\r\\n120,0,3,\"Andersson, Miss. Ellis Anna Maria\",female,2,4,2,347082,31.275,,S\\r\\n121,0,2,\"Hickman, Mr. Stanley George\",male,21,2,0,S.O.C. 14879,73.5,,S\\r\\n122,0,3,\"Moore, Mr. Leonard Charles\",male,,0,0,A4. 54510,8.05,,S\\r\\n123,0,2,\"Nasser, Mr. Nicholas\",male,32.5,1,0,237736,30.0708,,C\\r\\n124,1,2,\"Webber, Miss. Susan\",female,32.5,0,0,27267,13,E101,S\\r\\n125,0,1,\"White, Mr. Percival Wayland\",male,54,0,1,35281,77.2875,D26,S\\r\\n126,1,3,\"Nicola-Yarred, Master. Elias\",male,12,1,0,2651,11.2417,,C\\r\\n127,0,3,\"McMahon, Mr. Martin\",male,,0,0,370372,7.75,,Q\\r\\n128,1,3,\"Madsen, Mr. Fridtjof Arne\",male,24,0,0,C 17369,7.1417,,S\\r\\n129,1,3,\"Peter, Miss. Anna\",female,,1,1,2668,22.3583,F E69,C\\r\\n130,0,3,\"Ekstrom, Mr. Johan\",male,45,0,0,347061,6.975,,S\\r\\n131,0,3,\"Drazenoic, Mr. Jozef\",male,33,0,0,349241,7.8958,,C\\r\\n132,0,3,\"Coelho, Mr. Domingos Fernandeo\",male,20,0,0,SOTON/O.Q. 3101307,7.05,,S\\r\\n133,0,3,\"Robins, Mrs. Alexander A (Grace Charity Laury)\",female,47,1,0,A/5. 3337,14.5,,S\\r\\n134,1,2,\"Weisz, Mrs. Leopold (Mathilde Francoise Pede)\",female,29,1,0,228414,26,,S\\r\\n135,0,2,\"Sobey, Mr. Samuel James Hayden\",male,25,0,0,C.A. 29178,13,,S\\r\\n136,0,2,\"Richard, Mr. Emile\",male,23,0,0,SC/PARIS 2133,15.0458,,C\\r\\n137,1,1,\"Newsom, Miss. Helen Monypeny\",female,19,0,2,11752,26.2833,D47,S\\r\\n138,0,1,\"Futrelle, Mr. Jacques Heath\",male,37,1,0,113803,53.1,C123,S\\r\\n139,0,3,\"Osen, Mr. Olaf Elon\",male,16,0,0,7534,9.2167,,S\\r\\n140,0,1,\"Giglio, Mr. Victor\",male,24,0,0,PC 17593,79.2,B86,C\\r\\n141,0,3,\"Boulos, Mrs. Joseph (Sultana)\",female,,0,2,2678,15.2458,,C\\r\\n142,1,3,\"Nysten, Miss. Anna Sofia\",female,22,0,0,347081,7.75,,S\\r\\n143,1,3,\"Hakkarainen, Mrs. Pekka Pietari (Elin Matilda Dolck)\",female,24,1,0,STON/O2. 3101279,15.85,,S\\r\\n144,0,3,\"Burke, Mr. Jeremiah\",male,19,0,0,365222,6.75,,Q\\r\\n145,0,2,\"Andrew, Mr. Edgardo Samuel\",male,18,0,0,231945,11.5,,S\\r\\n146,0,2,\"Nicholls, Mr. Joseph Charles\",male,19,1,1,C.A. 33112,36.75,,S\\r\\n147,1,3,\"Andersson, Mr. August Edvard (\"\"Wennerstrom\"\")\",male,27,0,0,350043,7.7958,,S\\r\\n148,0,3,\"Ford, Miss. Robina Maggie \"\"Ruby\"\"\",female,9,2,2,W./C. 6608,34.375,,S\\r\\n149,0,2,\"Navratil, Mr. Michel (\"\"Louis M Hoffman\"\")\",male,36.5,0,2,230080,26,F2,S\\r\\n150,0,2,\"Byles, Rev. Thomas Roussel Davids\",male,42,0,0,244310,13,,S\\r\\n151,0,2,\"Bateman, Rev. Robert James\",male,51,0,0,S.O.P. 1166,12.525,,S\\r\\n152,1,1,\"Pears, Mrs. Thomas (Edith Wearne)\",female,22,1,0,113776,66.6,C2,S\\r\\n153,0,3,\"Meo, Mr. Alfonzo\",male,55.5,0,0,A.5. 11206,8.05,,S\\r\\n154,0,3,\"van Billiard, Mr. Austin Blyler\",male,40.5,0,2,A/5. 851,14.5,,S\\r\\n155,0,3,\"Olsen, Mr. Ole Martin\",male,,0,0,Fa 265302,7.3125,,S\\r\\n156,0,1,\"Williams, Mr. Charles Duane\",male,51,0,1,PC 17597,61.3792,,C\\r\\n157,1,3,\"Gilnagh, Miss. Katherine \"\"Katie\"\"\",female,16,0,0,35851,7.7333,,Q\\r\\n158,0,3,\"Corn, Mr. Harry\",male,30,0,0,SOTON/OQ 392090,8.05,,S\\r\\n159,0,3,\"Smiljanic, Mr. Mile\",male,,0,0,315037,8.6625,,S\\r\\n160,0,3,\"Sage, Master. Thomas Henry\",male,,8,2,CA. 2343,69.55,,S\\r\\n161,0,3,\"Cribb, Mr. John Hatfield\",male,44,0,1,371362,16.1,,S\\r\\n162,1,2,\"Watt, Mrs. James (Elizabeth \"\"Bessie\"\" Inglis Milne)\",female,40,0,0,C.A. 33595,15.75,,S\\r\\n163,0,3,\"Bengtsson, Mr. John Viktor\",male,26,0,0,347068,7.775,,S\\r\\n164,0,3,\"Calic, Mr. Jovo\",male,17,0,0,315093,8.6625,,S\\r\\n165,0,3,\"Panula, Master. Eino Viljami\",male,1,4,1,3101295,39.6875,,S\\r\\n166,1,3,\"Goldsmith, Master. Frank John William \"\"Frankie\"\"\",male,9,0,2,363291,20.525,,S\\r\\n167,1,1,\"Chibnall, Mrs. (Edith Martha Bowerman)\",female,,0,1,113505,55,E33,S\\r\\n168,0,3,\"Skoog, Mrs. William (Anna Bernhardina Karlsson)\",female,45,1,4,347088,27.9,,S\\r\\n169,0,1,\"Baumann, Mr. John D\",male,,0,0,PC 17318,25.925,,S\\r\\n170,0,3,\"Ling, Mr. Lee\",male,28,0,0,1601,56.4958,,S\\r\\n171,0,1,\"Van der hoef, Mr. Wyckoff\",male,61,0,0,111240,33.5,B19,S\\r\\n172,0,3,\"Rice, Master. Arthur\",male,4,4,1,382652,29.125,,Q\\r\\n173,1,3,\"Johnson, Miss. Eleanor Ileen\",female,1,1,1,347742,11.1333,,S\\r\\n174,0,3,\"Sivola, Mr. Antti Wilhelm\",male,21,0,0,STON/O 2. 3101280,7.925,,S\\r\\n175,0,1,\"Smith, Mr. James Clinch\",male,56,0,0,17764,30.6958,A7,C\\r\\n176,0,3,\"Klasen, Mr. Klas Albin\",male,18,1,1,350404,7.8542,,S\\r\\n177,0,3,\"Lefebre, Master. Henry Forbes\",male,,3,1,4133,25.4667,,S\\r\\n178,0,1,\"Isham, Miss. Ann Elizabeth\",female,50,0,0,PC 17595,28.7125,C49,C\\r\\n179,0,2,\"Hale, Mr. Reginald\",male,30,0,0,250653,13,,S\\r\\n180,0,3,\"Leonard, Mr. Lionel\",male,36,0,0,LINE,0,,S\\r\\n181,0,3,\"Sage, Miss. Constance Gladys\",female,,8,2,CA. 2343,69.55,,S\\r\\n182,0,2,\"Pernot, Mr. Rene\",male,,0,0,SC/PARIS 2131,15.05,,C\\r\\n183,0,3,\"Asplund, Master. Clarence Gustaf Hugo\",male,9,4,2,347077,31.3875,,S\\r\\n184,1,2,\"Becker, Master. Richard F\",male,1,2,1,230136,39,F4,S\\r\\n185,1,3,\"Kink-Heilmann, Miss. Luise Gretchen\",female,4,0,2,315153,22.025,,S\\r\\n186,0,1,\"Rood, Mr. Hugh Roscoe\",male,,0,0,113767,50,A32,S\\r\\n187,1,3,\"O\\'Brien, Mrs. Thomas (Johanna \"\"Hannah\"\" Godfrey)\",female,,1,0,370365,15.5,,Q\\r\\n188,1,1,\"Romaine, Mr. Charles Hallace (\"\"Mr C Rolmane\"\")\",male,45,0,0,111428,26.55,,S\\r\\n189,0,3,\"Bourke, Mr. John\",male,40,1,1,364849,15.5,,Q\\r\\n190,0,3,\"Turcin, Mr. Stjepan\",male,36,0,0,349247,7.8958,,S\\r\\n191,1,2,\"Pinsky, Mrs. (Rosa)\",female,32,0,0,234604,13,,S\\r\\n192,0,2,\"Carbines, Mr. William\",male,19,0,0,28424,13,,S\\r\\n193,1,3,\"Andersen-Jensen, Miss. Carla Christine Nielsine\",female,19,1,0,350046,7.8542,,S\\r\\n194,1,2,\"Navratil, Master. Michel M\",male,3,1,1,230080,26,F2,S\\r\\n195,1,1,\"Brown, Mrs. James Joseph (Margaret Tobin)\",female,44,0,0,PC 17610,27.7208,B4,C\\r\\n196,1,1,\"Lurette, Miss. Elise\",female,58,0,0,PC 17569,146.5208,B80,C\\r\\n197,0,3,\"Mernagh, Mr. Robert\",male,,0,0,368703,7.75,,Q\\r\\n198,0,3,\"Olsen, Mr. Karl Siegwart Andreas\",male,42,0,1,4579,8.4042,,S\\r\\n199,1,3,\"Madigan, Miss. Margaret \"\"Maggie\"\"\",female,,0,0,370370,7.75,,Q\\r\\n200,0,2,\"Yrois, Miss. Henriette (\"\"Mrs Harbeck\"\")\",female,24,0,0,248747,13,,S\\r\\n201,0,3,\"Vande Walle, Mr. Nestor Cyriel\",male,28,0,0,345770,9.5,,S\\r\\n202,0,3,\"Sage, Mr. Frederick\",male,,8,2,CA. 2343,69.55,,S\\r\\n203,0,3,\"Johanson, Mr. Jakob Alfred\",male,34,0,0,3101264,6.4958,,S\\r\\n204,0,3,\"Youseff, Mr. Gerious\",male,45.5,0,0,2628,7.225,,C\\r\\n205,1,3,\"Cohen, Mr. Gurshon \"\"Gus\"\"\",male,18,0,0,A/5 3540,8.05,,S\\r\\n206,0,3,\"Strom, Miss. Telma Matilda\",female,2,0,1,347054,10.4625,G6,S\\r\\n207,0,3,\"Backstrom, Mr. Karl Alfred\",male,32,1,0,3101278,15.85,,S\\r\\n208,1,3,\"Albimona, Mr. Nassef Cassem\",male,26,0,0,2699,18.7875,,C\\r\\n209,1,3,\"Carr, Miss. Helen \"\"Ellen\"\"\",female,16,0,0,367231,7.75,,Q\\r\\n210,1,1,\"Blank, Mr. Henry\",male,40,0,0,112277,31,A31,C\\r\\n211,0,3,\"Ali, Mr. Ahmed\",male,24,0,0,SOTON/O.Q. 3101311,7.05,,S\\r\\n212,1,2,\"Cameron, Miss. Clear Annie\",female,35,0,0,F.C.C. 13528,21,,S\\r\\n213,0,3,\"Perkin, Mr. John Henry\",male,22,0,0,A/5 21174,7.25,,S\\r\\n214,0,2,\"Givard, Mr. Hans Kristensen\",male,30,0,0,250646,13,,S\\r\\n215,0,3,\"Kiernan, Mr. Philip\",male,,1,0,367229,7.75,,Q\\r\\n216,1,1,\"Newell, Miss. Madeleine\",female,31,1,0,35273,113.275,D36,C\\r\\n217,1,3,\"Honkanen, Miss. Eliina\",female,27,0,0,STON/O2. 3101283,7.925,,S\\r\\n218,0,2,\"Jacobsohn, Mr. Sidney Samuel\",male,42,1,0,243847,27,,S\\r\\n219,1,1,\"Bazzani, Miss. Albina\",female,32,0,0,11813,76.2917,D15,C\\r\\n220,0,2,\"Harris, Mr. Walter\",male,30,0,0,W/C 14208,10.5,,S\\r\\n221,1,3,\"Sunderland, Mr. Victor Francis\",male,16,0,0,SOTON/OQ 392089,8.05,,S\\r\\n222,0,2,\"Bracken, Mr. James H\",male,27,0,0,220367,13,,S\\r\\n223,0,3,\"Green, Mr. George Henry\",male,51,0,0,21440,8.05,,S\\r\\n224,0,3,\"Nenkoff, Mr. Christo\",male,,0,0,349234,7.8958,,S\\r\\n225,1,1,\"Hoyt, Mr. Frederick Maxfield\",male,38,1,0,19943,90,C93,S\\r\\n226,0,3,\"Berglund, Mr. Karl Ivar Sven\",male,22,0,0,PP 4348,9.35,,S\\r\\n227,1,2,\"Mellors, Mr. William John\",male,19,0,0,SW/PP 751,10.5,,S\\r\\n228,0,3,\"Lovell, Mr. John Hall (\"\"Henry\"\")\",male,20.5,0,0,A/5 21173,7.25,,S\\r\\n229,0,2,\"Fahlstrom, Mr. Arne Jonas\",male,18,0,0,236171,13,,S\\r\\n230,0,3,\"Lefebre, Miss. Mathilde\",female,,3,1,4133,25.4667,,S\\r\\n231,1,1,\"Harris, Mrs. Henry Birkhardt (Irene Wallach)\",female,35,1,0,36973,83.475,C83,S\\r\\n232,0,3,\"Larsson, Mr. Bengt Edvin\",male,29,0,0,347067,7.775,,S\\r\\n233,0,2,\"Sjostedt, Mr. Ernst Adolf\",male,59,0,0,237442,13.5,,S\\r\\n234,1,3,\"Asplund, Miss. Lillian Gertrud\",female,5,4,2,347077,31.3875,,S\\r\\n235,0,2,\"Leyson, Mr. Robert William Norman\",male,24,0,0,C.A. 29566,10.5,,S\\r\\n236,0,3,\"Harknett, Miss. Alice Phoebe\",female,,0,0,W./C. 6609,7.55,,S\\r\\n237,0,2,\"Hold, Mr. Stephen\",male,44,1,0,26707,26,,S\\r\\n238,1,2,\"Collyer, Miss. Marjorie \"\"Lottie\"\"\",female,8,0,2,C.A. 31921,26.25,,S\\r\\n239,0,2,\"Pengelly, Mr. Frederick William\",male,19,0,0,28665,10.5,,S\\r\\n240,0,2,\"Hunt, Mr. George Henry\",male,33,0,0,SCO/W 1585,12.275,,S\\r\\n241,0,3,\"Zabour, Miss. Thamine\",female,,1,0,2665,14.4542,,C\\r\\n242,1,3,\"Murphy, Miss. Katherine \"\"Kate\"\"\",female,,1,0,367230,15.5,,Q\\r\\n243,0,2,\"Coleridge, Mr. Reginald Charles\",male,29,0,0,W./C. 14263,10.5,,S\\r\\n244,0,3,\"Maenpaa, Mr. Matti Alexanteri\",male,22,0,0,STON/O 2. 3101275,7.125,,S\\r\\n245,0,3,\"Attalah, Mr. Sleiman\",male,30,0,0,2694,7.225,,C\\r\\n246,0,1,\"Minahan, Dr. William Edward\",male,44,2,0,19928,90,C78,Q\\r\\n247,0,3,\"Lindahl, Miss. Agda Thorilda Viktoria\",female,25,0,0,347071,7.775,,S\\r\\n248,1,2,\"Hamalainen, Mrs. William (Anna)\",female,24,0,2,250649,14.5,,S\\r\\n249,1,1,\"Beckwith, Mr. Richard Leonard\",male,37,1,1,11751,52.5542,D35,S\\r\\n250,0,2,\"Carter, Rev. Ernest Courtenay\",male,54,1,0,244252,26,,S\\r\\n251,0,3,\"Reed, Mr. James George\",male,,0,0,362316,7.25,,S\\r\\n252,0,3,\"Strom, Mrs. Wilhelm (Elna Matilda Persson)\",female,29,1,1,347054,10.4625,G6,S\\r\\n253,0,1,\"Stead, Mr. William Thomas\",male,62,0,0,113514,26.55,C87,S\\r\\n254,0,3,\"Lobb, Mr. William Arthur\",male,30,1,0,A/5. 3336,16.1,,S\\r\\n255,0,3,\"Rosblom, Mrs. Viktor (Helena Wilhelmina)\",female,41,0,2,370129,20.2125,,S\\r\\n256,1,3,\"Touma, Mrs. Darwis (Hanne Youssef Razi)\",female,29,0,2,2650,15.2458,,C\\r\\n257,1,1,\"Thorne, Mrs. Gertrude Maybelle\",female,,0,0,PC 17585,79.2,,C\\r\\n258,1,1,\"Cherry, Miss. Gladys\",female,30,0,0,110152,86.5,B77,S\\r\\n259,1,1,\"Ward, Miss. Anna\",female,35,0,0,PC 17755,512.3292,,C\\r\\n260,1,2,\"Parrish, Mrs. (Lutie Davis)\",female,50,0,1,230433,26,,S\\r\\n261,0,3,\"Smith, Mr. Thomas\",male,,0,0,384461,7.75,,Q\\r\\n262,1,3,\"Asplund, Master. Edvin Rojj Felix\",male,3,4,2,347077,31.3875,,S\\r\\n263,0,1,\"Taussig, Mr. Emil\",male,52,1,1,110413,79.65,E67,S\\r\\n264,0,1,\"Harrison, Mr. William\",male,40,0,0,112059,0,B94,S\\r\\n265,0,3,\"Henry, Miss. Delia\",female,,0,0,382649,7.75,,Q\\r\\n266,0,2,\"Reeves, Mr. David\",male,36,0,0,C.A. 17248,10.5,,S\\r\\n267,0,3,\"Panula, Mr. Ernesti Arvid\",male,16,4,1,3101295,39.6875,,S\\r\\n268,1,3,\"Persson, Mr. Ernst Ulrik\",male,25,1,0,347083,7.775,,S\\r\\n269,1,1,\"Graham, Mrs. William Thompson (Edith Junkins)\",female,58,0,1,PC 17582,153.4625,C125,S\\r\\n270,1,1,\"Bissette, Miss. Amelia\",female,35,0,0,PC 17760,135.6333,C99,S\\r\\n271,0,1,\"Cairns, Mr. Alexander\",male,,0,0,113798,31,,S\\r\\n272,1,3,\"Tornquist, Mr. William Henry\",male,25,0,0,LINE,0,,S\\r\\n273,1,2,\"Mellinger, Mrs. (Elizabeth Anne Maidment)\",female,41,0,1,250644,19.5,,S\\r\\n274,0,1,\"Natsch, Mr. Charles H\",male,37,0,1,PC 17596,29.7,C118,C\\r\\n275,1,3,\"Healy, Miss. Hanora \"\"Nora\"\"\",female,,0,0,370375,7.75,,Q\\r\\n276,1,1,\"Andrews, Miss. Kornelia Theodosia\",female,63,1,0,13502,77.9583,D7,S\\r\\n277,0,3,\"Lindblom, Miss. Augusta Charlotta\",female,45,0,0,347073,7.75,,S\\r\\n278,0,2,\"Parkes, Mr. Francis \"\"Frank\"\"\",male,,0,0,239853,0,,S\\r\\n279,0,3,\"Rice, Master. Eric\",male,7,4,1,382652,29.125,,Q\\r\\n280,1,3,\"Abbott, Mrs. Stanton (Rosa Hunt)\",female,35,1,1,C.A. 2673,20.25,,S\\r\\n281,0,3,\"Duane, Mr. Frank\",male,65,0,0,336439,7.75,,Q\\r\\n282,0,3,\"Olsson, Mr. Nils Johan Goransson\",male,28,0,0,347464,7.8542,,S\\r\\n283,0,3,\"de Pelsmaeker, Mr. Alfons\",male,16,0,0,345778,9.5,,S\\r\\n284,1,3,\"Dorking, Mr. Edward Arthur\",male,19,0,0,A/5. 10482,8.05,,S\\r\\n285,0,1,\"Smith, Mr. Richard William\",male,,0,0,113056,26,A19,S\\r\\n286,0,3,\"Stankovic, Mr. Ivan\",male,33,0,0,349239,8.6625,,C\\r\\n287,1,3,\"de Mulder, Mr. Theodore\",male,30,0,0,345774,9.5,,S\\r\\n288,0,3,\"Naidenoff, Mr. Penko\",male,22,0,0,349206,7.8958,,S\\r\\n289,1,2,\"Hosono, Mr. Masabumi\",male,42,0,0,237798,13,,S\\r\\n290,1,3,\"Connolly, Miss. Kate\",female,22,0,0,370373,7.75,,Q\\r\\n291,1,1,\"Barber, Miss. Ellen \"\"Nellie\"\"\",female,26,0,0,19877,78.85,,S\\r\\n292,1,1,\"Bishop, Mrs. Dickinson H (Helen Walton)\",female,19,1,0,11967,91.0792,B49,C\\r\\n293,0,2,\"Levy, Mr. Rene Jacques\",male,36,0,0,SC/Paris 2163,12.875,D,C\\r\\n294,0,3,\"Haas, Miss. Aloisia\",female,24,0,0,349236,8.85,,S\\r\\n295,0,3,\"Mineff, Mr. Ivan\",male,24,0,0,349233,7.8958,,S\\r\\n296,0,1,\"Lewy, Mr. Ervin G\",male,,0,0,PC 17612,27.7208,,C\\r\\n297,0,3,\"Hanna, Mr. Mansour\",male,23.5,0,0,2693,7.2292,,C\\r\\n298,0,1,\"Allison, Miss. Helen Loraine\",female,2,1,2,113781,151.55,C22 C26,S\\r\\n299,1,1,\"Saalfeld, Mr. Adolphe\",male,,0,0,19988,30.5,C106,S\\r\\n300,1,1,\"Baxter, Mrs. James (Helene DeLaudeniere Chaput)\",female,50,0,1,PC 17558,247.5208,B58 B60,C\\r\\n301,1,3,\"Kelly, Miss. Anna Katherine \"\"Annie Kate\"\"\",female,,0,0,9234,7.75,,Q\\r\\n302,1,3,\"McCoy, Mr. Bernard\",male,,2,0,367226,23.25,,Q\\r\\n303,0,3,\"Johnson, Mr. William Cahoone Jr\",male,19,0,0,LINE,0,,S\\r\\n304,1,2,\"Keane, Miss. Nora A\",female,,0,0,226593,12.35,E101,Q\\r\\n305,0,3,\"Williams, Mr. Howard Hugh \"\"Harry\"\"\",male,,0,0,A/5 2466,8.05,,S\\r\\n306,1,1,\"Allison, Master. Hudson Trevor\",male,0.92,1,2,113781,151.55,C22 C26,S\\r\\n307,1,1,\"Fleming, Miss. Margaret\",female,,0,0,17421,110.8833,,C\\r\\n308,1,1,\"Penasco y Castellana, Mrs. Victor de Satode (Maria Josefa Perez de Soto y Vallejo)\",female,17,1,0,PC 17758,108.9,C65,C\\r\\n309,0,2,\"Abelson, Mr. Samuel\",male,30,1,0,P/PP 3381,24,,C\\r\\n310,1,1,\"Francatelli, Miss. Laura Mabel\",female,30,0,0,PC 17485,56.9292,E36,C\\r\\n311,1,1,\"Hays, Miss. Margaret Bechstein\",female,24,0,0,11767,83.1583,C54,C\\r\\n312,1,1,\"Ryerson, Miss. Emily Borie\",female,18,2,2,PC 17608,262.375,B57 B59 B63 B66,C\\r\\n313,0,2,\"Lahtinen, Mrs. William (Anna Sylfven)\",female,26,1,1,250651,26,,S\\r\\n314,0,3,\"Hendekovic, Mr. Ignjac\",male,28,0,0,349243,7.8958,,S\\r\\n315,0,2,\"Hart, Mr. Benjamin\",male,43,1,1,F.C.C. 13529,26.25,,S\\r\\n316,1,3,\"Nilsson, Miss. Helmina Josefina\",female,26,0,0,347470,7.8542,,S\\r\\n317,1,2,\"Kantor, Mrs. Sinai (Miriam Sternin)\",female,24,1,0,244367,26,,S\\r\\n318,0,2,\"Moraweck, Dr. Ernest\",male,54,0,0,29011,14,,S\\r\\n319,1,1,\"Wick, Miss. Mary Natalie\",female,31,0,2,36928,164.8667,C7,S\\r\\n320,1,1,\"Spedden, Mrs. Frederic Oakley (Margaretta Corning Stone)\",female,40,1,1,16966,134.5,E34,C\\r\\n321,0,3,\"Dennis, Mr. Samuel\",male,22,0,0,A/5 21172,7.25,,S\\r\\n322,0,3,\"Danoff, Mr. Yoto\",male,27,0,0,349219,7.8958,,S\\r\\n323,1,2,\"Slayter, Miss. Hilda Mary\",female,30,0,0,234818,12.35,,Q\\r\\n324,1,2,\"Caldwell, Mrs. Albert Francis (Sylvia Mae Harbaugh)\",female,22,1,1,248738,29,,S\\r\\n325,0,3,\"Sage, Mr. George John Jr\",male,,8,2,CA. 2343,69.55,,S\\r\\n326,1,1,\"Young, Miss. Marie Grice\",female,36,0,0,PC 17760,135.6333,C32,C\\r\\n327,0,3,\"Nysveen, Mr. Johan Hansen\",male,61,0,0,345364,6.2375,,S\\r\\n328,1,2,\"Ball, Mrs. (Ada E Hall)\",female,36,0,0,28551,13,D,S\\r\\n329,1,3,\"Goldsmith, Mrs. Frank John (Emily Alice Brown)\",female,31,1,1,363291,20.525,,S\\r\\n330,1,1,\"Hippach, Miss. Jean Gertrude\",female,16,0,1,111361,57.9792,B18,C\\r\\n331,1,3,\"McCoy, Miss. Agnes\",female,,2,0,367226,23.25,,Q\\r\\n332,0,1,\"Partner, Mr. Austen\",male,45.5,0,0,113043,28.5,C124,S\\r\\n333,0,1,\"Graham, Mr. George Edward\",male,38,0,1,PC 17582,153.4625,C91,S\\r\\n334,0,3,\"Vander Planke, Mr. Leo Edmondus\",male,16,2,0,345764,18,,S\\r\\n335,1,1,\"Frauenthal, Mrs. Henry William (Clara Heinsheimer)\",female,,1,0,PC 17611,133.65,,S\\r\\n336,0,3,\"Denkoff, Mr. Mitto\",male,,0,0,349225,7.8958,,S\\r\\n337,0,1,\"Pears, Mr. Thomas Clinton\",male,29,1,0,113776,66.6,C2,S\\r\\n338,1,1,\"Burns, Miss. Elizabeth Margaret\",female,41,0,0,16966,134.5,E40,C\\r\\n339,1,3,\"Dahl, Mr. Karl Edwart\",male,45,0,0,7598,8.05,,S\\r\\n340,0,1,\"Blackwell, Mr. Stephen Weart\",male,45,0,0,113784,35.5,T,S\\r\\n341,1,2,\"Navratil, Master. Edmond Roger\",male,2,1,1,230080,26,F2,S\\r\\n342,1,1,\"Fortune, Miss. Alice Elizabeth\",female,24,3,2,19950,263,C23 C25 C27,S\\r\\n343,0,2,\"Collander, Mr. Erik Gustaf\",male,28,0,0,248740,13,,S\\r\\n344,0,2,\"Sedgwick, Mr. Charles Frederick Waddington\",male,25,0,0,244361,13,,S\\r\\n345,0,2,\"Fox, Mr. Stanley Hubert\",male,36,0,0,229236,13,,S\\r\\n346,1,2,\"Brown, Miss. Amelia \"\"Mildred\"\"\",female,24,0,0,248733,13,F33,S\\r\\n347,1,2,\"Smith, Miss. Marion Elsie\",female,40,0,0,31418,13,,S\\r\\n348,1,3,\"Davison, Mrs. Thomas Henry (Mary E Finck)\",female,,1,0,386525,16.1,,S\\r\\n349,1,3,\"Coutts, Master. William Loch \"\"William\"\"\",male,3,1,1,C.A. 37671,15.9,,S\\r\\n350,0,3,\"Dimic, Mr. Jovan\",male,42,0,0,315088,8.6625,,S\\r\\n351,0,3,\"Odahl, Mr. Nils Martin\",male,23,0,0,7267,9.225,,S\\r\\n352,0,1,\"Williams-Lambert, Mr. Fletcher Fellows\",male,,0,0,113510,35,C128,S\\r\\n353,0,3,\"Elias, Mr. Tannous\",male,15,1,1,2695,7.2292,,C\\r\\n354,0,3,\"Arnold-Franchi, Mr. Josef\",male,25,1,0,349237,17.8,,S\\r\\n355,0,3,\"Yousif, Mr. Wazli\",male,,0,0,2647,7.225,,C\\r\\n356,0,3,\"Vanden Steen, Mr. Leo Peter\",male,28,0,0,345783,9.5,,S\\r\\n357,1,1,\"Bowerman, Miss. Elsie Edith\",female,22,0,1,113505,55,E33,S\\r\\n358,0,2,\"Funk, Miss. Annie Clemmer\",female,38,0,0,237671,13,,S\\r\\n359,1,3,\"McGovern, Miss. Mary\",female,,0,0,330931,7.8792,,Q\\r\\n360,1,3,\"Mockler, Miss. Helen Mary \"\"Ellie\"\"\",female,,0,0,330980,7.8792,,Q\\r\\n361,0,3,\"Skoog, Mr. Wilhelm\",male,40,1,4,347088,27.9,,S\\r\\n362,0,2,\"del Carlo, Mr. Sebastiano\",male,29,1,0,SC/PARIS 2167,27.7208,,C\\r\\n363,0,3,\"Barbara, Mrs. (Catherine David)\",female,45,0,1,2691,14.4542,,C\\r\\n364,0,3,\"Asim, Mr. Adola\",male,35,0,0,SOTON/O.Q. 3101310,7.05,,S\\r\\n365,0,3,\"O\\'Brien, Mr. Thomas\",male,,1,0,370365,15.5,,Q\\r\\n366,0,3,\"Adahl, Mr. Mauritz Nils Martin\",male,30,0,0,C 7076,7.25,,S\\r\\n367,1,1,\"Warren, Mrs. Frank Manley (Anna Sophia Atkinson)\",female,60,1,0,110813,75.25,D37,C\\r\\n368,1,3,\"Moussa, Mrs. (Mantoura Boulos)\",female,,0,0,2626,7.2292,,C\\r\\n369,1,3,\"Jermyn, Miss. Annie\",female,,0,0,14313,7.75,,Q\\r\\n370,1,1,\"Aubart, Mme. Leontine Pauline\",female,24,0,0,PC 17477,69.3,B35,C\\r\\n371,1,1,\"Harder, Mr. George Achilles\",male,25,1,0,11765,55.4417,E50,C\\r\\n372,0,3,\"Wiklund, Mr. Jakob Alfred\",male,18,1,0,3101267,6.4958,,S\\r\\n373,0,3,\"Beavan, Mr. William Thomas\",male,19,0,0,323951,8.05,,S\\r\\n374,0,1,\"Ringhini, Mr. Sante\",male,22,0,0,PC 17760,135.6333,,C\\r\\n375,0,3,\"Palsson, Miss. Stina Viola\",female,3,3,1,349909,21.075,,S\\r\\n376,1,1,\"Meyer, Mrs. Edgar Joseph (Leila Saks)\",female,,1,0,PC 17604,82.1708,,C\\r\\n377,1,3,\"Landergren, Miss. Aurora Adelia\",female,22,0,0,C 7077,7.25,,S\\r\\n378,0,1,\"Widener, Mr. Harry Elkins\",male,27,0,2,113503,211.5,C82,C\\r\\n379,0,3,\"Betros, Mr. Tannous\",male,20,0,0,2648,4.0125,,C\\r\\n380,0,3,\"Gustafsson, Mr. Karl Gideon\",male,19,0,0,347069,7.775,,S\\r\\n381,1,1,\"Bidois, Miss. Rosalie\",female,42,0,0,PC 17757,227.525,,C\\r\\n382,1,3,\"Nakid, Miss. Maria (\"\"Mary\"\")\",female,1,0,2,2653,15.7417,,C\\r\\n383,0,3,\"Tikkanen, Mr. Juho\",male,32,0,0,STON/O 2. 3101293,7.925,,S\\r\\n384,1,1,\"Holverson, Mrs. Alexander Oskar (Mary Aline Towner)\",female,35,1,0,113789,52,,S\\r\\n385,0,3,\"Plotcharsky, Mr. Vasil\",male,,0,0,349227,7.8958,,S\\r\\n386,0,2,\"Davies, Mr. Charles Henry\",male,18,0,0,S.O.C. 14879,73.5,,S\\r\\n387,0,3,\"Goodwin, Master. Sidney Leonard\",male,1,5,2,CA 2144,46.9,,S\\r\\n388,1,2,\"Buss, Miss. Kate\",female,36,0,0,27849,13,,S\\r\\n389,0,3,\"Sadlier, Mr. Matthew\",male,,0,0,367655,7.7292,,Q\\r\\n390,1,2,\"Lehmann, Miss. Bertha\",female,17,0,0,SC 1748,12,,C\\r\\n391,1,1,\"Carter, Mr. William Ernest\",male,36,1,2,113760,120,B96 B98,S\\r\\n392,1,3,\"Jansson, Mr. Carl Olof\",male,21,0,0,350034,7.7958,,S\\r\\n393,0,3,\"Gustafsson, Mr. Johan Birger\",male,28,2,0,3101277,7.925,,S\\r\\n394,1,1,\"Newell, Miss. Marjorie\",female,23,1,0,35273,113.275,D36,C\\r\\n395,1,3,\"Sandstrom, Mrs. Hjalmar (Agnes Charlotta Bengtsson)\",female,24,0,2,PP 9549,16.7,G6,S\\r\\n396,0,3,\"Johansson, Mr. Erik\",male,22,0,0,350052,7.7958,,S\\r\\n397,0,3,\"Olsson, Miss. Elina\",female,31,0,0,350407,7.8542,,S\\r\\n398,0,2,\"McKane, Mr. Peter David\",male,46,0,0,28403,26,,S\\r\\n399,0,2,\"Pain, Dr. Alfred\",male,23,0,0,244278,10.5,,S\\r\\n400,1,2,\"Trout, Mrs. William H (Jessie L)\",female,28,0,0,240929,12.65,,S\\r\\n401,1,3,\"Niskanen, Mr. Juha\",male,39,0,0,STON/O 2. 3101289,7.925,,S\\r\\n402,0,3,\"Adams, Mr. John\",male,26,0,0,341826,8.05,,S\\r\\n403,0,3,\"Jussila, Miss. Mari Aina\",female,21,1,0,4137,9.825,,S\\r\\n404,0,3,\"Hakkarainen, Mr. Pekka Pietari\",male,28,1,0,STON/O2. 3101279,15.85,,S\\r\\n405,0,3,\"Oreskovic, Miss. Marija\",female,20,0,0,315096,8.6625,,S\\r\\n406,0,2,\"Gale, Mr. Shadrach\",male,34,1,0,28664,21,,S\\r\\n407,0,3,\"Widegren, Mr. Carl/Charles Peter\",male,51,0,0,347064,7.75,,S\\r\\n408,1,2,\"Richards, Master. William Rowe\",male,3,1,1,29106,18.75,,S\\r\\n409,0,3,\"Birkeland, Mr. Hans Martin Monsen\",male,21,0,0,312992,7.775,,S\\r\\n410,0,3,\"Lefebre, Miss. Ida\",female,,3,1,4133,25.4667,,S\\r\\n411,0,3,\"Sdycoff, Mr. Todor\",male,,0,0,349222,7.8958,,S\\r\\n412,0,3,\"Hart, Mr. Henry\",male,,0,0,394140,6.8583,,Q\\r\\n413,1,1,\"Minahan, Miss. Daisy E\",female,33,1,0,19928,90,C78,Q\\r\\n414,0,2,\"Cunningham, Mr. Alfred Fleming\",male,,0,0,239853,0,,S\\r\\n415,1,3,\"Sundman, Mr. Johan Julian\",male,44,0,0,STON/O 2. 3101269,7.925,,S\\r\\n416,0,3,\"Meek, Mrs. Thomas (Annie Louise Rowley)\",female,,0,0,343095,8.05,,S\\r\\n417,1,2,\"Drew, Mrs. James Vivian (Lulu Thorne Christian)\",female,34,1,1,28220,32.5,,S\\r\\n418,1,2,\"Silven, Miss. Lyyli Karoliina\",female,18,0,2,250652,13,,S\\r\\n419,0,2,\"Matthews, Mr. William John\",male,30,0,0,28228,13,,S\\r\\n420,0,3,\"Van Impe, Miss. Catharina\",female,10,0,2,345773,24.15,,S\\r\\n421,0,3,\"Gheorgheff, Mr. Stanio\",male,,0,0,349254,7.8958,,C\\r\\n422,0,3,\"Charters, Mr. David\",male,21,0,0,A/5. 13032,7.7333,,Q\\r\\n423,0,3,\"Zimmerman, Mr. Leo\",male,29,0,0,315082,7.875,,S\\r\\n424,0,3,\"Danbom, Mrs. Ernst Gilbert (Anna Sigrid Maria Brogren)\",female,28,1,1,347080,14.4,,S\\r\\n425,0,3,\"Rosblom, Mr. Viktor Richard\",male,18,1,1,370129,20.2125,,S\\r\\n426,0,3,\"Wiseman, Mr. Phillippe\",male,,0,0,A/4. 34244,7.25,,S\\r\\n427,1,2,\"Clarke, Mrs. Charles V (Ada Maria Winfield)\",female,28,1,0,2003,26,,S\\r\\n428,1,2,\"Phillips, Miss. Kate Florence (\"\"Mrs Kate Louise Phillips Marshall\"\")\",female,19,0,0,250655,26,,S\\r\\n429,0,3,\"Flynn, Mr. James\",male,,0,0,364851,7.75,,Q\\r\\n430,1,3,\"Pickard, Mr. Berk (Berk Trembisky)\",male,32,0,0,SOTON/O.Q. 392078,8.05,E10,S\\r\\n431,1,1,\"Bjornstrom-Steffansson, Mr. Mauritz Hakan\",male,28,0,0,110564,26.55,C52,S\\r\\n432,1,3,\"Thorneycroft, Mrs. Percival (Florence Kate White)\",female,,1,0,376564,16.1,,S\\r\\n433,1,2,\"Louch, Mrs. Charles Alexander (Alice Adelaide Slow)\",female,42,1,0,SC/AH 3085,26,,S\\r\\n434,0,3,\"Kallio, Mr. Nikolai Erland\",male,17,0,0,STON/O 2. 3101274,7.125,,S\\r\\n435,0,1,\"Silvey, Mr. William Baird\",male,50,1,0,13507,55.9,E44,S\\r\\n436,1,1,\"Carter, Miss. Lucile Polk\",female,14,1,2,113760,120,B96 B98,S\\r\\n437,0,3,\"Ford, Miss. Doolina Margaret \"\"Daisy\"\"\",female,21,2,2,W./C. 6608,34.375,,S\\r\\n438,1,2,\"Richards, Mrs. Sidney (Emily Hocking)\",female,24,2,3,29106,18.75,,S\\r\\n439,0,1,\"Fortune, Mr. Mark\",male,64,1,4,19950,263,C23 C25 C27,S\\r\\n440,0,2,\"Kvillner, Mr. Johan Henrik Johannesson\",male,31,0,0,C.A. 18723,10.5,,S\\r\\n441,1,2,\"Hart, Mrs. Benjamin (Esther Ada Bloomfield)\",female,45,1,1,F.C.C. 13529,26.25,,S\\r\\n442,0,3,\"Hampe, Mr. Leon\",male,20,0,0,345769,9.5,,S\\r\\n443,0,3,\"Petterson, Mr. Johan Emil\",male,25,1,0,347076,7.775,,S\\r\\n444,1,2,\"Reynaldo, Ms. Encarnacion\",female,28,0,0,230434,13,,S\\r\\n445,1,3,\"Johannesen-Bratthammer, Mr. Bernt\",male,,0,0,65306,8.1125,,S\\r\\n446,1,1,\"Dodge, Master. Washington\",male,4,0,2,33638,81.8583,A34,S\\r\\n447,1,2,\"Mellinger, Miss. Madeleine Violet\",female,13,0,1,250644,19.5,,S\\r\\n448,1,1,\"Seward, Mr. Frederic Kimber\",male,34,0,0,113794,26.55,,S\\r\\n449,1,3,\"Baclini, Miss. Marie Catherine\",female,5,2,1,2666,19.2583,,C\\r\\n450,1,1,\"Peuchen, Major. Arthur Godfrey\",male,52,0,0,113786,30.5,C104,S\\r\\n451,0,2,\"West, Mr. Edwy Arthur\",male,36,1,2,C.A. 34651,27.75,,S\\r\\n452,0,3,\"Hagland, Mr. Ingvald Olai Olsen\",male,,1,0,65303,19.9667,,S\\r\\n453,0,1,\"Foreman, Mr. Benjamin Laventall\",male,30,0,0,113051,27.75,C111,C\\r\\n454,1,1,\"Goldenberg, Mr. Samuel L\",male,49,1,0,17453,89.1042,C92,C\\r\\n455,0,3,\"Peduzzi, Mr. Joseph\",male,,0,0,A/5 2817,8.05,,S\\r\\n456,1,3,\"Jalsevac, Mr. Ivan\",male,29,0,0,349240,7.8958,,C\\r\\n457,0,1,\"Millet, Mr. Francis Davis\",male,65,0,0,13509,26.55,E38,S\\r\\n458,1,1,\"Kenyon, Mrs. Frederick R (Marion)\",female,,1,0,17464,51.8625,D21,S\\r\\n459,1,2,\"Toomey, Miss. Ellen\",female,50,0,0,F.C.C. 13531,10.5,,S\\r\\n460,0,3,\"O\\'Connor, Mr. Maurice\",male,,0,0,371060,7.75,,Q\\r\\n461,1,1,\"Anderson, Mr. Harry\",male,48,0,0,19952,26.55,E12,S\\r\\n462,0,3,\"Morley, Mr. William\",male,34,0,0,364506,8.05,,S\\r\\n463,0,1,\"Gee, Mr. Arthur H\",male,47,0,0,111320,38.5,E63,S\\r\\n464,0,2,\"Milling, Mr. Jacob Christian\",male,48,0,0,234360,13,,S\\r\\n465,0,3,\"Maisner, Mr. Simon\",male,,0,0,A/S 2816,8.05,,S\\r\\n466,0,3,\"Goncalves, Mr. Manuel Estanslas\",male,38,0,0,SOTON/O.Q. 3101306,7.05,,S\\r\\n467,0,2,\"Campbell, Mr. William\",male,,0,0,239853,0,,S\\r\\n468,0,1,\"Smart, Mr. John Montgomery\",male,56,0,0,113792,26.55,,S\\r\\n469,0,3,\"Scanlan, Mr. James\",male,,0,0,36209,7.725,,Q\\r\\n470,1,3,\"Baclini, Miss. Helene Barbara\",female,0.75,2,1,2666,19.2583,,C\\r\\n471,0,3,\"Keefe, Mr. Arthur\",male,,0,0,323592,7.25,,S\\r\\n472,0,3,\"Cacic, Mr. Luka\",male,38,0,0,315089,8.6625,,S\\r\\n473,1,2,\"West, Mrs. Edwy Arthur (Ada Mary Worth)\",female,33,1,2,C.A. 34651,27.75,,S\\r\\n474,1,2,\"Jerwan, Mrs. Amin S (Marie Marthe Thuillard)\",female,23,0,0,SC/AH Basle 541,13.7917,D,C\\r\\n475,0,3,\"Strandberg, Miss. Ida Sofia\",female,22,0,0,7553,9.8375,,S\\r\\n476,0,1,\"Clifford, Mr. George Quincy\",male,,0,0,110465,52,A14,S\\r\\n477,0,2,\"Renouf, Mr. Peter Henry\",male,34,1,0,31027,21,,S\\r\\n478,0,3,\"Braund, Mr. Lewis Richard\",male,29,1,0,3460,7.0458,,S\\r\\n479,0,3,\"Karlsson, Mr. Nils August\",male,22,0,0,350060,7.5208,,S\\r\\n480,1,3,\"Hirvonen, Miss. Hildur E\",female,2,0,1,3101298,12.2875,,S\\r\\n481,0,3,\"Goodwin, Master. Harold Victor\",male,9,5,2,CA 2144,46.9,,S\\r\\n482,0,2,\"Frost, Mr. Anthony Wood \"\"Archie\"\"\",male,,0,0,239854,0,,S\\r\\n483,0,3,\"Rouse, Mr. Richard Henry\",male,50,0,0,A/5 3594,8.05,,S\\r\\n484,1,3,\"Turkula, Mrs. (Hedwig)\",female,63,0,0,4134,9.5875,,S\\r\\n485,1,1,\"Bishop, Mr. Dickinson H\",male,25,1,0,11967,91.0792,B49,C\\r\\n486,0,3,\"Lefebre, Miss. Jeannie\",female,,3,1,4133,25.4667,,S\\r\\n487,1,1,\"Hoyt, Mrs. Frederick Maxfield (Jane Anne Forby)\",female,35,1,0,19943,90,C93,S\\r\\n488,0,1,\"Kent, Mr. Edward Austin\",male,58,0,0,11771,29.7,B37,C\\r\\n489,0,3,\"Somerton, Mr. Francis William\",male,30,0,0,A.5. 18509,8.05,,S\\r\\n490,1,3,\"Coutts, Master. Eden Leslie \"\"Neville\"\"\",male,9,1,1,C.A. 37671,15.9,,S\\r\\n491,0,3,\"Hagland, Mr. Konrad Mathias Reiersen\",male,,1,0,65304,19.9667,,S\\r\\n492,0,3,\"Windelov, Mr. Einar\",male,21,0,0,SOTON/OQ 3101317,7.25,,S\\r\\n493,0,1,\"Molson, Mr. Harry Markland\",male,55,0,0,113787,30.5,C30,S\\r\\n494,0,1,\"Artagaveytia, Mr. Ramon\",male,71,0,0,PC 17609,49.5042,,C\\r\\n495,0,3,\"Stanley, Mr. Edward Roland\",male,21,0,0,A/4 45380,8.05,,S\\r\\n496,0,3,\"Yousseff, Mr. Gerious\",male,,0,0,2627,14.4583,,C\\r\\n497,1,1,\"Eustis, Miss. Elizabeth Mussey\",female,54,1,0,36947,78.2667,D20,C\\r\\n498,0,3,\"Shellard, Mr. Frederick William\",male,,0,0,C.A. 6212,15.1,,S\\r\\n499,0,1,\"Allison, Mrs. Hudson J C (Bessie Waldo Daniels)\",female,25,1,2,113781,151.55,C22 C26,S\\r\\n500,0,3,\"Svensson, Mr. Olof\",male,24,0,0,350035,7.7958,,S\\r\\n501,0,3,\"Calic, Mr. Petar\",male,17,0,0,315086,8.6625,,S\\r\\n502,0,3,\"Canavan, Miss. Mary\",female,21,0,0,364846,7.75,,Q\\r\\n503,0,3,\"O\\'Sullivan, Miss. Bridget Mary\",female,,0,0,330909,7.6292,,Q\\r\\n504,0,3,\"Laitinen, Miss. Kristina Sofia\",female,37,0,0,4135,9.5875,,S\\r\\n505,1,1,\"Maioni, Miss. Roberta\",female,16,0,0,110152,86.5,B79,S\\r\\n506,0,1,\"Penasco y Castellana, Mr. Victor de Satode\",male,18,1,0,PC 17758,108.9,C65,C\\r\\n507,1,2,\"Quick, Mrs. Frederick Charles (Jane Richards)\",female,33,0,2,26360,26,,S\\r\\n508,1,1,\"Bradley, Mr. George (\"\"George Arthur Brayton\"\")\",male,,0,0,111427,26.55,,S\\r\\n509,0,3,\"Olsen, Mr. Henry Margido\",male,28,0,0,C 4001,22.525,,S\\r\\n510,1,3,\"Lang, Mr. Fang\",male,26,0,0,1601,56.4958,,S\\r\\n511,1,3,\"Daly, Mr. Eugene Patrick\",male,29,0,0,382651,7.75,,Q\\r\\n512,0,3,\"Webber, Mr. James\",male,,0,0,SOTON/OQ 3101316,8.05,,S\\r\\n513,1,1,\"McGough, Mr. James Robert\",male,36,0,0,PC 17473,26.2875,E25,S\\r\\n514,1,1,\"Rothschild, Mrs. Martin (Elizabeth L. Barrett)\",female,54,1,0,PC 17603,59.4,,C\\r\\n515,0,3,\"Coleff, Mr. Satio\",male,24,0,0,349209,7.4958,,S\\r\\n516,0,1,\"Walker, Mr. William Anderson\",male,47,0,0,36967,34.0208,D46,S\\r\\n517,1,2,\"Lemore, Mrs. (Amelia Milley)\",female,34,0,0,C.A. 34260,10.5,F33,S\\r\\n518,0,3,\"Ryan, Mr. Patrick\",male,,0,0,371110,24.15,,Q\\r\\n519,1,2,\"Angle, Mrs. William A (Florence \"\"Mary\"\" Agnes Hughes)\",female,36,1,0,226875,26,,S\\r\\n520,0,3,\"Pavlovic, Mr. Stefo\",male,32,0,0,349242,7.8958,,S\\r\\n521,1,1,\"Perreault, Miss. Anne\",female,30,0,0,12749,93.5,B73,S\\r\\n522,0,3,\"Vovk, Mr. Janko\",male,22,0,0,349252,7.8958,,S\\r\\n523,0,3,\"Lahoud, Mr. Sarkis\",male,,0,0,2624,7.225,,C\\r\\n524,1,1,\"Hippach, Mrs. Louis Albert (Ida Sophia Fischer)\",female,44,0,1,111361,57.9792,B18,C\\r\\n525,0,3,\"Kassem, Mr. Fared\",male,,0,0,2700,7.2292,,C\\r\\n526,0,3,\"Farrell, Mr. James\",male,40.5,0,0,367232,7.75,,Q\\r\\n527,1,2,\"Ridsdale, Miss. Lucy\",female,50,0,0,W./C. 14258,10.5,,S\\r\\n528,0,1,\"Farthing, Mr. John\",male,,0,0,PC 17483,221.7792,C95,S\\r\\n529,0,3,\"Salonen, Mr. Johan Werner\",male,39,0,0,3101296,7.925,,S\\r\\n530,0,2,\"Hocking, Mr. Richard George\",male,23,2,1,29104,11.5,,S\\r\\n531,1,2,\"Quick, Miss. Phyllis May\",female,2,1,1,26360,26,,S\\r\\n532,0,3,\"Toufik, Mr. Nakli\",male,,0,0,2641,7.2292,,C\\r\\n533,0,3,\"Elias, Mr. Joseph Jr\",male,17,1,1,2690,7.2292,,C\\r\\n534,1,3,\"Peter, Mrs. Catherine (Catherine Rizk)\",female,,0,2,2668,22.3583,,C\\r\\n535,0,3,\"Cacic, Miss. Marija\",female,30,0,0,315084,8.6625,,S\\r\\n536,1,2,\"Hart, Miss. Eva Miriam\",female,7,0,2,F.C.C. 13529,26.25,,S\\r\\n537,0,1,\"Butt, Major. Archibald Willingham\",male,45,0,0,113050,26.55,B38,S\\r\\n538,1,1,\"LeRoy, Miss. Bertha\",female,30,0,0,PC 17761,106.425,,C\\r\\n539,0,3,\"Risien, Mr. Samuel Beard\",male,,0,0,364498,14.5,,S\\r\\n540,1,1,\"Frolicher, Miss. Hedwig Margaritha\",female,22,0,2,13568,49.5,B39,C\\r\\n541,1,1,\"Crosby, Miss. Harriet R\",female,36,0,2,WE/P 5735,71,B22,S\\r\\n542,0,3,\"Andersson, Miss. Ingeborg Constanzia\",female,9,4,2,347082,31.275,,S\\r\\n543,0,3,\"Andersson, Miss. Sigrid Elisabeth\",female,11,4,2,347082,31.275,,S\\r\\n544,1,2,\"Beane, Mr. Edward\",male,32,1,0,2908,26,,S\\r\\n545,0,1,\"Douglas, Mr. Walter Donald\",male,50,1,0,PC 17761,106.425,C86,C\\r\\n546,0,1,\"Nicholson, Mr. Arthur Ernest\",male,64,0,0,693,26,,S\\r\\n547,1,2,\"Beane, Mrs. Edward (Ethel Clarke)\",female,19,1,0,2908,26,,S\\r\\n548,1,2,\"Padro y Manent, Mr. Julian\",male,,0,0,SC/PARIS 2146,13.8625,,C\\r\\n549,0,3,\"Goldsmith, Mr. Frank John\",male,33,1,1,363291,20.525,,S\\r\\n550,1,2,\"Davies, Master. John Morgan Jr\",male,8,1,1,C.A. 33112,36.75,,S\\r\\n551,1,1,\"Thayer, Mr. John Borland Jr\",male,17,0,2,17421,110.8833,C70,C\\r\\n552,0,2,\"Sharp, Mr. Percival James R\",male,27,0,0,244358,26,,S\\r\\n553,0,3,\"O\\'Brien, Mr. Timothy\",male,,0,0,330979,7.8292,,Q\\r\\n554,1,3,\"Leeni, Mr. Fahim (\"\"Philip Zenni\"\")\",male,22,0,0,2620,7.225,,C\\r\\n555,1,3,\"Ohman, Miss. Velin\",female,22,0,0,347085,7.775,,S\\r\\n556,0,1,\"Wright, Mr. George\",male,62,0,0,113807,26.55,,S\\r\\n557,1,1,\"Duff Gordon, Lady. (Lucille Christiana Sutherland) (\"\"Mrs Morgan\"\")\",female,48,1,0,11755,39.6,A16,C\\r\\n558,0,1,\"Robbins, Mr. Victor\",male,,0,0,PC 17757,227.525,,C\\r\\n559,1,1,\"Taussig, Mrs. Emil (Tillie Mandelbaum)\",female,39,1,1,110413,79.65,E67,S\\r\\n560,1,3,\"de Messemaeker, Mrs. Guillaume Joseph (Emma)\",female,36,1,0,345572,17.4,,S\\r\\n561,0,3,\"Morrow, Mr. Thomas Rowan\",male,,0,0,372622,7.75,,Q\\r\\n562,0,3,\"Sivic, Mr. Husein\",male,40,0,0,349251,7.8958,,S\\r\\n563,0,2,\"Norman, Mr. Robert Douglas\",male,28,0,0,218629,13.5,,S\\r\\n564,0,3,\"Simmons, Mr. John\",male,,0,0,SOTON/OQ 392082,8.05,,S\\r\\n565,0,3,\"Meanwell, Miss. (Marion Ogden)\",female,,0,0,SOTON/O.Q. 392087,8.05,,S\\r\\n566,0,3,\"Davies, Mr. Alfred J\",male,24,2,0,A/4 48871,24.15,,S\\r\\n567,0,3,\"Stoytcheff, Mr. Ilia\",male,19,0,0,349205,7.8958,,S\\r\\n568,0,3,\"Palsson, Mrs. Nils (Alma Cornelia Berglund)\",female,29,0,4,349909,21.075,,S\\r\\n569,0,3,\"Doharr, Mr. Tannous\",male,,0,0,2686,7.2292,,C\\r\\n570,1,3,\"Jonsson, Mr. Carl\",male,32,0,0,350417,7.8542,,S\\r\\n571,1,2,\"Harris, Mr. George\",male,62,0,0,S.W./PP 752,10.5,,S\\r\\n572,1,1,\"Appleton, Mrs. Edward Dale (Charlotte Lamson)\",female,53,2,0,11769,51.4792,C101,S\\r\\n573,1,1,\"Flynn, Mr. John Irwin (\"\"Irving\"\")\",male,36,0,0,PC 17474,26.3875,E25,S\\r\\n574,1,3,\"Kelly, Miss. Mary\",female,,0,0,14312,7.75,,Q\\r\\n575,0,3,\"Rush, Mr. Alfred George John\",male,16,0,0,A/4. 20589,8.05,,S\\r\\n576,0,3,\"Patchett, Mr. George\",male,19,0,0,358585,14.5,,S\\r\\n577,1,2,\"Garside, Miss. Ethel\",female,34,0,0,243880,13,,S\\r\\n578,1,1,\"Silvey, Mrs. William Baird (Alice Munger)\",female,39,1,0,13507,55.9,E44,S\\r\\n579,0,3,\"Caram, Mrs. Joseph (Maria Elias)\",female,,1,0,2689,14.4583,,C\\r\\n580,1,3,\"Jussila, Mr. Eiriik\",male,32,0,0,STON/O 2. 3101286,7.925,,S\\r\\n581,1,2,\"Christy, Miss. Julie Rachel\",female,25,1,1,237789,30,,S\\r\\n582,1,1,\"Thayer, Mrs. John Borland (Marian Longstreth Morris)\",female,39,1,1,17421,110.8833,C68,C\\r\\n583,0,2,\"Downton, Mr. William James\",male,54,0,0,28403,26,,S\\r\\n584,0,1,\"Ross, Mr. John Hugo\",male,36,0,0,13049,40.125,A10,C\\r\\n585,0,3,\"Paulner, Mr. Uscher\",male,,0,0,3411,8.7125,,C\\r\\n586,1,1,\"Taussig, Miss. Ruth\",female,18,0,2,110413,79.65,E68,S\\r\\n587,0,2,\"Jarvis, Mr. John Denzil\",male,47,0,0,237565,15,,S\\r\\n588,1,1,\"Frolicher-Stehli, Mr. Maxmillian\",male,60,1,1,13567,79.2,B41,C\\r\\n589,0,3,\"Gilinski, Mr. Eliezer\",male,22,0,0,14973,8.05,,S\\r\\n590,0,3,\"Murdlin, Mr. Joseph\",male,,0,0,A./5. 3235,8.05,,S\\r\\n591,0,3,\"Rintamaki, Mr. Matti\",male,35,0,0,STON/O 2. 3101273,7.125,,S\\r\\n592,1,1,\"Stephenson, Mrs. Walter Bertram (Martha Eustis)\",female,52,1,0,36947,78.2667,D20,C\\r\\n593,0,3,\"Elsbury, Mr. William James\",male,47,0,0,A/5 3902,7.25,,S\\r\\n594,0,3,\"Bourke, Miss. Mary\",female,,0,2,364848,7.75,,Q\\r\\n595,0,2,\"Chapman, Mr. John Henry\",male,37,1,0,SC/AH 29037,26,,S\\r\\n596,0,3,\"Van Impe, Mr. Jean Baptiste\",male,36,1,1,345773,24.15,,S\\r\\n597,1,2,\"Leitch, Miss. Jessie Wills\",female,,0,0,248727,33,,S\\r\\n598,0,3,\"Johnson, Mr. Alfred\",male,49,0,0,LINE,0,,S\\r\\n599,0,3,\"Boulos, Mr. Hanna\",male,,0,0,2664,7.225,,C\\r\\n600,1,1,\"Duff Gordon, Sir. Cosmo Edmund (\"\"Mr Morgan\"\")\",male,49,1,0,PC 17485,56.9292,A20,C\\r\\n601,1,2,\"Jacobsohn, Mrs. Sidney Samuel (Amy Frances Christy)\",female,24,2,1,243847,27,,S\\r\\n602,0,3,\"Slabenoff, Mr. Petco\",male,,0,0,349214,7.8958,,S\\r\\n603,0,1,\"Harrington, Mr. Charles H\",male,,0,0,113796,42.4,,S\\r\\n604,0,3,\"Torber, Mr. Ernst William\",male,44,0,0,364511,8.05,,S\\r\\n605,1,1,\"Homer, Mr. Harry (\"\"Mr E Haven\"\")\",male,35,0,0,111426,26.55,,C\\r\\n606,0,3,\"Lindell, Mr. Edvard Bengtsson\",male,36,1,0,349910,15.55,,S\\r\\n607,0,3,\"Karaic, Mr. Milan\",male,30,0,0,349246,7.8958,,S\\r\\n608,1,1,\"Daniel, Mr. Robert Williams\",male,27,0,0,113804,30.5,,S\\r\\n609,1,2,\"Laroche, Mrs. Joseph (Juliette Marie Louise Lafargue)\",female,22,1,2,SC/Paris 2123,41.5792,,C\\r\\n610,1,1,\"Shutes, Miss. Elizabeth W\",female,40,0,0,PC 17582,153.4625,C125,S\\r\\n611,0,3,\"Andersson, Mrs. Anders Johan (Alfrida Konstantia Brogren)\",female,39,1,5,347082,31.275,,S\\r\\n612,0,3,\"Jardin, Mr. Jose Neto\",male,,0,0,SOTON/O.Q. 3101305,7.05,,S\\r\\n613,1,3,\"Murphy, Miss. Margaret Jane\",female,,1,0,367230,15.5,,Q\\r\\n614,0,3,\"Horgan, Mr. John\",male,,0,0,370377,7.75,,Q\\r\\n615,0,3,\"Brocklebank, Mr. William Alfred\",male,35,0,0,364512,8.05,,S\\r\\n616,1,2,\"Herman, Miss. Alice\",female,24,1,2,220845,65,,S\\r\\n617,0,3,\"Danbom, Mr. Ernst Gilbert\",male,34,1,1,347080,14.4,,S\\r\\n618,0,3,\"Lobb, Mrs. William Arthur (Cordelia K Stanlick)\",female,26,1,0,A/5. 3336,16.1,,S\\r\\n619,1,2,\"Becker, Miss. Marion Louise\",female,4,2,1,230136,39,F4,S\\r\\n620,0,2,\"Gavey, Mr. Lawrence\",male,26,0,0,31028,10.5,,S\\r\\n621,0,3,\"Yasbeck, Mr. Antoni\",male,27,1,0,2659,14.4542,,C\\r\\n622,1,1,\"Kimball, Mr. Edwin Nelson Jr\",male,42,1,0,11753,52.5542,D19,S\\r\\n623,1,3,\"Nakid, Mr. Sahid\",male,20,1,1,2653,15.7417,,C\\r\\n624,0,3,\"Hansen, Mr. Henry Damsgaard\",male,21,0,0,350029,7.8542,,S\\r\\n625,0,3,\"Bowen, Mr. David John \"\"Dai\"\"\",male,21,0,0,54636,16.1,,S\\r\\n626,0,1,\"Sutton, Mr. Frederick\",male,61,0,0,36963,32.3208,D50,S\\r\\n627,0,2,\"Kirkland, Rev. Charles Leonard\",male,57,0,0,219533,12.35,,Q\\r\\n628,1,1,\"Longley, Miss. Gretchen Fiske\",female,21,0,0,13502,77.9583,D9,S\\r\\n629,0,3,\"Bostandyeff, Mr. Guentcho\",male,26,0,0,349224,7.8958,,S\\r\\n630,0,3,\"O\\'Connell, Mr. Patrick D\",male,,0,0,334912,7.7333,,Q\\r\\n631,1,1,\"Barkworth, Mr. Algernon Henry Wilson\",male,80,0,0,27042,30,A23,S\\r\\n632,0,3,\"Lundahl, Mr. Johan Svensson\",male,51,0,0,347743,7.0542,,S\\r\\n633,1,1,\"Stahelin-Maeglin, Dr. Max\",male,32,0,0,13214,30.5,B50,C\\r\\n634,0,1,\"Parr, Mr. William Henry Marsh\",male,,0,0,112052,0,,S\\r\\n635,0,3,\"Skoog, Miss. Mabel\",female,9,3,2,347088,27.9,,S\\r\\n636,1,2,\"Davis, Miss. Mary\",female,28,0,0,237668,13,,S\\r\\n637,0,3,\"Leinonen, Mr. Antti Gustaf\",male,32,0,0,STON/O 2. 3101292,7.925,,S\\r\\n638,0,2,\"Collyer, Mr. Harvey\",male,31,1,1,C.A. 31921,26.25,,S\\r\\n639,0,3,\"Panula, Mrs. Juha (Maria Emilia Ojala)\",female,41,0,5,3101295,39.6875,,S\\r\\n640,0,3,\"Thorneycroft, Mr. Percival\",male,,1,0,376564,16.1,,S\\r\\n641,0,3,\"Jensen, Mr. Hans Peder\",male,20,0,0,350050,7.8542,,S\\r\\n642,1,1,\"Sagesser, Mlle. Emma\",female,24,0,0,PC 17477,69.3,B35,C\\r\\n643,0,3,\"Skoog, Miss. Margit Elizabeth\",female,2,3,2,347088,27.9,,S\\r\\n644,1,3,\"Foo, Mr. Choong\",male,,0,0,1601,56.4958,,S\\r\\n645,1,3,\"Baclini, Miss. Eugenie\",female,0.75,2,1,2666,19.2583,,C\\r\\n646,1,1,\"Harper, Mr. Henry Sleeper\",male,48,1,0,PC 17572,76.7292,D33,C\\r\\n647,0,3,\"Cor, Mr. Liudevit\",male,19,0,0,349231,7.8958,,S\\r\\n648,1,1,\"Simonius-Blumer, Col. Oberst Alfons\",male,56,0,0,13213,35.5,A26,C\\r\\n649,0,3,\"Willey, Mr. Edward\",male,,0,0,S.O./P.P. 751,7.55,,S\\r\\n650,1,3,\"Stanley, Miss. Amy Zillah Elsie\",female,23,0,0,CA. 2314,7.55,,S\\r\\n651,0,3,\"Mitkoff, Mr. Mito\",male,,0,0,349221,7.8958,,S\\r\\n652,1,2,\"Doling, Miss. Elsie\",female,18,0,1,231919,23,,S\\r\\n653,0,3,\"Kalvik, Mr. Johannes Halvorsen\",male,21,0,0,8475,8.4333,,S\\r\\n654,1,3,\"O\\'Leary, Miss. Hanora \"\"Norah\"\"\",female,,0,0,330919,7.8292,,Q\\r\\n655,0,3,\"Hegarty, Miss. Hanora \"\"Nora\"\"\",female,18,0,0,365226,6.75,,Q\\r\\n656,0,2,\"Hickman, Mr. Leonard Mark\",male,24,2,0,S.O.C. 14879,73.5,,S\\r\\n657,0,3,\"Radeff, Mr. Alexander\",male,,0,0,349223,7.8958,,S\\r\\n658,0,3,\"Bourke, Mrs. John (Catherine)\",female,32,1,1,364849,15.5,,Q\\r\\n659,0,2,\"Eitemiller, Mr. George Floyd\",male,23,0,0,29751,13,,S\\r\\n660,0,1,\"Newell, Mr. Arthur Webster\",male,58,0,2,35273,113.275,D48,C\\r\\n661,1,1,\"Frauenthal, Dr. Henry William\",male,50,2,0,PC 17611,133.65,,S\\r\\n662,0,3,\"Badt, Mr. Mohamed\",male,40,0,0,2623,7.225,,C\\r\\n663,0,1,\"Colley, Mr. Edward Pomeroy\",male,47,0,0,5727,25.5875,E58,S\\r\\n664,0,3,\"Coleff, Mr. Peju\",male,36,0,0,349210,7.4958,,S\\r\\n665,1,3,\"Lindqvist, Mr. Eino William\",male,20,1,0,STON/O 2. 3101285,7.925,,S\\r\\n666,0,2,\"Hickman, Mr. Lewis\",male,32,2,0,S.O.C. 14879,73.5,,S\\r\\n667,0,2,\"Butler, Mr. Reginald Fenton\",male,25,0,0,234686,13,,S\\r\\n668,0,3,\"Rommetvedt, Mr. Knud Paust\",male,,0,0,312993,7.775,,S\\r\\n669,0,3,\"Cook, Mr. Jacob\",male,43,0,0,A/5 3536,8.05,,S\\r\\n670,1,1,\"Taylor, Mrs. Elmer Zebley (Juliet Cummins Wright)\",female,,1,0,19996,52,C126,S\\r\\n671,1,2,\"Brown, Mrs. Thomas William Solomon (Elizabeth Catherine Ford)\",female,40,1,1,29750,39,,S\\r\\n672,0,1,\"Davidson, Mr. Thornton\",male,31,1,0,F.C. 12750,52,B71,S\\r\\n673,0,2,\"Mitchell, Mr. Henry Michael\",male,70,0,0,C.A. 24580,10.5,,S\\r\\n674,1,2,\"Wilhelms, Mr. Charles\",male,31,0,0,244270,13,,S\\r\\n675,0,2,\"Watson, Mr. Ennis Hastings\",male,,0,0,239856,0,,S\\r\\n676,0,3,\"Edvardsson, Mr. Gustaf Hjalmar\",male,18,0,0,349912,7.775,,S\\r\\n677,0,3,\"Sawyer, Mr. Frederick Charles\",male,24.5,0,0,342826,8.05,,S\\r\\n678,1,3,\"Turja, Miss. Anna Sofia\",female,18,0,0,4138,9.8417,,S\\r\\n679,0,3,\"Goodwin, Mrs. Frederick (Augusta Tyler)\",female,43,1,6,CA 2144,46.9,,S\\r\\n680,1,1,\"Cardeza, Mr. Thomas Drake Martinez\",male,36,0,1,PC 17755,512.3292,B51 B53 B55,C\\r\\n681,0,3,\"Peters, Miss. Katie\",female,,0,0,330935,8.1375,,Q\\r\\n682,1,1,\"Hassab, Mr. Hammad\",male,27,0,0,PC 17572,76.7292,D49,C\\r\\n683,0,3,\"Olsvigen, Mr. Thor Anderson\",male,20,0,0,6563,9.225,,S\\r\\n684,0,3,\"Goodwin, Mr. Charles Edward\",male,14,5,2,CA 2144,46.9,,S\\r\\n685,0,2,\"Brown, Mr. Thomas William Solomon\",male,60,1,1,29750,39,,S\\r\\n686,0,2,\"Laroche, Mr. Joseph Philippe Lemercier\",male,25,1,2,SC/Paris 2123,41.5792,,C\\r\\n687,0,3,\"Panula, Mr. Jaako Arnold\",male,14,4,1,3101295,39.6875,,S\\r\\n688,0,3,\"Dakic, Mr. Branko\",male,19,0,0,349228,10.1708,,S\\r\\n689,0,3,\"Fischer, Mr. Eberhard Thelander\",male,18,0,0,350036,7.7958,,S\\r\\n690,1,1,\"Madill, Miss. Georgette Alexandra\",female,15,0,1,24160,211.3375,B5,S\\r\\n691,1,1,\"Dick, Mr. Albert Adrian\",male,31,1,0,17474,57,B20,S\\r\\n692,1,3,\"Karun, Miss. Manca\",female,4,0,1,349256,13.4167,,C\\r\\n693,1,3,\"Lam, Mr. Ali\",male,,0,0,1601,56.4958,,S\\r\\n694,0,3,\"Saad, Mr. Khalil\",male,25,0,0,2672,7.225,,C\\r\\n695,0,1,\"Weir, Col. John\",male,60,0,0,113800,26.55,,S\\r\\n696,0,2,\"Chapman, Mr. Charles Henry\",male,52,0,0,248731,13.5,,S\\r\\n697,0,3,\"Kelly, Mr. James\",male,44,0,0,363592,8.05,,S\\r\\n698,1,3,\"Mullens, Miss. Katherine \"\"Katie\"\"\",female,,0,0,35852,7.7333,,Q\\r\\n699,0,1,\"Thayer, Mr. John Borland\",male,49,1,1,17421,110.8833,C68,C\\r\\n700,0,3,\"Humblen, Mr. Adolf Mathias Nicolai Olsen\",male,42,0,0,348121,7.65,F G63,S\\r\\n701,1,1,\"Astor, Mrs. John Jacob (Madeleine Talmadge Force)\",female,18,1,0,PC 17757,227.525,C62 C64,C\\r\\n702,1,1,\"Silverthorne, Mr. Spencer Victor\",male,35,0,0,PC 17475,26.2875,E24,S\\r\\n703,0,3,\"Barbara, Miss. Saiide\",female,18,0,1,2691,14.4542,,C\\r\\n704,0,3,\"Gallagher, Mr. Martin\",male,25,0,0,36864,7.7417,,Q\\r\\n705,0,3,\"Hansen, Mr. Henrik Juul\",male,26,1,0,350025,7.8542,,S\\r\\n706,0,2,\"Morley, Mr. Henry Samuel (\"\"Mr Henry Marshall\"\")\",male,39,0,0,250655,26,,S\\r\\n707,1,2,\"Kelly, Mrs. Florence \"\"Fannie\"\"\",female,45,0,0,223596,13.5,,S\\r\\n708,1,1,\"Calderhead, Mr. Edward Pennington\",male,42,0,0,PC 17476,26.2875,E24,S\\r\\n709,1,1,\"Cleaver, Miss. Alice\",female,22,0,0,113781,151.55,,S\\r\\n710,1,3,\"Moubarek, Master. Halim Gonios (\"\"William George\"\")\",male,,1,1,2661,15.2458,,C\\r\\n711,1,1,\"Mayne, Mlle. Berthe Antonine (\"\"Mrs de Villiers\"\")\",female,24,0,0,PC 17482,49.5042,C90,C\\r\\n712,0,1,\"Klaber, Mr. Herman\",male,,0,0,113028,26.55,C124,S\\r\\n713,1,1,\"Taylor, Mr. Elmer Zebley\",male,48,1,0,19996,52,C126,S\\r\\n714,0,3,\"Larsson, Mr. August Viktor\",male,29,0,0,7545,9.4833,,S\\r\\n715,0,2,\"Greenberg, Mr. Samuel\",male,52,0,0,250647,13,,S\\r\\n716,0,3,\"Soholt, Mr. Peter Andreas Lauritz Andersen\",male,19,0,0,348124,7.65,F G73,S\\r\\n717,1,1,\"Endres, Miss. Caroline Louise\",female,38,0,0,PC 17757,227.525,C45,C\\r\\n718,1,2,\"Troutt, Miss. Edwina Celia \"\"Winnie\"\"\",female,27,0,0,34218,10.5,E101,S\\r\\n719,0,3,\"McEvoy, Mr. Michael\",male,,0,0,36568,15.5,,Q\\r\\n720,0,3,\"Johnson, Mr. Malkolm Joackim\",male,33,0,0,347062,7.775,,S\\r\\n721,1,2,\"Harper, Miss. Annie Jessie \"\"Nina\"\"\",female,6,0,1,248727,33,,S\\r\\n722,0,3,\"Jensen, Mr. Svend Lauritz\",male,17,1,0,350048,7.0542,,S\\r\\n723,0,2,\"Gillespie, Mr. William Henry\",male,34,0,0,12233,13,,S\\r\\n724,0,2,\"Hodges, Mr. Henry Price\",male,50,0,0,250643,13,,S\\r\\n725,1,1,\"Chambers, Mr. Norman Campbell\",male,27,1,0,113806,53.1,E8,S\\r\\n726,0,3,\"Oreskovic, Mr. Luka\",male,20,0,0,315094,8.6625,,S\\r\\n727,1,2,\"Renouf, Mrs. Peter Henry (Lillian Jefferys)\",female,30,3,0,31027,21,,S\\r\\n728,1,3,\"Mannion, Miss. Margareth\",female,,0,0,36866,7.7375,,Q\\r\\n729,0,2,\"Bryhl, Mr. Kurt Arnold Gottfrid\",male,25,1,0,236853,26,,S\\r\\n730,0,3,\"Ilmakangas, Miss. Pieta Sofia\",female,25,1,0,STON/O2. 3101271,7.925,,S\\r\\n731,1,1,\"Allen, Miss. Elisabeth Walton\",female,29,0,0,24160,211.3375,B5,S\\r\\n732,0,3,\"Hassan, Mr. Houssein G N\",male,11,0,0,2699,18.7875,,C\\r\\n733,0,2,\"Knight, Mr. Robert J\",male,,0,0,239855,0,,S\\r\\n734,0,2,\"Berriman, Mr. William John\",male,23,0,0,28425,13,,S\\r\\n735,0,2,\"Troupiansky, Mr. Moses Aaron\",male,23,0,0,233639,13,,S\\r\\n736,0,3,\"Williams, Mr. Leslie\",male,28.5,0,0,54636,16.1,,S\\r\\n737,0,3,\"Ford, Mrs. Edward (Margaret Ann Watson)\",female,48,1,3,W./C. 6608,34.375,,S\\r\\n738,1,1,\"Lesurer, Mr. Gustave J\",male,35,0,0,PC 17755,512.3292,B101,C\\r\\n739,0,3,\"Ivanoff, Mr. Kanio\",male,,0,0,349201,7.8958,,S\\r\\n740,0,3,\"Nankoff, Mr. Minko\",male,,0,0,349218,7.8958,,S\\r\\n741,1,1,\"Hawksford, Mr. Walter James\",male,,0,0,16988,30,D45,S\\r\\n742,0,1,\"Cavendish, Mr. Tyrell William\",male,36,1,0,19877,78.85,C46,S\\r\\n743,1,1,\"Ryerson, Miss. Susan Parker \"\"Suzette\"\"\",female,21,2,2,PC 17608,262.375,B57 B59 B63 B66,C\\r\\n744,0,3,\"McNamee, Mr. Neal\",male,24,1,0,376566,16.1,,S\\r\\n745,1,3,\"Stranden, Mr. Juho\",male,31,0,0,STON/O 2. 3101288,7.925,,S\\r\\n746,0,1,\"Crosby, Capt. Edward Gifford\",male,70,1,1,WE/P 5735,71,B22,S\\r\\n747,0,3,\"Abbott, Mr. Rossmore Edward\",male,16,1,1,C.A. 2673,20.25,,S\\r\\n748,1,2,\"Sinkkonen, Miss. Anna\",female,30,0,0,250648,13,,S\\r\\n749,0,1,\"Marvin, Mr. Daniel Warner\",male,19,1,0,113773,53.1,D30,S\\r\\n750,0,3,\"Connaghton, Mr. Michael\",male,31,0,0,335097,7.75,,Q\\r\\n751,1,2,\"Wells, Miss. Joan\",female,4,1,1,29103,23,,S\\r\\n752,1,3,\"Moor, Master. Meier\",male,6,0,1,392096,12.475,E121,S\\r\\n753,0,3,\"Vande Velde, Mr. Johannes Joseph\",male,33,0,0,345780,9.5,,S\\r\\n754,0,3,\"Jonkoff, Mr. Lalio\",male,23,0,0,349204,7.8958,,S\\r\\n755,1,2,\"Herman, Mrs. Samuel (Jane Laver)\",female,48,1,2,220845,65,,S\\r\\n756,1,2,\"Hamalainen, Master. Viljo\",male,0.67,1,1,250649,14.5,,S\\r\\n757,0,3,\"Carlsson, Mr. August Sigfrid\",male,28,0,0,350042,7.7958,,S\\r\\n758,0,2,\"Bailey, Mr. Percy Andrew\",male,18,0,0,29108,11.5,,S\\r\\n759,0,3,\"Theobald, Mr. Thomas Leonard\",male,34,0,0,363294,8.05,,S\\r\\n760,1,1,\"Rothes, the Countess. of (Lucy Noel Martha Dyer-Edwards)\",female,33,0,0,110152,86.5,B77,S\\r\\n761,0,3,\"Garfirth, Mr. John\",male,,0,0,358585,14.5,,S\\r\\n762,0,3,\"Nirva, Mr. Iisakki Antino Aijo\",male,41,0,0,SOTON/O2 3101272,7.125,,S\\r\\n763,1,3,\"Barah, Mr. Hanna Assi\",male,20,0,0,2663,7.2292,,C\\r\\n764,1,1,\"Carter, Mrs. William Ernest (Lucile Polk)\",female,36,1,2,113760,120,B96 B98,S\\r\\n765,0,3,\"Eklund, Mr. Hans Linus\",male,16,0,0,347074,7.775,,S\\r\\n766,1,1,\"Hogeboom, Mrs. John C (Anna Andrews)\",female,51,1,0,13502,77.9583,D11,S\\r\\n767,0,1,\"Brewe, Dr. Arthur Jackson\",male,,0,0,112379,39.6,,C\\r\\n768,0,3,\"Mangan, Miss. Mary\",female,30.5,0,0,364850,7.75,,Q\\r\\n769,0,3,\"Moran, Mr. Daniel J\",male,,1,0,371110,24.15,,Q\\r\\n770,0,3,\"Gronnestad, Mr. Daniel Danielsen\",male,32,0,0,8471,8.3625,,S\\r\\n771,0,3,\"Lievens, Mr. Rene Aime\",male,24,0,0,345781,9.5,,S\\r\\n772,0,3,\"Jensen, Mr. Niels Peder\",male,48,0,0,350047,7.8542,,S\\r\\n773,0,2,\"Mack, Mrs. (Mary)\",female,57,0,0,S.O./P.P. 3,10.5,E77,S\\r\\n774,0,3,\"Elias, Mr. Dibo\",male,,0,0,2674,7.225,,C\\r\\n775,1,2,\"Hocking, Mrs. Elizabeth (Eliza Needs)\",female,54,1,3,29105,23,,S\\r\\n776,0,3,\"Myhrman, Mr. Pehr Fabian Oliver Malkolm\",male,18,0,0,347078,7.75,,S\\r\\n777,0,3,\"Tobin, Mr. Roger\",male,,0,0,383121,7.75,F38,Q\\r\\n778,1,3,\"Emanuel, Miss. Virginia Ethel\",female,5,0,0,364516,12.475,,S\\r\\n779,0,3,\"Kilgannon, Mr. Thomas J\",male,,0,0,36865,7.7375,,Q\\r\\n780,1,1,\"Robert, Mrs. Edward Scott (Elisabeth Walton McMillan)\",female,43,0,1,24160,211.3375,B3,S\\r\\n781,1,3,\"Ayoub, Miss. Banoura\",female,13,0,0,2687,7.2292,,C\\r\\n782,1,1,\"Dick, Mrs. Albert Adrian (Vera Gillespie)\",female,17,1,0,17474,57,B20,S\\r\\n783,0,1,\"Long, Mr. Milton Clyde\",male,29,0,0,113501,30,D6,S\\r\\n784,0,3,\"Johnston, Mr. Andrew G\",male,,1,2,W./C. 6607,23.45,,S\\r\\n785,0,3,\"Ali, Mr. William\",male,25,0,0,SOTON/O.Q. 3101312,7.05,,S\\r\\n786,0,3,\"Harmer, Mr. Abraham (David Lishin)\",male,25,0,0,374887,7.25,,S\\r\\n787,1,3,\"Sjoblom, Miss. Anna Sofia\",female,18,0,0,3101265,7.4958,,S\\r\\n788,0,3,\"Rice, Master. George Hugh\",male,8,4,1,382652,29.125,,Q\\r\\n789,1,3,\"Dean, Master. Bertram Vere\",male,1,1,2,C.A. 2315,20.575,,S\\r\\n790,0,1,\"Guggenheim, Mr. Benjamin\",male,46,0,0,PC 17593,79.2,B82 B84,C\\r\\n791,0,3,\"Keane, Mr. Andrew \"\"Andy\"\"\",male,,0,0,12460,7.75,,Q\\r\\n792,0,2,\"Gaskell, Mr. Alfred\",male,16,0,0,239865,26,,S\\r\\n793,0,3,\"Sage, Miss. Stella Anna\",female,,8,2,CA. 2343,69.55,,S\\r\\n794,0,1,\"Hoyt, Mr. William Fisher\",male,,0,0,PC 17600,30.6958,,C\\r\\n795,0,3,\"Dantcheff, Mr. Ristiu\",male,25,0,0,349203,7.8958,,S\\r\\n796,0,2,\"Otter, Mr. Richard\",male,39,0,0,28213,13,,S\\r\\n797,1,1,\"Leader, Dr. Alice (Farnham)\",female,49,0,0,17465,25.9292,D17,S\\r\\n798,1,3,\"Osman, Mrs. Mara\",female,31,0,0,349244,8.6833,,S\\r\\n799,0,3,\"Ibrahim Shawah, Mr. Yousseff\",male,30,0,0,2685,7.2292,,C\\r\\n800,0,3,\"Van Impe, Mrs. Jean Baptiste (Rosalie Paula Govaert)\",female,30,1,1,345773,24.15,,S\\r\\n801,0,2,\"Ponesell, Mr. Martin\",male,34,0,0,250647,13,,S\\r\\n802,1,2,\"Collyer, Mrs. Harvey (Charlotte Annie Tate)\",female,31,1,1,C.A. 31921,26.25,,S\\r\\n803,1,1,\"Carter, Master. William Thornton II\",male,11,1,2,113760,120,B96 B98,S\\r\\n804,1,3,\"Thomas, Master. Assad Alexander\",male,0.42,0,1,2625,8.5167,,C\\r\\n805,1,3,\"Hedman, Mr. Oskar Arvid\",male,27,0,0,347089,6.975,,S\\r\\n806,0,3,\"Johansson, Mr. Karl Johan\",male,31,0,0,347063,7.775,,S\\r\\n807,0,1,\"Andrews, Mr. Thomas Jr\",male,39,0,0,112050,0,A36,S\\r\\n808,0,3,\"Pettersson, Miss. Ellen Natalia\",female,18,0,0,347087,7.775,,S\\r\\n809,0,2,\"Meyer, Mr. August\",male,39,0,0,248723,13,,S\\r\\n810,1,1,\"Chambers, Mrs. Norman Campbell (Bertha Griggs)\",female,33,1,0,113806,53.1,E8,S\\r\\n811,0,3,\"Alexander, Mr. William\",male,26,0,0,3474,7.8875,,S\\r\\n812,0,3,\"Lester, Mr. James\",male,39,0,0,A/4 48871,24.15,,S\\r\\n813,0,2,\"Slemen, Mr. Richard James\",male,35,0,0,28206,10.5,,S\\r\\n814,0,3,\"Andersson, Miss. Ebba Iris Alfrida\",female,6,4,2,347082,31.275,,S\\r\\n815,0,3,\"Tomlin, Mr. Ernest Portage\",male,30.5,0,0,364499,8.05,,S\\r\\n816,0,1,\"Fry, Mr. Richard\",male,,0,0,112058,0,B102,S\\r\\n817,0,3,\"Heininen, Miss. Wendla Maria\",female,23,0,0,STON/O2. 3101290,7.925,,S\\r\\n818,0,2,\"Mallet, Mr. Albert\",male,31,1,1,S.C./PARIS 2079,37.0042,,C\\r\\n819,0,3,\"Holm, Mr. John Fredrik Alexander\",male,43,0,0,C 7075,6.45,,S\\r\\n820,0,3,\"Skoog, Master. Karl Thorsten\",male,10,3,2,347088,27.9,,S\\r\\n821,1,1,\"Hays, Mrs. Charles Melville (Clara Jennings Gregg)\",female,52,1,1,12749,93.5,B69,S\\r\\n822,1,3,\"Lulic, Mr. Nikola\",male,27,0,0,315098,8.6625,,S\\r\\n823,0,1,\"Reuchlin, Jonkheer. John George\",male,38,0,0,19972,0,,S\\r\\n824,1,3,\"Moor, Mrs. (Beila)\",female,27,0,1,392096,12.475,E121,S\\r\\n825,0,3,\"Panula, Master. Urho Abraham\",male,2,4,1,3101295,39.6875,,S\\r\\n826,0,3,\"Flynn, Mr. John\",male,,0,0,368323,6.95,,Q\\r\\n827,0,3,\"Lam, Mr. Len\",male,,0,0,1601,56.4958,,S\\r\\n828,1,2,\"Mallet, Master. Andre\",male,1,0,2,S.C./PARIS 2079,37.0042,,C\\r\\n829,1,3,\"McCormack, Mr. Thomas Joseph\",male,,0,0,367228,7.75,,Q\\r\\n830,1,1,\"Stone, Mrs. George Nelson (Martha Evelyn)\",female,62,0,0,113572,80,B28,\\r\\n831,1,3,\"Yasbeck, Mrs. Antoni (Selini Alexander)\",female,15,1,0,2659,14.4542,,C\\r\\n832,1,2,\"Richards, Master. George Sibley\",male,0.83,1,1,29106,18.75,,S\\r\\n833,0,3,\"Saad, Mr. Amin\",male,,0,0,2671,7.2292,,C\\r\\n834,0,3,\"Augustsson, Mr. Albert\",male,23,0,0,347468,7.8542,,S\\r\\n835,0,3,\"Allum, Mr. Owen George\",male,18,0,0,2223,8.3,,S\\r\\n836,1,1,\"Compton, Miss. Sara Rebecca\",female,39,1,1,PC 17756,83.1583,E49,C\\r\\n837,0,3,\"Pasic, Mr. Jakob\",male,21,0,0,315097,8.6625,,S\\r\\n838,0,3,\"Sirota, Mr. Maurice\",male,,0,0,392092,8.05,,S\\r\\n839,1,3,\"Chip, Mr. Chang\",male,32,0,0,1601,56.4958,,S\\r\\n840,1,1,\"Marechal, Mr. Pierre\",male,,0,0,11774,29.7,C47,C\\r\\n841,0,3,\"Alhomaki, Mr. Ilmari Rudolf\",male,20,0,0,SOTON/O2 3101287,7.925,,S\\r\\n842,0,2,\"Mudd, Mr. Thomas Charles\",male,16,0,0,S.O./P.P. 3,10.5,,S\\r\\n843,1,1,\"Serepeca, Miss. Augusta\",female,30,0,0,113798,31,,C\\r\\n844,0,3,\"Lemberopolous, Mr. Peter L\",male,34.5,0,0,2683,6.4375,,C\\r\\n845,0,3,\"Culumovic, Mr. Jeso\",male,17,0,0,315090,8.6625,,S\\r\\n846,0,3,\"Abbing, Mr. Anthony\",male,42,0,0,C.A. 5547,7.55,,S\\r\\n847,0,3,\"Sage, Mr. Douglas Bullen\",male,,8,2,CA. 2343,69.55,,S\\r\\n848,0,3,\"Markoff, Mr. Marin\",male,35,0,0,349213,7.8958,,C\\r\\n849,0,2,\"Harper, Rev. John\",male,28,0,1,248727,33,,S\\r\\n850,1,1,\"Goldenberg, Mrs. Samuel L (Edwiga Grabowska)\",female,,1,0,17453,89.1042,C92,C\\r\\n851,0,3,\"Andersson, Master. Sigvard Harald Elias\",male,4,4,2,347082,31.275,,S\\r\\n852,0,3,\"Svensson, Mr. Johan\",male,74,0,0,347060,7.775,,S\\r\\n853,0,3,\"Boulos, Miss. Nourelain\",female,9,1,1,2678,15.2458,,C\\r\\n854,1,1,\"Lines, Miss. Mary Conover\",female,16,0,1,PC 17592,39.4,D28,S\\r\\n855,0,2,\"Carter, Mrs. Ernest Courtenay (Lilian Hughes)\",female,44,1,0,244252,26,,S\\r\\n856,1,3,\"Aks, Mrs. Sam (Leah Rosen)\",female,18,0,1,392091,9.35,,S\\r\\n857,1,1,\"Wick, Mrs. George Dennick (Mary Hitchcock)\",female,45,1,1,36928,164.8667,,S\\r\\n858,1,1,\"Daly, Mr. Peter Denis \",male,51,0,0,113055,26.55,E17,S\\r\\n859,1,3,\"Baclini, Mrs. Solomon (Latifa Qurban)\",female,24,0,3,2666,19.2583,,C\\r\\n860,0,3,\"Razi, Mr. Raihed\",male,,0,0,2629,7.2292,,C\\r\\n861,0,3,\"Hansen, Mr. Claus Peter\",male,41,2,0,350026,14.1083,,S\\r\\n862,0,2,\"Giles, Mr. Frederick Edward\",male,21,1,0,28134,11.5,,S\\r\\n863,1,1,\"Swift, Mrs. Frederick Joel (Margaret Welles Barron)\",female,48,0,0,17466,25.9292,D17,S\\r\\n864,0,3,\"Sage, Miss. Dorothy Edith \"\"Dolly\"\"\",female,,8,2,CA. 2343,69.55,,S\\r\\n865,0,2,\"Gill, Mr. John William\",male,24,0,0,233866,13,,S\\r\\n866,1,2,\"Bystrom, Mrs. (Karolina)\",female,42,0,0,236852,13,,S\\r\\n867,1,2,\"Duran y More, Miss. Asuncion\",female,27,1,0,SC/PARIS 2149,13.8583,,C\\r\\n868,0,1,\"Roebling, Mr. Washington Augustus II\",male,31,0,0,PC 17590,50.4958,A24,S\\r\\n869,0,3,\"van Melkebeke, Mr. Philemon\",male,,0,0,345777,9.5,,S\\r\\n870,1,3,\"Johnson, Master. Harold Theodor\",male,4,1,1,347742,11.1333,,S\\r\\n871,0,3,\"Balkic, Mr. Cerin\",male,26,0,0,349248,7.8958,,S\\r\\n872,1,1,\"Beckwith, Mrs. Richard Leonard (Sallie Monypeny)\",female,47,1,1,11751,52.5542,D35,S\\r\\n873,0,1,\"Carlsson, Mr. Frans Olof\",male,33,0,0,695,5,B51 B53 B55,S\\r\\n874,0,3,\"Vander Cruyssen, Mr. Victor\",male,47,0,0,345765,9,,S\\r\\n875,1,2,\"Abelson, Mrs. Samuel (Hannah Wizosky)\",female,28,1,0,P/PP 3381,24,,C\\r\\n876,1,3,\"Najib, Miss. Adele Kiamie \"\"Jane\"\"\",female,15,0,0,2667,7.225,,C\\r\\n877,0,3,\"Gustafsson, Mr. Alfred Ossian\",male,20,0,0,7534,9.8458,,S\\r\\n878,0,3,\"Petroff, Mr. Nedelio\",male,19,0,0,349212,7.8958,,S\\r\\n879,0,3,\"Laleff, Mr. Kristo\",male,,0,0,349217,7.8958,,S\\r\\n880,1,1,\"Potter, Mrs. Thomas Jr (Lily Alexenia Wilson)\",female,56,0,1,11767,83.1583,C50,C\\r\\n881,1,2,\"Shelley, Mrs. William (Imanita Parrish Hall)\",female,25,0,1,230433,26,,S\\r\\n882,0,3,\"Markun, Mr. Johann\",male,33,0,0,349257,7.8958,,S\\r\\n883,0,3,\"Dahlberg, Miss. Gerda Ulrika\",female,22,0,0,7552,10.5167,,S\\r\\n884,0,2,\"Banfield, Mr. Frederick James\",male,28,0,0,C.A./SOTON 34068,10.5,,S\\r\\n885,0,3,\"Sutehall, Mr. Henry Jr\",male,25,0,0,SOTON/OQ 392076,7.05,,S\\r\\n886,0,3,\"Rice, Mrs. William (Margaret Norton)\",female,39,0,5,382652,29.125,,Q\\r\\n887,0,2,\"Montvila, Rev. Juozas\",male,27,0,0,211536,13,,S\\r\\n888,1,1,\"Graham, Miss. Margaret Edith\",female,19,0,0,112053,30,B42,S\\r\\n889,0,3,\"Johnston, Miss. Catherine Helen \"\"Carrie\"\"\",female,,1,2,W./C. 6607,23.45,,S\\r\\n890,1,1,\"Behr, Mr. Karl Howell\",male,26,0,0,111369,30,C148,C\\r\\n891,0,3,\"Dooley, Mr. Patrick\",male,32,0,0,370376,7.75,,Q\\r\\n'}"
            ]
          },
          "metadata": {},
          "execution_count": 12
        }
      ]
    },
    {
      "cell_type": "code",
      "source": [
        "data = spark.read.csv('titanic.csv', inferSchema=True, header=True)\n",
        "\n",
        "data = data.select(['Survived', 'Pclass', 'Gender', 'Age', 'SibSp', 'Parch', 'Fare'])\n",
        "\n",
        "data.show()"
      ],
      "metadata": {
        "colab": {
          "base_uri": "https://localhost:8080/"
        },
        "id": "NnRkngViJzZ4",
        "outputId": "4adf3bb5-2725-4803-bbb1-05e3eb390966"
      },
      "execution_count": null,
      "outputs": [
        {
          "output_type": "stream",
          "name": "stdout",
          "text": [
            "+--------+------+------+----+-----+-----+-------+\n",
            "|Survived|Pclass|Gender| Age|SibSp|Parch|   Fare|\n",
            "+--------+------+------+----+-----+-----+-------+\n",
            "|       0|     3|  male|22.0|    1|    0|   7.25|\n",
            "|       1|     1|female|38.0|    1|    0|71.2833|\n",
            "|       1|     3|female|26.0|    0|    0|  7.925|\n",
            "|       1|     1|female|35.0|    1|    0|   53.1|\n",
            "|       0|     3|  male|35.0|    0|    0|   8.05|\n",
            "|       0|     3|  male|NULL|    0|    0| 8.4583|\n",
            "|       0|     1|  male|54.0|    0|    0|51.8625|\n",
            "|       0|     3|  male| 2.0|    3|    1| 21.075|\n",
            "|       1|     3|female|27.0|    0|    2|11.1333|\n",
            "|       1|     2|female|14.0|    1|    0|30.0708|\n",
            "|       1|     3|female| 4.0|    1|    1|   16.7|\n",
            "|       1|     1|female|58.0|    0|    0|  26.55|\n",
            "|       0|     3|  male|20.0|    0|    0|   8.05|\n",
            "|       0|     3|  male|39.0|    1|    5| 31.275|\n",
            "|       0|     3|female|14.0|    0|    0| 7.8542|\n",
            "|       1|     2|female|55.0|    0|    0|   16.0|\n",
            "|       0|     3|  male| 2.0|    4|    1| 29.125|\n",
            "|       1|     2|  male|NULL|    0|    0|   13.0|\n",
            "|       0|     3|female|31.0|    1|    0|   18.0|\n",
            "|       1|     3|female|NULL|    0|    0|  7.225|\n",
            "+--------+------+------+----+-----+-----+-------+\n",
            "only showing top 20 rows\n",
            "\n"
          ]
        }
      ]
    },
    {
      "cell_type": "code",
      "source": [
        "from pyspark.ml.feature import Imputer\n",
        "imputer = Imputer(strategy='mean', inputCols=['Age'], outputCols=['AgeImputed'])\n",
        "imputer_model = imputer.fit(data)\n",
        "data = imputer_model.transform(data)\n",
        "data.show()"
      ],
      "metadata": {
        "colab": {
          "base_uri": "https://localhost:8080/"
        },
        "id": "ceAOipl-J5iP",
        "outputId": "462d3eda-e8bd-46b2-d052-b97399fa7339"
      },
      "execution_count": null,
      "outputs": [
        {
          "output_type": "stream",
          "name": "stdout",
          "text": [
            "+--------+------+------+----+-----+-----+-------+-----------------+\n",
            "|Survived|Pclass|Gender| Age|SibSp|Parch|   Fare|       AgeImputed|\n",
            "+--------+------+------+----+-----+-----+-------+-----------------+\n",
            "|       0|     3|  male|22.0|    1|    0|   7.25|             22.0|\n",
            "|       1|     1|female|38.0|    1|    0|71.2833|             38.0|\n",
            "|       1|     3|female|26.0|    0|    0|  7.925|             26.0|\n",
            "|       1|     1|female|35.0|    1|    0|   53.1|             35.0|\n",
            "|       0|     3|  male|35.0|    0|    0|   8.05|             35.0|\n",
            "|       0|     3|  male|NULL|    0|    0| 8.4583|29.69911764705882|\n",
            "|       0|     1|  male|54.0|    0|    0|51.8625|             54.0|\n",
            "|       0|     3|  male| 2.0|    3|    1| 21.075|              2.0|\n",
            "|       1|     3|female|27.0|    0|    2|11.1333|             27.0|\n",
            "|       1|     2|female|14.0|    1|    0|30.0708|             14.0|\n",
            "|       1|     3|female| 4.0|    1|    1|   16.7|              4.0|\n",
            "|       1|     1|female|58.0|    0|    0|  26.55|             58.0|\n",
            "|       0|     3|  male|20.0|    0|    0|   8.05|             20.0|\n",
            "|       0|     3|  male|39.0|    1|    5| 31.275|             39.0|\n",
            "|       0|     3|female|14.0|    0|    0| 7.8542|             14.0|\n",
            "|       1|     2|female|55.0|    0|    0|   16.0|             55.0|\n",
            "|       0|     3|  male| 2.0|    4|    1| 29.125|              2.0|\n",
            "|       1|     2|  male|NULL|    0|    0|   13.0|29.69911764705882|\n",
            "|       0|     3|female|31.0|    1|    0|   18.0|             31.0|\n",
            "|       1|     3|female|NULL|    0|    0|  7.225|29.69911764705882|\n",
            "+--------+------+------+----+-----+-----+-------+-----------------+\n",
            "only showing top 20 rows\n",
            "\n"
          ]
        }
      ]
    },
    {
      "cell_type": "code",
      "source": [
        "from pyspark.ml.feature import StringIndexer\n",
        "gender_indexer = StringIndexer(inputCol='Gender', outputCol='GenderIndexed')\n",
        "gender_indexer_model = gender_indexer.fit(data)\n",
        "data = gender_indexer_model.transform(data)\n",
        "data.show()"
      ],
      "metadata": {
        "colab": {
          "base_uri": "https://localhost:8080/"
        },
        "id": "zt-MODX-J9lf",
        "outputId": "fa3eae0e-824b-4b92-f781-733d11438897"
      },
      "execution_count": null,
      "outputs": [
        {
          "output_type": "stream",
          "name": "stdout",
          "text": [
            "+--------+------+------+----+-----+-----+-------+-----------------+-------------+\n",
            "|Survived|Pclass|Gender| Age|SibSp|Parch|   Fare|       AgeImputed|GenderIndexed|\n",
            "+--------+------+------+----+-----+-----+-------+-----------------+-------------+\n",
            "|       0|     3|  male|22.0|    1|    0|   7.25|             22.0|          0.0|\n",
            "|       1|     1|female|38.0|    1|    0|71.2833|             38.0|          1.0|\n",
            "|       1|     3|female|26.0|    0|    0|  7.925|             26.0|          1.0|\n",
            "|       1|     1|female|35.0|    1|    0|   53.1|             35.0|          1.0|\n",
            "|       0|     3|  male|35.0|    0|    0|   8.05|             35.0|          0.0|\n",
            "|       0|     3|  male|NULL|    0|    0| 8.4583|29.69911764705882|          0.0|\n",
            "|       0|     1|  male|54.0|    0|    0|51.8625|             54.0|          0.0|\n",
            "|       0|     3|  male| 2.0|    3|    1| 21.075|              2.0|          0.0|\n",
            "|       1|     3|female|27.0|    0|    2|11.1333|             27.0|          1.0|\n",
            "|       1|     2|female|14.0|    1|    0|30.0708|             14.0|          1.0|\n",
            "|       1|     3|female| 4.0|    1|    1|   16.7|              4.0|          1.0|\n",
            "|       1|     1|female|58.0|    0|    0|  26.55|             58.0|          1.0|\n",
            "|       0|     3|  male|20.0|    0|    0|   8.05|             20.0|          0.0|\n",
            "|       0|     3|  male|39.0|    1|    5| 31.275|             39.0|          0.0|\n",
            "|       0|     3|female|14.0|    0|    0| 7.8542|             14.0|          1.0|\n",
            "|       1|     2|female|55.0|    0|    0|   16.0|             55.0|          1.0|\n",
            "|       0|     3|  male| 2.0|    4|    1| 29.125|              2.0|          0.0|\n",
            "|       1|     2|  male|NULL|    0|    0|   13.0|29.69911764705882|          0.0|\n",
            "|       0|     3|female|31.0|    1|    0|   18.0|             31.0|          1.0|\n",
            "|       1|     3|female|NULL|    0|    0|  7.225|29.69911764705882|          1.0|\n",
            "+--------+------+------+----+-----+-----+-------+-----------------+-------------+\n",
            "only showing top 20 rows\n",
            "\n"
          ]
        }
      ]
    },
    {
      "cell_type": "code",
      "source": [
        "from pyspark.ml.feature import VectorAssembler\n",
        "assembler = VectorAssembler(inputCols=['Pclass', 'SibSp', 'Parch', 'Fare', 'AgeImputed', 'GenderIndexed'], outputCol='features')\n",
        "data = assembler.transform(data)\n",
        "data.show()"
      ],
      "metadata": {
        "colab": {
          "base_uri": "https://localhost:8080/"
        },
        "id": "YW5JU4OJKB4Z",
        "outputId": "7637b0d5-d5de-4d06-cefa-79d4397c1871"
      },
      "execution_count": null,
      "outputs": [
        {
          "output_type": "stream",
          "name": "stdout",
          "text": [
            "+--------+------+------+----+-----+-----+-------+-----------------+-------------+--------------------+\n",
            "|Survived|Pclass|Gender| Age|SibSp|Parch|   Fare|       AgeImputed|GenderIndexed|            features|\n",
            "+--------+------+------+----+-----+-----+-------+-----------------+-------------+--------------------+\n",
            "|       0|     3|  male|22.0|    1|    0|   7.25|             22.0|          0.0|[3.0,1.0,0.0,7.25...|\n",
            "|       1|     1|female|38.0|    1|    0|71.2833|             38.0|          1.0|[1.0,1.0,0.0,71.2...|\n",
            "|       1|     3|female|26.0|    0|    0|  7.925|             26.0|          1.0|[3.0,0.0,0.0,7.92...|\n",
            "|       1|     1|female|35.0|    1|    0|   53.1|             35.0|          1.0|[1.0,1.0,0.0,53.1...|\n",
            "|       0|     3|  male|35.0|    0|    0|   8.05|             35.0|          0.0|[3.0,0.0,0.0,8.05...|\n",
            "|       0|     3|  male|NULL|    0|    0| 8.4583|29.69911764705882|          0.0|[3.0,0.0,0.0,8.45...|\n",
            "|       0|     1|  male|54.0|    0|    0|51.8625|             54.0|          0.0|[1.0,0.0,0.0,51.8...|\n",
            "|       0|     3|  male| 2.0|    3|    1| 21.075|              2.0|          0.0|[3.0,3.0,1.0,21.0...|\n",
            "|       1|     3|female|27.0|    0|    2|11.1333|             27.0|          1.0|[3.0,0.0,2.0,11.1...|\n",
            "|       1|     2|female|14.0|    1|    0|30.0708|             14.0|          1.0|[2.0,1.0,0.0,30.0...|\n",
            "|       1|     3|female| 4.0|    1|    1|   16.7|              4.0|          1.0|[3.0,1.0,1.0,16.7...|\n",
            "|       1|     1|female|58.0|    0|    0|  26.55|             58.0|          1.0|[1.0,0.0,0.0,26.5...|\n",
            "|       0|     3|  male|20.0|    0|    0|   8.05|             20.0|          0.0|[3.0,0.0,0.0,8.05...|\n",
            "|       0|     3|  male|39.0|    1|    5| 31.275|             39.0|          0.0|[3.0,1.0,5.0,31.2...|\n",
            "|       0|     3|female|14.0|    0|    0| 7.8542|             14.0|          1.0|[3.0,0.0,0.0,7.85...|\n",
            "|       1|     2|female|55.0|    0|    0|   16.0|             55.0|          1.0|[2.0,0.0,0.0,16.0...|\n",
            "|       0|     3|  male| 2.0|    4|    1| 29.125|              2.0|          0.0|[3.0,4.0,1.0,29.1...|\n",
            "|       1|     2|  male|NULL|    0|    0|   13.0|29.69911764705882|          0.0|[2.0,0.0,0.0,13.0...|\n",
            "|       0|     3|female|31.0|    1|    0|   18.0|             31.0|          1.0|[3.0,1.0,0.0,18.0...|\n",
            "|       1|     3|female|NULL|    0|    0|  7.225|29.69911764705882|          1.0|[3.0,0.0,0.0,7.22...|\n",
            "+--------+------+------+----+-----+-----+-------+-----------------+-------------+--------------------+\n",
            "only showing top 20 rows\n",
            "\n"
          ]
        }
      ]
    },
    {
      "cell_type": "code",
      "source": [
        "finalized_data = data.select('features','Survived')\n",
        "finalized_data.show()"
      ],
      "metadata": {
        "colab": {
          "base_uri": "https://localhost:8080/"
        },
        "id": "F4Qq55p-KHHT",
        "outputId": "89e74fa6-6f2b-4ed7-8052-3261f3b504e9"
      },
      "execution_count": null,
      "outputs": [
        {
          "output_type": "stream",
          "name": "stdout",
          "text": [
            "+--------------------+--------+\n",
            "|            features|Survived|\n",
            "+--------------------+--------+\n",
            "|[3.0,1.0,0.0,7.25...|       0|\n",
            "|[1.0,1.0,0.0,71.2...|       1|\n",
            "|[3.0,0.0,0.0,7.92...|       1|\n",
            "|[1.0,1.0,0.0,53.1...|       1|\n",
            "|[3.0,0.0,0.0,8.05...|       0|\n",
            "|[3.0,0.0,0.0,8.45...|       0|\n",
            "|[1.0,0.0,0.0,51.8...|       0|\n",
            "|[3.0,3.0,1.0,21.0...|       0|\n",
            "|[3.0,0.0,2.0,11.1...|       1|\n",
            "|[2.0,1.0,0.0,30.0...|       1|\n",
            "|[3.0,1.0,1.0,16.7...|       1|\n",
            "|[1.0,0.0,0.0,26.5...|       1|\n",
            "|[3.0,0.0,0.0,8.05...|       0|\n",
            "|[3.0,1.0,5.0,31.2...|       0|\n",
            "|[3.0,0.0,0.0,7.85...|       0|\n",
            "|[2.0,0.0,0.0,16.0...|       1|\n",
            "|[3.0,4.0,1.0,29.1...|       0|\n",
            "|[2.0,0.0,0.0,13.0...|       1|\n",
            "|[3.0,1.0,0.0,18.0...|       0|\n",
            "|[3.0,0.0,0.0,7.22...|       1|\n",
            "+--------------------+--------+\n",
            "only showing top 20 rows\n",
            "\n"
          ]
        }
      ]
    },
    {
      "cell_type": "code",
      "source": [
        "train_data,test_data = finalized_data.randomSplit([0.8,0.2])\n"
      ],
      "metadata": {
        "id": "m7GWrjhTKLsD"
      },
      "execution_count": null,
      "outputs": []
    },
    {
      "cell_type": "code",
      "source": [
        "\n",
        "from pyspark.ml.classification import RandomForestClassifier\n",
        "algo = RandomForestClassifier(featuresCol='features', labelCol='Survived')\n",
        "model = algo.fit(train_data)"
      ],
      "metadata": {
        "id": "oHaQ49i1KUPn"
      },
      "execution_count": null,
      "outputs": []
    },
    {
      "cell_type": "code",
      "source": [
        "predictions = model.transform(test_data)\n",
        "pred = model.evaluate(test_data)\n",
        "pred.predictions.show()"
      ],
      "metadata": {
        "colab": {
          "base_uri": "https://localhost:8080/"
        },
        "id": "-DPo1dIvKaFQ",
        "outputId": "1ab3e320-a232-4419-aa57-83e2cfb575b4"
      },
      "execution_count": null,
      "outputs": [
        {
          "output_type": "stream",
          "name": "stdout",
          "text": [
            "+--------------------+--------+--------------------+--------------------+----------+\n",
            "|            features|Survived|       rawPrediction|         probability|prediction|\n",
            "+--------------------+--------+--------------------+--------------------+----------+\n",
            "|(6,[0,4],[1.0,29....|       0|[17.0397787923409...|[0.85198893961704...|       0.0|\n",
            "|(6,[0,4],[1.0,29....|       0|[17.0397787923409...|[0.85198893961704...|       0.0|\n",
            "|(6,[0,4],[1.0,38.0])|       0|[17.0397787923409...|[0.85198893961704...|       0.0|\n",
            "|(6,[0,4],[2.0,29....|       0|[17.6630521517929...|[0.88315260758964...|       0.0|\n",
            "|(6,[0,4],[2.0,29....|       0|[17.6630521517929...|[0.88315260758964...|       0.0|\n",
            "|[1.0,0.0,0.0,25.5...|       0|[16.5135262213059...|[0.82567631106529...|       0.0|\n",
            "|[1.0,0.0,0.0,26.2...|       1|[15.9578574573038...|[0.79789287286519...|       0.0|\n",
            "|[1.0,0.0,0.0,26.5...|       1|[15.9578574573038...|[0.79789287286519...|       0.0|\n",
            "|[1.0,0.0,0.0,26.5...|       1|[15.9578574573038...|[0.79789287286519...|       0.0|\n",
            "|[1.0,0.0,0.0,26.5...|       1|[15.9578574573038...|[0.79789287286519...|       0.0|\n",
            "|[1.0,0.0,0.0,26.5...|       1|[16.3478188472652...|[0.81739094236326...|       0.0|\n",
            "|[1.0,0.0,0.0,26.5...|       0|[16.3586271179419...|[0.81793135589709...|       0.0|\n",
            "|[1.0,0.0,0.0,28.5...|       0|[15.5304528603946...|[0.77652264301973...|       0.0|\n",
            "|[1.0,0.0,0.0,29.7...|       0|[15.5412611310713...|[0.77706305655356...|       0.0|\n",
            "|[1.0,0.0,0.0,30.0...|       1|[3.11883612283835...|[0.15594180614191...|       1.0|\n",
            "|[1.0,0.0,0.0,30.0...|       0|[14.5120831001098...|[0.72560415500549...|       0.0|\n",
            "|[1.0,0.0,0.0,30.0...|       1|[15.1404914704332...|[0.75702457352166...|       0.0|\n",
            "|[1.0,0.0,0.0,30.5...|       1|[12.1490485591379...|[0.60745242795689...|       0.0|\n",
            "|[1.0,0.0,0.0,31.0...|       1|[2.25312772020906...|[0.11265638601045...|       1.0|\n",
            "|[1.0,0.0,0.0,31.0...|       1|[15.5304528603946...|[0.77652264301973...|       0.0|\n",
            "+--------------------+--------+--------------------+--------------------+----------+\n",
            "only showing top 20 rows\n",
            "\n"
          ]
        }
      ]
    },
    {
      "cell_type": "code",
      "source": [
        "y_true = predictions.select(['Survived']).collect()\n",
        "y_pred = predictions.select(['prediction']).collect()"
      ],
      "metadata": {
        "id": "1isatXuTKgkc"
      },
      "execution_count": null,
      "outputs": []
    },
    {
      "cell_type": "code",
      "source": [
        "from sklearn.metrics import classification_report\n",
        "print(classification_report(y_true, y_pred))"
      ],
      "metadata": {
        "colab": {
          "base_uri": "https://localhost:8080/"
        },
        "id": "ANzDxKh2KkY0",
        "outputId": "95bdb2bf-fcd7-4a2b-fb51-af5d26e52b09"
      },
      "execution_count": null,
      "outputs": [
        {
          "output_type": "stream",
          "name": "stdout",
          "text": [
            "              precision    recall  f1-score   support\n",
            "\n",
            "           0       0.77      0.90      0.83       114\n",
            "           1       0.74      0.52      0.61        62\n",
            "\n",
            "    accuracy                           0.77       176\n",
            "   macro avg       0.76      0.71      0.72       176\n",
            "weighted avg       0.76      0.77      0.75       176\n",
            "\n"
          ]
        }
      ]
    }
  ]
}